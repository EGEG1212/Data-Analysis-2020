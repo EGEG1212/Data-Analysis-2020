{
 "metadata": {
  "language_info": {
   "codemirror_mode": {
    "name": "ipython",
    "version": 3
   },
   "file_extension": ".py",
   "mimetype": "text/x-python",
   "name": "python",
   "nbconvert_exporter": "python",
   "pygments_lexer": "ipython3",
   "version": "3.8.3-final"
  },
  "orig_nbformat": 2,
  "kernelspec": {
   "name": "Python 3.8.3 64-bit (conda)",
   "display_name": "Python 3.8.3 64-bit (conda)",
   "metadata": {
    "interpreter": {
     "hash": "b3ba2566441a7c06988d0923437866b63cedc61552a5af99d1f4fb67d367b25f"
    }
   }
  }
 },
 "nbformat": 4,
 "nbformat_minor": 2,
 "cells": [
  {
   "cell_type": "code",
   "execution_count": 48,
   "metadata": {},
   "outputs": [],
   "source": [
    "import sqlite3\n",
    "conn = sqlite3.connect('./test.db')\n",
    "cur = conn.cursor() "
   ]
  },
  {
   "cell_type": "code",
   "execution_count": 49,
   "metadata": {},
   "outputs": [
    {
     "output_type": "execute_result",
     "data": {
      "text/plain": [
       "<sqlite3.Cursor at 0x27b6f93a5e0>"
      ]
     },
     "metadata": {},
     "execution_count": 49
    }
   ],
   "source": [
    "cur.execute('select * from users;') "
   ]
  },
  {
   "cell_type": "code",
   "execution_count": 42,
   "metadata": {},
   "outputs": [
    {
     "output_type": "error",
     "ename": "OperationalError",
     "evalue": "database is locked",
     "traceback": [
      "\u001b[1;31m---------------------------------------------------------------------------\u001b[0m",
      "\u001b[1;31mOperationalError\u001b[0m                          Traceback (most recent call last)",
      "\u001b[1;32m<ipython-input-42-e6011fd940a5>\u001b[0m in \u001b[0;36m<module>\u001b[1;34m\u001b[0m\n\u001b[0;32m      1\u001b[0m \u001b[0mcur\u001b[0m \u001b[1;33m=\u001b[0m \u001b[0mconn\u001b[0m\u001b[1;33m.\u001b[0m\u001b[0mcursor\u001b[0m\u001b[1;33m(\u001b[0m\u001b[1;33m)\u001b[0m\u001b[1;33m\u001b[0m\u001b[1;33m\u001b[0m\u001b[0m\n\u001b[0;32m      2\u001b[0m \u001b[0msql\u001b[0m \u001b[1;33m=\u001b[0m \u001b[1;34m\"insert into users(uid, pwd, uname) values('admin', 1234, '관리자'), ('anne', 1234, '고채경' ), ('eskim', 1234, '김은숙'), ('madre', 1234, '마드레'), ('wjlee', 1234, '이우정'), ('넌좋은애', 1234, '넌좋은애'), ('노란연못', 1234, '노란연못'), ('물병', 1234, '물병'), ('새싹르뱅', 1234, '새싹르뱅'), ('제클린', 1234, '제클린'), ('해피요', 1234, '해피요');\"\u001b[0m\u001b[1;33m\u001b[0m\u001b[1;33m\u001b[0m\u001b[0m\n\u001b[1;32m----> 3\u001b[1;33m \u001b[0mcur\u001b[0m\u001b[1;33m.\u001b[0m\u001b[0mexecute\u001b[0m\u001b[1;33m(\u001b[0m\u001b[0msql\u001b[0m\u001b[1;33m)\u001b[0m\u001b[1;33m\u001b[0m\u001b[1;33m\u001b[0m\u001b[0m\n\u001b[0m\u001b[0;32m      4\u001b[0m \u001b[0mconn\u001b[0m\u001b[1;33m.\u001b[0m\u001b[0mcommit\u001b[0m\u001b[1;33m(\u001b[0m\u001b[1;33m)\u001b[0m\u001b[1;33m\u001b[0m\u001b[1;33m\u001b[0m\u001b[0m\n",
      "\u001b[1;31mOperationalError\u001b[0m: database is locked"
     ]
    }
   ],
   "source": [
    "cur = conn.cursor()\n",
    "sql = \"insert into users(uid, pwd, uname) values('admin', 1234, '관리자'), ('anne', 1234, '고채경' ), ('eskim', 1234, '김은숙'), ('madre', 1234, '마드레'), ('wjlee', 1234, '이우정'), ('넌좋은애', 1234, '넌좋은애'), ('노란연못', 1234, '노란연못'), ('물병', 1234, '물병'), ('새싹르뱅', 1234, '새싹르뱅'), ('제클린', 1234, '제클린'), ('해피요', 1234, '해피요');\"\n",
    "cur.execute(sql)\n",
    "conn.commit()"
   ]
  },
  {
   "cell_type": "code",
   "execution_count": 50,
   "metadata": {},
   "outputs": [
    {
     "output_type": "stream",
     "name": "stdout",
     "text": [
      "('admin', 'A6xnQhbz4Vx2HuGl4lXwZ5U2I8iziLRFnhP5eNfIRvQ=', '관리자', None, None, '2020-11-06 04:19:24', 0)\n"
     ]
    }
   ],
   "source": [
    "# 1건 조회\n",
    "cur = conn.cursor()\n",
    "select_sql = 'select * from users;'\n",
    "cur.execute(select_sql) \n",
    "row = cur.fetchone() \n",
    "print(row)"
   ]
  },
  {
   "cell_type": "code",
   "execution_count": 51,
   "metadata": {},
   "outputs": [
    {
     "output_type": "stream",
     "name": "stdout",
     "text": [
      "('anne', 'A6xnQhbz4Vx2HuGl4lXwZ5U2I8iziLRFnhP5eNfIRvQ=', '고채경', None, None, '2020-11-06 04:19:24', 0)\n('eskim', 'A6xnQhbz4Vx2HuGl4lXwZ5U2I8iziLRFnhP5eNfIRvQ=', '김은숙', None, None, '2020-11-06 04:19:24', 0)\n('madre', 'A6xnQhbz4Vx2HuGl4lXwZ5U2I8iziLRFnhP5eNfIRvQ=', '마드레', None, None, '2020-11-06 04:19:24', 0)\n"
     ]
    }
   ],
   "source": [
    "# 여러건 조회fetchmany() \n",
    "rows = cur.fetchmany(3) \n",
    "for row in rows: \n",
    "    print(row)"
   ]
  },
  {
   "cell_type": "code",
   "execution_count": 52,
   "metadata": {},
   "outputs": [
    {
     "output_type": "stream",
     "name": "stdout",
     "text": [
      "('wjlee', 'A6xnQhbz4Vx2HuGl4lXwZ5U2I8iziLRFnhP5eNfIRvQ=', '이우정', None, None, '2020-11-06 04:19:24', 0)\n('넌좋은애', 'A6xnQhbz4Vx2HuGl4lXwZ5U2I8iziLRFnhP5eNfIRvQ=', '넌좋은애', None, None, '2020-11-06 04:19:24', 0)\n('노란연못', 'A6xnQhbz4Vx2HuGl4lXwZ5U2I8iziLRFnhP5eNfIRvQ=', '노란연못', None, None, '2020-11-06 04:19:24', 0)\n('물병', 'A6xnQhbz4Vx2HuGl4lXwZ5U2I8iziLRFnhP5eNfIRvQ=', '물병', None, None, '2020-11-06 04:19:24', 0)\n('새싹르뱅', 'A6xnQhbz4Vx2HuGl4lXwZ5U2I8iziLRFnhP5eNfIRvQ=', '새싹르뱅', None, None, '2020-11-06 04:19:24', 0)\n('제클린', 'A6xnQhbz4Vx2HuGl4lXwZ5U2I8iziLRFnhP5eNfIRvQ=', '제클린', None, None, '2020-11-06 04:19:24', 0)\n('해피요', 'A6xnQhbz4Vx2HuGl4lXwZ5U2I8iziLRFnhP5eNfIRvQ=', '해피요', None, None, '2020-11-06 04:19:24', 0)\n"
     ]
    }
   ],
   "source": [
    "# 나머지 모두 조회 fetchall()\n",
    "rows = cur.fetchall()\n",
    "for row in rows: \n",
    "    print(row)"
   ]
  },
  {
   "cell_type": "code",
   "execution_count": 53,
   "metadata": {},
   "outputs": [
    {
     "output_type": "stream",
     "name": "stdout",
     "text": [
      "('admin', 'A6xnQhbz4Vx2HuGl4lXwZ5U2I8iziLRFnhP5eNfIRvQ=', '관리자', None, None, '2020-11-06 04:19:24', 0)\n('anne', 'A6xnQhbz4Vx2HuGl4lXwZ5U2I8iziLRFnhP5eNfIRvQ=', '고채경', None, None, '2020-11-06 04:19:24', 0)\n('eskim', 'A6xnQhbz4Vx2HuGl4lXwZ5U2I8iziLRFnhP5eNfIRvQ=', '김은숙', None, None, '2020-11-06 04:19:24', 0)\n('madre', 'A6xnQhbz4Vx2HuGl4lXwZ5U2I8iziLRFnhP5eNfIRvQ=', '마드레', None, None, '2020-11-06 04:19:24', 0)\n('wjlee', 'A6xnQhbz4Vx2HuGl4lXwZ5U2I8iziLRFnhP5eNfIRvQ=', '이우정', None, None, '2020-11-06 04:19:24', 0)\n('넌좋은애', 'A6xnQhbz4Vx2HuGl4lXwZ5U2I8iziLRFnhP5eNfIRvQ=', '넌좋은애', None, None, '2020-11-06 04:19:24', 0)\n('노란연못', 'A6xnQhbz4Vx2HuGl4lXwZ5U2I8iziLRFnhP5eNfIRvQ=', '노란연못', None, None, '2020-11-06 04:19:24', 0)\n('물병', 'A6xnQhbz4Vx2HuGl4lXwZ5U2I8iziLRFnhP5eNfIRvQ=', '물병', None, None, '2020-11-06 04:19:24', 0)\n('새싹르뱅', 'A6xnQhbz4Vx2HuGl4lXwZ5U2I8iziLRFnhP5eNfIRvQ=', '새싹르뱅', None, None, '2020-11-06 04:19:24', 0)\n('제클린', 'A6xnQhbz4Vx2HuGl4lXwZ5U2I8iziLRFnhP5eNfIRvQ=', '제클린', None, None, '2020-11-06 04:19:24', 0)\n('해피요', 'A6xnQhbz4Vx2HuGl4lXwZ5U2I8iziLRFnhP5eNfIRvQ=', '해피요', None, None, '2020-11-06 04:19:24', 0)\n"
     ]
    }
   ],
   "source": [
    "# 순서 조회\n",
    "cur = conn.cursor()\n",
    "cur.execute(select_sql)  \n",
    "for row in cur:  #cur로바꾸면 커서가 순회하게됨 \n",
    "    print(row)"
   ]
  },
  {
   "cell_type": "code",
   "execution_count": 39,
   "metadata": {},
   "outputs": [
    {
     "output_type": "execute_result",
     "data": {
      "text/plain": [
       "<sqlite3.Cursor at 0x27b6f2c97a0>"
      ]
     },
     "metadata": {},
     "execution_count": 39
    }
   ],
   "source": [
    "cur.execute('select * from bbs;') "
   ]
  },
  {
   "cell_type": "code",
   "execution_count": 26,
   "metadata": {},
   "outputs": [],
   "source": [
    "cur = conn.cursor()\n",
    "bbsArrays = [('넌좋은애', '팡도르', '스티프 열심히 밥주고 팡도르 만들어 봤어요~ 버터랑 계란이 많이 들어가서 보험으로 이스트 안꼬집도 넣었는데.. 다음엔 파스타마드레 잘 키워서 이스트없이 만들어 봐야곘어요'),\n",
    "    ('제클린', '우리집 르뱅이가 2배를 못찍는 이유', '백밀 피딩할때와 다르게 반점이 있었는데 호밀밀기울인줄 알았어요.. 색이 좀 이상해도 그러려니 했는데 알고보니 이미 죽은거였어요!! 이런 세상에...'),\n",
    "    ('물병', '맛있다 해서 또 만든 르뱅바게트빵', '급하게 반죽하고 냉장고에 넣어둔지 2-3시간 볼일보다 와서 마저작업했어요, 딱 1차발효되어있어서 좋았어요! 이번에도 크랙이 좀 아쉽지만.. 스팀없는 오븐탓인지 아님 실력부족인지 ㅎㅎ그래도 맛이 바게트예요!'),\n",
    "    ('제클린', '애증의 발효종', '잘 나온 빵 두 덩이를 굽고 신이 나 있었는데 어제그그제 3일 연속 빵 3개를 말했어요..맛은 시큼하지 않고 껍질도 얇고 맛있는데 넙치에다가 감칠맛이 부족하고 기공도 빽뺵했어요 노란연못님의 조언으로 발효정을 되돌아보니 고배합을 많이 했는데 요즘엔 1:2:2정도가 전부더라구요'),\n",
    "    ('노란연못', '기공에 대하여', '큰 기공과 조밀하고 작은 기공 중 뭐가 좋은건가요?기공은 우선 밀가루에 따라 너무 달라요.. 빵의 올바른 기공은 발효균의 활동으로 생긴 가스를 반죽의 탄탄한 구조망안에 잡아두고 있던 것이 오븐에서 가열되면서 (오븐발효) 온도의 급상승으로 기존의 가스와 새로 생성되는 가스의 작용으로 빵이 부풀면서 형성됩니다. '),\n",
    "    ('노란연못', '기공에 대하여2', '발효균의 활동이 활발하여 가스가 많이 생성되고 회분율이 높거나 수분흡수율이 높고, 단백질 함량도 높으면 반죽의 구조 안에 가스를 꽈악~ 잘 잡고 있어서 기공이 클 수 있는데 무작정 큰 것보단 전체적으로 고른것이 좋습니다.밀가루의 재료의 특성을 완전히 이해하여 그 밀가루로 작업할 수 있는 최대한으로 진행했을 때에 본인이 좋아하는 맛과 질감도 나오면서 전체적으로 기공이 고르고 그 모든 조건 중에서 나올 수 있는 크기의 기공이 나오면 좋지요^^'),\n",
    "    ('노란연못', '천연방효종을 키우는 우리들의 빵의 또다른 특성', '발효종이 가지고 있는 발효균주에 따라 달라지는 가스 생산력과 작업자의 손에서 완성되는 반죽의 탄성 및 신전성이 가져오는 가스포집력의 적절한 조화가 만들어 주는 기공의 형태와 가스를 담겨 있던 기공 안에서 풍기는 풍미, 그것이 우리의 숙제입니다.'),\n",
    "    ('새싹르뱅', '건조르뱅 깨우는 중, 따뜻한 눈빛 발사중입니다~', '건조르뱅깨우는 중이라 높이60ml였는데 80ml까지 큰게 어찌나 기특한지요~ 마사님들의 응원에 힘입어 르뱅이가 일어나고 있습니다아!!'),\n",
    "    ('새싹르뱅', '추추사워바게트', '언제적부터 추추가 먹어보고 싶었는데 집에 부추랑 사워도우랑 일정이 매번안맞아서 못했었어요 ㅜㅜ 이번 추추도전! 거기에 바게트형으로 도전!!내상은.. 토끼를 잡을 수 없는 비주얼이지만.. 그래도 맛은 일품이네요~  부추와 후추의 조합! 신선해요!  '),\n",
    "    ('madre', '르뱅레몬스콘레시피','르뱅소진용 레시피예요~ 꼭 한번 해보세요! 르뱅은 계란대신에 들어가는것 같아요 베이킹파우더는 ..안들어갈 줄 알았는데 들어가네요 ㅎㅎ '),\n",
    "    ('노란연못', '사워도우 팬케이크 고구마버전', '예전 레피시를 조금 수정해서 뭔가 만들어 먹어봤어요 ㅎㅎ 특별한것이 없으면 올리지는 않는데 이번 고구마로 만들었더니 반응이 좋네요~  마사님들도 한번 만들어보세요'),\n",
    "    ('해피요', '드디어 책을 구했어요', '도서관에서 누군가 빌려가서 코로나로 인해 끊임없이 반납되지 않다가 이제서야 손안에 들어와서 읽게 되었어요 가족들이 슬쩍 보더니 빵만드는게 이리 어려운 일이냐고 웃네요 ㅎㅎ 책의 전문성을 보고 깜짝 놀라면서 말이죠~ 이제서야 교과서 같은 책을 보게 되면서 설레이는 마음입니다~'),\n",
    "    ('물병', '틴소체험단', '틴소로 다작러가 되었어요 돌상도 차려보고 어머니친구들 빵도 만들어드리고 인기가 많아서 좋네요~ 게다가 건강에도 좋아서 너무 기뻐요')]\n",
    "sql = \"insert into bbs(uid, title, content) values(?, ?, ?);\"\n",
    "for bbsArray in bbsArrays:\n",
    "    cur.execute(sql, bbsArray)\n",
    "conn.commit()"
   ]
  },
  {
   "source": [
    "사용자의 이름과 비밀번호를   \n",
    "올바르\n",
    "게 입력하면 ‘성공’을 출력하고,   \n",
    "잘못 입력하면 ‘실패’를 출력하는 프로그램을 작성"
   ],
   "cell_type": "markdown",
   "metadata": {}
  },
  {
   "cell_type": "code",
   "execution_count": 60,
   "metadata": {},
   "outputs": [
    {
     "output_type": "stream",
     "name": "stdout",
     "text": [
      "성공\n"
     ]
    }
   ],
   "source": [
    "name = input('이름을 입력하세요')\n",
    "password = input('비밀번호를 입력하세요')\n",
    "\n",
    "import sqlite3\n",
    "conn =sqlite3.connect('./test.db')\n",
    "\n",
    "cur = conn.cursor() \n",
    "sql = 'select * from users where uname like ?'\n",
    "cur.execute(sql, (name,))\n",
    "row = cur.fetchone()\n",
    "\n",
    "if name == row[2]  and password == row[1]  :    #관리자 A6xnQhbz4Vx2HuGl4lXwZ5U2I8iziLRFnhP5eNfIRvQ=    #성공\n",
    "    print(\"성공\") \n",
    "else :\n",
    "    print(\"실패\") "
   ]
  },
  {
   "cell_type": "code",
   "execution_count": null,
   "metadata": {},
   "outputs": [],
   "source": []
  }
 ]
}