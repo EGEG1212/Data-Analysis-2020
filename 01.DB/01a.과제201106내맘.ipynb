{
 "metadata": {
  "language_info": {
   "codemirror_mode": {
    "name": "ipython",
    "version": 3
   },
   "file_extension": ".py",
   "mimetype": "text/x-python",
   "name": "python",
   "nbconvert_exporter": "python",
   "pygments_lexer": "ipython3",
   "version": "3.8.3-final"
  },
  "orig_nbformat": 2,
  "kernelspec": {
   "name": "Python 3.8.3 64-bit (conda)",
   "display_name": "Python 3.8.3 64-bit (conda)",
   "metadata": {
    "interpreter": {
     "hash": "b3ba2566441a7c06988d0923437866b63cedc61552a5af99d1f4fb67d367b25f"
    }
   }
  }
 },
 "nbformat": 4,
 "nbformat_minor": 2,
 "cells": [
  {
   "source": [
    "1. 투수들의 기록중에서 평균자책점(ERA), 투구인닝(IP), 탈삼진(SO) 기록을 찾아서 Pitcher_stats 란 테이블을 만들고, Eagles 테이블과 Join 하여 백넘버, 선수명, 포지션, 투구인닝, 평균자책점, 탈삼진 필드를 갖는 데이터 프레임을 만들어서 Join 한 결과를 입력하고, 그 결과를 보이시오.\n"
   ],
   "cell_type": "markdown",
   "metadata": {}
  },
  {
   "source": [
    "2. 다음의 지시대로 DB 테이블을 만들고 이를 조회하는 프로그램을 만드시오.\n",
    "\n",
    "1) 국내의 대표적인 걸그룹 또는 보이그룹 5개 이상에 대하여 다음과 같은 정보를 갖는 girl_group 테이블을 만드시오.  \n",
    "*는 Primary Key\u000b ggid(*),  \n",
    "group_name 그룹명,  \n",
    "member 구성원 수,  \n",
    "debut 데뷔일자,  \n",
    "agency 소속사 agency  \n",
    "\n",
    "2) 이들이 불렀던 노래 또는 다른 사람이 불렀던 노래 10곡 이상에 대하여 다음의 정보를 갖는 song 테이블을 만드시오.  \n",
    "\u000bsong_id(*),  \n",
    "song_name,  \n",
    "ggid 그룹 id,  \n",
    "publication 발표년도,  \n",
    "songwriter 작곡가,  \n",
    "lyrics 도입부 가사  \n",
    "\n",
    "3) 위 두개의 테이블을 조인한 결과를 가지고 다음의 필드를 갖는 데이터 프레임을 만드시오.  \n",
    "\u000b그룹 이름, 구성원 수, 데뷔 일자, 노래 이름, 발표 년도\n"
   ],
   "cell_type": "markdown",
   "metadata": {}
  },
  {
   "cell_type": "code",
   "execution_count": 13,
   "metadata": {},
   "outputs": [],
   "source": [
    "import sqlite3\n",
    "conn = sqlite3.connect('./memory.db') #현폴더에있는 테스트쩜디비를 열어 연결하라\n",
    "cur = conn.cursor() "
   ]
  },
  {
   "cell_type": "code",
   "execution_count": 16,
   "metadata": {},
   "outputs": [
    {
     "output_type": "error",
     "ename": "SyntaxError",
     "evalue": "EOL while scanning string literal (<ipython-input-16-9df1bec743d2>, line 1)",
     "traceback": [
      "\u001b[1;36m  File \u001b[1;32m\"<ipython-input-16-9df1bec743d2>\"\u001b[1;36m, line \u001b[1;32m1\u001b[0m\n\u001b[1;33m    sql = 'SELECT l.group_name, l.member, l.debut, r.song_name, r.publication\u001b[0m\n\u001b[1;37m                                                                             ^\u001b[0m\n\u001b[1;31mSyntaxError\u001b[0m\u001b[1;31m:\u001b[0m EOL while scanning string literal\n"
     ]
    }
   ],
   "source": [
    "sql = 'SELECT l.group_name, l.member, l.debut, r.song_name, r.publication\n",
    " FROM girl_group AS l\t\t\n",
    " INNER JOIN song AS r\t\t\n",
    " ON l.ggid=r.ggid;\n",
    "​'\n",
    "cur.execute(sql) \n",
    "conn.commit()"
   ]
  },
  {
   "source": [
    "3. 사용자의 이름과, 비밀번호를 갖는 Users 테이블이 있다. 사용자의 이름과 비밀번호를 올바르게 입력하면 ‘성공’을 출력하고, 잘못 입력하면 ‘실패’를 출력하는 프로그램을 작성하시오"
   ],
   "cell_type": "markdown",
   "metadata": {}
  },
  {
   "source": [
    "사용자의 이름과 비밀번호를   \n",
    "올바르\n",
    "게 입력하면 ‘성공’을 출력하고,   \n",
    "잘못 입력하면 ‘실패’를 출력하는 프로그램을 작성"
   ],
   "cell_type": "markdown",
   "metadata": {}
  },
  {
   "cell_type": "code",
   "execution_count": 18,
   "metadata": {},
   "outputs": [
    {
     "output_type": "error",
     "ename": "SyntaxError",
     "evalue": "invalid character in identifier (<ipython-input-18-ddc081c3b23c>, line 4)",
     "traceback": [
      "\u001b[1;36m  File \u001b[1;32m\"<ipython-input-18-ddc081c3b23c>\"\u001b[1;36m, line \u001b[1;32m4\u001b[0m\n\u001b[1;33m    ​\u001b[0m\n\u001b[1;37m    ^\u001b[0m\n\u001b[1;31mSyntaxError\u001b[0m\u001b[1;31m:\u001b[0m invalid character in identifier\n"
     ]
    }
   ],
   "source": [
    "import sqlite3\n",
    "conn = sqlite3.connect('./test.db')\n",
    "cur = conn.cursor() \n",
    "​"
   ]
  },
  {
   "cell_type": "code",
   "execution_count": null,
   "metadata": {},
   "outputs": [],
   "source": []
  }
 ]
}