{
 "metadata": {
  "language_info": {
   "codemirror_mode": {
    "name": "ipython",
    "version": 3
   },
   "file_extension": ".py",
   "mimetype": "text/x-python",
   "name": "python",
   "nbconvert_exporter": "python",
   "pygments_lexer": "ipython3",
   "version": "3.8.3-final"
  },
  "orig_nbformat": 2,
  "kernelspec": {
   "name": "Python 3.8.3 64-bit (conda)",
   "display_name": "Python 3.8.3 64-bit (conda)",
   "metadata": {
    "interpreter": {
     "hash": "b3ba2566441a7c06988d0923437866b63cedc61552a5af99d1f4fb67d367b25f"
    }
   }
  }
 },
 "nbformat": 4,
 "nbformat_minor": 2,
 "cells": [
  {
   "source": [
    "# MySQL\n",
    "아나콘다프롬프트에서 pip install pymysql 설치  \n",
    "\n",
    "파이썬에서 mysql(하이디)연결해서 쓰는방법  \n",
    "(SQLite와 다른거임)   \n",
    "\n",
    "\n",
    "아나콘다프롬프트 (base)확인하고, 해당폴더가서   \n",
    "02_init_db.py 돌리기  \n",
    "테이블쫙쫙 만들고  \n",
    "데이터팍팍 넣는다.  \n",
    "\n",
    "\n",
    "mysql.jsom도 옮겨오기 "
   ],
   "cell_type": "markdown",
   "metadata": {}
  },
  {
   "cell_type": "code",
   "execution_count": 15,
   "metadata": {},
   "outputs": [],
   "source": [
    "import json\n",
    "with open('mysql.json', 'r') as file:\n",
    "    config_str = file.read()\n",
    "config = json.loads(config_str)\n",
    "#읽어서 컨피그를 딕셔너리화해준다\n",
    "# mysql접속하려면 connect 정보가필요하니까 그걸 컨피그에 넣어준다.\n"
   ]
  },
  {
   "cell_type": "code",
   "execution_count": 12,
   "metadata": {},
   "outputs": [
    {
     "output_type": "execute_result",
     "data": {
      "text/plain": [
       "{'host': 'localhost',\n",
       " 'user': 'hsuser',\n",
       " 'password': 'hspass',\n",
       " 'database': 'bbs_python',\n",
       " 'port': 3306}"
      ]
     },
     "metadata": {},
     "execution_count": 12
    }
   ],
   "source": [
    "config  #제이슨파일내용이나온다"
   ]
  },
  {
   "cell_type": "code",
   "execution_count": 17,
   "metadata": {},
   "outputs": [],
   "source": [
    "import pymysql\n",
    "conn = pymysql.connect(\n",
    "    host = config['host'],\n",
    "    user = config['user'],\n",
    "    password = config['password'],\n",
    "    database = config['database'],\n",
    "    port = config['port']\n",
    ")"
   ]
  },
  {
   "cell_type": "code",
   "execution_count": 18,
   "metadata": {},
   "outputs": [
    {
     "output_type": "stream",
     "name": "stdout",
     "text": [
      "('admin', '관리자', '2020-11-06')\n('djy', '대조영', '2020-11-06')\n('eskim', '김은숙', '2020-11-06')\n('gdhong', '홍길동', '2020-11-06')\n('wjlee', '이우정', '2020-11-06')\n"
     ]
    }
   ],
   "source": [
    "#sql내용 데이트포맷%Y-%m-%d 그런내용으로가져올꺼다 (튜플형태로가져옴)-인덱싱[]으로찾아야함\n",
    "cur = conn.cursor()\n",
    "sql = \"\"\"SELECT uid, uname, DATE_FORMAT(regDate, '%Y-%m-%d') AS regDate\n",
    "            FROM users WHERE isDeleted=0;\"\"\"\n",
    "cur.execute(sql)\n",
    "rows = cur.fetchall()\n",
    "for row in rows:\n",
    "    print(row)"
   ]
  },
  {
   "cell_type": "code",
   "execution_count": 20,
   "metadata": {},
   "outputs": [
    {
     "output_type": "stream",
     "name": "stdout",
     "text": [
      "{'uid': 'admin', 'uname': '관리자', 'regDate': '2020-11-06'}\n{'uid': 'djy', 'uname': '대조영', 'regDate': '2020-11-06'}\n{'uid': 'eskim', 'uname': '김은숙', 'regDate': '2020-11-06'}\n{'uid': 'gdhong', 'uname': '홍길동', 'regDate': '2020-11-06'}\n{'uid': 'wjlee', 'uname': '이우정', 'regDate': '2020-11-06'}\n"
     ]
    }
   ],
   "source": [
    "#만약 커서를DictCursor하면 딕셔너리로 가져오겠구나~?\n",
    "#돌리면... 딕셔너리로 출력됨{}-나중에 판다스패키지에서 dataframe엑셀표처럼 받아서 분석할수있는 툴이 많아진다\n",
    "\n",
    "cur = conn.cursor(pymysql.cursors.DictCursor)\n",
    "sql = \"\"\"SELECT uid, uname, DATE_FORMAT(regDate, '%Y-%m-%d') AS regDate\n",
    "            FROM users WHERE isDeleted=0;\"\"\"\n",
    "cur.execute(sql)\n",
    "rows = cur.fetchall()\n",
    "for row in rows:\n",
    "    print(row)"
   ]
  },
  {
   "cell_type": "code",
   "execution_count": 21,
   "metadata": {},
   "outputs": [
    {
     "output_type": "execute_result",
     "data": {
      "text/plain": [
       "      uid uname     regDate\n",
       "0   admin   관리자  2020-11-06\n",
       "1     djy   대조영  2020-11-06\n",
       "2   eskim   김은숙  2020-11-06\n",
       "3  gdhong   홍길동  2020-11-06\n",
       "4   wjlee   이우정  2020-11-06"
      ],
      "text/html": "<div>\n<style scoped>\n    .dataframe tbody tr th:only-of-type {\n        vertical-align: middle;\n    }\n\n    .dataframe tbody tr th {\n        vertical-align: top;\n    }\n\n    .dataframe thead th {\n        text-align: right;\n    }\n</style>\n<table border=\"1\" class=\"dataframe\">\n  <thead>\n    <tr style=\"text-align: right;\">\n      <th></th>\n      <th>uid</th>\n      <th>uname</th>\n      <th>regDate</th>\n    </tr>\n  </thead>\n  <tbody>\n    <tr>\n      <th>0</th>\n      <td>admin</td>\n      <td>관리자</td>\n      <td>2020-11-06</td>\n    </tr>\n    <tr>\n      <th>1</th>\n      <td>djy</td>\n      <td>대조영</td>\n      <td>2020-11-06</td>\n    </tr>\n    <tr>\n      <th>2</th>\n      <td>eskim</td>\n      <td>김은숙</td>\n      <td>2020-11-06</td>\n    </tr>\n    <tr>\n      <th>3</th>\n      <td>gdhong</td>\n      <td>홍길동</td>\n      <td>2020-11-06</td>\n    </tr>\n    <tr>\n      <th>4</th>\n      <td>wjlee</td>\n      <td>이우정</td>\n      <td>2020-11-06</td>\n    </tr>\n  </tbody>\n</table>\n</div>"
     },
     "metadata": {},
     "execution_count": 21
    }
   ],
   "source": [
    "# 판다스를 사용하면 2차원의 표 데이터가 나온다 DataFrame 우앙~~+_+\n",
    "import pandas as pd \n",
    "df = pd.DataFrame(rows)\n",
    "df"
   ]
  },
  {
   "cell_type": "code",
   "execution_count": 22,
   "metadata": {},
   "outputs": [
    {
     "output_type": "stream",
     "name": "stdout",
     "text": [
      "(1006, 'wjlee', '이우정', '슬기로운 의사생활', 1, 1, '2020-11-06 17:01:47')\n(1005, 'eskim', '김은숙', '파리의 연인', 2, 2, '2020-11-06 17:01:47')\n(1004, 'eskim', '김은숙', '시크릿 가든', 0, 0, '2020-11-06 17:01:47')\n(1003, 'eskim', '김은숙', '태양의 후예', 0, 0, '2020-11-06 17:01:47')\n(1002, 'eskim', '김은숙', '도깨비', 0, 0, '2020-11-06 17:01:47')\n(1001, 'eskim', '김은숙', '미스터 션샤인', 0, 0, '2020-11-06 17:01:47')\n"
     ]
    }
   ],
   "source": [
    "# sql문 ``백코트를 파이썬에서는 \"\"\"나 '''나 이걸로바꿔줘야한다.\n",
    "# 튜플 목록으로 받아봄\n",
    "sql = \"\"\"SELECT b.bid, b.uid, u.uname, b.title, b.viewCount, b.replyCount,  \n",
    "                DATE_FORMAT(b.modTime, '%Y-%m-%d %T') AS modTime\n",
    "                FROM bbs AS b\n",
    "                JOIN users AS u\n",
    "                ON b.uid=u.uid\n",
    "                WHERE b.isDeleted=0\n",
    "                ORDER BY b.bid DESC;\"\"\"\n",
    "cur = conn.cursor()\n",
    "cur.execute(sql)\n",
    "rows = cur.fetchall()\n",
    "for row in rows:\n",
    "    print(row)"
   ]
  },
  {
   "cell_type": "code",
   "execution_count": 23,
   "metadata": {},
   "outputs": [
    {
     "output_type": "error",
     "ename": "ValueError",
     "evalue": "unsupported format character 'Y' (0x59) at index 92",
     "traceback": [
      "\u001b[1;31m---------------------------------------------------------------------------\u001b[0m",
      "\u001b[1;31mValueError\u001b[0m                                Traceback (most recent call last)",
      "\u001b[1;32m<ipython-input-23-c831c7fc880d>\u001b[0m in \u001b[0;36m<module>\u001b[1;34m\u001b[0m\n\u001b[0;32m      6\u001b[0m                 \u001b[0mON\u001b[0m \u001b[0mb\u001b[0m\u001b[1;33m.\u001b[0m\u001b[0muid\u001b[0m\u001b[1;33m=\u001b[0m\u001b[0mu\u001b[0m\u001b[1;33m.\u001b[0m\u001b[0muid\u001b[0m\u001b[1;33m\u001b[0m\u001b[1;33m\u001b[0m\u001b[0m\n\u001b[0;32m      7\u001b[0m                 WHERE b.bid=%s;\"\"\"\n\u001b[1;32m----> 8\u001b[1;33m \u001b[0mcur\u001b[0m\u001b[1;33m.\u001b[0m\u001b[0mexecute\u001b[0m\u001b[1;33m(\u001b[0m\u001b[0msql\u001b[0m\u001b[1;33m,\u001b[0m \u001b[1;33m(\u001b[0m\u001b[1;36m1006\u001b[0m\u001b[1;33m,\u001b[0m\u001b[1;33m)\u001b[0m\u001b[1;33m)\u001b[0m\u001b[1;33m\u001b[0m\u001b[1;33m\u001b[0m\u001b[0m\n\u001b[0m\u001b[0;32m      9\u001b[0m \u001b[0mrow\u001b[0m \u001b[1;33m=\u001b[0m \u001b[0mcur\u001b[0m\u001b[1;33m.\u001b[0m\u001b[0mfetchone\u001b[0m\u001b[1;33m(\u001b[0m\u001b[1;33m)\u001b[0m\u001b[1;33m\u001b[0m\u001b[1;33m\u001b[0m\u001b[0m\n\u001b[0;32m     10\u001b[0m \u001b[0mprint\u001b[0m\u001b[1;33m(\u001b[0m\u001b[0mrow\u001b[0m\u001b[1;33m)\u001b[0m\u001b[1;33m\u001b[0m\u001b[1;33m\u001b[0m\u001b[0m\n",
      "\u001b[1;32mC:\\ProgramData\\Anaconda3\\lib\\site-packages\\pymysql\\cursors.py\u001b[0m in \u001b[0;36mexecute\u001b[1;34m(self, query, args)\u001b[0m\n\u001b[0;32m    159\u001b[0m             \u001b[1;32mpass\u001b[0m\u001b[1;33m\u001b[0m\u001b[1;33m\u001b[0m\u001b[0m\n\u001b[0;32m    160\u001b[0m \u001b[1;33m\u001b[0m\u001b[0m\n\u001b[1;32m--> 161\u001b[1;33m         \u001b[0mquery\u001b[0m \u001b[1;33m=\u001b[0m \u001b[0mself\u001b[0m\u001b[1;33m.\u001b[0m\u001b[0mmogrify\u001b[0m\u001b[1;33m(\u001b[0m\u001b[0mquery\u001b[0m\u001b[1;33m,\u001b[0m \u001b[0margs\u001b[0m\u001b[1;33m)\u001b[0m\u001b[1;33m\u001b[0m\u001b[1;33m\u001b[0m\u001b[0m\n\u001b[0m\u001b[0;32m    162\u001b[0m \u001b[1;33m\u001b[0m\u001b[0m\n\u001b[0;32m    163\u001b[0m         \u001b[0mresult\u001b[0m \u001b[1;33m=\u001b[0m \u001b[0mself\u001b[0m\u001b[1;33m.\u001b[0m\u001b[0m_query\u001b[0m\u001b[1;33m(\u001b[0m\u001b[0mquery\u001b[0m\u001b[1;33m)\u001b[0m\u001b[1;33m\u001b[0m\u001b[1;33m\u001b[0m\u001b[0m\n",
      "\u001b[1;32mC:\\ProgramData\\Anaconda3\\lib\\site-packages\\pymysql\\cursors.py\u001b[0m in \u001b[0;36mmogrify\u001b[1;34m(self, query, args)\u001b[0m\n\u001b[0;32m    138\u001b[0m \u001b[1;33m\u001b[0m\u001b[0m\n\u001b[0;32m    139\u001b[0m         \u001b[1;32mif\u001b[0m \u001b[0margs\u001b[0m \u001b[1;32mis\u001b[0m \u001b[1;32mnot\u001b[0m \u001b[1;32mNone\u001b[0m\u001b[1;33m:\u001b[0m\u001b[1;33m\u001b[0m\u001b[1;33m\u001b[0m\u001b[0m\n\u001b[1;32m--> 140\u001b[1;33m             \u001b[0mquery\u001b[0m \u001b[1;33m=\u001b[0m \u001b[0mquery\u001b[0m \u001b[1;33m%\u001b[0m \u001b[0mself\u001b[0m\u001b[1;33m.\u001b[0m\u001b[0m_escape_args\u001b[0m\u001b[1;33m(\u001b[0m\u001b[0margs\u001b[0m\u001b[1;33m,\u001b[0m \u001b[0mconn\u001b[0m\u001b[1;33m)\u001b[0m\u001b[1;33m\u001b[0m\u001b[1;33m\u001b[0m\u001b[0m\n\u001b[0m\u001b[0;32m    141\u001b[0m \u001b[1;33m\u001b[0m\u001b[0m\n\u001b[0;32m    142\u001b[0m         \u001b[1;32mreturn\u001b[0m \u001b[0mquery\u001b[0m\u001b[1;33m\u001b[0m\u001b[1;33m\u001b[0m\u001b[0m\n",
      "\u001b[1;31mValueError\u001b[0m: unsupported format character 'Y' (0x59) at index 92"
     ]
    }
   ],
   "source": [
    "sql = \"\"\"SELECT b.bid, b.uid, u.uname, b.title, b.content, \n",
    "                DATE_FORMAT(b.modTime, '%Y-%m-%d %T') AS modTime, \n",
    "                b.viewCount, b.replyCount\n",
    "                FROM bbs AS b\n",
    "                JOIN users AS u\n",
    "                ON b.uid=u.uid\n",
    "                WHERE b.bid=%s;\"\"\"\n",
    "cur.execute(sql, (1006,))\n",
    "row = cur.fetchone()\n",
    "print(row)\n",
    "#에러났다 ㅋㅋㅋ\n",
    "#목록말고 데이터로 받아오려면 ? 아니고 mysql의 %s 문자열포맷팅과 다른것이다 ㅋㅋㅋ\n",
    "# %때문에 혼동하는듯. 에러남..."
   ]
  },
  {
   "cell_type": "code",
   "execution_count": 24,
   "metadata": {},
   "outputs": [
    {
     "output_type": "stream",
     "name": "stdout",
     "text": [
      "(1006, 'wjlee', '이우정', '슬기로운 의사생활', '누군가는 태어나고 누군가는 삶을 끝내는, 인생의 축소판이라 불리는 병원에서 평범한 듯 특별한 하루하루를 살아가는 사람들과 눈빛만 봐도 알 수 있는 20년지기 친구들의 케미스토리를 담은 드라마. 99학번 의대 동기 다섯 명을 중심으로 펼쳐지는 병원에서의 이야기를 그린다.', datetime.datetime(2020, 11, 6, 17, 1, 47), 1, 1)\n"
     ]
    }
   ],
   "source": [
    "# 그래서 modTime으로 바꾸고 %s를 (1006,) 으로\n",
    "sql = \"\"\"SELECT b.bid, b.uid, u.uname, b.title, b.content, \n",
    "                b.modTime, \n",
    "                b.viewCount, b.replyCount\n",
    "                FROM bbs AS b\n",
    "                JOIN users AS u\n",
    "                ON b.uid=u.uid\n",
    "                WHERE b.bid=%s;\"\"\"\n",
    "cur.execute(sql, (1006,))\n",
    "row = cur.fetchone()\n",
    "print(row)"
   ]
  },
  {
   "cell_type": "code",
   "execution_count": 25,
   "metadata": {},
   "outputs": [
    {
     "output_type": "stream",
     "name": "stdout",
     "text": [
      "(1006, 'wjlee', '이우정', '슬기로운 의사생활', '누군가는 태어나고 누군가는 삶을 끝내는, 인생의 축소판이라 불리는 병원에서 평범한 듯 특별한 하루하루를 살아가는 사람들과 눈빛만 봐도 알 수 있는 20년지기 친구들의 케미스토리를 담은 드라마. 99학번 의대 동기 다섯 명을 중심으로 펼쳐지는 병원에서의 이야기를 그린다.', '2020-11-06 17:01:47', 1, 1)\n"
     ]
    }
   ],
   "source": [
    "#아니면 윗부분을 %%로 바꾸기 ㅋㅋㅋㅋㅋ신박하다\n",
    "sql = \"\"\"SELECT b.bid, b.uid, u.uname, b.title, b.content, \n",
    "                DATE_FORMAT(b.modTime, '%%Y-%%m-%%d %%T') AS modTime, \n",
    "                b.viewCount, b.replyCount\n",
    "                FROM bbs AS b\n",
    "                JOIN users AS u\n",
    "                ON b.uid=u.uid\n",
    "                WHERE b.bid=%s;\"\"\"\n",
    "cur.execute(sql, (1006,))\n",
    "row = cur.fetchone()\n",
    "print(row)"
   ]
  },
  {
   "cell_type": "code",
   "execution_count": 26,
   "metadata": {},
   "outputs": [],
   "source": [
    "# 마지막에 커서도 커넥트도 끊어주기\n",
    "cur.close()\n",
    "conn.close()"
   ]
  },
  {
   "cell_type": "code",
   "execution_count": null,
   "metadata": {},
   "outputs": [],
   "source": []
  }
 ]
}