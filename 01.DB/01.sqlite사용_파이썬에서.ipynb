{
 "metadata": {
  "language_info": {
   "codemirror_mode": {
    "name": "ipython",
    "version": 3
   },
   "file_extension": ".py",
   "mimetype": "text/x-python",
   "name": "python",
   "nbconvert_exporter": "python",
   "pygments_lexer": "ipython3",
   "version": "3.8.3-final"
  },
  "orig_nbformat": 2,
  "kernelspec": {
   "name": "Python 3.8.3 64-bit (conda)",
   "display_name": "Python 3.8.3 64-bit (conda)",
   "metadata": {
    "interpreter": {
     "hash": "b3ba2566441a7c06988d0923437866b63cedc61552a5af99d1f4fb67d367b25f"
    }
   }
  }
 },
 "nbformat": 4,
 "nbformat_minor": 2,
 "cells": [
  {
   "source": [
    "# SQLite3 활용\n",
    "\n",
    "2020.11.06\n",
    "파이썬3내장되어있는 mysql SQLite  \n",
    "http://www.sqliteexpert.com/download.html  \n",
    "퍼스널-64bit다운  \n",
    "test.db 폴더만들었떠니  생성! 우앙!!  \n",
    "SQL탭에서 작성  (테이블생성)  \n",
    "create table test (  \n",
    "  id integer primary key autoincrement,   \n",
    "  name text not null   \n",
    ");  \n",
    "하단에 익스큐트 누르니 생성!!  \n",
    "\n",
    "정보를 넣어보자   \n",
    "insert into test(name) values ('홍길동'), ('대조영');  \n",
    "select * from test;  \n",
    "\n",
    "\n",
    "VScode에서는 작성할때   \n",
    "conn = sqlite3.connect('./test.db')  \n",
    "cur = conn.cursor() 꼭하고  \n",
    "변경한다음에는 conn.commit()  \n",
    "에스큐라이트 update test set age=300 where id>=1; 작성하면 당연 반영되겠지  "
   ],
   "cell_type": "markdown",
   "metadata": {}
  },
  {
   "source": [
    "### 접속"
   ],
   "cell_type": "markdown",
   "metadata": {}
  },
  {
   "cell_type": "code",
   "execution_count": 6,
   "metadata": {},
   "outputs": [
    {
     "output_type": "stream",
     "name": "stdout",
     "text": [
      "(1, '홍길동')\n(2, '대조영')\n"
     ]
    }
   ],
   "source": [
    "import sqlite3\n",
    "conn = sqlite3.connect('./test.db') #현폴더에있는 테스트쩜디비를 열어 연결하라\n",
    "\n",
    "# 작업실행 후 \n",
    "# db access 하고\n",
    "cur = conn.cursor()                #커서 객체등록? 받음?\n",
    "cur.execute('select * from test;')  # 실행하고\n",
    "#읽는방법은\n",
    "rows = cur.fetchall()\n",
    "for row in rows:\n",
    "    print(row)\n",
    "\n",
    "conn.close()"
   ]
  },
  {
   "cell_type": "code",
   "execution_count": 10,
   "metadata": {},
   "outputs": [
    {
     "output_type": "stream",
     "name": "stdout",
     "text": [
      "(1, '홍길동')\n(2, '대조영')\n"
     ]
    }
   ],
   "source": [
    "conn = sqlite3.connect('./test.db')\n",
    "with conn:\n",
    "    cur = conn.cursor()\n",
    "    cur.execute('select * from test;')\n",
    "    rows = cur.fetchall()\n",
    "    for row in rows:\n",
    "        print(row)\n",
    "        #클로즈는 제일제일 마지막에 하면 됨"
   ]
  },
  {
   "cell_type": "code",
   "execution_count": 11,
   "metadata": {},
   "outputs": [],
   "source": [
    "conn = sqlite3.connect('./test.db')\n",
    "cur = conn.cursor()"
   ]
  },
  {
   "cell_type": "code",
   "execution_count": 12,
   "metadata": {},
   "outputs": [
    {
     "output_type": "execute_result",
     "data": {
      "text/plain": [
       "<sqlite3.Cursor at 0x1f566a53a40>"
      ]
     },
     "metadata": {},
     "execution_count": 12
    }
   ],
   "source": [
    "#테이블 구조 변경\n",
    "sql = 'alter table test add column age integer;'\n",
    "cur.execute(sql)"
   ]
  },
  {
   "cell_type": "code",
   "execution_count": 13,
   "metadata": {},
   "outputs": [],
   "source": [
    "conn.commit()   #변경사항 저장할때 .. SQLite에 가서 확인하면 age컬럼 추가되어있음"
   ]
  },
  {
   "source": [
    "### 데이터 추가"
   ],
   "cell_type": "markdown",
   "metadata": {}
  },
  {
   "cell_type": "code",
   "execution_count": 14,
   "metadata": {},
   "outputs": [],
   "source": [
    "cur = conn.cursor()\n",
    "sql = \"insert into test(name, age) values('장보고', 1000);\"\n",
    "cur.execute(sql)\n",
    "conn.commit()"
   ]
  },
  {
   "cell_type": "code",
   "execution_count": null,
   "metadata": {},
   "outputs": [],
   "source": [
    "# SQLite에서  select * from test; 확인하면 장보고 1000 들어가있음"
   ]
  },
  {
   "cell_type": "code",
   "execution_count": 15,
   "metadata": {},
   "outputs": [],
   "source": [
    "#여러개 입력해보자\n",
    "#파라메타는 튜플로 넘겨준다\n",
    "writers = [('이우정', 40), ('김은숙', 45)]   \n",
    "sql = \"insert into test(name, age) values(?, ?);\"  #파라메타는 ?,? 이걸로받고\n",
    "for writer in writers:\n",
    "    cur.execute(sql, writer)\n",
    "conn.commit()"
   ]
  },
  {
   "cell_type": "code",
   "execution_count": 16,
   "metadata": {},
   "outputs": [],
   "source": [
    "cur.execute(sql, ('김수현', 60)) #파라메타는 튜플로 전달한다는거~\n",
    "conn.commit()"
   ]
  },
  {
   "cell_type": "code",
   "execution_count": 18,
   "metadata": {},
   "outputs": [],
   "source": [
    "#리스트 안에 튜플로 3명 넣어보자 __ 전달할 내용이 튜플이면 됨.\n",
    "writers = [('노희경', 30), ('송지나', 35), ('임성한', 40)]\n",
    "cur.executemany(sql, writers)     #그냥 익스큐트아니고 익스큐트매니!!!\n",
    "conn.commit()"
   ]
  },
  {
   "source": [
    "## 데이터조회"
   ],
   "cell_type": "markdown",
   "metadata": {}
  },
  {
   "cell_type": "code",
   "execution_count": 27,
   "metadata": {},
   "outputs": [
    {
     "output_type": "stream",
     "name": "stdout",
     "text": [
      "(1, '홍길동', 300)\n"
     ]
    }
   ],
   "source": [
    "# 단건 조회\n",
    "cur = conn.cursor()\n",
    "select_sql = 'select * from test;'\n",
    "cur.execute(select_sql)  #실행만 하고, 데이터를 안가지고 온상태\n",
    "row = cur.fetchone()    #이것이 데이터를 가져오는 방법!!!\n",
    "print(row)"
   ]
  },
  {
   "cell_type": "code",
   "execution_count": 28,
   "metadata": {},
   "outputs": [
    {
     "output_type": "stream",
     "name": "stdout",
     "text": [
      "(2, '대조영', 300)\n(3, '장보고', 1000)\n(4, '이우정', 40)\n"
     ]
    }
   ],
   "source": [
    "# 여러건 조회 fetchmany() \n",
    "#  위에 sql실행한 상태. 커서가 두번째줄에 위치해있어서\n",
    "rows = cur.fetchmany(3)  #3건 부르니까 #2.3.4줄에있는 대조영장보고이우정 불려옴\n",
    "for row in rows: \n",
    "    print(row)"
   ]
  },
  {
   "cell_type": "code",
   "execution_count": 29,
   "metadata": {},
   "outputs": [
    {
     "output_type": "stream",
     "name": "stdout",
     "text": [
      "(5, '김은숙', 45)\n(6, '김수현', 60)\n"
     ]
    }
   ],
   "source": [
    "rows = cur.fetchmany(2)  \n",
    "for row in rows: \n",
    "    print(row)"
   ]
  },
  {
   "cell_type": "code",
   "execution_count": 30,
   "metadata": {},
   "outputs": [
    {
     "output_type": "stream",
     "name": "stdout",
     "text": [
      "(7, '노희경', 30)\n(8, '송지나', 35)\n(9, '임성한', 40)\n"
     ]
    }
   ],
   "source": [
    "# 나머지 모두 조회 fetchall()\n",
    "rows = cur.fetchall()\n",
    "for row in rows: \n",
    "    print(row)"
   ]
  },
  {
   "cell_type": "code",
   "execution_count": 31,
   "metadata": {},
   "outputs": [
    {
     "output_type": "stream",
     "name": "stdout",
     "text": [
      "(1, '홍길동', 300)\n(2, '대조영', 300)\n(3, '장보고', 1000)\n(4, '이우정', 40)\n(5, '김은숙', 45)\n(6, '김수현', 60)\n(7, '노희경', 30)\n(8, '송지나', 35)\n(9, '임성한', 40)\n"
     ]
    }
   ],
   "source": [
    "#모두 조회\n",
    "cur = conn.cursor()\n",
    "cur.execute(select_sql)  \n",
    "rows = cur.fetchall()\n",
    "for row in rows: \n",
    "    print(row)"
   ]
  },
  {
   "cell_type": "code",
   "execution_count": 32,
   "metadata": {},
   "outputs": [
    {
     "output_type": "stream",
     "name": "stdout",
     "text": [
      "(1, '홍길동', 300)\n(2, '대조영', 300)\n(3, '장보고', 1000)\n(4, '이우정', 40)\n(5, '김은숙', 45)\n(6, '김수현', 60)\n(7, '노희경', 30)\n(8, '송지나', 35)\n(9, '임성한', 40)\n"
     ]
    }
   ],
   "source": [
    "# 순회조회\n",
    "cur = conn.cursor()\n",
    "cur.execute(select_sql)  \n",
    "for row in cur:  #cur로바꾸면 커서가 순회하게됨 \n",
    "    print(row)"
   ]
  },
  {
   "cell_type": "code",
   "execution_count": 34,
   "metadata": {},
   "outputs": [
    {
     "output_type": "stream",
     "name": "stdout",
     "text": [
      "('김수현', 60)\n('김은숙', 45)\n('노희경', 30)\n('대조영', 300)\n('송지나', 35)\n('이우정', 40)\n('임성한', 40)\n('장보고', 1000)\n('홍길동', 300)\n"
     ]
    }
   ],
   "source": [
    "# 이제 조건을 줄게....내가필요한부분만가져와~  ppt 5.데이터조작언어 데이터조회부분\n",
    "# 필요한 컬럼culumn만 조회\n",
    "cur = conn.cursor()\n",
    "cur.execute(\"select name, age from test order by name;\")   #이름 가나다순으로\n",
    "rows = cur.fetchall()\n",
    "for row in rows: \n",
    "    print(row)"
   ]
  },
  {
   "cell_type": "code",
   "execution_count": 35,
   "metadata": {},
   "outputs": [
    {
     "output_type": "stream",
     "name": "stdout",
     "text": [
      "(3, '장보고', 1000)\n(1, '홍길동', 300)\n(2, '대조영', 300)\n"
     ]
    }
   ],
   "source": [
    "# 원하는 순서 및 갯수 조건2) 연장자 3명만 가져와~\n",
    "cur = conn.cursor()\n",
    "cur.execute(\"select * from test order by age desc limit 3;\")   #연장자 TOP3 홍길동대조영인데\n",
    "rows = cur.fetchall()\n",
    "for row in rows: \n",
    "    print(row)"
   ]
  },
  {
   "cell_type": "code",
   "execution_count": 36,
   "metadata": {},
   "outputs": [
    {
     "output_type": "stream",
     "name": "stdout",
     "text": [
      "(3, '장보고', 1000)\n(2, '대조영', 300)\n(1, '홍길동', 300)\n"
     ]
    }
   ],
   "source": [
    "# 원하는 순서 및 갯수 조건2) 연장자 3명만 가져와~\n",
    "cur = conn.cursor()  #이거 안넣어도 에러가 나지는 않는구나~~\n",
    "cur.execute(\"select * from test order by age desc, name limit 3;\")   #연장자 TOP3 이름순으로 300나이를 정렬.  ,name추가\n",
    "rows = cur.fetchall()\n",
    "for row in rows: \n",
    "    print(row)"
   ]
  },
  {
   "cell_type": "code",
   "execution_count": 53,
   "metadata": {},
   "outputs": [
    {
     "output_type": "stream",
     "name": "stdout",
     "text": [
      "(9,) 9\n"
     ]
    }
   ],
   "source": [
    "# db에 몇건있는지 함수를 써서알아보자\n",
    "# 함수1\n",
    "cur.execute('select count(*) from test;')\n",
    "count = cur.fetchone()  # 튜플언패킹 count,  해도되고 그냥 count해도되고\n",
    "print(count, count[0])            # 튜플입니다. 그래서 count[0]"
   ]
  },
  {
   "cell_type": "code",
   "execution_count": 54,
   "metadata": {},
   "outputs": [
    {
     "output_type": "stream",
     "name": "stdout",
     "text": [
      "(1000, 30, 1850, 205.55555555555554)\n"
     ]
    }
   ],
   "source": [
    "# 함수2\n",
    "cur.execute('select max(age), min(age), sum(age), avg(age) from test;')\n",
    "row = cur.fetchone()\n",
    "print(row)"
   ]
  },
  {
   "cell_type": "code",
   "execution_count": 55,
   "metadata": {},
   "outputs": [],
   "source": [
    "max_age = row[0]\n",
    "min_age = row[1]\n",
    "sum_age = row[2]\n",
    "avg_age = row[3]"
   ]
  },
  {
   "cell_type": "code",
   "execution_count": 56,
   "metadata": {},
   "outputs": [
    {
     "output_type": "stream",
     "name": "stdout",
     "text": [
      "1000 30 1850 205.55555555555554\n"
     ]
    }
   ],
   "source": [
    "# 이렇게 해도 된다~~ \n",
    "cur.execute('select max(age), min(age), sum(age), avg(age) from test;')\n",
    "max_age, min_age, sum_age, avg_age = cur.fetchone()\n",
    "print(max_age, min_age, sum_age, avg_age)  "
   ]
  },
  {
   "source": [
    "## 데이터 검색"
   ],
   "cell_type": "markdown",
   "metadata": {}
  },
  {
   "cell_type": "code",
   "execution_count": 58,
   "metadata": {},
   "outputs": [
    {
     "output_type": "stream",
     "name": "stdout",
     "text": [
      "(4, '이우정', 40)\n(5, '김은숙', 45)\n(7, '노희경', 30)\n(8, '송지나', 35)\n(9, '임성한', 40)\n"
     ]
    }
   ],
   "source": [
    "# 주의주의!! 검색할때 튜플로 줄것!!!!!!!!!\n",
    "cur = conn.cursor()\n",
    "cur.execute('select * from test where age < ?', (50,)) #50세 미만을 찾고싶을때, 튜플로 (50,) 해야 데이터 전달됨\n",
    "rows = cur.fetchall()\n",
    "for row in rows:\n",
    "    print(row)"
   ]
  },
  {
   "source": [
    "## 데이터 변경"
   ],
   "cell_type": "markdown",
   "metadata": {}
  },
  {
   "cell_type": "code",
   "execution_count": 59,
   "metadata": {},
   "outputs": [],
   "source": [
    "cur.execute('update test set age=1300 where id=2;')\n",
    "conn.commit()\n",
    "#대조영 1000살이 대조영1300살 되셨다"
   ]
  },
  {
   "source": [
    "## 데이터 삭제"
   ],
   "cell_type": "markdown",
   "metadata": {}
  },
  {
   "cell_type": "code",
   "execution_count": 60,
   "metadata": {},
   "outputs": [],
   "source": [
    "cur.execute('delete from test where id=6;')\n",
    "conn.commit()\n",
    "# 6.김수현님 bye.............. "
   ]
  },
  {
   "source": [
    "## 2020.11.06 과제 PPT.11참고"
   ],
   "cell_type": "markdown",
   "metadata": {}
  },
  {
   "cell_type": "code",
   "execution_count": null,
   "metadata": {},
   "outputs": [],
   "source": []
  },
  {
   "cell_type": "code",
   "execution_count": null,
   "metadata": {},
   "outputs": [],
   "source": []
  }
 ]
}