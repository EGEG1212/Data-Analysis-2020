{
 "metadata": {
  "language_info": {
   "codemirror_mode": {
    "name": "ipython",
    "version": 3
   },
   "file_extension": ".py",
   "mimetype": "text/x-python",
   "name": "python",
   "nbconvert_exporter": "python",
   "pygments_lexer": "ipython3",
   "version": "3.8.5-final"
  },
  "orig_nbformat": 2,
  "kernelspec": {
   "name": "python3",
   "display_name": "Python 3"
  }
 },
 "nbformat": 4,
 "nbformat_minor": 2,
 "cells": [
  {
   "cell_type": "code",
   "execution_count": 1,
   "metadata": {},
   "outputs": [],
   "source": [
    "import numpy as np \n",
    "import pandas as pd \n",
    "import seaborn as sns \n",
    "import matplotlib as mpl \n",
    "import matplotlib.pyplot as plt \n",
    "%matplotlib inline\n",
    "# 한글폰트 사용\n",
    "mpl.rc('font', family='Malgun Gothic')\n",
    "mpl.rc('axes', unicode_minus=False)"
   ]
  },
  {
   "cell_type": "code",
   "execution_count": 9,
   "metadata": {},
   "outputs": [
    {
     "output_type": "execute_result",
     "data": {
      "text/plain": [
       "       상가업소번호        상호명  지점명 상권업종대분류코드 상권업종대분류명 상권업종중분류코드   상권업종중분류명  \\\n",
       "102  20882530  영진자동차매매상사  NaN         D       소매       D23  자동차/자동차용품   \n",
       "107  20846411      해동카센타  NaN         F    생활서비스       F14    자동차/이륜차   \n",
       "108  20846680     삼성라지에타  NaN         D       소매       D23  자동차/자동차용품   \n",
       "109  20872409      서광카센타  NaN         F    생활서비스       F14    자동차/이륜차   \n",
       "112  20849789     제일전자보수  NaN         F    생활서비스       F03  개인/가정용품수리   \n",
       "\n",
       "    상권업종소분류코드      상권업종소분류명 표준산업분류코드  ...                     건물관리번호     건물명  \\\n",
       "102    D23A02       중고자동차판매   G45120  ...  1174010600106090006000161    은선빌딩   \n",
       "107    F14A01     자동차정비/카센타      NaN  ...  1168010600109360017014126     NaN   \n",
       "108    D23A06       자동차부품판매   G45219  ...  1174010300100190004021973     NaN   \n",
       "109    F14A01     자동차정비/카센타      NaN  ...  1168010400100020019018132     NaN   \n",
       "112    F03A01  개인/가정용품수리-종합   S95399  ...  1168010600106260000014407  청실종합상가   \n",
       "\n",
       "                     도로명주소   구우편번호   신우편번호  동정보  층정보  호정보          경도  \\\n",
       "102    서울특별시 강동구 천호대로 1210  134060  5360.0  NaN  NaN  NaN  127.145646   \n",
       "107    서울특별시 강남구 도곡로63길 13  135280  6206.0  NaN    1  NaN  127.054011   \n",
       "108  서울특별시 강동구 조정대로31번길 14  134834  5286.0  NaN    1  NaN  127.181919   \n",
       "109     서울특별시 강남구 도산대로 418  135948  6062.0  NaN    1  NaN  127.041283   \n",
       "112   서울특별시 강남구 남부순환로 2917  135280  6280.0  NaN    1  NaN  127.059147   \n",
       "\n",
       "            위도  \n",
       "102  37.534923  \n",
       "107  37.497786  \n",
       "108  37.549615  \n",
       "109  37.522940  \n",
       "112  37.493160  \n",
       "\n",
       "[5 rows x 39 columns]"
      ],
      "text/html": "<div>\n<style scoped>\n    .dataframe tbody tr th:only-of-type {\n        vertical-align: middle;\n    }\n\n    .dataframe tbody tr th {\n        vertical-align: top;\n    }\n\n    .dataframe thead th {\n        text-align: right;\n    }\n</style>\n<table border=\"1\" class=\"dataframe\">\n  <thead>\n    <tr style=\"text-align: right;\">\n      <th></th>\n      <th>상가업소번호</th>\n      <th>상호명</th>\n      <th>지점명</th>\n      <th>상권업종대분류코드</th>\n      <th>상권업종대분류명</th>\n      <th>상권업종중분류코드</th>\n      <th>상권업종중분류명</th>\n      <th>상권업종소분류코드</th>\n      <th>상권업종소분류명</th>\n      <th>표준산업분류코드</th>\n      <th>...</th>\n      <th>건물관리번호</th>\n      <th>건물명</th>\n      <th>도로명주소</th>\n      <th>구우편번호</th>\n      <th>신우편번호</th>\n      <th>동정보</th>\n      <th>층정보</th>\n      <th>호정보</th>\n      <th>경도</th>\n      <th>위도</th>\n    </tr>\n  </thead>\n  <tbody>\n    <tr>\n      <th>102</th>\n      <td>20882530</td>\n      <td>영진자동차매매상사</td>\n      <td>NaN</td>\n      <td>D</td>\n      <td>소매</td>\n      <td>D23</td>\n      <td>자동차/자동차용품</td>\n      <td>D23A02</td>\n      <td>중고자동차판매</td>\n      <td>G45120</td>\n      <td>...</td>\n      <td>1174010600106090006000161</td>\n      <td>은선빌딩</td>\n      <td>서울특별시 강동구 천호대로 1210</td>\n      <td>134060</td>\n      <td>5360.0</td>\n      <td>NaN</td>\n      <td>NaN</td>\n      <td>NaN</td>\n      <td>127.145646</td>\n      <td>37.534923</td>\n    </tr>\n    <tr>\n      <th>107</th>\n      <td>20846411</td>\n      <td>해동카센타</td>\n      <td>NaN</td>\n      <td>F</td>\n      <td>생활서비스</td>\n      <td>F14</td>\n      <td>자동차/이륜차</td>\n      <td>F14A01</td>\n      <td>자동차정비/카센타</td>\n      <td>NaN</td>\n      <td>...</td>\n      <td>1168010600109360017014126</td>\n      <td>NaN</td>\n      <td>서울특별시 강남구 도곡로63길 13</td>\n      <td>135280</td>\n      <td>6206.0</td>\n      <td>NaN</td>\n      <td>1</td>\n      <td>NaN</td>\n      <td>127.054011</td>\n      <td>37.497786</td>\n    </tr>\n    <tr>\n      <th>108</th>\n      <td>20846680</td>\n      <td>삼성라지에타</td>\n      <td>NaN</td>\n      <td>D</td>\n      <td>소매</td>\n      <td>D23</td>\n      <td>자동차/자동차용품</td>\n      <td>D23A06</td>\n      <td>자동차부품판매</td>\n      <td>G45219</td>\n      <td>...</td>\n      <td>1174010300100190004021973</td>\n      <td>NaN</td>\n      <td>서울특별시 강동구 조정대로31번길 14</td>\n      <td>134834</td>\n      <td>5286.0</td>\n      <td>NaN</td>\n      <td>1</td>\n      <td>NaN</td>\n      <td>127.181919</td>\n      <td>37.549615</td>\n    </tr>\n    <tr>\n      <th>109</th>\n      <td>20872409</td>\n      <td>서광카센타</td>\n      <td>NaN</td>\n      <td>F</td>\n      <td>생활서비스</td>\n      <td>F14</td>\n      <td>자동차/이륜차</td>\n      <td>F14A01</td>\n      <td>자동차정비/카센타</td>\n      <td>NaN</td>\n      <td>...</td>\n      <td>1168010400100020019018132</td>\n      <td>NaN</td>\n      <td>서울특별시 강남구 도산대로 418</td>\n      <td>135948</td>\n      <td>6062.0</td>\n      <td>NaN</td>\n      <td>1</td>\n      <td>NaN</td>\n      <td>127.041283</td>\n      <td>37.522940</td>\n    </tr>\n    <tr>\n      <th>112</th>\n      <td>20849789</td>\n      <td>제일전자보수</td>\n      <td>NaN</td>\n      <td>F</td>\n      <td>생활서비스</td>\n      <td>F03</td>\n      <td>개인/가정용품수리</td>\n      <td>F03A01</td>\n      <td>개인/가정용품수리-종합</td>\n      <td>S95399</td>\n      <td>...</td>\n      <td>1168010600106260000014407</td>\n      <td>청실종합상가</td>\n      <td>서울특별시 강남구 남부순환로 2917</td>\n      <td>135280</td>\n      <td>6280.0</td>\n      <td>NaN</td>\n      <td>1</td>\n      <td>NaN</td>\n      <td>127.059147</td>\n      <td>37.493160</td>\n    </tr>\n  </tbody>\n</table>\n<p>5 rows × 39 columns</p>\n</div>"
     },
     "metadata": {},
     "execution_count": 9
    }
   ],
   "source": [
    "df = pd.read_csv('./data/소상공인시장진흥공단_상가(상권)정보_서울_202009.csv', sep='|')\n",
    "df = df[(df['상권업종중분류코드'] == 'D23') | (df['상권업종중분류코드'] == 'F03') | (df['상권업종중분류코드'] == 'F14')] \n",
    "df.head()"
   ]
  },
  {
   "cell_type": "code",
   "execution_count": 5,
   "metadata": {},
   "outputs": [],
   "source": [
    "# 빈 데이터프레임을 만들어주고\n",
    "benz = pd.DataFrame(columns=['상호명', '지점명', '도로명주소', '경도', '위도'])\n",
    "bmw = pd.DataFrame(columns=['상호명', '지점명', '도로명주소', '경도', '위도'])\n",
    "volkswagen = pd.DataFrame(columns=['상호명', '지점명', '도로명주소', '경도', '위도'])\n",
    "porsche = pd.DataFrame(columns=['상호명', '지점명', '도로명주소', '경도', '위도'])"
   ]
  },
  {
   "cell_type": "code",
   "execution_count": null,
   "metadata": {},
   "outputs": [],
   "source": [
    "# 17개 파일 모두\n",
    "from glob import glob\n",
    "data_files = glob('./data/소상공인시장진흥공단_상가(상권)정보*.csv')\n",
    "\n",
    "for filename in data_files:\n",
    "    print(filename)\n",
    "    df = pd.read_csv(filename, sep='|')  #파일읽고\n",
    "    df32 = df[df['상권업종중분류코드'] == 'D23'] #전시장,서비스센터 소매  D23 자동차자동차용품\n",
    "    df03 = df[df['상권업종중분류코드'] == 'F03'] #서비스센터 F03 개인/가정용품수리\n",
    "    df14 = df[df['상권업종중분류코드'] == 'F14'] #생활서비스 F14 자동차/이륜차\n",
    "    df32 = df[['상호명', '지점명', '도로명주소', '경도', '위도']] #데이터프레임에\n",
    "    df03 = df[['상호명', '지점명', '도로명주소', '경도', '위도']] #데이터프레임에\n",
    "    df14 = df[['상호명', '지점명', '도로명주소', '경도', '위도']] #데이터프레임에\n",
    "\n",
    "    # 컬럼상호명에 지정한str이 대소문자구별없이(case=False) 포함되어있다면, 각각변수에 저장\n",
    "    sb = df[df['상호명'].str.contains('스타벅스|STARBUCKS|스타박스', case=False)]\n",
    "    cb = df[df['상호명'].str.contains('커피빈|COFFEEBEAN', case=False)]\n",
    "    ed = df[df['상호명'].str.contains('이디야|EDIYA|이디아', case=False)]\n",
    "    bd = df[df['상호명'].str.contains('빽다방|PAIKSCOFFEE', case=False)]\n",
    "    \"\"\" sb = df[df['상호명'].str.find('스타벅스') >= 0]\n",
    "    sb1 = df[df['상호명'].str.upper().str.find('STARBUCKS') >= 0]\n",
    "    cb = df[df['상호명'].str.find('커피빈') >= 0]\n",
    "    cb1 = df[df['상호명'].str.upper().str.find('COFFEEBEAN') >= 0]\n",
    "    ed = df[df['상호명'].str.find('이디야') >= 0]\n",
    "    ed1 = df[df['상호명'].str.upper().str.find('EDIYA') >= 0]\n",
    "    bd = df[df['상호명'].str.find('빽다방') >= 0]\n",
    "    bd1 = df[df['상호명'].str.upper().str.find('PAIKSCOFFEE') >= 0] \"\"\"\n",
    "\n",
    "    # 빈 데이터프레임과 각각 합치기concat\n",
    "    starbucks = pd.concat([starbucks, sb])\n",
    "    coffeebean = pd.concat([coffeebean, cb])\n",
    "    ediya = pd.concat([ediya, ed])\n",
    "    paik = pd.concat([paik, bd])"
   ]
  }
 ]
}