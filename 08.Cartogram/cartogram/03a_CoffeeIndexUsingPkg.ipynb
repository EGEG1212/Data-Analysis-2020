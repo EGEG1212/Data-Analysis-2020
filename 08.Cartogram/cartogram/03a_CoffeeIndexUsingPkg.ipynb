{
 "metadata": {
  "language_info": {
   "codemirror_mode": {
    "name": "ipython",
    "version": 3
   },
   "file_extension": ".py",
   "mimetype": "text/x-python",
   "name": "python",
   "nbconvert_exporter": "python",
   "pygments_lexer": "ipython3",
   "version": "3.8.5-final"
  },
  "orig_nbformat": 2,
  "kernelspec": {
   "name": "python3",
   "display_name": "Python 3"
  }
 },
 "nbformat": 4,
 "nbformat_minor": 2,
 "cells": [
  {
   "cell_type": "code",
   "execution_count": 4,
   "metadata": {},
   "outputs": [],
   "source": [
    "import numpy as np \n",
    "import pandas as pd \n",
    "import seaborn as sns \n",
    "import matplotlib as mpl \n",
    "import matplotlib.pyplot as plt \n",
    "%matplotlib inline\n",
    "# 한글폰트 사용\n",
    "mpl.rc('font', family='Malgun Gothic')\n",
    "mpl.rc('axes', unicode_minus=False)"
   ]
  },
  {
   "cell_type": "code",
   "execution_count": null,
   "metadata": {},
   "outputs": [],
   "source": [
    "# 빈 데이터프레임을 만들어주고\n",
    "starbucks = pd.DataFrame(columns=['상호명', '지점명', '도로명주소', '경도', '위도'])\n",
    "coffeebean = pd.DataFrame(columns=['상호명', '지점명', '도로명주소', '경도', '위도'])\n",
    "ediya = pd.DataFrame(columns=['상호명', '지점명', '도로명주소', '경도', '위도'])\n",
    "paik = pd.DataFrame(columns=['상호명', '지점명', '도로명주소', '경도', '위도'])"
   ]
  },
  {
   "cell_type": "code",
   "execution_count": 6,
   "metadata": {},
   "outputs": [],
   "source": [
    "# 17개 파일 모두\n",
    "from glob import glob\n",
    "data_files = glob('./data/소상공인시장진흥공단_상가(상권)정보*.csv')\n",
    "\n",
    "for filename in data_files:\n",
    "    print(filename)\n",
    "    df = pd.read_csv(filename, sep='|')  #파일읽고\n",
    "    df = df[df['상권업종중분류코드'] == 'Q12'] # 코드Q12만불러서\n",
    "    df = df[['상호명', '지점명', '도로명주소', '경도', '위도']] #데이터프레임에\n",
    "\n",
    "    # 컬럼상호명에 지정한str이 대소문자구별없이(case=False) 포함되어있다면, 각각변수에 저장\n",
    "    sb = df[df['상호명'].str.contains('스타벅스|STARBUCKS|스타박스', case=False)]\n",
    "    cb = df[df['상호명'].str.contains('커피빈|COFFEEBEAN', case=False)]\n",
    "    ed = df[df['상호명'].str.contains('이디야|EDIYA|이디아', case=False)]\n",
    "    bd = df[df['상호명'].str.contains('빽다방|PAIKSCOFFEE', case=False)]\n",
    "\n",
    "    # 빈 데이터프레임과 각각 합치기concat\n",
    "    starbucks = pd.concat([starbucks, sb])\n",
    "    coffeebean = pd.concat([coffeebean, cb])\n",
    "    ediya = pd.concat([ediya, ed])\n",
    "    paik = pd.concat([paik, bd])"
   ]
  },
  {
   "cell_type": "code",
   "execution_count": null,
   "metadata": {},
   "outputs": [],
   "source": [
    "# 결과저장\n",
    "starbucks.to_csv('./results/스타벅스.csv', index=False)\n",
    "coffeebean.to_csv('./results/커피빈.csv', index=False)\n",
    "ediya.to_csv('./results/이디야.csv', index=False)\n",
    "paik.to_csv('./results/빽다방.csv', index=False)"
   ]
  },
  {
   "cell_type": "code",
   "execution_count": null,
   "metadata": {},
   "outputs": [],
   "source": [
    "# 데이터가져오기\n",
    "starbucks = pd.read_csv('./results/스타벅스.csv')\n",
    "coffeebean = pd.read_csv('./results/커피빈.csv')\n",
    "ediya = pd.read_csv('./results/이디야.csv')\n",
    "paik = pd.read_csv('./results/빽다방.csv')"
   ]
  },
  {
   "cell_type": "code",
   "execution_count": null,
   "metadata": {},
   "outputs": [],
   "source": [
    "# mapUtil.py모듈활용 도로명주소에서 광역시도와 시군고/행정구명 찾기\n",
    "import cartogram.mapUtil as mu\n",
    "\n",
    "starbucks = mu.split_addr(starbucks)\n",
    "coffeebean = mu.split_addr(coffeebean)\n",
    "ediya = mu.split_addr(ediya)\n",
    "paik = mu.split_addr(paik)"
   ]
  },
  {
   "cell_type": "code",
   "execution_count": null,
   "metadata": {},
   "outputs": [],
   "source": [
    "# mapUtil.py모듈활용 도로명주소에서 광역시도와 시군고/행정구명 찾기-스타벅스\n",
    "starbucks.reset_index(inplace=True)\n",
    "starbucks.drop('index', axis=1, inplace=True)\n",
    "starbucks['ID'] = mu.get_ID(starbucks)\n",
    "starbucks['브랜드명'] = '스타벅스'\n",
    "starbucks['스타벅스 매장수'] = 1\n",
    "starbucks.head()"
   ]
  },
  {
   "cell_type": "code",
   "execution_count": null,
   "metadata": {},
   "outputs": [],
   "source": [
    "# mapUtil.py모듈활용 도로명주소에서 광역시도와 시군고/행정구명 찾기-커피빈\n",
    "coffeebean.reset_index(inplace=True)\n",
    "coffeebean.drop('index', axis=1, inplace=True)\n",
    "coffeebean['ID'] = mu.get_ID(coffeebean)\n",
    "coffeebean['브랜드명'] = '커피빈'\n",
    "coffeebean['커피빈 매장수'] = 1\n",
    "coffeebean.head()"
   ]
  },
  {
   "cell_type": "code",
   "execution_count": null,
   "metadata": {},
   "outputs": [],
   "source": [
    "# mapUtil.py모듈활용 도로명주소에서 광역시도와 시군고/행정구명 찾기-이디야\n",
    "ediya.reset_index(inplace=True)\n",
    "ediya.drop('index', axis=1, inplace=True)\n",
    "ediya['ID'] = mu.get_ID(ediya)\n",
    "ediya['브랜드명'] = '이디야'\n",
    "ediya['이디야 매장수'] = 1\n",
    "ediya.head()"
   ]
  },
  {
   "cell_type": "code",
   "execution_count": null,
   "metadata": {},
   "outputs": [],
   "source": [
    "# mapUtil.py모듈활용 도로명주소에서 광역시도와 시군고/행정구명 찾기-빽다방\n",
    "paik.reset_index(inplace=True)\n",
    "paik.drop('index', axis=1, inplace=True)\n",
    "paik['ID'] = mu.get_ID(paik)\n",
    "paik['브랜드명'] = '빽다방'\n",
    "paik['빽다방 매장수'] = 1\n",
    "paik.head()"
   ]
  },
  {
   "source": [
    "## 브랜드별 피벗 테이블 생성"
   ],
   "cell_type": "markdown",
   "metadata": {}
  },
  {
   "cell_type": "code",
   "execution_count": null,
   "metadata": {},
   "outputs": [],
   "source": [
    "# 브랜드별 피벗 테이블 생성-스타벅스\n",
    "pt_sb = starbucks.pivot_table('스타벅스 매장수', index='ID', aggfunc='sum')\n",
    "pt_sb = pt_sb.reset_index()\n",
    "print(len(pt_sb))\n",
    "pt_sb.head()"
   ]
  },
  {
   "cell_type": "code",
   "execution_count": null,
   "metadata": {},
   "outputs": [],
   "source": [
    "# 브랜드별 피벗 테이블 생성-커피빈\n",
    "pt_cb = coffeebean.pivot_table('커피빈 매장수', index='ID', aggfunc='sum')\n",
    "pt_cb = pt_cb.reset_index()\n",
    "print(len(pt_cb))\n",
    "pt_cb.head()"
   ]
  },
  {
   "cell_type": "code",
   "execution_count": null,
   "metadata": {},
   "outputs": [],
   "source": [
    "# 브랜드별 피벗 테이블 생성-이디야\n",
    "pt_ed = ediya.pivot_table('이디야 매장수', index='ID', aggfunc='sum')\n",
    "pt_ed = pt_ed.reset_index()\n",
    "print(len(pt_ed))\n",
    "pt_ed.head()"
   ]
  },
  {
   "cell_type": "code",
   "execution_count": null,
   "metadata": {},
   "outputs": [],
   "source": [
    "# 브랜드별 피벗 테이블 생성-빽다방\n",
    "pt_bd = paik.pivot_table('빽다방 매장수', index='ID', aggfunc='sum')\n",
    "pt_bd = pt_bd.reset_index()\n",
    "print(len(pt_bd))\n",
    "pt_bd.head()"
   ]
  },
  {
   "source": [
    "## 카페 데이터 병합"
   ],
   "cell_type": "markdown",
   "metadata": {}
  },
  {
   "cell_type": "code",
   "execution_count": null,
   "metadata": {},
   "outputs": [],
   "source": [
    "coffee = pd.merge(pt_ed, pt_sb, how='left', on='ID')  #Id를 기준으로 왼쪽으로 merge합침 이디야+스타벅스\n",
    "coffee.head()"
   ]
  },
  {
   "cell_type": "code",
   "execution_count": null,
   "metadata": {},
   "outputs": [],
   "source": [
    "coffee = pd.merge(coffee, pt_cb, how='left', on='ID') #Id를 기준으로 왼쪽으로 merge합침 이+스+커피빈\n",
    "coffee = pd.merge(coffee, pt_bd, how='left', on='ID')  #Id를 기준으로 왼쪽으로 merge합침 이+스+빈+빽다방\n",
    "coffee.head()"
   ]
  },
  {
   "cell_type": "code",
   "execution_count": null,
   "metadata": {},
   "outputs": [],
   "source": [
    "coffee = coffee.fillna(0) #NaN값에 0을 넣어라\n",
    "coffee.head()"
   ]
  },
  {
   "cell_type": "code",
   "execution_count": null,
   "metadata": {},
   "outputs": [],
   "source": [
    "coffee['스타벅스 매장수'] = coffee['스타벅스 매장수'].astype(int)\n",
    "coffee['커피빈 매장수'] = coffee['커피빈 매장수'].astype(int)\n",
    "coffee['빽다방 매장수'] = coffee['빽다방 매장수'].astype(int)"
   ]
  },
  {
   "cell_type": "code",
   "execution_count": null,
   "metadata": {},
   "outputs": [],
   "source": [
    "#컬럼커피지수 추가 \n",
    "coffee['커피지수'] = (coffee['스타벅스 매장수']+coffee['커피빈 매장수']) / \\\n",
    "                        (coffee['이디야 매장수']+coffee['빽다방 매장수'])\n",
    "coffee.tail()"
   ]
  },
  {
   "cell_type": "code",
   "execution_count": null,
   "metadata": {},
   "outputs": [],
   "source": [
    "coffee.to_csv('./results/커피피봇테이블.csv', index=False)"
   ]
  },
  {
   "source": [
    "## 카토그램과 커피 데이터 합치기"
   ],
   "cell_type": "markdown",
   "metadata": {}
  },
  {
   "cell_type": "code",
   "execution_count": null,
   "metadata": {},
   "outputs": [],
   "source": [
    "#앞전 인구소멸위기지역 03.pop.csv\n",
    "df = pd.read_csv('./results/03.pop.csv', index_col = 0)\n",
    "df.head()"
   ]
  },
  {
   "cell_type": "code",
   "execution_count": null,
   "metadata": {},
   "outputs": [],
   "source": [
    "#필요한 컬럼만\n",
    "df = df[['ID', 'y', 'x']]\n",
    "df.head()"
   ]
  },
  {
   "cell_type": "code",
   "execution_count": null,
   "metadata": {},
   "outputs": [],
   "source": [
    "coffee_index = pd.merge(df, coffee, how='left', on='ID')\n",
    "coffee_index = coffee_index.fillna(0)\n",
    "coffee_index.head()"
   ]
  },
  {
   "source": [
    "## 커피지수(카토그램)"
   ],
   "cell_type": "markdown",
   "metadata": {}
  },
  {
   "cell_type": "code",
   "execution_count": null,
   "metadata": {},
   "outputs": [],
   "source": [
    "# drawKorea.py 모듈활용\n",
    "import cartogram.drawKorea as dk\n",
    "dk.drawKorea('커피지수', coffee_index, 'Reds')"
   ]
  },
  {
   "cell_type": "code",
   "execution_count": null,
   "metadata": {},
   "outputs": [],
   "source": [
    "# 커피지수 Top 10\n",
    "coffee_index.sort_values(by='커피지수', ascending=False).head(10)"
   ]
  },
  {
   "cell_type": "code",
   "execution_count": null,
   "metadata": {},
   "outputs": [],
   "source": [
    "# 스타벅스 매장수\n",
    "dk.drawKorea('스타벅스 매장수', coffee_index, 'Greens'"
   ]
  },
  {
   "cell_type": "code",
   "execution_count": null,
   "metadata": {},
   "outputs": [],
   "source": [
    "# 스타벅스 매장수 Top 5\n",
    "coffee_index.sort_values(by='스타벅스 매장수', ascending=False).head()"
   ]
  },
  {
   "cell_type": "code",
   "execution_count": null,
   "metadata": {},
   "outputs": [],
   "source": [
    "#커피빈 매장수\n",
    "dk.drawKorea('커피빈 매장수', coffee_index, 'Blues')"
   ]
  },
  {
   "cell_type": "code",
   "execution_count": null,
   "metadata": {},
   "outputs": [],
   "source": [
    "# 커피빈 매장수 Top 5\n",
    "coffee_index.sort_values(by='커피빈 매장수', ascending=False).head()"
   ]
  },
  {
   "cell_type": "code",
   "execution_count": null,
   "metadata": {},
   "outputs": [],
   "source": [
    "# 이디야 매장수\n",
    "dk.drawKorea('이디야 매장수', coffee_index, 'Oranges')"
   ]
  },
  {
   "cell_type": "code",
   "execution_count": null,
   "metadata": {},
   "outputs": [],
   "source": [
    "# 이디야 매장수 Top 5\n",
    "coffee_index.sort_values(by='이디야 매장수', ascending=False).head()"
   ]
  },
  {
   "cell_type": "code",
   "execution_count": null,
   "metadata": {},
   "outputs": [],
   "source": [
    "# 빽다방 매장수\n",
    "dk.drawKorea('빽다방 매장수', coffee_index, 'PuRd')"
   ]
  },
  {
   "cell_type": "code",
   "execution_count": null,
   "metadata": {},
   "outputs": [],
   "source": [
    "# 빽다방 매장수 Top 5\n",
    "coffee_index.sort_values(by='빽다방 매장수', ascending=False).head()"
   ]
  },
  {
   "source": [
    "## 지도위에 표시하기"
   ],
   "cell_type": "markdown",
   "metadata": {}
  },
  {
   "cell_type": "code",
   "execution_count": null,
   "metadata": {},
   "outputs": [],
   "source": [
    "import folium\n",
    "import json"
   ]
  },
  {
   "cell_type": "code",
   "execution_count": null,
   "metadata": {},
   "outputs": [],
   "source": [
    "coffee_index_folium = coffee_index.set_index('ID')\n",
    "coffee_index_folium.head()"
   ]
  },
  {
   "cell_type": "code",
   "execution_count": null,
   "metadata": {},
   "outputs": [],
   "source": [
    "geo_path = './data/skorea_municipalities_geo_simple.json'\n",
    "geo_data = json.load(open(geo_path, encoding='utf8'))\n",
    "#전국지도\n",
    "map = folium.Map(location=[35.9902, 127.054], zoom_start=7)\n",
    "folium.Choropleth(geo_data = geo_data,\n",
    "               data = coffee_index_folium['커피지수'],\n",
    "               columns = [coffee_index_folium.index, coffee_index_folium['커피지수']],\n",
    "               fill_color = 'YlGnBu',\n",
    "               key_on = 'feature.id').add_to(map)\n",
    "title_html = '<h3 align=\"center\" style=\"font-size:20px\"><b>커피지수</b></h3>'   \n",
    "map.get_root().html.add_child(folium.Element(title_html))\n",
    "map"
   ]
  },
  {
   "cell_type": "code",
   "execution_count": null,
   "metadata": {},
   "outputs": [],
   "source": [
    "#전국지도\n",
    "map = folium.Map(location=[35.9902, 127.054], zoom_start=7)\n",
    "folium.Choropleth(geo_data = geo_data,\n",
    "               data = coffee_index_folium['스타벅스 매장수'],\n",
    "               columns = [coffee_index_folium.index, coffee_index_folium['스타벅스 매장수']],\n",
    "               fill_color = 'Greens',\n",
    "               key_on = 'feature.id').add_to(map)\n",
    "title_html = '<h3 align=\"center\" style=\"font-size:20px\"><b>스타벅스 매장수</b></h3>'   \n",
    "map.get_root().html.add_child(folium.Element(title_html))\n",
    "map"
   ]
  },
  {
   "cell_type": "code",
   "execution_count": null,
   "metadata": {},
   "outputs": [],
   "source": []
  },
  {
   "cell_type": "code",
   "execution_count": null,
   "metadata": {},
   "outputs": [],
   "source": []
  },
  {
   "cell_type": "code",
   "execution_count": null,
   "metadata": {},
   "outputs": [],
   "source": []
  }
 ]
}