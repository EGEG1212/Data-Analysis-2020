{
 "metadata": {
  "language_info": {
   "codemirror_mode": {
    "name": "ipython",
    "version": 3
   },
   "file_extension": ".py",
   "mimetype": "text/x-python",
   "name": "python",
   "nbconvert_exporter": "python",
   "pygments_lexer": "ipython3",
   "version": "3.8.3-final"
  },
  "orig_nbformat": 2,
  "kernelspec": {
   "name": "python3",
   "display_name": "Python 3"
  }
 },
 "nbformat": 4,
 "nbformat_minor": 2,
 "cells": [
  {
   "cell_type": "code",
   "execution_count": 5,
   "metadata": {},
   "outputs": [],
   "source": [
    "import numpy as np \n",
    "import pandas as pd \n",
    "import seaborn as sns \n",
    "import matplotlib as mpl \n",
    "import matplotlib.pyplot as plt \n",
    "%matplotlib inline\n",
    "# 한글폰트 사용\n",
    "mpl.rc('font', family='Malgun Gothic')\n",
    "mpl.rc('axes', unicode_minus=False)"
   ]
  },
  {
   "cell_type": "code",
   "execution_count": 6,
   "metadata": {},
   "outputs": [
    {
     "output_type": "execute_result",
     "data": {
      "text/plain": [
       "     기간   구분      일반가구수         1인         2인       3인       4인       5인  \\\n",
       "0  2019   합계  3,896,389  1,299,787  1,005,065  801,819  614,026  138,596   \n",
       "1  2019  종로구     62,652     24,671     16,208   11,154    7,828    2,143   \n",
       "2  2019   중구     54,496     22,078     14,578    9,540    6,292    1,533   \n",
       "3  2019  용산구     93,177     35,148     25,164   17,439   11,736    2,907   \n",
       "4  2019  성동구    122,770     41,488     32,125   25,634   18,379    4,014   \n",
       "\n",
       "       6인  7인 이상  평균가구원수  \n",
       "0  29,336  7,760     2.3  \n",
       "1     505    143     2.2  \n",
       "2     373    102     2.1  \n",
       "3     612    171     2.2  \n",
       "4     877    253     2.3  "
      ],
      "text/html": "<div>\n<style scoped>\n    .dataframe tbody tr th:only-of-type {\n        vertical-align: middle;\n    }\n\n    .dataframe tbody tr th {\n        vertical-align: top;\n    }\n\n    .dataframe thead th {\n        text-align: right;\n    }\n</style>\n<table border=\"1\" class=\"dataframe\">\n  <thead>\n    <tr style=\"text-align: right;\">\n      <th></th>\n      <th>기간</th>\n      <th>구분</th>\n      <th>일반가구수</th>\n      <th>1인</th>\n      <th>2인</th>\n      <th>3인</th>\n      <th>4인</th>\n      <th>5인</th>\n      <th>6인</th>\n      <th>7인 이상</th>\n      <th>평균가구원수</th>\n    </tr>\n  </thead>\n  <tbody>\n    <tr>\n      <th>0</th>\n      <td>2019</td>\n      <td>합계</td>\n      <td>3,896,389</td>\n      <td>1,299,787</td>\n      <td>1,005,065</td>\n      <td>801,819</td>\n      <td>614,026</td>\n      <td>138,596</td>\n      <td>29,336</td>\n      <td>7,760</td>\n      <td>2.3</td>\n    </tr>\n    <tr>\n      <th>1</th>\n      <td>2019</td>\n      <td>종로구</td>\n      <td>62,652</td>\n      <td>24,671</td>\n      <td>16,208</td>\n      <td>11,154</td>\n      <td>7,828</td>\n      <td>2,143</td>\n      <td>505</td>\n      <td>143</td>\n      <td>2.2</td>\n    </tr>\n    <tr>\n      <th>2</th>\n      <td>2019</td>\n      <td>중구</td>\n      <td>54,496</td>\n      <td>22,078</td>\n      <td>14,578</td>\n      <td>9,540</td>\n      <td>6,292</td>\n      <td>1,533</td>\n      <td>373</td>\n      <td>102</td>\n      <td>2.1</td>\n    </tr>\n    <tr>\n      <th>3</th>\n      <td>2019</td>\n      <td>용산구</td>\n      <td>93,177</td>\n      <td>35,148</td>\n      <td>25,164</td>\n      <td>17,439</td>\n      <td>11,736</td>\n      <td>2,907</td>\n      <td>612</td>\n      <td>171</td>\n      <td>2.2</td>\n    </tr>\n    <tr>\n      <th>4</th>\n      <td>2019</td>\n      <td>성동구</td>\n      <td>122,770</td>\n      <td>41,488</td>\n      <td>32,125</td>\n      <td>25,634</td>\n      <td>18,379</td>\n      <td>4,014</td>\n      <td>877</td>\n      <td>253</td>\n      <td>2.3</td>\n    </tr>\n  </tbody>\n</table>\n</div>"
     },
     "metadata": {},
     "execution_count": 6
    }
   ],
   "source": [
    "df = pd.read_csv('./data/서울시 가구원수별 통계(2019).tsv', sep='\\t', header=1)\n",
    "df.head()"
   ]
  },
  {
   "cell_type": "code",
   "execution_count": 10,
   "metadata": {},
   "outputs": [
    {
     "output_type": "execute_result",
     "data": {
      "text/plain": [
       "     기간   구분    일반가구수       1인       2인      3인      4인      5인     6인  7인 이상  \\\n",
       "0  2019   합계  3896389  1299787  1005065  801819  614026  138596  29336   7760   \n",
       "1  2019  종로구    62652    24671    16208   11154    7828    2143    505    143   \n",
       "2  2019   중구    54496    22078    14578    9540    6292    1533    373    102   \n",
       "3  2019  용산구    93177    35148    25164   17439   11736    2907    612    171   \n",
       "4  2019  성동구   122770    41488    32125   25634   18379    4014    877    253   \n",
       "\n",
       "   평균가구원수  \n",
       "0     2.3  \n",
       "1     2.2  \n",
       "2     2.1  \n",
       "3     2.2  \n",
       "4     2.3  "
      ],
      "text/html": "<div>\n<style scoped>\n    .dataframe tbody tr th:only-of-type {\n        vertical-align: middle;\n    }\n\n    .dataframe tbody tr th {\n        vertical-align: top;\n    }\n\n    .dataframe thead th {\n        text-align: right;\n    }\n</style>\n<table border=\"1\" class=\"dataframe\">\n  <thead>\n    <tr style=\"text-align: right;\">\n      <th></th>\n      <th>기간</th>\n      <th>구분</th>\n      <th>일반가구수</th>\n      <th>1인</th>\n      <th>2인</th>\n      <th>3인</th>\n      <th>4인</th>\n      <th>5인</th>\n      <th>6인</th>\n      <th>7인 이상</th>\n      <th>평균가구원수</th>\n    </tr>\n  </thead>\n  <tbody>\n    <tr>\n      <th>0</th>\n      <td>2019</td>\n      <td>합계</td>\n      <td>3896389</td>\n      <td>1299787</td>\n      <td>1005065</td>\n      <td>801819</td>\n      <td>614026</td>\n      <td>138596</td>\n      <td>29336</td>\n      <td>7760</td>\n      <td>2.3</td>\n    </tr>\n    <tr>\n      <th>1</th>\n      <td>2019</td>\n      <td>종로구</td>\n      <td>62652</td>\n      <td>24671</td>\n      <td>16208</td>\n      <td>11154</td>\n      <td>7828</td>\n      <td>2143</td>\n      <td>505</td>\n      <td>143</td>\n      <td>2.2</td>\n    </tr>\n    <tr>\n      <th>2</th>\n      <td>2019</td>\n      <td>중구</td>\n      <td>54496</td>\n      <td>22078</td>\n      <td>14578</td>\n      <td>9540</td>\n      <td>6292</td>\n      <td>1533</td>\n      <td>373</td>\n      <td>102</td>\n      <td>2.1</td>\n    </tr>\n    <tr>\n      <th>3</th>\n      <td>2019</td>\n      <td>용산구</td>\n      <td>93177</td>\n      <td>35148</td>\n      <td>25164</td>\n      <td>17439</td>\n      <td>11736</td>\n      <td>2907</td>\n      <td>612</td>\n      <td>171</td>\n      <td>2.2</td>\n    </tr>\n    <tr>\n      <th>4</th>\n      <td>2019</td>\n      <td>성동구</td>\n      <td>122770</td>\n      <td>41488</td>\n      <td>32125</td>\n      <td>25634</td>\n      <td>18379</td>\n      <td>4014</td>\n      <td>877</td>\n      <td>253</td>\n      <td>2.3</td>\n    </tr>\n  </tbody>\n</table>\n</div>"
     },
     "metadata": {},
     "execution_count": 10
    }
   ],
   "source": [
    "df2 = pd.read_csv('./data/서울시 가구원수별 통계(2019).tsv' , sep='\\t', header=1, thousands = ',') \n",
    "# thousands = ',' 로 숫자단위를 지정하던 , 없애기\n",
    "df2.head()"
   ]
  },
  {
   "cell_type": "code",
   "execution_count": 11,
   "metadata": {},
   "outputs": [
    {
     "output_type": "execute_result",
     "data": {
      "text/plain": [
       "     기간   구분    일반가구수       1인       2인      3인      4인      5인     6인  7인 이상  \\\n",
       "0  2019   합계  3896389  1299787  1005065  801819  614026  138596  29336   7760   \n",
       "1  2019  종로구    62652    24671    16208   11154    7828    2143   1000    143   \n",
       "2  2019   중구    54496    22078    14578    9540    6292    1533   1000    102   \n",
       "3  2019  용산구    93177    35148    25164   17439   11736    2907   1000    171   \n",
       "4  2019  성동구   122770    41488    32125   25634   18379    4014   1000    253   \n",
       "\n",
       "   평균가구원수  \n",
       "0     2.3  \n",
       "1     2.2  \n",
       "2     2.1  \n",
       "3     2.2  \n",
       "4     2.3  "
      ],
      "text/html": "<div>\n<style scoped>\n    .dataframe tbody tr th:only-of-type {\n        vertical-align: middle;\n    }\n\n    .dataframe tbody tr th {\n        vertical-align: top;\n    }\n\n    .dataframe thead th {\n        text-align: right;\n    }\n</style>\n<table border=\"1\" class=\"dataframe\">\n  <thead>\n    <tr style=\"text-align: right;\">\n      <th></th>\n      <th>기간</th>\n      <th>구분</th>\n      <th>일반가구수</th>\n      <th>1인</th>\n      <th>2인</th>\n      <th>3인</th>\n      <th>4인</th>\n      <th>5인</th>\n      <th>6인</th>\n      <th>7인 이상</th>\n      <th>평균가구원수</th>\n    </tr>\n  </thead>\n  <tbody>\n    <tr>\n      <th>0</th>\n      <td>2019</td>\n      <td>합계</td>\n      <td>3896389</td>\n      <td>1299787</td>\n      <td>1005065</td>\n      <td>801819</td>\n      <td>614026</td>\n      <td>138596</td>\n      <td>29336</td>\n      <td>7760</td>\n      <td>2.3</td>\n    </tr>\n    <tr>\n      <th>1</th>\n      <td>2019</td>\n      <td>종로구</td>\n      <td>62652</td>\n      <td>24671</td>\n      <td>16208</td>\n      <td>11154</td>\n      <td>7828</td>\n      <td>2143</td>\n      <td>1000</td>\n      <td>143</td>\n      <td>2.2</td>\n    </tr>\n    <tr>\n      <th>2</th>\n      <td>2019</td>\n      <td>중구</td>\n      <td>54496</td>\n      <td>22078</td>\n      <td>14578</td>\n      <td>9540</td>\n      <td>6292</td>\n      <td>1533</td>\n      <td>1000</td>\n      <td>102</td>\n      <td>2.1</td>\n    </tr>\n    <tr>\n      <th>3</th>\n      <td>2019</td>\n      <td>용산구</td>\n      <td>93177</td>\n      <td>35148</td>\n      <td>25164</td>\n      <td>17439</td>\n      <td>11736</td>\n      <td>2907</td>\n      <td>1000</td>\n      <td>171</td>\n      <td>2.2</td>\n    </tr>\n    <tr>\n      <th>4</th>\n      <td>2019</td>\n      <td>성동구</td>\n      <td>122770</td>\n      <td>41488</td>\n      <td>32125</td>\n      <td>25634</td>\n      <td>18379</td>\n      <td>4014</td>\n      <td>1000</td>\n      <td>253</td>\n      <td>2.3</td>\n    </tr>\n  </tbody>\n</table>\n</div>"
     },
     "metadata": {},
     "execution_count": 11
    }
   ],
   "source": [
    "col_list = ['1인', '2인', '3인', '4인', '5인', '6인']\n",
    "for col in col_list:\n",
    "    df2.loc[df2[col] < 1000, col] = 1000\n",
    "\n",
    "df2.head()"
   ]
  },
  {
   "cell_type": "code",
   "execution_count": null,
   "metadata": {},
   "outputs": [],
   "source": [
    "#경찰서표시만이아닌, 방어력을 찍고싶은데.. 에러나는부분;\n",
    "for i in pdf.index:\n",
    "    folium.CircleMarker([pdf.lat[i], pdf.lng[i]], radius=crime_norm['검거'][i],\n",
    "                        tooltip=pdf['관서명'][i],\n",
    "                        color='#3186cc', fill_color='#3186cc').add_to(map)"
   ]
  }
 ]
}