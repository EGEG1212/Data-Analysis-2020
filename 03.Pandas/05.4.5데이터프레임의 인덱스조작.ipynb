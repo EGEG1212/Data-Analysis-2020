{
 "metadata": {
  "language_info": {
   "codemirror_mode": {
    "name": "ipython",
    "version": 3
   },
   "file_extension": ".py",
   "mimetype": "text/x-python",
   "name": "python",
   "nbconvert_exporter": "python",
   "pygments_lexer": "ipython3",
   "version": "3.8.3-final"
  },
  "orig_nbformat": 2,
  "kernelspec": {
   "name": "Python 3.8.3 64-bit (conda)",
   "display_name": "Python 3.8.3 64-bit (conda)",
   "metadata": {
    "interpreter": {
     "hash": "b3ba2566441a7c06988d0923437866b63cedc61552a5af99d1f4fb67d367b25f"
    }
   }
  }
 },
 "nbformat": 4,
 "nbformat_minor": 2,
 "cells": [
  {
   "source": [
    "## 4.5 데이터프레임 인덱스 조작\n",
    "set_index : 기존의 행 인덱스를 제거하고 데이터 열 중 하나를 인덱스로 설정  \n",
    "\n",
    "reset_index : 기존의 행 인덱스를 제거하고 인덱스를 데이터 열로 추가"
   ],
   "cell_type": "markdown",
   "metadata": {}
  },
  {
   "cell_type": "code",
   "execution_count": 1,
   "metadata": {},
   "outputs": [],
   "source": [
    "import pandas as pd\n",
    "import numpy as np"
   ]
  },
  {
   "cell_type": "code",
   "execution_count": 2,
   "metadata": {},
   "outputs": [
    {
     "output_type": "execute_result",
     "data": {
      "text/plain": [
       "  C1    C2    C3    C4\n",
       "0  A  0.39   0.6  0.87\n",
       "1  B   0.5  0.31  0.65\n",
       "2  C   0.7  0.64   0.4\n",
       "3  D  0.87  0.03   0.9\n",
       "4  E  0.46  0.47  0.22"
      ],
      "text/html": "<div>\n<style scoped>\n    .dataframe tbody tr th:only-of-type {\n        vertical-align: middle;\n    }\n\n    .dataframe tbody tr th {\n        vertical-align: top;\n    }\n\n    .dataframe thead th {\n        text-align: right;\n    }\n</style>\n<table border=\"1\" class=\"dataframe\">\n  <thead>\n    <tr style=\"text-align: right;\">\n      <th></th>\n      <th>C1</th>\n      <th>C2</th>\n      <th>C3</th>\n      <th>C4</th>\n    </tr>\n  </thead>\n  <tbody>\n    <tr>\n      <th>0</th>\n      <td>A</td>\n      <td>0.39</td>\n      <td>0.6</td>\n      <td>0.87</td>\n    </tr>\n    <tr>\n      <th>1</th>\n      <td>B</td>\n      <td>0.5</td>\n      <td>0.31</td>\n      <td>0.65</td>\n    </tr>\n    <tr>\n      <th>2</th>\n      <td>C</td>\n      <td>0.7</td>\n      <td>0.64</td>\n      <td>0.4</td>\n    </tr>\n    <tr>\n      <th>3</th>\n      <td>D</td>\n      <td>0.87</td>\n      <td>0.03</td>\n      <td>0.9</td>\n    </tr>\n    <tr>\n      <th>4</th>\n      <td>E</td>\n      <td>0.46</td>\n      <td>0.47</td>\n      <td>0.22</td>\n    </tr>\n  </tbody>\n</table>\n</div>"
     },
     "metadata": {},
     "execution_count": 2
    }
   ],
   "source": [
    "df1 = pd.DataFrame(np.vstack([list('ABCDE'),                  #행을쌓아서\n",
    "                              np.round(np.random.rand(3, 5), 2)]).T,  #뒤집T\n",
    "                   columns=[\"C1\", \"C2\", \"C3\", \"C4\"])\n",
    "df1"
   ]
  },
  {
   "cell_type": "code",
   "execution_count": 3,
   "metadata": {},
   "outputs": [
    {
     "output_type": "execute_result",
     "data": {
      "text/plain": [
       "      C2    C3    C4\n",
       "C1                  \n",
       "A   0.39   0.6  0.87\n",
       "B    0.5  0.31  0.65\n",
       "C    0.7  0.64   0.4\n",
       "D   0.87  0.03   0.9\n",
       "E   0.46  0.47  0.22"
      ],
      "text/html": "<div>\n<style scoped>\n    .dataframe tbody tr th:only-of-type {\n        vertical-align: middle;\n    }\n\n    .dataframe tbody tr th {\n        vertical-align: top;\n    }\n\n    .dataframe thead th {\n        text-align: right;\n    }\n</style>\n<table border=\"1\" class=\"dataframe\">\n  <thead>\n    <tr style=\"text-align: right;\">\n      <th></th>\n      <th>C2</th>\n      <th>C3</th>\n      <th>C4</th>\n    </tr>\n    <tr>\n      <th>C1</th>\n      <th></th>\n      <th></th>\n      <th></th>\n    </tr>\n  </thead>\n  <tbody>\n    <tr>\n      <th>A</th>\n      <td>0.39</td>\n      <td>0.6</td>\n      <td>0.87</td>\n    </tr>\n    <tr>\n      <th>B</th>\n      <td>0.5</td>\n      <td>0.31</td>\n      <td>0.65</td>\n    </tr>\n    <tr>\n      <th>C</th>\n      <td>0.7</td>\n      <td>0.64</td>\n      <td>0.4</td>\n    </tr>\n    <tr>\n      <th>D</th>\n      <td>0.87</td>\n      <td>0.03</td>\n      <td>0.9</td>\n    </tr>\n    <tr>\n      <th>E</th>\n      <td>0.46</td>\n      <td>0.47</td>\n      <td>0.22</td>\n    </tr>\n  </tbody>\n</table>\n</div>"
     },
     "metadata": {},
     "execution_count": 3
    }
   ],
   "source": [
    "df2 = df1.set_index(\"C1\")  #c1을 인덱스로 하겠다.set_index\n",
    "df2"
   ]
  },
  {
   "cell_type": "code",
   "execution_count": 4,
   "metadata": {},
   "outputs": [
    {
     "output_type": "execute_result",
     "data": {
      "text/plain": [
       "        C3    C4\n",
       "C2              \n",
       "0.39   0.6  0.87\n",
       "0.5   0.31  0.65\n",
       "0.7   0.64   0.4\n",
       "0.87  0.03   0.9\n",
       "0.46  0.47  0.22"
      ],
      "text/html": "<div>\n<style scoped>\n    .dataframe tbody tr th:only-of-type {\n        vertical-align: middle;\n    }\n\n    .dataframe tbody tr th {\n        vertical-align: top;\n    }\n\n    .dataframe thead th {\n        text-align: right;\n    }\n</style>\n<table border=\"1\" class=\"dataframe\">\n  <thead>\n    <tr style=\"text-align: right;\">\n      <th></th>\n      <th>C3</th>\n      <th>C4</th>\n    </tr>\n    <tr>\n      <th>C2</th>\n      <th></th>\n      <th></th>\n    </tr>\n  </thead>\n  <tbody>\n    <tr>\n      <th>0.39</th>\n      <td>0.6</td>\n      <td>0.87</td>\n    </tr>\n    <tr>\n      <th>0.5</th>\n      <td>0.31</td>\n      <td>0.65</td>\n    </tr>\n    <tr>\n      <th>0.7</th>\n      <td>0.64</td>\n      <td>0.4</td>\n    </tr>\n    <tr>\n      <th>0.87</th>\n      <td>0.03</td>\n      <td>0.9</td>\n    </tr>\n    <tr>\n      <th>0.46</th>\n      <td>0.47</td>\n      <td>0.22</td>\n    </tr>\n  </tbody>\n</table>\n</div>"
     },
     "metadata": {},
     "execution_count": 4
    }
   ],
   "source": [
    "df2.set_index(\"C2\")  #c2를 인덱스로 하겠다.( 기존인덱스 c1이 완전 삭제됨;; )"
   ]
  },
  {
   "cell_type": "code",
   "execution_count": 5,
   "metadata": {},
   "outputs": [
    {
     "output_type": "execute_result",
     "data": {
      "text/plain": [
       "  C1    C2    C3    C4\n",
       "0  A  0.39   0.6  0.87\n",
       "1  B   0.5  0.31  0.65\n",
       "2  C   0.7  0.64   0.4\n",
       "3  D  0.87  0.03   0.9\n",
       "4  E  0.46  0.47  0.22"
      ],
      "text/html": "<div>\n<style scoped>\n    .dataframe tbody tr th:only-of-type {\n        vertical-align: middle;\n    }\n\n    .dataframe tbody tr th {\n        vertical-align: top;\n    }\n\n    .dataframe thead th {\n        text-align: right;\n    }\n</style>\n<table border=\"1\" class=\"dataframe\">\n  <thead>\n    <tr style=\"text-align: right;\">\n      <th></th>\n      <th>C1</th>\n      <th>C2</th>\n      <th>C3</th>\n      <th>C4</th>\n    </tr>\n  </thead>\n  <tbody>\n    <tr>\n      <th>0</th>\n      <td>A</td>\n      <td>0.39</td>\n      <td>0.6</td>\n      <td>0.87</td>\n    </tr>\n    <tr>\n      <th>1</th>\n      <td>B</td>\n      <td>0.5</td>\n      <td>0.31</td>\n      <td>0.65</td>\n    </tr>\n    <tr>\n      <th>2</th>\n      <td>C</td>\n      <td>0.7</td>\n      <td>0.64</td>\n      <td>0.4</td>\n    </tr>\n    <tr>\n      <th>3</th>\n      <td>D</td>\n      <td>0.87</td>\n      <td>0.03</td>\n      <td>0.9</td>\n    </tr>\n    <tr>\n      <th>4</th>\n      <td>E</td>\n      <td>0.46</td>\n      <td>0.47</td>\n      <td>0.22</td>\n    </tr>\n  </tbody>\n</table>\n</div>"
     },
     "metadata": {},
     "execution_count": 5
    }
   ],
   "source": [
    "df2.reset_index()  #다시원위치가 되었따. reset_index"
   ]
  },
  {
   "cell_type": "code",
   "execution_count": 6,
   "metadata": {},
   "outputs": [
    {
     "output_type": "execute_result",
     "data": {
      "text/plain": [
       "     C2    C3    C4\n",
       "0  0.39   0.6  0.87\n",
       "1   0.5  0.31  0.65\n",
       "2   0.7  0.64   0.4\n",
       "3  0.87  0.03   0.9\n",
       "4  0.46  0.47  0.22"
      ],
      "text/html": "<div>\n<style scoped>\n    .dataframe tbody tr th:only-of-type {\n        vertical-align: middle;\n    }\n\n    .dataframe tbody tr th {\n        vertical-align: top;\n    }\n\n    .dataframe thead th {\n        text-align: right;\n    }\n</style>\n<table border=\"1\" class=\"dataframe\">\n  <thead>\n    <tr style=\"text-align: right;\">\n      <th></th>\n      <th>C2</th>\n      <th>C3</th>\n      <th>C4</th>\n    </tr>\n  </thead>\n  <tbody>\n    <tr>\n      <th>0</th>\n      <td>0.39</td>\n      <td>0.6</td>\n      <td>0.87</td>\n    </tr>\n    <tr>\n      <th>1</th>\n      <td>0.5</td>\n      <td>0.31</td>\n      <td>0.65</td>\n    </tr>\n    <tr>\n      <th>2</th>\n      <td>0.7</td>\n      <td>0.64</td>\n      <td>0.4</td>\n    </tr>\n    <tr>\n      <th>3</th>\n      <td>0.87</td>\n      <td>0.03</td>\n      <td>0.9</td>\n    </tr>\n    <tr>\n      <th>4</th>\n      <td>0.46</td>\n      <td>0.47</td>\n      <td>0.22</td>\n    </tr>\n  </tbody>\n</table>\n</div>"
     },
     "metadata": {},
     "execution_count": 6
    }
   ],
   "source": [
    "df3 = df2.reset_index(drop=True)  #리셋하면서 지우고싶다 drop=True 하니 C1이 삭제됨\n",
    "df3"
   ]
  },
  {
   "cell_type": "code",
   "execution_count": null,
   "metadata": {},
   "outputs": [],
   "source": [
    "# 연습문제 4.5.1\n",
    "#5명의 학생의 국어, 영어, 수학 점수를 나타내는 데이터프레임을 다음과 같이 만든다.\n",
    "\n",
    "#학생 이름을 나타내는 열을 포함시키지 않고 데이터프레임 df_score1 을 생성한 후, \n",
    "# df_score1.index 속성에 학생 이름을 나타내는 열을 지정하여 인덱스를 지정한다. \n",
    "# reset_index 명령으로 이 인덱스 열을 명령으로 일반 데이터열로 바꾸여 데이터프레임 df_score2을 만든다.\n",
    "\n",
    "#학생 이름을 나타내는 열이 일반 데이터 열을 포함하는 데이터프레임 df_score2에 \n",
    "# set_index 명령을 적용하여 다시 학생 이름을 나타내는 열을 인덱스로 변경한다.\n",
    "\n",
    "\n",
    "#ㅠㅠㅠㅠㅠㅠㅠㅠㅠㅠㅠ\n",
    "df_score1 = pd.DataFrame(np.arange(10, 26).reshape(4, 4), columns=[\"이름\", \"국어\", \"영어\", \"수학\"])\n",
    "df_score1\n"
   ]
  },
  {
   "source": [
    "## 다중인덱스\n",
    "컬럼이나 행에 대해서 위에 큰 그룹으로 하나 더 추가  \n",
    "(많이안쓰는기능이라공...)  근데 좋아보임 ㅋㅋㅋ"
   ],
   "cell_type": "markdown",
   "metadata": {}
  },
  {
   "cell_type": "code",
   "execution_count": 8,
   "metadata": {},
   "outputs": [
    {
     "output_type": "execute_result",
     "data": {
      "text/plain": [
       "Cidx1           A           B      \n",
       "Cidx2           C     D     C     D\n",
       "Ridx1 Ridx2                        \n",
       "M     id_1   1.76  0.40  0.98  2.24\n",
       "      id_2   1.87 -0.98  0.95 -0.15\n",
       "      id_3  -0.10  0.41  0.14  1.45\n",
       "F     id_1   0.76  0.12  0.44  0.33\n",
       "      id_2   1.49 -0.21  0.31 -0.85\n",
       "      id_3  -2.55  0.65  0.86 -0.74"
      ],
      "text/html": "<div>\n<style scoped>\n    .dataframe tbody tr th:only-of-type {\n        vertical-align: middle;\n    }\n\n    .dataframe tbody tr th {\n        vertical-align: top;\n    }\n\n    .dataframe thead tr th {\n        text-align: left;\n    }\n\n    .dataframe thead tr:last-of-type th {\n        text-align: right;\n    }\n</style>\n<table border=\"1\" class=\"dataframe\">\n  <thead>\n    <tr>\n      <th></th>\n      <th>Cidx1</th>\n      <th colspan=\"2\" halign=\"left\">A</th>\n      <th colspan=\"2\" halign=\"left\">B</th>\n    </tr>\n    <tr>\n      <th></th>\n      <th>Cidx2</th>\n      <th>C</th>\n      <th>D</th>\n      <th>C</th>\n      <th>D</th>\n    </tr>\n    <tr>\n      <th>Ridx1</th>\n      <th>Ridx2</th>\n      <th></th>\n      <th></th>\n      <th></th>\n      <th></th>\n    </tr>\n  </thead>\n  <tbody>\n    <tr>\n      <th rowspan=\"3\" valign=\"top\">M</th>\n      <th>id_1</th>\n      <td>1.76</td>\n      <td>0.40</td>\n      <td>0.98</td>\n      <td>2.24</td>\n    </tr>\n    <tr>\n      <th>id_2</th>\n      <td>1.87</td>\n      <td>-0.98</td>\n      <td>0.95</td>\n      <td>-0.15</td>\n    </tr>\n    <tr>\n      <th>id_3</th>\n      <td>-0.10</td>\n      <td>0.41</td>\n      <td>0.14</td>\n      <td>1.45</td>\n    </tr>\n    <tr>\n      <th rowspan=\"3\" valign=\"top\">F</th>\n      <th>id_1</th>\n      <td>0.76</td>\n      <td>0.12</td>\n      <td>0.44</td>\n      <td>0.33</td>\n    </tr>\n    <tr>\n      <th>id_2</th>\n      <td>1.49</td>\n      <td>-0.21</td>\n      <td>0.31</td>\n      <td>-0.85</td>\n    </tr>\n    <tr>\n      <th>id_3</th>\n      <td>-2.55</td>\n      <td>0.65</td>\n      <td>0.86</td>\n      <td>-0.74</td>\n    </tr>\n  </tbody>\n</table>\n</div>"
     },
     "metadata": {},
     "execution_count": 8
    }
   ],
   "source": [
    "np.random.seed(0)\n",
    "df4 = pd.DataFrame(np.round(np.random.randn(6, 4), 2),\n",
    "                   columns=[[\"A\", \"A\", \"B\", \"B\"],\n",
    "                            [\"C\", \"D\", \"C\", \"D\"]],  #리스트줄때 중첩.2차원리스트줄것 주의\n",
    "                   index=[[\"M\", \"M\", \"M\", \"F\", \"F\", \"F\"],  #행 부분도 중첩.2차원리스트줄것 주의\n",
    "                          [\"id_\" + str(i + 1) for i in range(3)] * 2])\n",
    "df4.columns.names = [\"Cidx1\", \"Cidx2\"]\n",
    "df4.index.names = [\"Ridx1\", \"Ridx2\"]\n",
    "df4"
   ]
  },
  {
   "cell_type": "code",
   "execution_count": 10,
   "metadata": {},
   "outputs": [
    {
     "output_type": "execute_result",
     "data": {
      "text/plain": [
       "0.12"
      ]
     },
     "metadata": {},
     "execution_count": 10
    }
   ],
   "source": [
    "# F의 id_1  을 꺼내오고싶다면?\n",
    "# 튜플로 넣고 [열][행]]\n",
    "df4[('A','D')][('F','id_1')]"
   ]
  },
  {
   "source": [
    "## 행 인덱스와 열 인덱스 교환\n",
    "stack 열 인덱스 -> 행 인덱스로 변환\n",
    "\n",
    "unstack 행 인덱스 -> 열 인덱스로 변환"
   ],
   "cell_type": "markdown",
   "metadata": {}
  },
  {
   "cell_type": "code",
   "execution_count": 11,
   "metadata": {},
   "outputs": [
    {
     "output_type": "execute_result",
     "data": {
      "text/plain": [
       "      C2    C3    C4\n",
       "C1                  \n",
       "A   0.39   0.6  0.87\n",
       "B    0.5  0.31  0.65\n",
       "C    0.7  0.64   0.4\n",
       "D   0.87  0.03   0.9\n",
       "E   0.46  0.47  0.22"
      ],
      "text/html": "<div>\n<style scoped>\n    .dataframe tbody tr th:only-of-type {\n        vertical-align: middle;\n    }\n\n    .dataframe tbody tr th {\n        vertical-align: top;\n    }\n\n    .dataframe thead th {\n        text-align: right;\n    }\n</style>\n<table border=\"1\" class=\"dataframe\">\n  <thead>\n    <tr style=\"text-align: right;\">\n      <th></th>\n      <th>C2</th>\n      <th>C3</th>\n      <th>C4</th>\n    </tr>\n    <tr>\n      <th>C1</th>\n      <th></th>\n      <th></th>\n      <th></th>\n    </tr>\n  </thead>\n  <tbody>\n    <tr>\n      <th>A</th>\n      <td>0.39</td>\n      <td>0.6</td>\n      <td>0.87</td>\n    </tr>\n    <tr>\n      <th>B</th>\n      <td>0.5</td>\n      <td>0.31</td>\n      <td>0.65</td>\n    </tr>\n    <tr>\n      <th>C</th>\n      <td>0.7</td>\n      <td>0.64</td>\n      <td>0.4</td>\n    </tr>\n    <tr>\n      <th>D</th>\n      <td>0.87</td>\n      <td>0.03</td>\n      <td>0.9</td>\n    </tr>\n    <tr>\n      <th>E</th>\n      <td>0.46</td>\n      <td>0.47</td>\n      <td>0.22</td>\n    </tr>\n  </tbody>\n</table>\n</div>"
     },
     "metadata": {},
     "execution_count": 11
    }
   ],
   "source": [
    "df2"
   ]
  },
  {
   "cell_type": "code",
   "execution_count": 12,
   "metadata": {},
   "outputs": [
    {
     "output_type": "execute_result",
     "data": {
      "text/plain": [
       "C1    \n",
       "A   C2    0.39\n",
       "    C3     0.6\n",
       "    C4    0.87\n",
       "B   C2     0.5\n",
       "    C3    0.31\n",
       "    C4    0.65\n",
       "C   C2     0.7\n",
       "    C3    0.64\n",
       "    C4     0.4\n",
       "D   C2    0.87\n",
       "    C3    0.03\n",
       "    C4     0.9\n",
       "E   C2    0.46\n",
       "    C3    0.47\n",
       "    C4    0.22\n",
       "dtype: object"
      ]
     },
     "metadata": {},
     "execution_count": 12
    }
   ],
   "source": [
    "df2.stack()     #c2 c3 c4열인덱스가 반시계방향으로.. 행 인덱스로 들어와서 차곡차곡 쌓였다...."
   ]
  },
  {
   "cell_type": "code",
   "execution_count": 13,
   "metadata": {},
   "outputs": [
    {
     "output_type": "execute_result",
     "data": {
      "text/plain": [
       "    C1\n",
       "C2  A     0.39\n",
       "    B      0.5\n",
       "    C      0.7\n",
       "    D     0.87\n",
       "    E     0.46\n",
       "C3  A      0.6\n",
       "    B     0.31\n",
       "    C     0.64\n",
       "    D     0.03\n",
       "    E     0.47\n",
       "C4  A     0.87\n",
       "    B     0.65\n",
       "    C      0.4\n",
       "    D      0.9\n",
       "    E     0.22\n",
       "dtype: object"
      ]
     },
     "metadata": {},
     "execution_count": 13
    }
   ],
   "source": [
    "df2.unstack()  #행 인덱스가 열 인덱스로 변환"
   ]
  },
  {
   "cell_type": "code",
   "execution_count": null,
   "metadata": {},
   "outputs": [],
   "source": []
  }
 ]
}