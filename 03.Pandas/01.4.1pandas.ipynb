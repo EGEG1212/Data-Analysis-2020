{
 "metadata": {
  "language_info": {
   "codemirror_mode": {
    "name": "ipython",
    "version": 3
   },
   "file_extension": ".py",
   "mimetype": "text/x-python",
   "name": "python",
   "nbconvert_exporter": "python",
   "pygments_lexer": "ipython3",
   "version": "3.8.3-final"
  },
  "orig_nbformat": 2,
  "kernelspec": {
   "name": "Python 3.8.3 64-bit (conda)",
   "display_name": "Python 3.8.3 64-bit (conda)",
   "metadata": {
    "interpreter": {
     "hash": "b3ba2566441a7c06988d0923437866b63cedc61552a5af99d1f4fb67d367b25f"
    }
   }
  }
 },
 "nbformat": 4,
 "nbformat_minor": 2,
 "cells": [
  {
   "source": [
    "# 4장 판다스 데이터 분석"
   ],
   "cell_type": "markdown",
   "metadata": {}
  },
  {
   "cell_type": "code",
   "execution_count": 1,
   "metadata": {},
   "outputs": [],
   "source": [
    "import numpy as np\n",
    "import pandas as pd"
   ]
  },
  {
   "source": [
    "## 시리즈(series) 클래스\n",
    "넘파이는 숫자로만 인덱싱 할 수 있는데  \n",
    "판다스는 세로(열)로 입력 가능. 순서가 꼭 0.1.2 아니고 first second 입력할 수 있음."
   ],
   "cell_type": "markdown",
   "metadata": {}
  },
  {
   "cell_type": "code",
   "execution_count": 3,
   "metadata": {},
   "outputs": [
    {
     "output_type": "execute_result",
     "data": {
      "text/plain": [
       "서울    9904312\n",
       "부산    3448737\n",
       "인천    2890451\n",
       "대구    2466052\n",
       "dtype: int64"
      ]
     },
     "metadata": {},
     "execution_count": 3
    }
   ],
   "source": [
    "#pd.Series 시리즈__init생성자를 불러서 4개의 데이터값을 넣어준다. \n",
    "# 0.1.2.3도 되지만 판다스의 인덱스는 옵션으로 서울부산인천대구 입력해도 됨\n",
    "s = pd.Series([9904312, 3448737, 2890451, 2466052],  \n",
    "              index=[\"서울\", \"부산\", \"인천\", \"대구\"])\n",
    "s"
   ]
  },
  {
   "cell_type": "code",
   "execution_count": 7,
   "metadata": {},
   "outputs": [
    {
     "output_type": "execute_result",
     "data": {
      "text/plain": [
       "array([9904312, 3448737, 2890451, 2466052])"
      ]
     },
     "metadata": {},
     "execution_count": 7
    }
   ],
   "source": [
    "#위의 내용을 넘파이로 만들어보자\n",
    "x = np.array([9904312, 3448737, 2890451, 2466052])\n",
    "x"
   ]
  },
  {
   "cell_type": "code",
   "execution_count": 10,
   "metadata": {},
   "outputs": [
    {
     "output_type": "execute_result",
     "data": {
      "text/plain": [
       "0    10\n",
       "1    11\n",
       "2    12\n",
       "3    13\n",
       "dtype: int64"
      ]
     },
     "metadata": {},
     "execution_count": 10
    }
   ],
   "source": [
    "pd.Series(range(10,14))  #시리즈 대문자주의\n",
    "#만약 인덱스를 지정하지 않고 시리즈를 만들면 시리즈의 인덱스는 0부터 시작하는 정수값이 된다."
   ]
  },
  {
   "cell_type": "code",
   "execution_count": 11,
   "metadata": {},
   "outputs": [
    {
     "output_type": "execute_result",
     "data": {
      "text/plain": [
       "Index(['서울', '부산', '인천', '대구'], dtype='object')"
      ]
     },
     "metadata": {},
     "execution_count": 11
    }
   ],
   "source": [
    "s.index"
   ]
  },
  {
   "cell_type": "code",
   "execution_count": 14,
   "metadata": {},
   "outputs": [
    {
     "output_type": "execute_result",
     "data": {
      "text/plain": [
       "array([9904312, 3448737, 2890451, 2466052], dtype=int64)"
      ]
     },
     "metadata": {},
     "execution_count": 14
    }
   ],
   "source": [
    "s.values  #np.array와 결과값이 비슷( 시리즈의 인덱스속성을 뽑아> 벨류 속성를 하면> 넘파이처럼 쓸 수 있다)"
   ]
  },
  {
   "cell_type": "code",
   "execution_count": 15,
   "metadata": {},
   "outputs": [
    {
     "output_type": "execute_result",
     "data": {
      "text/plain": [
       "도시\n",
       "서울    9904312\n",
       "부산    3448737\n",
       "인천    2890451\n",
       "대구    2466052\n",
       "Name: 인구, dtype: int64"
      ]
     },
     "metadata": {},
     "execution_count": 15
    }
   ],
   "source": [
    "s.name = \"인구\"         #시리즈 데이터에 이름을 붙임. 나중에 데이터프레임만들때.. 한 열(시리즈)의 제목이 되는것.\n",
    "s.index.name = \"도시\" # 시리즈의 인덱스에도 이름을 붙임.\n",
    "s"
   ]
  },
  {
   "source": [
    "## 시리즈연산"
   ],
   "cell_type": "markdown",
   "metadata": {}
  },
  {
   "cell_type": "code",
   "execution_count": 16,
   "metadata": {},
   "outputs": [
    {
     "output_type": "execute_result",
     "data": {
      "text/plain": [
       "도시\n",
       "서울    9.904312\n",
       "부산    3.448737\n",
       "인천    2.890451\n",
       "대구    2.466052\n",
       "Name: 인구, dtype: float64"
      ]
     },
     "metadata": {},
     "execution_count": 16
    }
   ],
   "source": [
    "#벡터화 연산을 지원. 라벨에 영향을 미치지 않는다.\n",
    "s / 1000000"
   ]
  },
  {
   "source": [
    "## 시리즈 인덱싱"
   ],
   "cell_type": "markdown",
   "metadata": {}
  },
  {
   "cell_type": "code",
   "execution_count": 17,
   "metadata": {},
   "outputs": [
    {
     "output_type": "execute_result",
     "data": {
      "text/plain": [
       "(3448737, 3448737)"
      ]
     },
     "metadata": {},
     "execution_count": 17
    }
   ],
   "source": [
    "s[1], s[\"부산\"]  # 동일한 데이터가 나온다. s[1] = s[\"부산\"]"
   ]
  },
  {
   "cell_type": "code",
   "execution_count": 18,
   "metadata": {},
   "outputs": [
    {
     "output_type": "execute_result",
     "data": {
      "text/plain": [
       "도시\n",
       "서울    9904312\n",
       "대구    2466052\n",
       "부산    3448737\n",
       "Name: 인구, dtype: int64"
      ]
     },
     "metadata": {},
     "execution_count": 18
    }
   ],
   "source": [
    "#순서를 바꿀 수 있다. # 변수에 인입시키면, 또다른 데이터로 쓸 수 있다.\n",
    "s[[0, 3, 1]]"
   ]
  },
  {
   "cell_type": "code",
   "execution_count": 19,
   "metadata": {},
   "outputs": [
    {
     "output_type": "execute_result",
     "data": {
      "text/plain": [
       "도시\n",
       "서울    9904312\n",
       "대구    2466052\n",
       "부산    3448737\n",
       "Name: 인구, dtype: int64"
      ]
     },
     "metadata": {},
     "execution_count": 19
    }
   ],
   "source": [
    "# 이렇게도 빼낼 수 있다.  (인덱스이름으로 가능) 위에는 번호로 빼낼 수 있따.\n",
    "s[[\"서울\", \"대구\", \"부산\"]]"
   ]
  },
  {
   "cell_type": "code",
   "execution_count": 20,
   "metadata": {},
   "outputs": [
    {
     "output_type": "execute_result",
     "data": {
      "text/plain": [
       "도시\n",
       "부산    3448737\n",
       "인천    2890451\n",
       "Name: 인구, dtype: int64"
      ]
     },
     "metadata": {},
     "execution_count": 20
    }
   ],
   "source": [
    "# e4란, 0이 4개 붙은것\n",
    "s[(250e4 < s) & (s < 500e4)]  # 인구가 250만 초과, 500만 미만인 경우"
   ]
  },
  {
   "cell_type": "code",
   "execution_count": 21,
   "metadata": {},
   "outputs": [
    {
     "output_type": "execute_result",
     "data": {
      "text/plain": [
       "도시\n",
       "부산    3448737\n",
       "인천    2890451\n",
       "Name: 인구, dtype: int64"
      ]
     },
     "metadata": {},
     "execution_count": 21
    }
   ],
   "source": [
    "#시리즈도 슬라이싱이 된다\n",
    "#그런데 데이터프레임에서는 끝이 포함...... (헷갈리니 주의)\n",
    "s[1:3]  # 두번째(1)부터 세번째(2)까지 (네번째(3) 미포함) 숫자로하면"
   ]
  },
  {
   "cell_type": "code",
   "execution_count": 22,
   "metadata": {},
   "outputs": [
    {
     "output_type": "execute_result",
     "data": {
      "text/plain": [
       "도시\n",
       "부산    3448737\n",
       "인천    2890451\n",
       "대구    2466052\n",
       "Name: 인구, dtype: int64"
      ]
     },
     "metadata": {},
     "execution_count": 22
    }
   ],
   "source": [
    "s[\"부산\":\"대구\"]  # 부산에서 대구까지 (대구도 포함) 이름으로하면 끝을 포함시킴... (헷갈리니주의)"
   ]
  },
  {
   "cell_type": "code",
   "execution_count": 23,
   "metadata": {},
   "outputs": [
    {
     "output_type": "execute_result",
     "data": {
      "text/plain": [
       "a    0\n",
       "b    1\n",
       "c    2\n",
       "dtype: int64"
      ]
     },
     "metadata": {},
     "execution_count": 23
    }
   ],
   "source": [
    "s0 = pd.Series(range(3), index=[\"a\", \"b\", \"c\"])  #0.1.2에 인덱스를 준것.\n",
    "s0"
   ]
  },
  {
   "cell_type": "code",
   "execution_count": 24,
   "metadata": {},
   "outputs": [
    {
     "output_type": "execute_result",
     "data": {
      "text/plain": [
       "0"
      ]
     },
     "metadata": {},
     "execution_count": 24
    }
   ],
   "source": [
    "s0.a  #노드 오브젝트 자료 꺼내듯이 이렇게 해도 나옴. 속성인것처럼.쩜 사용"
   ]
  },
  {
   "source": [
    "## 시리즈와 딕셔너리 자료형\n",
    "시리즈구성  인덱스와 값  \n",
    "딕셔너리구성 키와 값  \n",
    "(~_~) 둘이 비슷해~~~  \n",
    "딕셔너리 자료형에서 제공하는 in 연산도 가능하고 items 메서드를 사용하면 for 루프를 통해 각 원소의 키(key)와 값(value)을 접근할 수도 있다.\n"
   ],
   "cell_type": "markdown",
   "metadata": {}
  },
  {
   "cell_type": "code",
   "execution_count": 25,
   "metadata": {},
   "outputs": [
    {
     "output_type": "execute_result",
     "data": {
      "text/plain": [
       "True"
      ]
     },
     "metadata": {},
     "execution_count": 25
    }
   ],
   "source": [
    "\"서울\" in s  # 인덱스 라벨 중에 서울이 있는가"
   ]
  },
  {
   "cell_type": "code",
   "execution_count": 26,
   "metadata": {},
   "outputs": [
    {
     "output_type": "execute_result",
     "data": {
      "text/plain": [
       "False"
      ]
     },
     "metadata": {},
     "execution_count": 26
    }
   ],
   "source": [
    "\"대전\" in s  # 인덱스 라벨 중에 대전이 있는가"
   ]
  },
  {
   "cell_type": "code",
   "execution_count": 30,
   "metadata": {},
   "outputs": [
    {
     "output_type": "stream",
     "name": "stdout",
     "text": [
      "서울 = 9904312\n부산 = 3448737\n인천 = 2890451\n대구 = 2466052\n"
     ]
    }
   ],
   "source": [
    "#딕셔너리를 포룩 돌릴때... items를 이용해서 키와 밸류를 뽑아냈었다!!\n",
    "for k, v in s.items():\n",
    "    print(f\"{k} = {v}\")"
   ]
  },
  {
   "cell_type": "code",
   "execution_count": 31,
   "metadata": {},
   "outputs": [
    {
     "output_type": "execute_result",
     "data": {
      "text/plain": [
       "서울    9631482\n",
       "부산    3393191\n",
       "인천    2632035\n",
       "대전    1490158\n",
       "dtype: int64"
      ]
     },
     "metadata": {},
     "execution_count": 31
    }
   ],
   "source": [
    "s2 = pd.Series({\"서울\": 9631482, \"부산\": 3393191, \"인천\": 2632035, \"대전\": 1490158})\n",
    "s2\n",
    "#딕셔너리의 키값이 시리즈화되었다.\n",
    "# 순서보장이 안된다ㅠㅠㅠㅠ 그래서 아래의 해결책"
   ]
  },
  {
   "cell_type": "code",
   "execution_count": 32,
   "metadata": {},
   "outputs": [
    {
     "output_type": "execute_result",
     "data": {
      "text/plain": [
       "부산    3393191\n",
       "서울    9631482\n",
       "인천    2632035\n",
       "대전    1490158\n",
       "dtype: int64"
      ]
     },
     "metadata": {},
     "execution_count": 32
    }
   ],
   "source": [
    "s2 = pd.Series({\"서울\": 9631482, \"부산\": 3393191, \"인천\": 2632035, \"대전\": 1490158},\n",
    "               index=[\"부산\", \"서울\", \"인천\", \"대전\"])\n",
    "s2\n",
    "#인덱스를 지정해주면 순서대로 들어간다."
   ]
  },
  {
   "source": [
    "## 인덱스 기반 연산"
   ],
   "cell_type": "markdown",
   "metadata": {}
  },
  {
   "cell_type": "code",
   "execution_count": 33,
   "metadata": {},
   "outputs": [
    {
     "output_type": "execute_result",
     "data": {
      "text/plain": [
       "도시\n",
       "서울    9904312\n",
       "부산    3448737\n",
       "인천    2890451\n",
       "대구    2466052\n",
       "Name: 인구, dtype: int64"
      ]
     },
     "metadata": {},
     "execution_count": 33
    }
   ],
   "source": [
    "s"
   ]
  },
  {
   "cell_type": "code",
   "execution_count": 35,
   "metadata": {},
   "outputs": [
    {
     "output_type": "execute_result",
     "data": {
      "text/plain": [
       "대구         NaN\n",
       "대전         NaN\n",
       "부산     55546.0\n",
       "서울    272830.0\n",
       "인천    258416.0\n",
       "dtype: float64"
      ]
     },
     "metadata": {},
     "execution_count": 35
    }
   ],
   "source": [
    "#s와 s2의 차이를 구해보자\n",
    "#인덱스가 같은 놈끼리 빼준다 (없는인덱스는 NaN)\n",
    "ds = s - s2\n",
    "ds\n",
    "#연산을 했더니 타입이 float로 바뀌었다.\n"
   ]
  },
  {
   "cell_type": "code",
   "execution_count": 36,
   "metadata": {},
   "outputs": [
    {
     "output_type": "execute_result",
     "data": {
      "text/plain": [
       "array([ 6511121, -6182745,   258416,   975894], dtype=int64)"
      ]
     },
     "metadata": {},
     "execution_count": 36
    }
   ],
   "source": [
    "# 예를들어  이건.... 같은인덱스끼리가 아닌, 엉뚱...\n",
    "s.values - s2.values"
   ]
  },
  {
   "cell_type": "code",
   "execution_count": 37,
   "metadata": {},
   "outputs": [
    {
     "output_type": "execute_result",
     "data": {
      "text/plain": [
       "대구    False\n",
       "대전    False\n",
       "부산     True\n",
       "서울     True\n",
       "인천     True\n",
       "dtype: bool"
      ]
     },
     "metadata": {},
     "execution_count": 37
    }
   ],
   "source": [
    "ds.notnull()"
   ]
  },
  {
   "cell_type": "code",
   "execution_count": 39,
   "metadata": {},
   "outputs": [
    {
     "output_type": "execute_result",
     "data": {
      "text/plain": [
       "부산     55546.0\n",
       "서울    272830.0\n",
       "인천    258416.0\n",
       "dtype: float64"
      ]
     },
     "metadata": {},
     "execution_count": 39
    }
   ],
   "source": [
    "ds[ds.notnull()]  #되려 낫널을 인덱싱하면 정도가 있는 것만True만 나온다.  오~~~~~~"
   ]
  },
  {
   "cell_type": "code",
   "execution_count": 40,
   "metadata": {},
   "outputs": [
    {
     "output_type": "execute_result",
     "data": {
      "text/plain": [
       "부산    1.636984\n",
       "서울    2.832690\n",
       "인천    9.818107\n",
       "dtype: float64"
      ]
     },
     "metadata": {},
     "execution_count": 40
    }
   ],
   "source": [
    "# 인구증가율(%) \n",
    "rs = (s - s2) / s2 * 100\n",
    "rs = rs[rs.notnull()]\n",
    "rs"
   ]
  },
  {
   "source": [
    "## 데이터의 갱신rs, 추가rs, 삭제del rs"
   ],
   "cell_type": "markdown",
   "metadata": {}
  },
  {
   "cell_type": "code",
   "execution_count": 41,
   "metadata": {},
   "outputs": [
    {
     "output_type": "execute_result",
     "data": {
      "text/plain": [
       "부산    1.630000\n",
       "서울    2.832690\n",
       "인천    9.818107\n",
       "dtype: float64"
      ]
     },
     "metadata": {},
     "execution_count": 41
    }
   ],
   "source": [
    "# 갱신rs 있는 부산에 숫자바꿔줌\n",
    "rs[\"부산\"] = 1.63\n",
    "rs"
   ]
  },
  {
   "cell_type": "code",
   "execution_count": 42,
   "metadata": {},
   "outputs": [
    {
     "output_type": "execute_result",
     "data": {
      "text/plain": [
       "부산    1.630000\n",
       "서울    2.832690\n",
       "인천    9.818107\n",
       "대구    1.410000\n",
       "dtype: float64"
      ]
     },
     "metadata": {},
     "execution_count": 42
    }
   ],
   "source": [
    "rs[\"대구\"] = 1.41\n",
    "rs\n",
    "# 없던 대구가 추가됨"
   ]
  },
  {
   "cell_type": "code",
   "execution_count": 43,
   "metadata": {},
   "outputs": [
    {
     "output_type": "execute_result",
     "data": {
      "text/plain": [
       "부산    1.630000\n",
       "인천    9.818107\n",
       "대구    1.410000\n",
       "dtype: float64"
      ]
     },
     "metadata": {},
     "execution_count": 43
    }
   ],
   "source": [
    "#서울 지움 del rs\n",
    "del rs[\"서울\"]\n",
    "rs"
   ]
  },
  {
   "cell_type": "code",
   "execution_count": 45,
   "metadata": {},
   "outputs": [
    {
     "output_type": "execute_result",
     "data": {
      "text/plain": [
       "서울    100\n",
       "부산    200\n",
       "인천    300\n",
       "대구    500\n",
       "dtype: int64"
      ]
     },
     "metadata": {},
     "execution_count": 45
    }
   ],
   "source": [
    "# 연습문제 4.1.1\n",
    "a = pd.Series([100, 200, 300, 500],  \n",
    "              index=[\"서울\", \"부산\", \"인천\", \"대구\"])\n",
    "a"
   ]
  },
  {
   "cell_type": "code",
   "execution_count": 46,
   "metadata": {},
   "outputs": [
    {
     "output_type": "execute_result",
     "data": {
      "text/plain": [
       "서울    50\n",
       "부산    50\n",
       "인천    50\n",
       "대구    50\n",
       "dtype: int64"
      ]
     },
     "metadata": {},
     "execution_count": 46
    }
   ],
   "source": [
    "s = pd.Series([50, 50, 50, 50],  \n",
    "              index=[\"서울\", \"부산\", \"인천\", \"대구\"])\n",
    "s"
   ]
  },
  {
   "cell_type": "code",
   "execution_count": 47,
   "metadata": {},
   "outputs": [
    {
     "output_type": "execute_result",
     "data": {
      "text/plain": [
       "서울     50\n",
       "부산    150\n",
       "인천    250\n",
       "대구    450\n",
       "dtype: int64"
      ]
     },
     "metadata": {},
     "execution_count": 47
    }
   ],
   "source": [
    "ds = a - s\n",
    "ds"
   ]
  },
  {
   "cell_type": "code",
   "execution_count": 48,
   "metadata": {},
   "outputs": [
    {
     "output_type": "execute_result",
     "data": {
      "text/plain": [
       "array([ 50, 150, 250, 450], dtype=int64)"
      ]
     },
     "metadata": {},
     "execution_count": 48
    }
   ],
   "source": [
    "a.values - s.values"
   ]
  },
  {
   "cell_type": "code",
   "execution_count": 49,
   "metadata": {},
   "outputs": [
    {
     "output_type": "execute_result",
     "data": {
      "text/plain": [
       "서울    150\n",
       "부산    250\n",
       "인천    350\n",
       "대구    550\n",
       "dtype: int64"
      ]
     },
     "metadata": {},
     "execution_count": 49
    }
   ],
   "source": [
    "ds = a + s\n",
    "ds"
   ]
  },
  {
   "source": [
    "## 데이터프레임(DataFrame)"
   ],
   "cell_type": "markdown",
   "metadata": {}
  },
  {
   "source": [
    "### 데이터프레임 생성\n",
    "우선 하나의 열이 되는 데이터를 리스트나 일차원 배열을 준비한다.  \n",
    "\n",
    "이 각각의 열에 대한 이름(라벨)을 키로 가지는 딕셔너리를 만든다.  \n",
    "\n",
    "이 데이터를 DataFrame 클래스 생성자에 넣는다.   \n",
    "동시에 열방향 인덱스는 columns 인수로,   \n",
    "행방향 인덱스는 index 인수로 지정한다  "
   ],
   "cell_type": "markdown",
   "metadata": {}
  },
  {
   "cell_type": "code",
   "execution_count": 54,
   "metadata": {},
   "outputs": [
    {
     "output_type": "execute_result",
     "data": {
      "text/plain": [
       "     지역     2015     2010     2005     2000  2010-2015 증가율\n",
       "서울  수도권  9904312  9631482  9762546  9853972         0.0283\n",
       "부산  경상권  3448737  3393191  3512547  3655437         0.0163\n",
       "인천  수도권  2890451  2632035  2417680  2466338         0.0982\n",
       "대구  경상권  2466052  2431774  2456016  2473990         0.0141"
      ],
      "text/html": "<div>\n<style scoped>\n    .dataframe tbody tr th:only-of-type {\n        vertical-align: middle;\n    }\n\n    .dataframe tbody tr th {\n        vertical-align: top;\n    }\n\n    .dataframe thead th {\n        text-align: right;\n    }\n</style>\n<table border=\"1\" class=\"dataframe\">\n  <thead>\n    <tr style=\"text-align: right;\">\n      <th></th>\n      <th>지역</th>\n      <th>2015</th>\n      <th>2010</th>\n      <th>2005</th>\n      <th>2000</th>\n      <th>2010-2015 증가율</th>\n    </tr>\n  </thead>\n  <tbody>\n    <tr>\n      <th>서울</th>\n      <td>수도권</td>\n      <td>9904312</td>\n      <td>9631482</td>\n      <td>9762546</td>\n      <td>9853972</td>\n      <td>0.0283</td>\n    </tr>\n    <tr>\n      <th>부산</th>\n      <td>경상권</td>\n      <td>3448737</td>\n      <td>3393191</td>\n      <td>3512547</td>\n      <td>3655437</td>\n      <td>0.0163</td>\n    </tr>\n    <tr>\n      <th>인천</th>\n      <td>수도권</td>\n      <td>2890451</td>\n      <td>2632035</td>\n      <td>2417680</td>\n      <td>2466338</td>\n      <td>0.0982</td>\n    </tr>\n    <tr>\n      <th>대구</th>\n      <td>경상권</td>\n      <td>2466052</td>\n      <td>2431774</td>\n      <td>2456016</td>\n      <td>2473990</td>\n      <td>0.0141</td>\n    </tr>\n  </tbody>\n</table>\n</div>"
     },
     "metadata": {},
     "execution_count": 54
    }
   ],
   "source": [
    "data = {\n",
    "    \"지역\": [\"수도권\",\"경상권\",\"수도권\",\"경상권\"],\n",
    "    \"2015\": [9904312, 3448737, 2890451, 2466052],\n",
    "    \"2010\": [9631482, 3393191, 2632035, 2431774],\n",
    "    \"2005\": [9762546, 3512547, 2417680, 2456016],\n",
    "    \"2000\": [9853972, 3655437, 2466338, 2473990],\n",
    "    \"2010-2015 증가율\": [0.0283, 0.0163, 0.0982, 0.0141]\n",
    "}\n",
    "# columns = [\"지역\", \"2015\", \"2010\", \"2005\", \"2000\", \"2010-2015 증가율\"]\n",
    "index = [\"서울\", \"부산\", \"인천\", \"대구\"]\n",
    "df = pd.DataFrame(data, index=index, columns=columns)\n",
    "df\n",
    "# columns를지워도 컬럼이 들어갈 수 있따.. 위에처럼 입력\n",
    "#공통 인덱스를 가지는 열 시리즈(column series)를 딕셔너리로 묶어놓은 것"
   ]
  },
  {
   "cell_type": "code",
   "execution_count": 55,
   "metadata": {},
   "outputs": [
    {
     "output_type": "execute_result",
     "data": {
      "text/plain": [
       "array([['수도권', 9904312, 9631482, 9762546, 9853972, 0.0283],\n",
       "       ['경상권', 3448737, 3393191, 3512547, 3655437, 0.0163],\n",
       "       ['수도권', 2890451, 2632035, 2417680, 2466338, 0.0982],\n",
       "       ['경상권', 2466052, 2431774, 2456016, 2473990, 0.0141]], dtype=object)"
      ]
     },
     "metadata": {},
     "execution_count": 55
    }
   ],
   "source": [
    "#시리즈와 마찬가지로 벨류스써보자\n",
    "df.values  # 인덱스를 제외한 데이터만 꺼내올 수 있다.\n",
    "#문자열, 정수, 실수"
   ]
  },
  {
   "cell_type": "code",
   "execution_count": 56,
   "metadata": {},
   "outputs": [
    {
     "output_type": "execute_result",
     "data": {
      "text/plain": [
       "Index(['지역', '2015', '2010', '2005', '2000', '2010-2015 증가율'], dtype='object')"
      ]
     },
     "metadata": {},
     "execution_count": 56
    }
   ],
   "source": [
    "df.columns"
   ]
  },
  {
   "cell_type": "code",
   "execution_count": 57,
   "metadata": {},
   "outputs": [
    {
     "output_type": "execute_result",
     "data": {
      "text/plain": [
       "Index(['서울', '부산', '인천', '대구'], dtype='object')"
      ]
     },
     "metadata": {},
     "execution_count": 57
    }
   ],
   "source": [
    "df.index"
   ]
  },
  {
   "cell_type": "code",
   "execution_count": 58,
   "metadata": {},
   "outputs": [
    {
     "output_type": "execute_result",
     "data": {
      "text/plain": [
       "특성   지역     2015     2010     2005     2000  2010-2015 증가율\n",
       "도시                                                        \n",
       "서울  수도권  9904312  9631482  9762546  9853972         0.0283\n",
       "부산  경상권  3448737  3393191  3512547  3655437         0.0163\n",
       "인천  수도권  2890451  2632035  2417680  2466338         0.0982\n",
       "대구  경상권  2466052  2431774  2456016  2473990         0.0141"
      ],
      "text/html": "<div>\n<style scoped>\n    .dataframe tbody tr th:only-of-type {\n        vertical-align: middle;\n    }\n\n    .dataframe tbody tr th {\n        vertical-align: top;\n    }\n\n    .dataframe thead th {\n        text-align: right;\n    }\n</style>\n<table border=\"1\" class=\"dataframe\">\n  <thead>\n    <tr style=\"text-align: right;\">\n      <th>특성</th>\n      <th>지역</th>\n      <th>2015</th>\n      <th>2010</th>\n      <th>2005</th>\n      <th>2000</th>\n      <th>2010-2015 증가율</th>\n    </tr>\n    <tr>\n      <th>도시</th>\n      <th></th>\n      <th></th>\n      <th></th>\n      <th></th>\n      <th></th>\n      <th></th>\n    </tr>\n  </thead>\n  <tbody>\n    <tr>\n      <th>서울</th>\n      <td>수도권</td>\n      <td>9904312</td>\n      <td>9631482</td>\n      <td>9762546</td>\n      <td>9853972</td>\n      <td>0.0283</td>\n    </tr>\n    <tr>\n      <th>부산</th>\n      <td>경상권</td>\n      <td>3448737</td>\n      <td>3393191</td>\n      <td>3512547</td>\n      <td>3655437</td>\n      <td>0.0163</td>\n    </tr>\n    <tr>\n      <th>인천</th>\n      <td>수도권</td>\n      <td>2890451</td>\n      <td>2632035</td>\n      <td>2417680</td>\n      <td>2466338</td>\n      <td>0.0982</td>\n    </tr>\n    <tr>\n      <th>대구</th>\n      <td>경상권</td>\n      <td>2466052</td>\n      <td>2431774</td>\n      <td>2456016</td>\n      <td>2473990</td>\n      <td>0.0141</td>\n    </tr>\n  </tbody>\n</table>\n</div>"
     },
     "metadata": {},
     "execution_count": 58
    }
   ],
   "source": [
    "#인덱스의 이름, 컬럼스의 이름을 정해줄 수 있다.\n",
    "df.index.name = \"도시\"\n",
    "df.columns.name = \"특성\"\n",
    "df"
   ]
  },
  {
   "cell_type": "code",
   "execution_count": 69,
   "metadata": {},
   "outputs": [
    {
     "output_type": "execute_result",
     "data": {
      "text/plain": [
       "     지역     2020     2015     2010     2005     2000  2010-2015 증가율\n",
       "서울  수도권  9999999  9904312  9631482  9762546  9853972         0.0283\n",
       "부산  경상권  3555555  3448737  3393191  3512547  3655437         0.0163\n",
       "인천  수도권  2999999  2890451  2632035  2417680  2466338         0.0982\n",
       "대구  경상권  2555555  2466052  2431774  2456016  2473990         0.0141\n",
       "청주  충청권  2555555  2466052  2466052  2466052  2466052         0.0982"
      ],
      "text/html": "<div>\n<style scoped>\n    .dataframe tbody tr th:only-of-type {\n        vertical-align: middle;\n    }\n\n    .dataframe tbody tr th {\n        vertical-align: top;\n    }\n\n    .dataframe thead th {\n        text-align: right;\n    }\n</style>\n<table border=\"1\" class=\"dataframe\">\n  <thead>\n    <tr style=\"text-align: right;\">\n      <th></th>\n      <th>지역</th>\n      <th>2020</th>\n      <th>2015</th>\n      <th>2010</th>\n      <th>2005</th>\n      <th>2000</th>\n      <th>2010-2015 증가율</th>\n    </tr>\n  </thead>\n  <tbody>\n    <tr>\n      <th>서울</th>\n      <td>수도권</td>\n      <td>9999999</td>\n      <td>9904312</td>\n      <td>9631482</td>\n      <td>9762546</td>\n      <td>9853972</td>\n      <td>0.0283</td>\n    </tr>\n    <tr>\n      <th>부산</th>\n      <td>경상권</td>\n      <td>3555555</td>\n      <td>3448737</td>\n      <td>3393191</td>\n      <td>3512547</td>\n      <td>3655437</td>\n      <td>0.0163</td>\n    </tr>\n    <tr>\n      <th>인천</th>\n      <td>수도권</td>\n      <td>2999999</td>\n      <td>2890451</td>\n      <td>2632035</td>\n      <td>2417680</td>\n      <td>2466338</td>\n      <td>0.0982</td>\n    </tr>\n    <tr>\n      <th>대구</th>\n      <td>경상권</td>\n      <td>2555555</td>\n      <td>2466052</td>\n      <td>2431774</td>\n      <td>2456016</td>\n      <td>2473990</td>\n      <td>0.0141</td>\n    </tr>\n    <tr>\n      <th>청주</th>\n      <td>충청권</td>\n      <td>2555555</td>\n      <td>2466052</td>\n      <td>2466052</td>\n      <td>2466052</td>\n      <td>2466052</td>\n      <td>0.0982</td>\n    </tr>\n  </tbody>\n</table>\n</div>"
     },
     "metadata": {},
     "execution_count": 69
    }
   ],
   "source": [
    "# 연습문제 4.1.2\n",
    "data = {\n",
    "    \"지역\": [\"수도권\",\"경상권\",\"수도권\",\"경상권\", \"충청권\"],\n",
    "    \"2020\": [9999999, 3555555, 2999999, 2555555, 2555555],\n",
    "    \"2015\": [9904312, 3448737, 2890451, 2466052, 2466052],\n",
    "    \"2010\": [9631482, 3393191, 2632035, 2431774, 2466052],\n",
    "    \"2005\": [9762546, 3512547, 2417680, 2456016, 2466052],\n",
    "    \"2000\": [9853972, 3655437, 2466338, 2473990, 2466052],\n",
    "    \"2010-2015 증가율\": [0.0283, 0.0163, 0.0982, 0.0141, 0.0982]\n",
    "}\n",
    "columns = [\"지역\", \"2020\", \"2015\", \"2010\", \"2005\", \"2000\", \"2010-2015 증가율\"]\n",
    "index = [\"서울\", \"부산\", \"인천\", \"대구\", \"청주\"]\n",
    "aa = pd.DataFrame(data,index=index, columns=columns)\n",
    "aa"
   ]
  },
  {
   "cell_type": "code",
   "execution_count": 70,
   "metadata": {},
   "outputs": [
    {
     "output_type": "execute_result",
     "data": {
      "text/plain": [
       "특성   지역     2020     2015     2010     2005     2000  2010-2015 증가율\n",
       "도시                                                                 \n",
       "서울  수도권  9999999  9904312  9631482  9762546  9853972         0.0283\n",
       "부산  경상권  3555555  3448737  3393191  3512547  3655437         0.0163\n",
       "인천  수도권  2999999  2890451  2632035  2417680  2466338         0.0982\n",
       "대구  경상권  2555555  2466052  2431774  2456016  2473990         0.0141\n",
       "청주  충청권  2555555  2466052  2466052  2466052  2466052         0.0982"
      ],
      "text/html": "<div>\n<style scoped>\n    .dataframe tbody tr th:only-of-type {\n        vertical-align: middle;\n    }\n\n    .dataframe tbody tr th {\n        vertical-align: top;\n    }\n\n    .dataframe thead th {\n        text-align: right;\n    }\n</style>\n<table border=\"1\" class=\"dataframe\">\n  <thead>\n    <tr style=\"text-align: right;\">\n      <th>특성</th>\n      <th>지역</th>\n      <th>2020</th>\n      <th>2015</th>\n      <th>2010</th>\n      <th>2005</th>\n      <th>2000</th>\n      <th>2010-2015 증가율</th>\n    </tr>\n    <tr>\n      <th>도시</th>\n      <th></th>\n      <th></th>\n      <th></th>\n      <th></th>\n      <th></th>\n      <th></th>\n      <th></th>\n    </tr>\n  </thead>\n  <tbody>\n    <tr>\n      <th>서울</th>\n      <td>수도권</td>\n      <td>9999999</td>\n      <td>9904312</td>\n      <td>9631482</td>\n      <td>9762546</td>\n      <td>9853972</td>\n      <td>0.0283</td>\n    </tr>\n    <tr>\n      <th>부산</th>\n      <td>경상권</td>\n      <td>3555555</td>\n      <td>3448737</td>\n      <td>3393191</td>\n      <td>3512547</td>\n      <td>3655437</td>\n      <td>0.0163</td>\n    </tr>\n    <tr>\n      <th>인천</th>\n      <td>수도권</td>\n      <td>2999999</td>\n      <td>2890451</td>\n      <td>2632035</td>\n      <td>2417680</td>\n      <td>2466338</td>\n      <td>0.0982</td>\n    </tr>\n    <tr>\n      <th>대구</th>\n      <td>경상권</td>\n      <td>2555555</td>\n      <td>2466052</td>\n      <td>2431774</td>\n      <td>2456016</td>\n      <td>2473990</td>\n      <td>0.0141</td>\n    </tr>\n    <tr>\n      <th>청주</th>\n      <td>충청권</td>\n      <td>2555555</td>\n      <td>2466052</td>\n      <td>2466052</td>\n      <td>2466052</td>\n      <td>2466052</td>\n      <td>0.0982</td>\n    </tr>\n  </tbody>\n</table>\n</div>"
     },
     "metadata": {},
     "execution_count": 70
    }
   ],
   "source": [
    "aa.index.name = \"도시\"\n",
    "aa.columns.name = \"특성\"\n",
    "aa"
   ]
  },
  {
   "cell_type": "code",
   "execution_count": 71,
   "metadata": {},
   "outputs": [
    {
     "output_type": "execute_result",
     "data": {
      "text/plain": [
       "                    서울       부산       인천       대구\n",
       "지역                 수도권      경상권      수도권      경상권\n",
       "2015           9904312  3448737  2890451  2466052\n",
       "2010           9631482  3393191  2632035  2431774\n",
       "2005           9762546  3512547  2417680  2456016\n",
       "2000           9853972  3655437  2466338  2473990\n",
       "2010-2015 증가율   0.0283   0.0163   0.0982   0.0141"
      ],
      "text/html": "<div>\n<style scoped>\n    .dataframe tbody tr th:only-of-type {\n        vertical-align: middle;\n    }\n\n    .dataframe tbody tr th {\n        vertical-align: top;\n    }\n\n    .dataframe thead th {\n        text-align: right;\n    }\n</style>\n<table border=\"1\" class=\"dataframe\">\n  <thead>\n    <tr style=\"text-align: right;\">\n      <th></th>\n      <th>서울</th>\n      <th>부산</th>\n      <th>인천</th>\n      <th>대구</th>\n    </tr>\n  </thead>\n  <tbody>\n    <tr>\n      <th>지역</th>\n      <td>수도권</td>\n      <td>경상권</td>\n      <td>수도권</td>\n      <td>경상권</td>\n    </tr>\n    <tr>\n      <th>2015</th>\n      <td>9904312</td>\n      <td>3448737</td>\n      <td>2890451</td>\n      <td>2466052</td>\n    </tr>\n    <tr>\n      <th>2010</th>\n      <td>9631482</td>\n      <td>3393191</td>\n      <td>2632035</td>\n      <td>2431774</td>\n    </tr>\n    <tr>\n      <th>2005</th>\n      <td>9762546</td>\n      <td>3512547</td>\n      <td>2417680</td>\n      <td>2456016</td>\n    </tr>\n    <tr>\n      <th>2000</th>\n      <td>9853972</td>\n      <td>3655437</td>\n      <td>2466338</td>\n      <td>2473990</td>\n    </tr>\n    <tr>\n      <th>2010-2015 증가율</th>\n      <td>0.0283</td>\n      <td>0.0163</td>\n      <td>0.0982</td>\n      <td>0.0141</td>\n    </tr>\n  </tbody>\n</table>\n</div>"
     },
     "metadata": {},
     "execution_count": 71
    }
   ],
   "source": [
    "df.T  #전치(transpose)  그냥보여만 줄 뿐.. 저장은 아니다 ~_~"
   ]
  },
  {
   "cell_type": "code",
   "execution_count": 74,
   "metadata": {},
   "outputs": [
    {
     "output_type": "execute_result",
     "data": {
      "text/plain": [
       "     지역     2015     2010     2005     2000  2010-2015 증가율\n",
       "서울  수도권  9904312  9631482  9762546  9853972           2.83\n",
       "부산  경상권  3448737  3393191  3512547  3655437           1.63\n",
       "인천  수도권  2890451  2632035  2417680  2466338           9.82\n",
       "대구  경상권  2466052  2431774  2456016  2473990           1.41"
      ],
      "text/html": "<div>\n<style scoped>\n    .dataframe tbody tr th:only-of-type {\n        vertical-align: middle;\n    }\n\n    .dataframe tbody tr th {\n        vertical-align: top;\n    }\n\n    .dataframe thead th {\n        text-align: right;\n    }\n</style>\n<table border=\"1\" class=\"dataframe\">\n  <thead>\n    <tr style=\"text-align: right;\">\n      <th></th>\n      <th>지역</th>\n      <th>2015</th>\n      <th>2010</th>\n      <th>2005</th>\n      <th>2000</th>\n      <th>2010-2015 증가율</th>\n    </tr>\n  </thead>\n  <tbody>\n    <tr>\n      <th>서울</th>\n      <td>수도권</td>\n      <td>9904312</td>\n      <td>9631482</td>\n      <td>9762546</td>\n      <td>9853972</td>\n      <td>2.83</td>\n    </tr>\n    <tr>\n      <th>부산</th>\n      <td>경상권</td>\n      <td>3448737</td>\n      <td>3393191</td>\n      <td>3512547</td>\n      <td>3655437</td>\n      <td>1.63</td>\n    </tr>\n    <tr>\n      <th>인천</th>\n      <td>수도권</td>\n      <td>2890451</td>\n      <td>2632035</td>\n      <td>2417680</td>\n      <td>2466338</td>\n      <td>9.82</td>\n    </tr>\n    <tr>\n      <th>대구</th>\n      <td>경상권</td>\n      <td>2466052</td>\n      <td>2431774</td>\n      <td>2456016</td>\n      <td>2473990</td>\n      <td>1.41</td>\n    </tr>\n  </tbody>\n</table>\n</div>"
     },
     "metadata": {},
     "execution_count": 74
    }
   ],
   "source": [
    "df"
   ]
  },
  {
   "source": [
    "## 열 데이터의 갱신, 추가, 삭제\n",
    "시리즈단위(열단위) 갱신추가삭제는 쉽다쉽다쉽다"
   ],
   "cell_type": "markdown",
   "metadata": {}
  },
  {
   "cell_type": "code",
   "execution_count": 76,
   "metadata": {},
   "outputs": [
    {
     "output_type": "execute_result",
     "data": {
      "text/plain": [
       "     지역     2015     2010     2005     2000  2010-2015 증가율\n",
       "서울  수도권  9904312  9631482  9762546  9853972          283.0\n",
       "부산  경상권  3448737  3393191  3512547  3655437          163.0\n",
       "인천  수도권  2890451  2632035  2417680  2466338          982.0\n",
       "대구  경상권  2466052  2431774  2456016  2473990          141.0"
      ],
      "text/html": "<div>\n<style scoped>\n    .dataframe tbody tr th:only-of-type {\n        vertical-align: middle;\n    }\n\n    .dataframe tbody tr th {\n        vertical-align: top;\n    }\n\n    .dataframe thead th {\n        text-align: right;\n    }\n</style>\n<table border=\"1\" class=\"dataframe\">\n  <thead>\n    <tr style=\"text-align: right;\">\n      <th></th>\n      <th>지역</th>\n      <th>2015</th>\n      <th>2010</th>\n      <th>2005</th>\n      <th>2000</th>\n      <th>2010-2015 증가율</th>\n    </tr>\n  </thead>\n  <tbody>\n    <tr>\n      <th>서울</th>\n      <td>수도권</td>\n      <td>9904312</td>\n      <td>9631482</td>\n      <td>9762546</td>\n      <td>9853972</td>\n      <td>283.0</td>\n    </tr>\n    <tr>\n      <th>부산</th>\n      <td>경상권</td>\n      <td>3448737</td>\n      <td>3393191</td>\n      <td>3512547</td>\n      <td>3655437</td>\n      <td>163.0</td>\n    </tr>\n    <tr>\n      <th>인천</th>\n      <td>수도권</td>\n      <td>2890451</td>\n      <td>2632035</td>\n      <td>2417680</td>\n      <td>2466338</td>\n      <td>982.0</td>\n    </tr>\n    <tr>\n      <th>대구</th>\n      <td>경상권</td>\n      <td>2466052</td>\n      <td>2431774</td>\n      <td>2456016</td>\n      <td>2473990</td>\n      <td>141.0</td>\n    </tr>\n  </tbody>\n</table>\n</div>"
     },
     "metadata": {},
     "execution_count": 76
    }
   ],
   "source": [
    "# \"2010-2015 증가율\"이라는 이름의 열 갱신\n",
    "df[\"2010-2015 증가율\"] = df[\"2010-2015 증가율\"] * 100 #100을 곱해서 퍼센트가 나오니까\n",
    "df"
   ]
  },
  {
   "cell_type": "code",
   "execution_count": 78,
   "metadata": {},
   "outputs": [
    {
     "output_type": "execute_result",
     "data": {
      "text/plain": [
       "     지역     2015     2010     2005     2000  2010-2015 증가율  2005-2010 증가율\n",
       "서울  수도권  9904312  9631482  9762546  9853972        28300.0          -1.34\n",
       "부산  경상권  3448737  3393191  3512547  3655437        16300.0          -3.40\n",
       "인천  수도권  2890451  2632035  2417680  2466338        98200.0           8.87\n",
       "대구  경상권  2466052  2431774  2456016  2473990        14100.0          -0.99"
      ],
      "text/html": "<div>\n<style scoped>\n    .dataframe tbody tr th:only-of-type {\n        vertical-align: middle;\n    }\n\n    .dataframe tbody tr th {\n        vertical-align: top;\n    }\n\n    .dataframe thead th {\n        text-align: right;\n    }\n</style>\n<table border=\"1\" class=\"dataframe\">\n  <thead>\n    <tr style=\"text-align: right;\">\n      <th></th>\n      <th>지역</th>\n      <th>2015</th>\n      <th>2010</th>\n      <th>2005</th>\n      <th>2000</th>\n      <th>2010-2015 증가율</th>\n      <th>2005-2010 증가율</th>\n    </tr>\n  </thead>\n  <tbody>\n    <tr>\n      <th>서울</th>\n      <td>수도권</td>\n      <td>9904312</td>\n      <td>9631482</td>\n      <td>9762546</td>\n      <td>9853972</td>\n      <td>28300.0</td>\n      <td>-1.34</td>\n    </tr>\n    <tr>\n      <th>부산</th>\n      <td>경상권</td>\n      <td>3448737</td>\n      <td>3393191</td>\n      <td>3512547</td>\n      <td>3655437</td>\n      <td>16300.0</td>\n      <td>-3.40</td>\n    </tr>\n    <tr>\n      <th>인천</th>\n      <td>수도권</td>\n      <td>2890451</td>\n      <td>2632035</td>\n      <td>2417680</td>\n      <td>2466338</td>\n      <td>98200.0</td>\n      <td>8.87</td>\n    </tr>\n    <tr>\n      <th>대구</th>\n      <td>경상권</td>\n      <td>2466052</td>\n      <td>2431774</td>\n      <td>2456016</td>\n      <td>2473990</td>\n      <td>14100.0</td>\n      <td>-0.99</td>\n    </tr>\n  </tbody>\n</table>\n</div>"
     },
     "metadata": {},
     "execution_count": 78
    }
   ],
   "source": [
    "# \"2005-2010 증가율\"이라는 이름의 열 추가\n",
    "# 컬럼명입력 = 계산식 \n",
    "df[\"2005-2010 증가율\"] = ((df[\"2010\"] - df[\"2005\"]) / df[\"2005\"] * 100).round(2)\n",
    "df"
   ]
  },
  {
   "cell_type": "code",
   "execution_count": 79,
   "metadata": {},
   "outputs": [
    {
     "output_type": "execute_result",
     "data": {
      "text/plain": [
       "     지역     2015     2010     2005     2000  2005-2010 증가율\n",
       "서울  수도권  9904312  9631482  9762546  9853972          -1.34\n",
       "부산  경상권  3448737  3393191  3512547  3655437          -3.40\n",
       "인천  수도권  2890451  2632035  2417680  2466338           8.87\n",
       "대구  경상권  2466052  2431774  2456016  2473990          -0.99"
      ],
      "text/html": "<div>\n<style scoped>\n    .dataframe tbody tr th:only-of-type {\n        vertical-align: middle;\n    }\n\n    .dataframe tbody tr th {\n        vertical-align: top;\n    }\n\n    .dataframe thead th {\n        text-align: right;\n    }\n</style>\n<table border=\"1\" class=\"dataframe\">\n  <thead>\n    <tr style=\"text-align: right;\">\n      <th></th>\n      <th>지역</th>\n      <th>2015</th>\n      <th>2010</th>\n      <th>2005</th>\n      <th>2000</th>\n      <th>2005-2010 증가율</th>\n    </tr>\n  </thead>\n  <tbody>\n    <tr>\n      <th>서울</th>\n      <td>수도권</td>\n      <td>9904312</td>\n      <td>9631482</td>\n      <td>9762546</td>\n      <td>9853972</td>\n      <td>-1.34</td>\n    </tr>\n    <tr>\n      <th>부산</th>\n      <td>경상권</td>\n      <td>3448737</td>\n      <td>3393191</td>\n      <td>3512547</td>\n      <td>3655437</td>\n      <td>-3.40</td>\n    </tr>\n    <tr>\n      <th>인천</th>\n      <td>수도권</td>\n      <td>2890451</td>\n      <td>2632035</td>\n      <td>2417680</td>\n      <td>2466338</td>\n      <td>8.87</td>\n    </tr>\n    <tr>\n      <th>대구</th>\n      <td>경상권</td>\n      <td>2466052</td>\n      <td>2431774</td>\n      <td>2456016</td>\n      <td>2473990</td>\n      <td>-0.99</td>\n    </tr>\n  </tbody>\n</table>\n</div>"
     },
     "metadata": {},
     "execution_count": 79
    }
   ],
   "source": [
    "# \"2010-2015 증가율\"이라는 이름의 열 삭제 del\n",
    "del df[\"2010-2015 증가율\"]\n",
    "df"
   ]
  },
  {
   "source": [
    "## 열 인덱싱"
   ],
   "cell_type": "markdown",
   "metadata": {}
  },
  {
   "cell_type": "code",
   "execution_count": 80,
   "metadata": {},
   "outputs": [
    {
     "output_type": "execute_result",
     "data": {
      "text/plain": [
       "서울    수도권\n",
       "부산    경상권\n",
       "인천    수도권\n",
       "대구    경상권\n",
       "Name: 지역, dtype: object"
      ]
     },
     "metadata": {},
     "execution_count": 80
    }
   ],
   "source": [
    "# 하나의 열[]만 인덱싱하면 \"시리즈\"가 반환된다.\n",
    "# 하나만 주면 시리즈가 나온다..\n",
    "df[\"지역\"]"
   ]
  },
  {
   "cell_type": "code",
   "execution_count": 83,
   "metadata": {},
   "outputs": [
    {
     "output_type": "execute_result",
     "data": {
      "text/plain": [
       "pandas.core.series.Series"
      ]
     },
     "metadata": {},
     "execution_count": 83
    }
   ],
   "source": [
    "type(df[\"지역\"])"
   ]
  },
  {
   "cell_type": "code",
   "execution_count": 81,
   "metadata": {},
   "outputs": [
    {
     "output_type": "execute_result",
     "data": {
      "text/plain": [
       "       2010     2015\n",
       "서울  9631482  9904312\n",
       "부산  3393191  3448737\n",
       "인천  2632035  2890451\n",
       "대구  2431774  2466052"
      ],
      "text/html": "<div>\n<style scoped>\n    .dataframe tbody tr th:only-of-type {\n        vertical-align: middle;\n    }\n\n    .dataframe tbody tr th {\n        vertical-align: top;\n    }\n\n    .dataframe thead th {\n        text-align: right;\n    }\n</style>\n<table border=\"1\" class=\"dataframe\">\n  <thead>\n    <tr style=\"text-align: right;\">\n      <th></th>\n      <th>2010</th>\n      <th>2015</th>\n    </tr>\n  </thead>\n  <tbody>\n    <tr>\n      <th>서울</th>\n      <td>9631482</td>\n      <td>9904312</td>\n    </tr>\n    <tr>\n      <th>부산</th>\n      <td>3393191</td>\n      <td>3448737</td>\n    </tr>\n    <tr>\n      <th>인천</th>\n      <td>2632035</td>\n      <td>2890451</td>\n    </tr>\n    <tr>\n      <th>대구</th>\n      <td>2431774</td>\n      <td>2466052</td>\n    </tr>\n  </tbody>\n</table>\n</div>"
     },
     "metadata": {},
     "execution_count": 81
    }
   ],
   "source": [
    "# 여러개의 열[[]]을 인덱싱하면 부분적인 \"데이터프레임\"이 반환된다.\n",
    "# [[]] 꺽쇠가 두개여야 해요!!!!!!!!!!!주의주의\n",
    "# 밖은 컬럼인덱싱[]  안은 리스트기호[]\n",
    "df[[\"2010\", \"2015\"]]"
   ]
  },
  {
   "cell_type": "code",
   "execution_count": 82,
   "metadata": {},
   "outputs": [
    {
     "output_type": "execute_result",
     "data": {
      "text/plain": [
       "       2010\n",
       "서울  9631482\n",
       "부산  3393191\n",
       "인천  2632035\n",
       "대구  2431774"
      ],
      "text/html": "<div>\n<style scoped>\n    .dataframe tbody tr th:only-of-type {\n        vertical-align: middle;\n    }\n\n    .dataframe tbody tr th {\n        vertical-align: top;\n    }\n\n    .dataframe thead th {\n        text-align: right;\n    }\n</style>\n<table border=\"1\" class=\"dataframe\">\n  <thead>\n    <tr style=\"text-align: right;\">\n      <th></th>\n      <th>2010</th>\n    </tr>\n  </thead>\n  <tbody>\n    <tr>\n      <th>서울</th>\n      <td>9631482</td>\n    </tr>\n    <tr>\n      <th>부산</th>\n      <td>3393191</td>\n    </tr>\n    <tr>\n      <th>인천</th>\n      <td>2632035</td>\n    </tr>\n    <tr>\n      <th>대구</th>\n      <td>2431774</td>\n    </tr>\n  </tbody>\n</table>\n</div>"
     },
     "metadata": {},
     "execution_count": 82
    }
   ],
   "source": [
    "# 2010이라는 열을 반환하면서 데이터프레임 자료형을 유지\n",
    "# 열 하나만 갖는 데이터프레임 유지\n",
    "df[[\"2010\"]]   #숫자인덱싱넣으면 에러남/ 열인덱싱은 열이름을 써줄것"
   ]
  },
  {
   "cell_type": "code",
   "execution_count": 84,
   "metadata": {},
   "outputs": [
    {
     "output_type": "execute_result",
     "data": {
      "text/plain": [
       "pandas.core.frame.DataFrame"
      ]
     },
     "metadata": {},
     "execution_count": 84
    }
   ],
   "source": [
    "type(df[[\"2010\"]])   \n",
    "#위에위에 타입은 pandas.core.series.Series시리즈인데 , 여기는 데이터프레임이다"
   ]
  },
  {
   "cell_type": "code",
   "execution_count": 85,
   "metadata": {},
   "outputs": [
    {
     "output_type": "error",
     "ename": "KeyError",
     "evalue": "0",
     "traceback": [
      "\u001b[1;31m---------------------------------------------------------------------------\u001b[0m",
      "\u001b[1;31mKeyError\u001b[0m                                  Traceback (most recent call last)",
      "\u001b[1;32mC:\\ProgramData\\Anaconda3\\lib\\site-packages\\pandas\\core\\indexes\\base.py\u001b[0m in \u001b[0;36mget_loc\u001b[1;34m(self, key, method, tolerance)\u001b[0m\n\u001b[0;32m   2645\u001b[0m             \u001b[1;32mtry\u001b[0m\u001b[1;33m:\u001b[0m\u001b[1;33m\u001b[0m\u001b[1;33m\u001b[0m\u001b[0m\n\u001b[1;32m-> 2646\u001b[1;33m                 \u001b[1;32mreturn\u001b[0m \u001b[0mself\u001b[0m\u001b[1;33m.\u001b[0m\u001b[0m_engine\u001b[0m\u001b[1;33m.\u001b[0m\u001b[0mget_loc\u001b[0m\u001b[1;33m(\u001b[0m\u001b[0mkey\u001b[0m\u001b[1;33m)\u001b[0m\u001b[1;33m\u001b[0m\u001b[1;33m\u001b[0m\u001b[0m\n\u001b[0m\u001b[0;32m   2647\u001b[0m             \u001b[1;32mexcept\u001b[0m \u001b[0mKeyError\u001b[0m\u001b[1;33m:\u001b[0m\u001b[1;33m\u001b[0m\u001b[1;33m\u001b[0m\u001b[0m\n",
      "\u001b[1;32mpandas\\_libs\\index.pyx\u001b[0m in \u001b[0;36mpandas._libs.index.IndexEngine.get_loc\u001b[1;34m()\u001b[0m\n",
      "\u001b[1;32mpandas\\_libs\\index.pyx\u001b[0m in \u001b[0;36mpandas._libs.index.IndexEngine.get_loc\u001b[1;34m()\u001b[0m\n",
      "\u001b[1;32mpandas\\_libs\\hashtable_class_helper.pxi\u001b[0m in \u001b[0;36mpandas._libs.hashtable.PyObjectHashTable.get_item\u001b[1;34m()\u001b[0m\n",
      "\u001b[1;32mpandas\\_libs\\hashtable_class_helper.pxi\u001b[0m in \u001b[0;36mpandas._libs.hashtable.PyObjectHashTable.get_item\u001b[1;34m()\u001b[0m\n",
      "\u001b[1;31mKeyError\u001b[0m: 0",
      "\nDuring handling of the above exception, another exception occurred:\n",
      "\u001b[1;31mKeyError\u001b[0m                                  Traceback (most recent call last)",
      "\u001b[1;32m<ipython-input-85-0996cd52a57f>\u001b[0m in \u001b[0;36m<module>\u001b[1;34m\u001b[0m\n\u001b[0;32m      1\u001b[0m \u001b[1;31m#숫자인덱싱넣으면 에러남/ 열인덱싱은 열이름을 써줄것\u001b[0m\u001b[1;33m\u001b[0m\u001b[1;33m\u001b[0m\u001b[1;33m\u001b[0m\u001b[0m\n\u001b[1;32m----> 2\u001b[1;33m \u001b[0mdf\u001b[0m\u001b[1;33m[\u001b[0m\u001b[1;36m0\u001b[0m\u001b[1;33m]\u001b[0m\u001b[1;33m\u001b[0m\u001b[1;33m\u001b[0m\u001b[0m\n\u001b[0m",
      "\u001b[1;32mC:\\ProgramData\\Anaconda3\\lib\\site-packages\\pandas\\core\\frame.py\u001b[0m in \u001b[0;36m__getitem__\u001b[1;34m(self, key)\u001b[0m\n\u001b[0;32m   2798\u001b[0m             \u001b[1;32mif\u001b[0m \u001b[0mself\u001b[0m\u001b[1;33m.\u001b[0m\u001b[0mcolumns\u001b[0m\u001b[1;33m.\u001b[0m\u001b[0mnlevels\u001b[0m \u001b[1;33m>\u001b[0m \u001b[1;36m1\u001b[0m\u001b[1;33m:\u001b[0m\u001b[1;33m\u001b[0m\u001b[1;33m\u001b[0m\u001b[0m\n\u001b[0;32m   2799\u001b[0m                 \u001b[1;32mreturn\u001b[0m \u001b[0mself\u001b[0m\u001b[1;33m.\u001b[0m\u001b[0m_getitem_multilevel\u001b[0m\u001b[1;33m(\u001b[0m\u001b[0mkey\u001b[0m\u001b[1;33m)\u001b[0m\u001b[1;33m\u001b[0m\u001b[1;33m\u001b[0m\u001b[0m\n\u001b[1;32m-> 2800\u001b[1;33m             \u001b[0mindexer\u001b[0m \u001b[1;33m=\u001b[0m \u001b[0mself\u001b[0m\u001b[1;33m.\u001b[0m\u001b[0mcolumns\u001b[0m\u001b[1;33m.\u001b[0m\u001b[0mget_loc\u001b[0m\u001b[1;33m(\u001b[0m\u001b[0mkey\u001b[0m\u001b[1;33m)\u001b[0m\u001b[1;33m\u001b[0m\u001b[1;33m\u001b[0m\u001b[0m\n\u001b[0m\u001b[0;32m   2801\u001b[0m             \u001b[1;32mif\u001b[0m \u001b[0mis_integer\u001b[0m\u001b[1;33m(\u001b[0m\u001b[0mindexer\u001b[0m\u001b[1;33m)\u001b[0m\u001b[1;33m:\u001b[0m\u001b[1;33m\u001b[0m\u001b[1;33m\u001b[0m\u001b[0m\n\u001b[0;32m   2802\u001b[0m                 \u001b[0mindexer\u001b[0m \u001b[1;33m=\u001b[0m \u001b[1;33m[\u001b[0m\u001b[0mindexer\u001b[0m\u001b[1;33m]\u001b[0m\u001b[1;33m\u001b[0m\u001b[1;33m\u001b[0m\u001b[0m\n",
      "\u001b[1;32mC:\\ProgramData\\Anaconda3\\lib\\site-packages\\pandas\\core\\indexes\\base.py\u001b[0m in \u001b[0;36mget_loc\u001b[1;34m(self, key, method, tolerance)\u001b[0m\n\u001b[0;32m   2646\u001b[0m                 \u001b[1;32mreturn\u001b[0m \u001b[0mself\u001b[0m\u001b[1;33m.\u001b[0m\u001b[0m_engine\u001b[0m\u001b[1;33m.\u001b[0m\u001b[0mget_loc\u001b[0m\u001b[1;33m(\u001b[0m\u001b[0mkey\u001b[0m\u001b[1;33m)\u001b[0m\u001b[1;33m\u001b[0m\u001b[1;33m\u001b[0m\u001b[0m\n\u001b[0;32m   2647\u001b[0m             \u001b[1;32mexcept\u001b[0m \u001b[0mKeyError\u001b[0m\u001b[1;33m:\u001b[0m\u001b[1;33m\u001b[0m\u001b[1;33m\u001b[0m\u001b[0m\n\u001b[1;32m-> 2648\u001b[1;33m                 \u001b[1;32mreturn\u001b[0m \u001b[0mself\u001b[0m\u001b[1;33m.\u001b[0m\u001b[0m_engine\u001b[0m\u001b[1;33m.\u001b[0m\u001b[0mget_loc\u001b[0m\u001b[1;33m(\u001b[0m\u001b[0mself\u001b[0m\u001b[1;33m.\u001b[0m\u001b[0m_maybe_cast_indexer\u001b[0m\u001b[1;33m(\u001b[0m\u001b[0mkey\u001b[0m\u001b[1;33m)\u001b[0m\u001b[1;33m)\u001b[0m\u001b[1;33m\u001b[0m\u001b[1;33m\u001b[0m\u001b[0m\n\u001b[0m\u001b[0;32m   2649\u001b[0m         \u001b[0mindexer\u001b[0m \u001b[1;33m=\u001b[0m \u001b[0mself\u001b[0m\u001b[1;33m.\u001b[0m\u001b[0mget_indexer\u001b[0m\u001b[1;33m(\u001b[0m\u001b[1;33m[\u001b[0m\u001b[0mkey\u001b[0m\u001b[1;33m]\u001b[0m\u001b[1;33m,\u001b[0m \u001b[0mmethod\u001b[0m\u001b[1;33m=\u001b[0m\u001b[0mmethod\u001b[0m\u001b[1;33m,\u001b[0m \u001b[0mtolerance\u001b[0m\u001b[1;33m=\u001b[0m\u001b[0mtolerance\u001b[0m\u001b[1;33m)\u001b[0m\u001b[1;33m\u001b[0m\u001b[1;33m\u001b[0m\u001b[0m\n\u001b[0;32m   2650\u001b[0m         \u001b[1;32mif\u001b[0m \u001b[0mindexer\u001b[0m\u001b[1;33m.\u001b[0m\u001b[0mndim\u001b[0m \u001b[1;33m>\u001b[0m \u001b[1;36m1\u001b[0m \u001b[1;32mor\u001b[0m \u001b[0mindexer\u001b[0m\u001b[1;33m.\u001b[0m\u001b[0msize\u001b[0m \u001b[1;33m>\u001b[0m \u001b[1;36m1\u001b[0m\u001b[1;33m:\u001b[0m\u001b[1;33m\u001b[0m\u001b[1;33m\u001b[0m\u001b[0m\n",
      "\u001b[1;32mpandas\\_libs\\index.pyx\u001b[0m in \u001b[0;36mpandas._libs.index.IndexEngine.get_loc\u001b[1;34m()\u001b[0m\n",
      "\u001b[1;32mpandas\\_libs\\index.pyx\u001b[0m in \u001b[0;36mpandas._libs.index.IndexEngine.get_loc\u001b[1;34m()\u001b[0m\n",
      "\u001b[1;32mpandas\\_libs\\hashtable_class_helper.pxi\u001b[0m in \u001b[0;36mpandas._libs.hashtable.PyObjectHashTable.get_item\u001b[1;34m()\u001b[0m\n",
      "\u001b[1;32mpandas\\_libs\\hashtable_class_helper.pxi\u001b[0m in \u001b[0;36mpandas._libs.hashtable.PyObjectHashTable.get_item\u001b[1;34m()\u001b[0m\n",
      "\u001b[1;31mKeyError\u001b[0m: 0"
     ]
    }
   ],
   "source": [
    "#숫자인덱싱넣으면 에러남/ 열인덱싱은 열이름을 써줄것\n",
    "df[0]"
   ]
  },
  {
   "cell_type": "code",
   "execution_count": 90,
   "metadata": {},
   "outputs": [
    {
     "output_type": "execute_result",
     "data": {
      "text/plain": [
       "서울    수도권\n",
       "부산    경상권\n",
       "인천    수도권\n",
       "대구    경상권\n",
       "Name: 지역, dtype: object"
      ]
     },
     "metadata": {},
     "execution_count": 90
    }
   ],
   "source": [
    "#숫자인덱싱넣으면 에러남/ 열인덱싱은 열이름을 써줄것 '' \"\" 다 가능\n",
    "df['지역']"
   ]
  },
  {
   "cell_type": "code",
   "execution_count": 91,
   "metadata": {},
   "outputs": [
    {
     "output_type": "execute_result",
     "data": {
      "text/plain": [
       "   0  1   2   3\n",
       "0  0  1   2   3\n",
       "1  4  5   6   7\n",
       "2  8  9  10  11"
      ],
      "text/html": "<div>\n<style scoped>\n    .dataframe tbody tr th:only-of-type {\n        vertical-align: middle;\n    }\n\n    .dataframe tbody tr th {\n        vertical-align: top;\n    }\n\n    .dataframe thead th {\n        text-align: right;\n    }\n</style>\n<table border=\"1\" class=\"dataframe\">\n  <thead>\n    <tr style=\"text-align: right;\">\n      <th></th>\n      <th>0</th>\n      <th>1</th>\n      <th>2</th>\n      <th>3</th>\n    </tr>\n  </thead>\n  <tbody>\n    <tr>\n      <th>0</th>\n      <td>0</td>\n      <td>1</td>\n      <td>2</td>\n      <td>3</td>\n    </tr>\n    <tr>\n      <th>1</th>\n      <td>4</td>\n      <td>5</td>\n      <td>6</td>\n      <td>7</td>\n    </tr>\n    <tr>\n      <th>2</th>\n      <td>8</td>\n      <td>9</td>\n      <td>10</td>\n      <td>11</td>\n    </tr>\n  </tbody>\n</table>\n</div>"
     },
     "metadata": {},
     "execution_count": 91
    }
   ],
   "source": [
    "#문자열이 아닌   \n",
    "#정수형 열 인덱스를 가지는 경우에는 인덱스 값으로 정수를 사용할 수 있다.\n",
    "df2 = pd.DataFrame(np.arange(12).reshape(3, 4))\n",
    "df2"
   ]
  },
  {
   "cell_type": "code",
   "execution_count": 92,
   "metadata": {},
   "outputs": [
    {
     "output_type": "execute_result",
     "data": {
      "text/plain": [
       "0     2\n",
       "1     6\n",
       "2    10\n",
       "Name: 2, dtype: int32"
      ]
     },
     "metadata": {},
     "execution_count": 92
    }
   ],
   "source": [
    "df2[2]"
   ]
  },
  {
   "cell_type": "code",
   "execution_count": 93,
   "metadata": {},
   "outputs": [
    {
     "output_type": "execute_result",
     "data": {
      "text/plain": [
       "   1   2\n",
       "0  1   2\n",
       "1  5   6\n",
       "2  9  10"
      ],
      "text/html": "<div>\n<style scoped>\n    .dataframe tbody tr th:only-of-type {\n        vertical-align: middle;\n    }\n\n    .dataframe tbody tr th {\n        vertical-align: top;\n    }\n\n    .dataframe thead th {\n        text-align: right;\n    }\n</style>\n<table border=\"1\" class=\"dataframe\">\n  <thead>\n    <tr style=\"text-align: right;\">\n      <th></th>\n      <th>1</th>\n      <th>2</th>\n    </tr>\n  </thead>\n  <tbody>\n    <tr>\n      <th>0</th>\n      <td>1</td>\n      <td>2</td>\n    </tr>\n    <tr>\n      <th>1</th>\n      <td>5</td>\n      <td>6</td>\n    </tr>\n    <tr>\n      <th>2</th>\n      <td>9</td>\n      <td>10</td>\n    </tr>\n  </tbody>\n</table>\n</div>"
     },
     "metadata": {},
     "execution_count": 93
    }
   ],
   "source": [
    "df2[[1, 2]]"
   ]
  },
  {
   "source": [
    "## 행 인덱싱 slicing\n",
    "문자, 정수 입력가능  \n",
    "반드시 슬라이싱을 해야한다!!!!!!!!!!!!!!!\n",
    "(슬라이싱을 안하면 열인줄 알아여....)"
   ],
   "cell_type": "markdown",
   "metadata": {}
  },
  {
   "cell_type": "code",
   "execution_count": 97,
   "metadata": {},
   "outputs": [
    {
     "output_type": "execute_result",
     "data": {
      "text/plain": [
       "     지역     2015     2010     2005     2000  2005-2010 증가율\n",
       "서울  수도권  9904312  9631482  9762546  9853972          -1.34"
      ],
      "text/html": "<div>\n<style scoped>\n    .dataframe tbody tr th:only-of-type {\n        vertical-align: middle;\n    }\n\n    .dataframe tbody tr th {\n        vertical-align: top;\n    }\n\n    .dataframe thead th {\n        text-align: right;\n    }\n</style>\n<table border=\"1\" class=\"dataframe\">\n  <thead>\n    <tr style=\"text-align: right;\">\n      <th></th>\n      <th>지역</th>\n      <th>2015</th>\n      <th>2010</th>\n      <th>2005</th>\n      <th>2000</th>\n      <th>2005-2010 증가율</th>\n    </tr>\n  </thead>\n  <tbody>\n    <tr>\n      <th>서울</th>\n      <td>수도권</td>\n      <td>9904312</td>\n      <td>9631482</td>\n      <td>9762546</td>\n      <td>9853972</td>\n      <td>-1.34</td>\n    </tr>\n  </tbody>\n</table>\n</div>"
     },
     "metadata": {},
     "execution_count": 97
    }
   ],
   "source": [
    "df[:1]  #첫번째 행 출력. (숫자는 비포함)(슬라이싱을 안하면 열인줄알고....)"
   ]
  },
  {
   "cell_type": "code",
   "execution_count": 99,
   "metadata": {},
   "outputs": [
    {
     "output_type": "execute_result",
     "data": {
      "text/plain": [
       "     지역     2015     2010     2005     2000  2005-2010 증가율\n",
       "서울  수도권  9904312  9631482  9762546  9853972          -1.34"
      ],
      "text/html": "<div>\n<style scoped>\n    .dataframe tbody tr th:only-of-type {\n        vertical-align: middle;\n    }\n\n    .dataframe tbody tr th {\n        vertical-align: top;\n    }\n\n    .dataframe thead th {\n        text-align: right;\n    }\n</style>\n<table border=\"1\" class=\"dataframe\">\n  <thead>\n    <tr style=\"text-align: right;\">\n      <th></th>\n      <th>지역</th>\n      <th>2015</th>\n      <th>2010</th>\n      <th>2005</th>\n      <th>2000</th>\n      <th>2005-2010 증가율</th>\n    </tr>\n  </thead>\n  <tbody>\n    <tr>\n      <th>서울</th>\n      <td>수도권</td>\n      <td>9904312</td>\n      <td>9631482</td>\n      <td>9762546</td>\n      <td>9853972</td>\n      <td>-1.34</td>\n    </tr>\n  </tbody>\n</table>\n</div>"
     },
     "metadata": {},
     "execution_count": 99
    }
   ],
   "source": [
    "df[:'서울']  # 문자입력도 가능(문자는 포함)"
   ]
  },
  {
   "cell_type": "code",
   "execution_count": 101,
   "metadata": {},
   "outputs": [
    {
     "output_type": "execute_result",
     "data": {
      "text/plain": [
       "     지역     2015     2010     2005     2000  2005-2010 증가율\n",
       "서울  수도권  9904312  9631482  9762546  9853972          -1.34\n",
       "부산  경상권  3448737  3393191  3512547  3655437          -3.40"
      ],
      "text/html": "<div>\n<style scoped>\n    .dataframe tbody tr th:only-of-type {\n        vertical-align: middle;\n    }\n\n    .dataframe tbody tr th {\n        vertical-align: top;\n    }\n\n    .dataframe thead th {\n        text-align: right;\n    }\n</style>\n<table border=\"1\" class=\"dataframe\">\n  <thead>\n    <tr style=\"text-align: right;\">\n      <th></th>\n      <th>지역</th>\n      <th>2015</th>\n      <th>2010</th>\n      <th>2005</th>\n      <th>2000</th>\n      <th>2005-2010 증가율</th>\n    </tr>\n  </thead>\n  <tbody>\n    <tr>\n      <th>서울</th>\n      <td>수도권</td>\n      <td>9904312</td>\n      <td>9631482</td>\n      <td>9762546</td>\n      <td>9853972</td>\n      <td>-1.34</td>\n    </tr>\n    <tr>\n      <th>부산</th>\n      <td>경상권</td>\n      <td>3448737</td>\n      <td>3393191</td>\n      <td>3512547</td>\n      <td>3655437</td>\n      <td>-3.40</td>\n    </tr>\n  </tbody>\n</table>\n</div>"
     },
     "metadata": {},
     "execution_count": 101
    }
   ],
   "source": [
    "df[:'부산']  #부산까지 포함해서  1.2줄 보고싶다."
   ]
  },
  {
   "cell_type": "code",
   "execution_count": 102,
   "metadata": {},
   "outputs": [
    {
     "output_type": "execute_result",
     "data": {
      "text/plain": [
       "     지역     2015     2010     2005     2000  2005-2010 증가율\n",
       "부산  경상권  3448737  3393191  3512547  3655437           -3.4"
      ],
      "text/html": "<div>\n<style scoped>\n    .dataframe tbody tr th:only-of-type {\n        vertical-align: middle;\n    }\n\n    .dataframe tbody tr th {\n        vertical-align: top;\n    }\n\n    .dataframe thead th {\n        text-align: right;\n    }\n</style>\n<table border=\"1\" class=\"dataframe\">\n  <thead>\n    <tr style=\"text-align: right;\">\n      <th></th>\n      <th>지역</th>\n      <th>2015</th>\n      <th>2010</th>\n      <th>2005</th>\n      <th>2000</th>\n      <th>2005-2010 증가율</th>\n    </tr>\n  </thead>\n  <tbody>\n    <tr>\n      <th>부산</th>\n      <td>경상권</td>\n      <td>3448737</td>\n      <td>3393191</td>\n      <td>3512547</td>\n      <td>3655437</td>\n      <td>-3.4</td>\n    </tr>\n  </tbody>\n</table>\n</div>"
     },
     "metadata": {},
     "execution_count": 102
    }
   ],
   "source": [
    "df[1:2]   #두번째줄 부산만 보고싶다."
   ]
  },
  {
   "source": [
    "## 개별 데이터 인덱싱  df\\[열]\\[행]***********************\n",
    "한 개 값만 가져옴\n",
    "넘파이에서는 \\[행 열] 이였는데...  \n",
    "df\\[열]\\[행]  \n",
    "df.loc\\[행,열]  "
   ],
   "cell_type": "markdown",
   "metadata": {}
  },
  {
   "cell_type": "code",
   "execution_count": 104,
   "metadata": {},
   "outputs": [
    {
     "output_type": "execute_result",
     "data": {
      "text/plain": [
       "9904312"
      ]
     },
     "metadata": {},
     "execution_count": 104
    }
   ],
   "source": [
    "df[\"2015\"][\"서울\"]"
   ]
  },
  {
   "cell_type": "code",
   "execution_count": 120,
   "metadata": {},
   "outputs": [],
   "source": [
    "# 연습문제 4.1.3\n",
    "data = {\n",
    "    \"국어\": [80, 90, 70, 30],\n",
    "    \"영어\": [90, 70, 60, 40],\n",
    "    \"수학\": [90, 60, 80, 70],\n",
    "}\n",
    "columns = [\"국어\", \"영어\", \"수학\"]\n",
    "index = [\"춘향\", \"몽룡\", \"향단\", \"방자\"]\n",
    "df = pd.DataFrame(data, index=index, columns=columns)"
   ]
  },
  {
   "cell_type": "code",
   "execution_count": 106,
   "metadata": {},
   "outputs": [
    {
     "output_type": "execute_result",
     "data": {
      "text/plain": [
       "    국어  영어  수학\n",
       "춘향  80  90  90\n",
       "몽룡  90  70  60\n",
       "향단  70  60  80\n",
       "방자  30  40  70"
      ],
      "text/html": "<div>\n<style scoped>\n    .dataframe tbody tr th:only-of-type {\n        vertical-align: middle;\n    }\n\n    .dataframe tbody tr th {\n        vertical-align: top;\n    }\n\n    .dataframe thead th {\n        text-align: right;\n    }\n</style>\n<table border=\"1\" class=\"dataframe\">\n  <thead>\n    <tr style=\"text-align: right;\">\n      <th></th>\n      <th>국어</th>\n      <th>영어</th>\n      <th>수학</th>\n    </tr>\n  </thead>\n  <tbody>\n    <tr>\n      <th>춘향</th>\n      <td>80</td>\n      <td>90</td>\n      <td>90</td>\n    </tr>\n    <tr>\n      <th>몽룡</th>\n      <td>90</td>\n      <td>70</td>\n      <td>60</td>\n    </tr>\n    <tr>\n      <th>향단</th>\n      <td>70</td>\n      <td>60</td>\n      <td>80</td>\n    </tr>\n    <tr>\n      <th>방자</th>\n      <td>30</td>\n      <td>40</td>\n      <td>70</td>\n    </tr>\n  </tbody>\n</table>\n</div>"
     },
     "metadata": {},
     "execution_count": 106
    }
   ],
   "source": [
    "df"
   ]
  },
  {
   "cell_type": "code",
   "execution_count": 115,
   "metadata": {},
   "outputs": [
    {
     "output_type": "execute_result",
     "data": {
      "text/plain": [
       "춘향    90\n",
       "몽룡    60\n",
       "향단    80\n",
       "방자    70\n",
       "Name: 수학, dtype: int64"
      ]
     },
     "metadata": {},
     "execution_count": 115
    }
   ],
   "source": [
    "# (1) 모든 학생의 수학 점수를 시리즈로 나타낸다.\n",
    "df[\"수학\"]"
   ]
  },
  {
   "cell_type": "code",
   "execution_count": 116,
   "metadata": {},
   "outputs": [
    {
     "output_type": "execute_result",
     "data": {
      "text/plain": [
       "pandas.core.series.Series"
      ]
     },
     "metadata": {},
     "execution_count": 116
    }
   ],
   "source": [
    "type(df[\"수학\"])"
   ]
  },
  {
   "cell_type": "code",
   "execution_count": 113,
   "metadata": {},
   "outputs": [
    {
     "output_type": "execute_result",
     "data": {
      "text/plain": [
       "    국어  영어\n",
       "춘향  80  90\n",
       "몽룡  90  70\n",
       "향단  70  60\n",
       "방자  30  40"
      ],
      "text/html": "<div>\n<style scoped>\n    .dataframe tbody tr th:only-of-type {\n        vertical-align: middle;\n    }\n\n    .dataframe tbody tr th {\n        vertical-align: top;\n    }\n\n    .dataframe thead th {\n        text-align: right;\n    }\n</style>\n<table border=\"1\" class=\"dataframe\">\n  <thead>\n    <tr style=\"text-align: right;\">\n      <th></th>\n      <th>국어</th>\n      <th>영어</th>\n    </tr>\n  </thead>\n  <tbody>\n    <tr>\n      <th>춘향</th>\n      <td>80</td>\n      <td>90</td>\n    </tr>\n    <tr>\n      <th>몽룡</th>\n      <td>90</td>\n      <td>70</td>\n    </tr>\n    <tr>\n      <th>향단</th>\n      <td>70</td>\n      <td>60</td>\n    </tr>\n    <tr>\n      <th>방자</th>\n      <td>30</td>\n      <td>40</td>\n    </tr>\n  </tbody>\n</table>\n</div>"
     },
     "metadata": {},
     "execution_count": 113
    }
   ],
   "source": [
    "# (2) 모든 학생의 국어와 영어 점수를 데이터 프레임으로 나타낸다.\n",
    "# 리스트로 주면 된다.\n",
    "df[[\"국어\", \"영어\"]] "
   ]
  },
  {
   "cell_type": "code",
   "execution_count": 117,
   "metadata": {},
   "outputs": [
    {
     "output_type": "execute_result",
     "data": {
      "text/plain": [
       "pandas.core.frame.DataFrame"
      ]
     },
     "metadata": {},
     "execution_count": 117
    }
   ],
   "source": [
    "type(df[[\"국어\", \"영어\"]] )"
   ]
  },
  {
   "cell_type": "code",
   "execution_count": 124,
   "metadata": {},
   "outputs": [
    {
     "output_type": "execute_result",
     "data": {
      "text/plain": [
       "    국어  영어  수학   평균점수\n",
       "춘향  80  90  90  86.67\n",
       "몽룡  90  70  60  73.33\n",
       "향단  70  60  80  70.00\n",
       "방자  30  40  70  46.67"
      ],
      "text/html": "<div>\n<style scoped>\n    .dataframe tbody tr th:only-of-type {\n        vertical-align: middle;\n    }\n\n    .dataframe tbody tr th {\n        vertical-align: top;\n    }\n\n    .dataframe thead th {\n        text-align: right;\n    }\n</style>\n<table border=\"1\" class=\"dataframe\">\n  <thead>\n    <tr style=\"text-align: right;\">\n      <th></th>\n      <th>국어</th>\n      <th>영어</th>\n      <th>수학</th>\n      <th>평균점수</th>\n    </tr>\n  </thead>\n  <tbody>\n    <tr>\n      <th>춘향</th>\n      <td>80</td>\n      <td>90</td>\n      <td>90</td>\n      <td>86.67</td>\n    </tr>\n    <tr>\n      <th>몽룡</th>\n      <td>90</td>\n      <td>70</td>\n      <td>60</td>\n      <td>73.33</td>\n    </tr>\n    <tr>\n      <th>향단</th>\n      <td>70</td>\n      <td>60</td>\n      <td>80</td>\n      <td>70.00</td>\n    </tr>\n    <tr>\n      <th>방자</th>\n      <td>30</td>\n      <td>40</td>\n      <td>70</td>\n      <td>46.67</td>\n    </tr>\n  </tbody>\n</table>\n</div>"
     },
     "metadata": {},
     "execution_count": 124
    }
   ],
   "source": [
    "# (3) 모든 학생의 각 과목 평균 점수를 새로운 열로 추가한다.\n",
    "# 교수님정답  axis=1 행방향  함수쓴방법\n",
    "# df['평균'] = df.mean(axis=1).round(2)\n",
    "# 나는.. 벡터화연산 ㅋ\n",
    "df[\"평균점수\"] = ((df[\"국어\"] + df[\"영어\"] + df[\"수학\"]) / 3).round(2)\n",
    "df"
   ]
  },
  {
   "cell_type": "code",
   "execution_count": 126,
   "metadata": {},
   "outputs": [
    {
     "output_type": "execute_result",
     "data": {
      "text/plain": [
       "    국어  영어  수학   평균점수\n",
       "춘향  80  90  90  86.67\n",
       "몽룡  90  70  60  73.33\n",
       "향단  70  60  80  70.00\n",
       "방자  30  80  70  46.67"
      ],
      "text/html": "<div>\n<style scoped>\n    .dataframe tbody tr th:only-of-type {\n        vertical-align: middle;\n    }\n\n    .dataframe tbody tr th {\n        vertical-align: top;\n    }\n\n    .dataframe thead th {\n        text-align: right;\n    }\n</style>\n<table border=\"1\" class=\"dataframe\">\n  <thead>\n    <tr style=\"text-align: right;\">\n      <th></th>\n      <th>국어</th>\n      <th>영어</th>\n      <th>수학</th>\n      <th>평균점수</th>\n    </tr>\n  </thead>\n  <tbody>\n    <tr>\n      <th>춘향</th>\n      <td>80</td>\n      <td>90</td>\n      <td>90</td>\n      <td>86.67</td>\n    </tr>\n    <tr>\n      <th>몽룡</th>\n      <td>90</td>\n      <td>70</td>\n      <td>60</td>\n      <td>73.33</td>\n    </tr>\n    <tr>\n      <th>향단</th>\n      <td>70</td>\n      <td>60</td>\n      <td>80</td>\n      <td>70.00</td>\n    </tr>\n    <tr>\n      <th>방자</th>\n      <td>30</td>\n      <td>80</td>\n      <td>70</td>\n      <td>46.67</td>\n    </tr>\n  </tbody>\n</table>\n</div>"
     },
     "metadata": {},
     "execution_count": 126
    }
   ],
   "source": [
    "# (4) 방자의 영어 점수를 80점으로 수정하고 평균 점수도 다시 계산한다.\n",
    "# del df['평균']\n",
    "# df[\"영어\"][\"방자\"] = 80\n",
    "# df['평균'] = df.mean(axis=1).round(2)\n",
    "df[\"영어\"][\"방자\"] = 80\n",
    "df"
   ]
  },
  {
   "cell_type": "code",
   "execution_count": 127,
   "metadata": {},
   "outputs": [
    {
     "output_type": "execute_result",
     "data": {
      "text/plain": [
       "    국어  영어  수학   평균점수\n",
       "춘향  80  90  90  86.67\n",
       "몽룡  90  70  60  73.33\n",
       "향단  70  60  80  70.00\n",
       "방자  30  80  70  60.00"
      ],
      "text/html": "<div>\n<style scoped>\n    .dataframe tbody tr th:only-of-type {\n        vertical-align: middle;\n    }\n\n    .dataframe tbody tr th {\n        vertical-align: top;\n    }\n\n    .dataframe thead th {\n        text-align: right;\n    }\n</style>\n<table border=\"1\" class=\"dataframe\">\n  <thead>\n    <tr style=\"text-align: right;\">\n      <th></th>\n      <th>국어</th>\n      <th>영어</th>\n      <th>수학</th>\n      <th>평균점수</th>\n    </tr>\n  </thead>\n  <tbody>\n    <tr>\n      <th>춘향</th>\n      <td>80</td>\n      <td>90</td>\n      <td>90</td>\n      <td>86.67</td>\n    </tr>\n    <tr>\n      <th>몽룡</th>\n      <td>90</td>\n      <td>70</td>\n      <td>60</td>\n      <td>73.33</td>\n    </tr>\n    <tr>\n      <th>향단</th>\n      <td>70</td>\n      <td>60</td>\n      <td>80</td>\n      <td>70.00</td>\n    </tr>\n    <tr>\n      <th>방자</th>\n      <td>30</td>\n      <td>80</td>\n      <td>70</td>\n      <td>60.00</td>\n    </tr>\n  </tbody>\n</table>\n</div>"
     },
     "metadata": {},
     "execution_count": 127
    }
   ],
   "source": [
    "df[\"평균점수\"] = ((df[\"국어\"] + df[\"영어\"] + df[\"수학\"]) / 3).round(2)\n",
    "df"
   ]
  },
  {
   "cell_type": "code",
   "execution_count": 130,
   "metadata": {},
   "outputs": [
    {
     "output_type": "execute_result",
     "data": {
      "text/plain": [
       "    국어  영어  수학   평균점수\n",
       "춘향  80  90  90  86.67"
      ],
      "text/html": "<div>\n<style scoped>\n    .dataframe tbody tr th:only-of-type {\n        vertical-align: middle;\n    }\n\n    .dataframe tbody tr th {\n        vertical-align: top;\n    }\n\n    .dataframe thead th {\n        text-align: right;\n    }\n</style>\n<table border=\"1\" class=\"dataframe\">\n  <thead>\n    <tr style=\"text-align: right;\">\n      <th></th>\n      <th>국어</th>\n      <th>영어</th>\n      <th>수학</th>\n      <th>평균점수</th>\n    </tr>\n  </thead>\n  <tbody>\n    <tr>\n      <th>춘향</th>\n      <td>80</td>\n      <td>90</td>\n      <td>90</td>\n      <td>86.67</td>\n    </tr>\n  </tbody>\n</table>\n</div>"
     },
     "metadata": {},
     "execution_count": 130
    }
   ],
   "source": [
    "# (5) 춘향의 점수를 데이터프레임으로 나타낸다.\n",
    "# 교수님정답 df[:'춘향'].T\n",
    "df[:1]"
   ]
  },
  {
   "cell_type": "code",
   "execution_count": 131,
   "metadata": {},
   "outputs": [
    {
     "output_type": "execute_result",
     "data": {
      "text/plain": [
       "pandas.core.frame.DataFrame"
      ]
     },
     "metadata": {},
     "execution_count": 131
    }
   ],
   "source": [
    "type(df[:1])"
   ]
  },
  {
   "cell_type": "code",
   "execution_count": 140,
   "metadata": {},
   "outputs": [
    {
     "output_type": "execute_result",
     "data": {
      "text/plain": [
       "        향단\n",
       "국어    70.0\n",
       "영어    60.0\n",
       "수학    80.0\n",
       "평균점수  70.0"
      ],
      "text/html": "<div>\n<style scoped>\n    .dataframe tbody tr th:only-of-type {\n        vertical-align: middle;\n    }\n\n    .dataframe tbody tr th {\n        vertical-align: top;\n    }\n\n    .dataframe thead th {\n        text-align: right;\n    }\n</style>\n<table border=\"1\" class=\"dataframe\">\n  <thead>\n    <tr style=\"text-align: right;\">\n      <th></th>\n      <th>향단</th>\n    </tr>\n  </thead>\n  <tbody>\n    <tr>\n      <th>국어</th>\n      <td>70.0</td>\n    </tr>\n    <tr>\n      <th>영어</th>\n      <td>60.0</td>\n    </tr>\n    <tr>\n      <th>수학</th>\n      <td>80.0</td>\n    </tr>\n    <tr>\n      <th>평균점수</th>\n      <td>70.0</td>\n    </tr>\n  </tbody>\n</table>\n</div>"
     },
     "metadata": {},
     "execution_count": 140
    }
   ],
   "source": [
    "# (6) 향단의 점수를 시리즈로 나타낸다.\n",
    "df[2:3].T"
   ]
  },
  {
   "cell_type": "code",
   "execution_count": 142,
   "metadata": {},
   "outputs": [
    {
     "output_type": "execute_result",
     "data": {
      "text/plain": [
       "국어      70.0\n",
       "영어      60.0\n",
       "수학      80.0\n",
       "평균점수    70.0\n",
       "Name: 향단, dtype: float64"
      ]
     },
     "metadata": {},
     "execution_count": 142
    }
   ],
   "source": [
    "df.T['향단']  #.T 트랜스퍼가 뒤가아니라 앞으로였다!!!!!!!!!!"
   ]
  },
  {
   "cell_type": "code",
   "execution_count": 143,
   "metadata": {},
   "outputs": [
    {
     "output_type": "execute_result",
     "data": {
      "text/plain": [
       "pandas.core.series.Series"
      ]
     },
     "metadata": {},
     "execution_count": 143
    }
   ],
   "source": [
    "type(df.T['향단'])  # 데이터프레임을 시리즈로 바꾸기"
   ]
  },
  {
   "source": [
    "df\\[\"수학\"] 컬럼명입력 열출력> pandas.core.series.Series  \n",
    "df\\[\\[\"국어\", \"영어\"]] 컬럼명입력 열출력> pandas.core.frame.DataFrame  \n",
    "df\\[:1] 인덱스입력 행출력 > pandas.core.frame.DataFrame  "
   ],
   "cell_type": "markdown",
   "metadata": {}
  },
  {
   "cell_type": "code",
   "execution_count": null,
   "metadata": {},
   "outputs": [],
   "source": []
  }
 ]
}