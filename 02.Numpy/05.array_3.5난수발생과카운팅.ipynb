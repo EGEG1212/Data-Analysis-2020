{
 "metadata": {
  "language_info": {
   "codemirror_mode": {
    "name": "ipython",
    "version": 3
   },
   "file_extension": ".py",
   "mimetype": "text/x-python",
   "name": "python",
   "nbconvert_exporter": "python",
   "pygments_lexer": "ipython3",
   "version": "3.8.3-final"
  },
  "orig_nbformat": 2,
  "kernelspec": {
   "name": "Python 3.8.3 64-bit (conda)",
   "display_name": "Python 3.8.3 64-bit (conda)",
   "metadata": {
    "interpreter": {
     "hash": "b3ba2566441a7c06988d0923437866b63cedc61552a5af99d1f4fb67d367b25f"
    }
   }
  }
 },
 "nbformat": 4,
 "nbformat_minor": 2,
 "cells": [
  {
   "source": [
    "# 3.5 난수 발생과 카운팅"
   ],
   "cell_type": "markdown",
   "metadata": {}
  },
  {
   "cell_type": "code",
   "execution_count": 2,
   "metadata": {},
   "outputs": [],
   "source": [
    "import numpy as np"
   ]
  },
  {
   "source": [
    "## 시드 설정하기"
   ],
   "cell_type": "markdown",
   "metadata": {}
  },
  {
   "cell_type": "code",
   "execution_count": 4,
   "metadata": {},
   "outputs": [
    {
     "output_type": "execute_result",
     "data": {
      "text/plain": [
       "array([0.67624302, 0.47502103, 0.41894846, 0.58690671, 0.76641485])"
      ]
     },
     "metadata": {},
     "execution_count": 4
    }
   ],
   "source": [
    "np.random.rand(5)  #서브패키지 랜덤 5개"
   ]
  },
  {
   "cell_type": "code",
   "execution_count": 5,
   "metadata": {},
   "outputs": [
    {
     "output_type": "execute_result",
     "data": {
      "text/plain": [
       "array([0.56180705, 0.2458037 , 0.14295219, 0.92370812, 0.43698272])"
      ]
     },
     "metadata": {},
     "execution_count": 5
    }
   ],
   "source": [
    "np.random.rand(5)  # 또 돌리면 숫자가 매번 다르게 나옴. \n",
    "#랜덤값이 바닥으로쏠리거나 천장으로몰리면안되니까\n",
    "#랜덤값을 동일하게 뽑고 싶을 때. 오늘과 내일 seed 설정한는것임"
   ]
  },
  {
   "cell_type": "code",
   "execution_count": 6,
   "metadata": {},
   "outputs": [
    {
     "output_type": "execute_result",
     "data": {
      "text/plain": [
       "array([0.98627683, 0.87339195, 0.50974552, 0.27183571, 0.33691873])"
      ]
     },
     "metadata": {},
     "execution_count": 6
    }
   ],
   "source": [
    "np.random.seed(2020)\n",
    "np.random.rand(5)"
   ]
  },
  {
   "cell_type": "code",
   "execution_count": 7,
   "metadata": {},
   "outputs": [
    {
     "output_type": "execute_result",
     "data": {
      "text/plain": [
       "array([0.98627683, 0.87339195, 0.50974552, 0.27183571, 0.33691873])"
      ]
     },
     "metadata": {},
     "execution_count": 7
    }
   ],
   "source": [
    "np.random.seed(2020)\n",
    "np.random.rand(5)      #이렇게 같게 나오게 하려고 seed"
   ]
  },
  {
   "source": [
    "## 데이터의 순서 바꾸기 shuffle\n",
    "shuffle 함수도 자체 변환(in-place) 함수로 한 번 사용하면   \n",
    "변수의 값이 바뀌므로 사용에 주의해야 한다."
   ],
   "cell_type": "markdown",
   "metadata": {}
  },
  {
   "cell_type": "code",
   "execution_count": 8,
   "metadata": {},
   "outputs": [
    {
     "output_type": "execute_result",
     "data": {
      "text/plain": [
       "array([0, 1, 2, 3, 4, 5, 6, 7, 8, 9])"
      ]
     },
     "metadata": {},
     "execution_count": 8
    }
   ],
   "source": [
    "x = np.arange(10)\n",
    "x"
   ]
  },
  {
   "cell_type": "code",
   "execution_count": 9,
   "metadata": {},
   "outputs": [
    {
     "output_type": "execute_result",
     "data": {
      "text/plain": [
       "array([5, 7, 6, 4, 3, 1, 2, 8, 9, 0])"
      ]
     },
     "metadata": {},
     "execution_count": 9
    }
   ],
   "source": [
    "np.random.shuffle(x)  # 막섞어드림 셔플 sheffle\n",
    "x"
   ]
  },
  {
   "cell_type": "code",
   "execution_count": 10,
   "metadata": {},
   "outputs": [
    {
     "output_type": "execute_result",
     "data": {
      "text/plain": [
       "array([5, 7, 6, 4, 3, 1, 2, 8, 9, 0])"
      ]
     },
     "metadata": {},
     "execution_count": 10
    }
   ],
   "source": [
    "x  # 이미 바뀌어서 저장되어있음 ㅋㅋ자체변환함수"
   ]
  },
  {
   "source": [
    "## 데이터 샘플링\n",
    "numpy.random.choice(a, size=None, replace=True, p=None)  \n",
    "a : 배열이면 원래의 데이터, 정수이면 arange(a) 명령으로 데이터 생성  \n",
    "size=None 몇개만큼  \n",
    "replace=True 복원추출T(뽑은공 다시넣고 뽑뽑뽑)  \n",
    "replace=False비복원추출F(빼낸공을 빼놓고)  \n",
    "p : 배열. 각 데이터가 선택될 수 있는 확률\n"
   ],
   "cell_type": "markdown",
   "metadata": {}
  },
  {
   "cell_type": "code",
   "execution_count": 11,
   "metadata": {},
   "outputs": [
    {
     "output_type": "execute_result",
     "data": {
      "text/plain": [
       "array([4, 0, 1, 2, 3])"
      ]
     },
     "metadata": {},
     "execution_count": 11
    }
   ],
   "source": [
    "np.random.choice(5, 5, replace=False)  # 비복원추출 shuffle 명령과 같다."
   ]
  },
  {
   "cell_type": "code",
   "execution_count": 12,
   "metadata": {},
   "outputs": [
    {
     "output_type": "execute_result",
     "data": {
      "text/plain": [
       "array([4, 4, 0, 4, 1])"
      ]
     },
     "metadata": {},
     "execution_count": 12
    }
   ],
   "source": [
    "np.random.choice(5, 5, replace=True)  # 복원추출 어떻게나올지모름"
   ]
  },
  {
   "cell_type": "code",
   "execution_count": 13,
   "metadata": {},
   "outputs": [
    {
     "output_type": "execute_result",
     "data": {
      "text/plain": [
       "array([2, 0, 4])"
      ]
     },
     "metadata": {},
     "execution_count": 13
    }
   ],
   "source": [
    "np.random.choice(5, 3, replace=False)  # 3개만 선택"
   ]
  },
  {
   "cell_type": "code",
   "execution_count": 14,
   "metadata": {},
   "outputs": [
    {
     "output_type": "execute_result",
     "data": {
      "text/plain": [
       "array([0, 3, 3, 2, 2, 2, 3, 2, 3, 2])"
      ]
     },
     "metadata": {},
     "execution_count": 14
    }
   ],
   "source": [
    "np.random.choice(5, 10, p=[0.1, 0, 0.3, 0.6, 0])  \n",
    "# 선택 확률을 다르게 해서 10개 선택"
   ]
  },
  {
   "source": [
    "## 난수생성\n",
    "rand: 0부터 1사이의 균일 분포\n",
    "\n",
    "randn: 표준 정규 분포\n",
    "\n",
    "randint: 균일 분포의 정수 난수"
   ],
   "cell_type": "markdown",
   "metadata": {}
  },
  {
   "cell_type": "code",
   "execution_count": 16,
   "metadata": {},
   "outputs": [
    {
     "output_type": "execute_result",
     "data": {
      "text/plain": [
       "array([0.80406524, 0.46598314, 0.33505302, 0.93591541, 0.44467178])"
      ]
     },
     "metadata": {},
     "execution_count": 16
    }
   ],
   "source": [
    "np.random.rand(5)  # rand그냥 5개뽑아짐 (0-1까지 균일하게?)"
   ]
  },
  {
   "cell_type": "code",
   "execution_count": 17,
   "metadata": {},
   "outputs": [
    {
     "output_type": "execute_result",
     "data": {
      "text/plain": [
       "array([ 0.09412645, -0.98878783,  0.83050855, -0.39615819, -0.33764227,\n",
       "       -0.12044229,  1.27944955, -0.49866644,  1.04592685,  0.38428501])"
      ]
     },
     "metadata": {},
     "execution_count": 17
    }
   ],
   "source": [
    "np.random.randn(10)  # randn(노말)정규분포..종모양의 확률분포를띄우고있는..평균(뮤),표준편차(시그마)@_@\n",
    "#표준정규분포는. 평균을 0, 표준편차를 1로 바꾼다.. 그래프모양을 완전 쎌쪽한 종이되게ㅋ\n",
    "# 그 안에서 10개를 뽑아"
   ]
  },
  {
   "cell_type": "code",
   "execution_count": 18,
   "metadata": {},
   "outputs": [
    {
     "output_type": "execute_result",
     "data": {
      "text/plain": [
       "array([1, 9, 0, 1, 7, 5, 0, 7, 1, 3])"
      ]
     },
     "metadata": {},
     "execution_count": 18
    }
   ],
   "source": [
    "np.random.randint(10, size=10) #최대값10, 10개를 찾아라"
   ]
  },
  {
   "cell_type": "code",
   "execution_count": 19,
   "metadata": {},
   "outputs": [
    {
     "output_type": "execute_result",
     "data": {
      "text/plain": [
       "array([17, 17, 12, 15, 10, 10, 18, 13, 16, 13])"
      ]
     },
     "metadata": {},
     "execution_count": 19
    }
   ],
   "source": [
    "np.random.randint(10, 20, size=10)  #10-20까지 10개를 찾아라"
   ]
  },
  {
   "cell_type": "code",
   "execution_count": 23,
   "metadata": {},
   "outputs": [
    {
     "output_type": "execute_result",
     "data": {
      "text/plain": [
       "array([ 9906.26273348, 10179.06989333, 10081.7358543 , 10053.10924045,\n",
       "       10129.52448733,  9826.33632236,  9827.47947599,  9981.04235611,\n",
       "       10043.43918627, 10078.23528557])"
      ]
     },
     "metadata": {},
     "execution_count": 23
    }
   ],
   "source": [
    "# 연습문제 3.5.2\n",
    "#가격이 10,000원인 주식이 있다. 이 주식의 일간 수익률(%)은 기댓값이 0%이고 표준편차가 1%인 표준 정규 분포를 따른다고 하자. 250일 동안의 주가를 무작위로 생성하라\n",
    "\n",
    "\n",
    "x = np.random.randn(250) * 100 + 10000\n",
    "x[:10]"
   ]
  },
  {
   "cell_type": "code",
   "execution_count": 24,
   "metadata": {},
   "outputs": [
    {
     "output_type": "execute_result",
     "data": {
      "text/plain": [
       "array([9999.4473163])"
      ]
     },
     "metadata": {},
     "execution_count": 24
    }
   ],
   "source": [
    "price = 10000 #오늘은 1만원. 내일의 가격은?\n",
    "tomorrow = price * (1 + np.random.randn(1)/100.)  \n",
    "tomorrow"
   ]
  },
  {
   "cell_type": "code",
   "execution_count": 25,
   "metadata": {},
   "outputs": [
    {
     "output_type": "execute_result",
     "data": {
      "text/plain": [
       "[9942.387861310257,\n",
       " 10072.715666218077,\n",
       " 10103.528412527658,\n",
       " 10067.050097765528,\n",
       " 10095.02536626351,\n",
       " 10060.208999882505,\n",
       " 10042.557159938073,\n",
       " 9992.51766609335,\n",
       " 10065.59248764202,\n",
       " 10045.56570210542]"
      ]
     },
     "metadata": {},
     "execution_count": 25
    }
   ],
   "source": [
    "prices = []\n",
    "price = 10000\n",
    "for i in range(250):\n",
    "    tmp = price * (1 + np.random.randn(1)/100.)\n",
    "    price = tmp[0]\n",
    "    prices.append(price)\n",
    "prices[:10]                    #@_@ 우어ㅓㅓㅓㅓㅓㅓㅓㅓㅓㅓ교수님천재"
   ]
  },
  {
   "source": [
    "## 정수 데이터 카운팅\n",
    "히스토그램 : 도수 분포의 상태를 기둥 모양의 그래프로 나타낸 것."
   ],
   "cell_type": "markdown",
   "metadata": {}
  },
  {
   "cell_type": "code",
   "execution_count": 26,
   "metadata": {},
   "outputs": [
    {
     "output_type": "execute_result",
     "data": {
      "text/plain": [
       "array([ 2, 11, 34])"
      ]
     },
     "metadata": {},
     "execution_count": 26
    }
   ],
   "source": [
    "np.unique([11, 11, 2, 2, 34, 34]) #유니크한 값만 가지고 나옴"
   ]
  },
  {
   "cell_type": "code",
   "execution_count": 27,
   "metadata": {},
   "outputs": [],
   "source": [
    "a = np.array(['a', 'b', 'b', 'c', 'a'])\n",
    "index, count = np.unique(a, return_counts=True) #문자열일 경우, index, count를 해준다."
   ]
  },
  {
   "cell_type": "code",
   "execution_count": 28,
   "metadata": {},
   "outputs": [
    {
     "output_type": "execute_result",
     "data": {
      "text/plain": [
       "array(['a', 'b', 'c'], dtype='<U1')"
      ]
     },
     "metadata": {},
     "execution_count": 28
    }
   ],
   "source": [
    "index  #유니크한 값'a', 'b', 'c'"
   ]
  },
  {
   "cell_type": "code",
   "execution_count": 29,
   "metadata": {},
   "outputs": [
    {
     "output_type": "execute_result",
     "data": {
      "text/plain": [
       "array([2, 2, 1], dtype=int64)"
      ]
     },
     "metadata": {},
     "execution_count": 29
    }
   ],
   "source": [
    "count #a가 2번, b가 2번, c가 1번 나왔다고 알려준다."
   ]
  },
  {
   "cell_type": "code",
   "execution_count": 30,
   "metadata": {},
   "outputs": [
    {
     "output_type": "execute_result",
     "data": {
      "text/plain": [
       "array([0, 2, 3, 1, 0, 0], dtype=int64)"
      ]
     },
     "metadata": {},
     "execution_count": 30
    }
   ],
   "source": [
    "# 빈 카운트?\n",
    "np.bincount([1, 1, 2, 2, 2, 3], minlength=6) #주사위던졌는데 한번도 안나온번호는 0으로 표시해준다."
   ]
  },
  {
   "cell_type": "code",
   "execution_count": null,
   "metadata": {},
   "outputs": [],
   "source": []
  }
 ]
}