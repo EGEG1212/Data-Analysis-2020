{
 "metadata": {
  "language_info": {
   "codemirror_mode": {
    "name": "ipython",
    "version": 3
   },
   "file_extension": ".py",
   "mimetype": "text/x-python",
   "name": "python",
   "nbconvert_exporter": "python",
   "pygments_lexer": "ipython3",
   "version": "3.8.3-final"
  },
  "orig_nbformat": 2,
  "kernelspec": {
   "name": "Python 3.8.3 64-bit (conda)",
   "display_name": "Python 3.8.3 64-bit (conda)",
   "metadata": {
    "interpreter": {
     "hash": "b3ba2566441a7c06988d0923437866b63cedc61552a5af99d1f4fb67d367b25f"
    }
   }
  }
 },
 "nbformat": 4,
 "nbformat_minor": 2,
 "cells": [
  {
   "source": [
    "# Numpy (datascienceschool.net)"
   ],
   "cell_type": "markdown",
   "metadata": {}
  },
  {
   "source": [
    "## Numpy Array"
   ],
   "cell_type": "markdown",
   "metadata": {}
  },
  {
   "source": [
    "list = 데이터타입 모두 가능, 크기 다양..포인터가 들어가있어서 할때마다 불러와야해서 느림\n",
    "np.array = 자료형동일, 크기변경안됨... 대신 땋뙇뙇 들어가 있어서 초빠름\n",
    "       >(파이썬으로만든게 아닌, C랭기지로 만든것! )  \n",
    "       >(속도는 엄청 빠름.))  "
   ],
   "cell_type": "markdown",
   "metadata": {}
  },
  {
   "cell_type": "code",
   "execution_count": 1,
   "metadata": {},
   "outputs": [],
   "source": [
    "# 리스트와 넘파이 어레이 속도 비교\n",
    "import numpy as np #(np뒤에 페이스 꼭 하나 띄기)\n",
    "np_arr = np.arange(100000)\n",
    "nu_list = [i for i in range(100000)]"
   ]
  },
  {
   "cell_type": "code",
   "execution_count": 26,
   "metadata": {},
   "outputs": [
    {
     "output_type": "stream",
     "name": "stderr",
     "text": [
      "UsageError: Can't use statement directly after '%%time'!\n"
     ]
    }
   ],
   "source": [
    "%%time     #(매직명령어 %%time 셀이돌아가는 시간을 알려준다)\n",
    "for i in range(100): #돌아가는시간 100번만 사용\n",
    "    sum(nu_list)            \n",
    "#에러 왜 났니 ..ㅠㅠ  UsageError: Can't use statement directly after '%%time'!\n",
    "#교수님결과값: Wall time 166ms"
   ]
  },
  {
   "cell_type": "code",
   "execution_count": 27,
   "metadata": {},
   "outputs": [
    {
     "output_type": "stream",
     "name": "stdout",
     "text": [
      "Wall time: 152 ms\n"
     ]
    }
   ],
   "source": [
    "%%time\n",
    "for i in range(100):\n",
    "    sum(nu_list)"
   ]
  },
  {
   "cell_type": "code",
   "execution_count": 28,
   "metadata": {},
   "outputs": [
    {
     "output_type": "stream",
     "name": "stdout",
     "text": [
      "Wall time: 47 ms\n"
     ]
    }
   ],
   "source": [
    "%%time\n",
    "for i in range(100):\n",
    "    np.sum(np_arr)\n",
    "#오 에러안났구먼^^ 결과값:Wall time: 7 ms"
   ]
  },
  {
   "source": [
    "넘파이로 할 수 있는것 (일단. 매트릭스 행렬배열 연산을위한것)  \n",
    ">y=ax+b (1차원)  \n",
    ">Y=W.X+b 같은데 차원이 다른이야기(n차원) weight bias  \n",
    "\n",
    "\n",
    "배열다루기  \n",
    "통계낼수있음  \n",
    "랜덤모듈대신에 넘파이안에있는 서브패키지안에 랜덤패키지 사용가능.  \n",
    "서브패키지 안에 선형대수있음.   "
   ],
   "cell_type": "markdown",
   "metadata": {}
  },
  {
   "source": [
    "## 1차원 배열 만들기...백터"
   ],
   "cell_type": "markdown",
   "metadata": {}
  },
  {
   "cell_type": "code",
   "execution_count": 4,
   "metadata": {},
   "outputs": [
    {
     "output_type": "execute_result",
     "data": {
      "text/plain": [
       "array([0, 1, 2, 3, 4, 5, 6, 7, 8, 9])"
      ]
     },
     "metadata": {},
     "execution_count": 4
    }
   ],
   "source": [
    "ar = np.array([0, 1, 2, 3, 4, 5, 6, 7, 8, 9])  #리스트가 들어왔다\n",
    "ar"
   ]
  },
  {
   "cell_type": "code",
   "execution_count": 5,
   "metadata": {},
   "outputs": [
    {
     "output_type": "execute_result",
     "data": {
      "text/plain": [
       "numpy.ndarray"
      ]
     },
     "metadata": {},
     "execution_count": 5
    }
   ],
   "source": [
    "type(ar)\n",
    "#numpy.ndarray  로테이션이x돈다돈다~ 위에10개를 Y=W.X+b 같단하게표기한것."
   ]
  },
  {
   "cell_type": "code",
   "execution_count": 6,
   "metadata": {},
   "outputs": [
    {
     "output_type": "execute_result",
     "data": {
      "text/plain": [
       "(10,)"
      ]
     },
     "metadata": {},
     "execution_count": 6
    }
   ],
   "source": [
    "ar.shape  #(10,)숫자1개있어서 1차원, 뒤에 숫자붙으면 2차원, 3차원 들어나는것 백터..?스칼라..? 눼?"
   ]
  },
  {
   "source": [
    "## 백터화 연산"
   ],
   "cell_type": "markdown",
   "metadata": {}
  },
  {
   "cell_type": "code",
   "execution_count": 7,
   "metadata": {},
   "outputs": [
    {
     "output_type": "execute_result",
     "data": {
      "text/plain": [
       "[0, 2, 4, 6, 8, 10, 12, 14, 16, 18]"
      ]
     },
     "metadata": {},
     "execution_count": 7
    }
   ],
   "source": [
    "al = [2 * i for i in range(10)]\n",
    "al"
   ]
  },
  {
   "cell_type": "code",
   "execution_count": 8,
   "metadata": {},
   "outputs": [
    {
     "output_type": "execute_result",
     "data": {
      "text/plain": [
       "array([ 0,  2,  4,  6,  8, 10, 12, 14, 16, 18])"
      ]
     },
     "metadata": {},
     "execution_count": 8
    }
   ],
   "source": [
    "2 * ar  #이렇게쓰면 그냥 2배가 됩니다. ar 통으로 묶어서 두배로 만들어라! 이것이 \"백터화연산\" 넘파이 안에서만 가능한 일.."
   ]
  },
  {
   "cell_type": "code",
   "execution_count": 9,
   "metadata": {},
   "outputs": [
    {
     "output_type": "execute_result",
     "data": {
      "text/plain": [
       "[0, 2, 4, 6, 8, 10, 12, 14, 16, 18, 0, 2, 4, 6, 8, 10, 12, 14, 16, 18]"
      ]
     },
     "metadata": {},
     "execution_count": 9
    }
   ],
   "source": [
    "2 * al  #이건 리스트를 두번 반복할뿐. 값을 곱해주지 않는다."
   ]
  },
  {
   "cell_type": "code",
   "execution_count": 10,
   "metadata": {},
   "outputs": [],
   "source": [
    "a = np.array([1, 2, 3])\n",
    "b = np.array([10, 20, 30])"
   ]
  },
  {
   "cell_type": "code",
   "execution_count": 11,
   "metadata": {},
   "outputs": [
    {
     "output_type": "execute_result",
     "data": {
      "text/plain": [
       "array([12, 24, 36])"
      ]
     },
     "metadata": {},
     "execution_count": 11
    }
   ],
   "source": [
    "2 * a + b"
   ]
  },
  {
   "cell_type": "code",
   "execution_count": 12,
   "metadata": {},
   "outputs": [
    {
     "output_type": "execute_result",
     "data": {
      "text/plain": [
       "array([False,  True, False])"
      ]
     },
     "metadata": {},
     "execution_count": 12
    }
   ],
   "source": [
    "a == 2  #각각의 엘리먼트에 대해서 통채로 백터화연산! 한방에! 할 수 있다 오.. 편한기능이구만!"
   ]
  },
  {
   "cell_type": "code",
   "execution_count": 13,
   "metadata": {},
   "outputs": [
    {
     "output_type": "execute_result",
     "data": {
      "text/plain": [
       "array([False,  True,  True])"
      ]
     },
     "metadata": {},
     "execution_count": 13
    }
   ],
   "source": [
    "b > 15  #비교연산에도 사용할 수 있다"
   ]
  },
  {
   "cell_type": "code",
   "execution_count": 14,
   "metadata": {},
   "outputs": [
    {
     "output_type": "execute_result",
     "data": {
      "text/plain": [
       "array([False,  True, False])"
      ]
     },
     "metadata": {},
     "execution_count": 14
    }
   ],
   "source": [
    "(a == 2) & (b > 10)  #논리식에도 적용할 수 있다"
   ]
  },
  {
   "source": [
    "## 2차원배열(matrix)....1차원은백터"
   ],
   "cell_type": "markdown",
   "metadata": {}
  },
  {
   "cell_type": "code",
   "execution_count": 15,
   "metadata": {},
   "outputs": [
    {
     "output_type": "execute_result",
     "data": {
      "text/plain": [
       "array([[0, 1, 2],\n",
       "       [3, 4, 5]])"
      ]
     },
     "metadata": {},
     "execution_count": 15
    }
   ],
   "source": [
    "c = np.array([[0, 1, 2], [3, 4, 5]])  # 2 x 3 array\n",
    "c\n",
    "#레인지안쓰고 왜이렇게 만들지? 생각하지말고- 뒤에배울꺼임\n",
    "#리스트로 써주면 그것이 곧 배열이 되어 나온다규~ "
   ]
  },
  {
   "cell_type": "code",
   "execution_count": 16,
   "metadata": {},
   "outputs": [
    {
     "output_type": "execute_result",
     "data": {
      "text/plain": [
       "(2, 3)"
      ]
     },
     "metadata": {},
     "execution_count": 16
    }
   ],
   "source": [
    "c.shape  #행이2개 열이3개라는 뜻 (2,3)"
   ]
  },
  {
   "cell_type": "code",
   "execution_count": 17,
   "metadata": {},
   "outputs": [
    {
     "output_type": "execute_result",
     "data": {
      "text/plain": [
       "(2, 3)"
      ]
     },
     "metadata": {},
     "execution_count": 17
    }
   ],
   "source": [
    "len(c), len(c[0]) # 행열 구하는걸 이렇게 써도 되긴하는데 이렇게 많이 안쓰고 넘파이에서는 shape을 쓴다"
   ]
  },
  {
   "source": [
    "## 3.1넘파이배열 연습문제1"
   ],
   "cell_type": "markdown",
   "metadata": {}
  },
  {
   "cell_type": "code",
   "execution_count": 18,
   "metadata": {},
   "outputs": [
    {
     "output_type": "execute_result",
     "data": {
      "text/plain": [
       "array([[10, 20, 30, 40],\n",
       "       [50, 60, 70, 80]])"
      ]
     },
     "metadata": {},
     "execution_count": 18
    }
   ],
   "source": [
    "x = np.array([[10, 20, 30, 40], [50, 60, 70, 80]]) \n",
    "x"
   ]
  },
  {
   "cell_type": "code",
   "execution_count": 19,
   "metadata": {},
   "outputs": [
    {
     "output_type": "execute_result",
     "data": {
      "text/plain": [
       "array([[10, 20, 30, 40],\n",
       "       [50, 60, 70, 80]])"
      ]
     },
     "metadata": {},
     "execution_count": 19
    }
   ],
   "source": [
    "np.arange(10, 90, 10).reshape(2,-1)  #위처럼 해도되지만 이것처럼 할것이다 앞으로 ㅋ"
   ]
  },
  {
   "source": [
    "## 3차원배열만들기"
   ],
   "cell_type": "markdown",
   "metadata": {}
  },
  {
   "cell_type": "code",
   "execution_count": 20,
   "metadata": {},
   "outputs": [
    {
     "output_type": "execute_result",
     "data": {
      "text/plain": [
       "array([[[ 1,  2,  3,  4],\n",
       "        [ 5,  6,  7,  8],\n",
       "        [ 9, 10, 11, 12]],\n",
       "\n",
       "       [[11, 12, 13, 14],\n",
       "        [15, 16, 17, 18],\n",
       "        [19, 20, 21, 22]]])"
      ]
     },
     "metadata": {},
     "execution_count": 20
    }
   ],
   "source": [
    "d = np.array([[[1, 2, 3, 4],\n",
    "               [5, 6, 7, 8],\n",
    "               [9, 10, 11, 12]],\n",
    "              [[11, 12, 13, 14],\n",
    "               [15, 16, 17, 18],\n",
    "               [19, 20, 21, 22]]])   # 2 x 3 x 4 array   큰묶음2개*리스트3개*안쪽\n",
    "d"
   ]
  },
  {
   "cell_type": "code",
   "execution_count": 21,
   "metadata": {},
   "outputs": [
    {
     "output_type": "execute_result",
     "data": {
      "text/plain": [
       "((2, 3, 4), 3)"
      ]
     },
     "metadata": {},
     "execution_count": 21
    }
   ],
   "source": [
    "d.shape, d.ndim #쉐입 갯수가 차원ndim이 된다 (3차원)"
   ]
  },
  {
   "source": [
    "## 배열의 인덱싱  막강한기능!!!!!"
   ],
   "cell_type": "markdown",
   "metadata": {}
  },
  {
   "cell_type": "code",
   "execution_count": 29,
   "metadata": {},
   "outputs": [
    {
     "output_type": "execute_result",
     "data": {
      "text/plain": [
       "2"
      ]
     },
     "metadata": {},
     "execution_count": 29
    }
   ],
   "source": [
    "a = np.array([0, 1, 2, 3, 4])\n",
    "a[2]   #1차원에서는 기존 알고있던것과 똑같"
   ]
  },
  {
   "cell_type": "code",
   "execution_count": 30,
   "metadata": {},
   "outputs": [
    {
     "output_type": "execute_result",
     "data": {
      "text/plain": [
       "4"
      ]
     },
     "metadata": {},
     "execution_count": 30
    }
   ],
   "source": [
    "a[-1]"
   ]
  },
  {
   "cell_type": "code",
   "execution_count": 31,
   "metadata": {},
   "outputs": [
    {
     "output_type": "execute_result",
     "data": {
      "text/plain": [
       "3"
      ]
     },
     "metadata": {},
     "execution_count": 31
    }
   ],
   "source": [
    "a = np.array([[0, 1, 2], [3, 4, 5]]) #2차원에서는 좀 다르다 3을 꺼내오고싶다면,\n",
    "a[1][0]                       #기존리스트에서 이렇게 해도 3이나오긴하는데"
   ]
  },
  {
   "cell_type": "code",
   "execution_count": 32,
   "metadata": {},
   "outputs": [
    {
     "output_type": "execute_result",
     "data": {
      "text/plain": [
       "3"
      ]
     },
     "metadata": {},
     "execution_count": 32
    }
   ],
   "source": [
    "#넘파이에서는 이렇게 쓴다   컴마만 찍으면 되서 편해짐!\n",
    "a[1, 0]"
   ]
  },
  {
   "source": [
    "## 배열슬라이싱 !!!엄청중요!!!!!"
   ],
   "cell_type": "markdown",
   "metadata": {}
  },
  {
   "cell_type": "code",
   "execution_count": 33,
   "metadata": {},
   "outputs": [
    {
     "output_type": "execute_result",
     "data": {
      "text/plain": [
       "array([[0, 1, 2, 3],\n",
       "       [4, 5, 6, 7]])"
      ]
     },
     "metadata": {},
     "execution_count": 33
    }
   ],
   "source": [
    "a = np.array([[0, 1, 2, 3], [4, 5, 6, 7]])\n",
    "a\n"
   ]
  },
  {
   "cell_type": "code",
   "execution_count": 34,
   "metadata": {},
   "outputs": [
    {
     "output_type": "execute_result",
     "data": {
      "text/plain": [
       "array([[1, 2],\n",
       "       [5, 6]])"
      ]
     },
     "metadata": {},
     "execution_count": 34
    }
   ],
   "source": [
    "a[:, 1:3]  #행은 전부 다 :  열은 두개만해서 1:3  \n",
    "#슬라이싱 빛을 발하는 순간이다!!!!!!!!!!!! 외워둬라!!!!"
   ]
  },
  {
   "source": [
    "## 3.1넘파이배열 연습문제2"
   ],
   "cell_type": "markdown",
   "metadata": {}
  },
  {
   "cell_type": "code",
   "execution_count": 36,
   "metadata": {},
   "outputs": [],
   "source": [
    "m = np.array([[ 0,  1,  2,  3,  4],  \n",
    "            [ 5,  6,  7,  8,  9],  \n",
    "            [10, 11, 12, 13, 14]])  "
   ]
  },
  {
   "cell_type": "code",
   "execution_count": 37,
   "metadata": {},
   "outputs": [
    {
     "output_type": "execute_result",
     "data": {
      "text/plain": [
       "7"
      ]
     },
     "metadata": {},
     "execution_count": 37
    }
   ],
   "source": [
    "m[1, 2]"
   ]
  },
  {
   "cell_type": "code",
   "execution_count": 38,
   "metadata": {},
   "outputs": [
    {
     "output_type": "execute_result",
     "data": {
      "text/plain": [
       "14"
      ]
     },
     "metadata": {},
     "execution_count": 38
    }
   ],
   "source": [
    "m[2, 4]"
   ]
  },
  {
   "cell_type": "code",
   "execution_count": 39,
   "metadata": {},
   "outputs": [
    {
     "output_type": "execute_result",
     "data": {
      "text/plain": [
       "array([6, 7])"
      ]
     },
     "metadata": {},
     "execution_count": 39
    }
   ],
   "source": [
    "m[1, 1:3]"
   ]
  },
  {
   "cell_type": "code",
   "execution_count": 40,
   "metadata": {},
   "outputs": [
    {
     "output_type": "execute_result",
     "data": {
      "text/plain": [
       "array([ 7, 12])"
      ]
     },
     "metadata": {},
     "execution_count": 40
    }
   ],
   "source": [
    "m[1:, 2]"
   ]
  },
  {
   "cell_type": "code",
   "execution_count": 42,
   "metadata": {},
   "outputs": [
    {
     "output_type": "execute_result",
     "data": {
      "text/plain": [
       "array([[3, 4],\n",
       "       [8, 9]])"
      ]
     },
     "metadata": {},
     "execution_count": 42
    }
   ],
   "source": [
    "m[:2, 3:]"
   ]
  },
  {
   "source": [
    "## 배열 인덱싱 = 센싱인덱싱"
   ],
   "cell_type": "markdown",
   "metadata": {}
  },
  {
   "cell_type": "code",
   "execution_count": 49,
   "metadata": {},
   "outputs": [
    {
     "output_type": "execute_result",
     "data": {
      "text/plain": [
       "array([0, 2, 4, 6, 8])"
      ]
     },
     "metadata": {},
     "execution_count": 49
    }
   ],
   "source": [
    "a = np.array([0, 1, 2, 3, 4, 5, 6, 7, 8, 9])\n",
    "idx = np.array([True, False, True, False, True,\n",
    "               False, True, False, True, False])\n",
    "a[idx]  #값이 트루인놈만 나온다!!!!!!! 우앙~_~"
   ]
  },
  {
   "cell_type": "code",
   "execution_count": 45,
   "metadata": {},
   "outputs": [
    {
     "output_type": "execute_result",
     "data": {
      "text/plain": [
       "array([0, 1, 0, 1, 0, 1, 0, 1, 0, 1], dtype=int32)"
      ]
     },
     "metadata": {},
     "execution_count": 45
    }
   ],
   "source": [
    "a % 2  #나머지는 0아니면 1이 나온다 그래서 "
   ]
  },
  {
   "cell_type": "code",
   "execution_count": 46,
   "metadata": {},
   "outputs": [
    {
     "output_type": "execute_result",
     "data": {
      "text/plain": [
       "array([ True, False,  True, False,  True, False,  True, False,  True,\n",
       "       False])"
      ]
     },
     "metadata": {},
     "execution_count": 46
    }
   ],
   "source": [
    "a % 2 == 0  #그래서 트루폴스값가능"
   ]
  },
  {
   "cell_type": "code",
   "execution_count": 47,
   "metadata": {},
   "outputs": [
    {
     "output_type": "execute_result",
     "data": {
      "text/plain": [
       "array([0, 2, 4, 6, 8])"
      ]
     },
     "metadata": {},
     "execution_count": 47
    }
   ],
   "source": [
    "a[a % 2 == 0]  #또 그래서 ㅋ 이렇게 처음부터 찍어도 됨"
   ]
  },
  {
   "cell_type": "code",
   "execution_count": 48,
   "metadata": {},
   "outputs": [
    {
     "output_type": "execute_result",
     "data": {
      "text/plain": [
       "array([11, 33, 55, 77, 99])"
      ]
     },
     "metadata": {},
     "execution_count": 48
    }
   ],
   "source": [
    "a = np.array([11, 22, 33, 44, 55, 66, 77, 88, 99])\n",
    "idx = np.array([0, 2, 4, 6, 8])\n",
    "a[idx]   # 0,2,4,6,8 자리의 값만 출력"
   ]
  },
  {
   "cell_type": "code",
   "execution_count": 50,
   "metadata": {},
   "outputs": [
    {
     "output_type": "execute_result",
     "data": {
      "text/plain": [
       "array([[ 1,  2,  3,  4],\n",
       "       [ 5,  6,  7,  8],\n",
       "       [ 9, 10, 11, 12]])"
      ]
     },
     "metadata": {},
     "execution_count": 50
    }
   ],
   "source": [
    "a = np.array([[1, 2, 3, 4], [5, 6, 7, 8], [9, 10, 11, 12]])\n",
    "a                              #3*4 2차원행렬이다."
   ]
  },
  {
   "cell_type": "code",
   "execution_count": 51,
   "metadata": {},
   "outputs": [
    {
     "output_type": "execute_result",
     "data": {
      "text/plain": [
       "array([[ 1,  4],\n",
       "       [ 5,  8],\n",
       "       [ 9, 12]])"
      ]
     },
     "metadata": {},
     "execution_count": 51
    }
   ],
   "source": [
    "a[:, [True, False, False, True]]      #행은 전부: 트루인값만 나온것임"
   ]
  },
  {
   "cell_type": "code",
   "execution_count": 53,
   "metadata": {},
   "outputs": [
    {
     "output_type": "execute_result",
     "data": {
      "text/plain": [
       "array([[ 9, 10, 11, 12],\n",
       "       [ 1,  2,  3,  4],\n",
       "       [ 5,  6,  7,  8]])"
      ]
     },
     "metadata": {},
     "execution_count": 53
    }
   ],
   "source": [
    "a[[2, 0, 1], :]  #순서를 바꿀수도있다. 응????????ㅋㅋㅋ"
   ]
  },
  {
   "source": [
    "## 3.1넘파이배열 연습문제3"
   ],
   "cell_type": "markdown",
   "metadata": {}
  },
  {
   "cell_type": "code",
   "execution_count": 54,
   "metadata": {},
   "outputs": [],
   "source": [
    "x = np.array([1, 2, 3, 4, 5, 6, 7, 8, 9, 10,\n",
    "             11, 12, 13, 14, 15, 16, 17, 18, 19, 20])"
   ]
  },
  {
   "cell_type": "code",
   "execution_count": 57,
   "metadata": {},
   "outputs": [
    {
     "output_type": "execute_result",
     "data": {
      "text/plain": [
       "array([ 3,  6,  9, 12, 15, 18])"
      ]
     },
     "metadata": {},
     "execution_count": 57
    }
   ],
   "source": [
    "#3의 배수를 찾아라\n",
    "x[x % 3 == 0]     "
   ]
  },
  {
   "cell_type": "code",
   "execution_count": 58,
   "metadata": {},
   "outputs": [
    {
     "output_type": "execute_result",
     "data": {
      "text/plain": [
       "array([ 1,  5,  9, 13, 17])"
      ]
     },
     "metadata": {},
     "execution_count": 58
    }
   ],
   "source": [
    "#4로 나누면 1이 남는 수를 찾아라\n",
    "x[x % 4 == 1]  "
   ]
  },
  {
   "cell_type": "code",
   "execution_count": 60,
   "metadata": {},
   "outputs": [
    {
     "output_type": "execute_result",
     "data": {
      "text/plain": [
       "array([9])"
      ]
     },
     "metadata": {},
     "execution_count": 60
    }
   ],
   "source": [
    "#이 배열에서 3으로 나누면 나누어지고 4로 나누면 1이 남는 수를 찾아라.\n",
    "x[(x % 3 == 0) & (x % 4 == 1)]  "
   ]
  }
 ]
}