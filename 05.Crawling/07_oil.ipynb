{
 "cells": [
  {
   "cell_type": "markdown",
   "metadata": {},
   "source": [
    "오피넷 유가정보 셀레니움으로 크롤링하기(jupyter notebook방식)  \n",
    "두개정도로 나눠서 할 수 있다(한번에 해도 됨)\n",
    "# 셀프주유소는 정말 저렴할까?"
   ]
  },
  {
   "cell_type": "code",
   "execution_count": 1,
   "metadata": {},
   "outputs": [],
   "source": [
    "import time\n",
    "import pandas as pd\n",
    "from selenium import webdriver\n",
    "from selenium.webdriver.common.keys import Keys\n",
    "from bs4 import BeautifulSoup"
   ]
  },
  {
   "cell_type": "code",
   "execution_count": 2,
   "metadata": {},
   "outputs": [],
   "source": [
    "driver = webdriver.Chrome('./chromedriver')\n",
    "driver.maximize_window() #주석처리하면.. 페이지가 안나와서 못눌러;; 그래서 꼭 해줘야함\n",
    "driver.get('http://www.opinet.co.kr/searRgSelect.do')\n",
    "time.sleep(1) \n",
    "\n",
    "#싼주유소찾기 페이지주소를 넣었는데도 안간다;; 그래서 퀵메뉴에서 클릭해보는걸로\n",
    "#quick 원하는 포인트 찾아서 클릭만해주면 됨 (변수에넣을필요없다)\n",
    "driver.find_element_by_css_selector('.ic_m1').click()\n",
    "time.sleep(2)       #안넣으면 너무 빨라서 또 에러나는 경우가있으니 2초정도 넣어준다;\n",
    "\n",
    "region = driver.find_element_by_xpath('//*[@id=\"SIGUNGU_NM0\"]')\n",
    "#region = driver.find_element_by_id(\"SIGUNGU_NM\") #이것과 같다 \n",
    "gu_list = region.find_elements_by_tag_name('option')\n",
    "#옵션의 구리스트를 구네임즈로 만듦 gu_names = []\n",
    "\n",
    "gu_names = [gu.get_attribute('value') for gu in gu_list]  #파이썬다운코드(한줄로줄임)\n",
    "''' gu_names = []\n",
    "for gu in gu_list:\n",
    "    name = gu.get_attribute('value')\n",
    "    gu_names.append(name) '''\n",
    "del gu_names[0] # 첫줄에 내용없는것 삭제 "
   ]
  },
  {
   "cell_type": "code",
   "execution_count": 3,
   "metadata": {},
   "outputs": [
    {
     "ename": "NoSuchWindowException",
     "evalue": "Message: no such window: target window already closed\nfrom unknown error: web view not found\n  (Session info: chrome=87.0.4280.66)\n",
     "output_type": "error",
     "traceback": [
      "\u001b[1;31m---------------------------------------------------------------------------\u001b[0m",
      "\u001b[1;31mNoSuchWindowException\u001b[0m                     Traceback (most recent call last)",
      "\u001b[1;32m<ipython-input-3-e6469a968815>\u001b[0m in \u001b[0;36m<module>\u001b[1;34m\u001b[0m\n\u001b[0;32m      5\u001b[0m     \u001b[0mtime\u001b[0m\u001b[1;33m.\u001b[0m\u001b[0msleep\u001b[0m\u001b[1;33m(\u001b[0m\u001b[1;36m1\u001b[0m\u001b[1;33m)\u001b[0m\u001b[1;33m\u001b[0m\u001b[1;33m\u001b[0m\u001b[0m\n\u001b[0;32m      6\u001b[0m \u001b[1;33m\u001b[0m\u001b[0m\n\u001b[1;32m----> 7\u001b[1;33m     \u001b[0mdriver\u001b[0m\u001b[1;33m.\u001b[0m\u001b[0mfind_element_by_xpath\u001b[0m\u001b[1;33m(\u001b[0m\u001b[1;34m'//*[@id=\"glopopd_excel\"]/span'\u001b[0m\u001b[1;33m)\u001b[0m\u001b[1;33m.\u001b[0m\u001b[0mclick\u001b[0m\u001b[1;33m(\u001b[0m\u001b[1;33m)\u001b[0m\u001b[1;33m\u001b[0m\u001b[1;33m\u001b[0m\u001b[0m\n\u001b[0m\u001b[0;32m      8\u001b[0m     \u001b[0mtime\u001b[0m\u001b[1;33m.\u001b[0m\u001b[0msleep\u001b[0m\u001b[1;33m(\u001b[0m\u001b[1;36m2\u001b[0m\u001b[1;33m)\u001b[0m\u001b[1;33m\u001b[0m\u001b[1;33m\u001b[0m\u001b[0m\n\u001b[0;32m      9\u001b[0m     \u001b[1;31m#엑셀 0~24까지 25개 저장 확인완\u001b[0m\u001b[1;33m\u001b[0m\u001b[1;33m\u001b[0m\u001b[1;33m\u001b[0m\u001b[0m\n",
      "\u001b[1;32m~\\anaconda3\\lib\\site-packages\\selenium\\webdriver\\remote\\webdriver.py\u001b[0m in \u001b[0;36mfind_element_by_xpath\u001b[1;34m(self, xpath)\u001b[0m\n\u001b[0;32m    392\u001b[0m             \u001b[0melement\u001b[0m \u001b[1;33m=\u001b[0m \u001b[0mdriver\u001b[0m\u001b[1;33m.\u001b[0m\u001b[0mfind_element_by_xpath\u001b[0m\u001b[1;33m(\u001b[0m\u001b[1;34m'//div/td[1]'\u001b[0m\u001b[1;33m)\u001b[0m\u001b[1;33m\u001b[0m\u001b[1;33m\u001b[0m\u001b[0m\n\u001b[0;32m    393\u001b[0m         \"\"\"\n\u001b[1;32m--> 394\u001b[1;33m         \u001b[1;32mreturn\u001b[0m \u001b[0mself\u001b[0m\u001b[1;33m.\u001b[0m\u001b[0mfind_element\u001b[0m\u001b[1;33m(\u001b[0m\u001b[0mby\u001b[0m\u001b[1;33m=\u001b[0m\u001b[0mBy\u001b[0m\u001b[1;33m.\u001b[0m\u001b[0mXPATH\u001b[0m\u001b[1;33m,\u001b[0m \u001b[0mvalue\u001b[0m\u001b[1;33m=\u001b[0m\u001b[0mxpath\u001b[0m\u001b[1;33m)\u001b[0m\u001b[1;33m\u001b[0m\u001b[1;33m\u001b[0m\u001b[0m\n\u001b[0m\u001b[0;32m    395\u001b[0m \u001b[1;33m\u001b[0m\u001b[0m\n\u001b[0;32m    396\u001b[0m     \u001b[1;32mdef\u001b[0m \u001b[0mfind_elements_by_xpath\u001b[0m\u001b[1;33m(\u001b[0m\u001b[0mself\u001b[0m\u001b[1;33m,\u001b[0m \u001b[0mxpath\u001b[0m\u001b[1;33m)\u001b[0m\u001b[1;33m:\u001b[0m\u001b[1;33m\u001b[0m\u001b[1;33m\u001b[0m\u001b[0m\n",
      "\u001b[1;32m~\\anaconda3\\lib\\site-packages\\selenium\\webdriver\\remote\\webdriver.py\u001b[0m in \u001b[0;36mfind_element\u001b[1;34m(self, by, value)\u001b[0m\n\u001b[0;32m    974\u001b[0m                 \u001b[0mby\u001b[0m \u001b[1;33m=\u001b[0m \u001b[0mBy\u001b[0m\u001b[1;33m.\u001b[0m\u001b[0mCSS_SELECTOR\u001b[0m\u001b[1;33m\u001b[0m\u001b[1;33m\u001b[0m\u001b[0m\n\u001b[0;32m    975\u001b[0m                 \u001b[0mvalue\u001b[0m \u001b[1;33m=\u001b[0m \u001b[1;34m'[name=\"%s\"]'\u001b[0m \u001b[1;33m%\u001b[0m \u001b[0mvalue\u001b[0m\u001b[1;33m\u001b[0m\u001b[1;33m\u001b[0m\u001b[0m\n\u001b[1;32m--> 976\u001b[1;33m         return self.execute(Command.FIND_ELEMENT, {\n\u001b[0m\u001b[0;32m    977\u001b[0m             \u001b[1;34m'using'\u001b[0m\u001b[1;33m:\u001b[0m \u001b[0mby\u001b[0m\u001b[1;33m,\u001b[0m\u001b[1;33m\u001b[0m\u001b[1;33m\u001b[0m\u001b[0m\n\u001b[0;32m    978\u001b[0m             'value': value})['value']\n",
      "\u001b[1;32m~\\anaconda3\\lib\\site-packages\\selenium\\webdriver\\remote\\webdriver.py\u001b[0m in \u001b[0;36mexecute\u001b[1;34m(self, driver_command, params)\u001b[0m\n\u001b[0;32m    319\u001b[0m         \u001b[0mresponse\u001b[0m \u001b[1;33m=\u001b[0m \u001b[0mself\u001b[0m\u001b[1;33m.\u001b[0m\u001b[0mcommand_executor\u001b[0m\u001b[1;33m.\u001b[0m\u001b[0mexecute\u001b[0m\u001b[1;33m(\u001b[0m\u001b[0mdriver_command\u001b[0m\u001b[1;33m,\u001b[0m \u001b[0mparams\u001b[0m\u001b[1;33m)\u001b[0m\u001b[1;33m\u001b[0m\u001b[1;33m\u001b[0m\u001b[0m\n\u001b[0;32m    320\u001b[0m         \u001b[1;32mif\u001b[0m \u001b[0mresponse\u001b[0m\u001b[1;33m:\u001b[0m\u001b[1;33m\u001b[0m\u001b[1;33m\u001b[0m\u001b[0m\n\u001b[1;32m--> 321\u001b[1;33m             \u001b[0mself\u001b[0m\u001b[1;33m.\u001b[0m\u001b[0merror_handler\u001b[0m\u001b[1;33m.\u001b[0m\u001b[0mcheck_response\u001b[0m\u001b[1;33m(\u001b[0m\u001b[0mresponse\u001b[0m\u001b[1;33m)\u001b[0m\u001b[1;33m\u001b[0m\u001b[1;33m\u001b[0m\u001b[0m\n\u001b[0m\u001b[0;32m    322\u001b[0m             response['value'] = self._unwrap_value(\n\u001b[0;32m    323\u001b[0m                 response.get('value', None))\n",
      "\u001b[1;32m~\\anaconda3\\lib\\site-packages\\selenium\\webdriver\\remote\\errorhandler.py\u001b[0m in \u001b[0;36mcheck_response\u001b[1;34m(self, response)\u001b[0m\n\u001b[0;32m    240\u001b[0m                 \u001b[0malert_text\u001b[0m \u001b[1;33m=\u001b[0m \u001b[0mvalue\u001b[0m\u001b[1;33m[\u001b[0m\u001b[1;34m'alert'\u001b[0m\u001b[1;33m]\u001b[0m\u001b[1;33m.\u001b[0m\u001b[0mget\u001b[0m\u001b[1;33m(\u001b[0m\u001b[1;34m'text'\u001b[0m\u001b[1;33m)\u001b[0m\u001b[1;33m\u001b[0m\u001b[1;33m\u001b[0m\u001b[0m\n\u001b[0;32m    241\u001b[0m             \u001b[1;32mraise\u001b[0m \u001b[0mexception_class\u001b[0m\u001b[1;33m(\u001b[0m\u001b[0mmessage\u001b[0m\u001b[1;33m,\u001b[0m \u001b[0mscreen\u001b[0m\u001b[1;33m,\u001b[0m \u001b[0mstacktrace\u001b[0m\u001b[1;33m,\u001b[0m \u001b[0malert_text\u001b[0m\u001b[1;33m)\u001b[0m\u001b[1;33m\u001b[0m\u001b[1;33m\u001b[0m\u001b[0m\n\u001b[1;32m--> 242\u001b[1;33m         \u001b[1;32mraise\u001b[0m \u001b[0mexception_class\u001b[0m\u001b[1;33m(\u001b[0m\u001b[0mmessage\u001b[0m\u001b[1;33m,\u001b[0m \u001b[0mscreen\u001b[0m\u001b[1;33m,\u001b[0m \u001b[0mstacktrace\u001b[0m\u001b[1;33m)\u001b[0m\u001b[1;33m\u001b[0m\u001b[1;33m\u001b[0m\u001b[0m\n\u001b[0m\u001b[0;32m    243\u001b[0m \u001b[1;33m\u001b[0m\u001b[0m\n\u001b[0;32m    244\u001b[0m     \u001b[1;32mdef\u001b[0m \u001b[0m_value_or_default\u001b[0m\u001b[1;33m(\u001b[0m\u001b[0mself\u001b[0m\u001b[1;33m,\u001b[0m \u001b[0mobj\u001b[0m\u001b[1;33m,\u001b[0m \u001b[0mkey\u001b[0m\u001b[1;33m,\u001b[0m \u001b[0mdefault\u001b[0m\u001b[1;33m)\u001b[0m\u001b[1;33m:\u001b[0m\u001b[1;33m\u001b[0m\u001b[1;33m\u001b[0m\u001b[0m\n",
      "\u001b[1;31mNoSuchWindowException\u001b[0m: Message: no such window: target window already closed\nfrom unknown error: web view not found\n  (Session info: chrome=87.0.4280.66)\n"
     ]
    }
   ],
   "source": [
    "# 25개 자치구에 대해서 엑셀다운로드(루핑) 위복붙\n",
    "for gu in gu_names:\n",
    "    region = driver.find_element_by_id('SIGUNGU_NM0')\n",
    "    region.send_keys(gu)\n",
    "    time.sleep(1)\n",
    "\n",
    "    driver.find_element_by_xpath('//*[@id=\"glopopd_excel\"]/span').click()\n",
    "    time.sleep(2)\n",
    "    #엑셀 0~24까지 25개 저장 확인완"
   ]
  },
  {
   "cell_type": "code",
   "execution_count": 4,
   "metadata": {},
   "outputs": [],
   "source": [
    "driver.quit() #그냥 마지막으로 꼭 해주는거ㅋ"
   ]
  },
  {
   "cell_type": "markdown",
   "metadata": {},
   "source": [
    "## 구별 주유가격에 대한(엑셀) 데이터정리"
   ]
  },
  {
   "cell_type": "code",
   "execution_count": 5,
   "metadata": {},
   "outputs": [],
   "source": [
    "import pandas as pd \n",
    "from glob import glob"
   ]
  },
  {
   "cell_type": "code",
   "execution_count": 6,
   "metadata": {},
   "outputs": [
    {
     "data": {
      "text/plain": [
       "['./station_data\\\\지역_위치별(주유소) (1).xls',\n",
       " './station_data\\\\지역_위치별(주유소) (10).xls',\n",
       " './station_data\\\\지역_위치별(주유소) (11).xls',\n",
       " './station_data\\\\지역_위치별(주유소) (12).xls',\n",
       " './station_data\\\\지역_위치별(주유소) (13).xls',\n",
       " './station_data\\\\지역_위치별(주유소) (14).xls',\n",
       " './station_data\\\\지역_위치별(주유소) (15).xls',\n",
       " './station_data\\\\지역_위치별(주유소) (16).xls',\n",
       " './station_data\\\\지역_위치별(주유소) (17).xls',\n",
       " './station_data\\\\지역_위치별(주유소) (18).xls',\n",
       " './station_data\\\\지역_위치별(주유소) (19).xls',\n",
       " './station_data\\\\지역_위치별(주유소) (2).xls',\n",
       " './station_data\\\\지역_위치별(주유소) (20).xls',\n",
       " './station_data\\\\지역_위치별(주유소) (21).xls',\n",
       " './station_data\\\\지역_위치별(주유소) (22).xls',\n",
       " './station_data\\\\지역_위치별(주유소) (23).xls',\n",
       " './station_data\\\\지역_위치별(주유소) (24).xls',\n",
       " './station_data\\\\지역_위치별(주유소) (3).xls',\n",
       " './station_data\\\\지역_위치별(주유소) (4).xls',\n",
       " './station_data\\\\지역_위치별(주유소) (5).xls',\n",
       " './station_data\\\\지역_위치별(주유소) (6).xls',\n",
       " './station_data\\\\지역_위치별(주유소) (7).xls',\n",
       " './station_data\\\\지역_위치별(주유소) (8).xls',\n",
       " './station_data\\\\지역_위치별(주유소) (9).xls',\n",
       " './station_data\\\\지역_위치별(주유소).xls']"
      ]
     },
     "execution_count": 6,
     "metadata": {},
     "output_type": "execute_result"
    }
   ],
   "source": [
    "glob('./station_data/지역*.xls')  #25개 파일들이 한개의 데이터프레임으로 묶어서 작업하려고glob()"
   ]
  },
  {
   "cell_type": "code",
   "execution_count": 7,
   "metadata": {},
   "outputs": [
    {
     "data": {
      "text/html": [
       "<div>\n",
       "<style scoped>\n",
       "    .dataframe tbody tr th:only-of-type {\n",
       "        vertical-align: middle;\n",
       "    }\n",
       "\n",
       "    .dataframe tbody tr th {\n",
       "        vertical-align: top;\n",
       "    }\n",
       "\n",
       "    .dataframe thead th {\n",
       "        text-align: right;\n",
       "    }\n",
       "</style>\n",
       "<table border=\"1\" class=\"dataframe\">\n",
       "  <thead>\n",
       "    <tr style=\"text-align: right;\">\n",
       "      <th></th>\n",
       "      <th>지역</th>\n",
       "      <th>상호</th>\n",
       "      <th>주소</th>\n",
       "      <th>상표</th>\n",
       "      <th>전화번호</th>\n",
       "      <th>셀프여부</th>\n",
       "      <th>고급휘발유</th>\n",
       "      <th>휘발유</th>\n",
       "      <th>경유</th>\n",
       "      <th>실내등유</th>\n",
       "    </tr>\n",
       "  </thead>\n",
       "  <tbody>\n",
       "    <tr>\n",
       "      <th>0</th>\n",
       "      <td>서울특별시</td>\n",
       "      <td>(주)보성 세곡주유소</td>\n",
       "      <td>서울 강남구  헌릉로 731 (세곡동)</td>\n",
       "      <td>SK에너지</td>\n",
       "      <td>02-445-6870</td>\n",
       "      <td>Y</td>\n",
       "      <td>-</td>\n",
       "      <td>1355</td>\n",
       "      <td>1155</td>\n",
       "      <td>-</td>\n",
       "    </tr>\n",
       "    <tr>\n",
       "      <th>1</th>\n",
       "      <td>서울특별시</td>\n",
       "      <td>오일프러스 셀프</td>\n",
       "      <td>서울 강남구 남부순환로 2651 (도곡동)</td>\n",
       "      <td>SK에너지</td>\n",
       "      <td>02-3462-5100</td>\n",
       "      <td>Y</td>\n",
       "      <td>1537</td>\n",
       "      <td>1359</td>\n",
       "      <td>1154</td>\n",
       "      <td>-</td>\n",
       "    </tr>\n",
       "    <tr>\n",
       "      <th>2</th>\n",
       "      <td>서울특별시</td>\n",
       "      <td>현대오일뱅크 도곡셀프주유소</td>\n",
       "      <td>서울 강남구  남부순환로 2718 (도곡2동)</td>\n",
       "      <td>현대오일뱅크</td>\n",
       "      <td>02-529-5101</td>\n",
       "      <td>Y</td>\n",
       "      <td>1547</td>\n",
       "      <td>1363</td>\n",
       "      <td>1159</td>\n",
       "      <td>-</td>\n",
       "    </tr>\n",
       "    <tr>\n",
       "      <th>3</th>\n",
       "      <td>서울특별시</td>\n",
       "      <td>GS칼텍스(주)직영 산성주유소</td>\n",
       "      <td>서울 강남구 헌릉로 730</td>\n",
       "      <td>GS칼텍스</td>\n",
       "      <td>02-2226-4963</td>\n",
       "      <td>Y</td>\n",
       "      <td>-</td>\n",
       "      <td>1373</td>\n",
       "      <td>1185</td>\n",
       "      <td>-</td>\n",
       "    </tr>\n",
       "    <tr>\n",
       "      <th>4</th>\n",
       "      <td>서울특별시</td>\n",
       "      <td>현대오일뱅크(주) 유진주유소</td>\n",
       "      <td>서울 강남구 논현로 152 (도곡동)</td>\n",
       "      <td>현대오일뱅크</td>\n",
       "      <td>02-3462-5215</td>\n",
       "      <td>N</td>\n",
       "      <td>1562</td>\n",
       "      <td>1378</td>\n",
       "      <td>1174</td>\n",
       "      <td>1070</td>\n",
       "    </tr>\n",
       "  </tbody>\n",
       "</table>\n",
       "</div>"
      ],
      "text/plain": [
       "      지역                상호                         주소      상표          전화번호  \\\n",
       "0  서울특별시       (주)보성 세곡주유소      서울 강남구  헌릉로 731 (세곡동)   SK에너지   02-445-6870   \n",
       "1  서울특별시          오일프러스 셀프    서울 강남구 남부순환로 2651 (도곡동)   SK에너지  02-3462-5100   \n",
       "2  서울특별시    현대오일뱅크 도곡셀프주유소  서울 강남구  남부순환로 2718 (도곡2동)  현대오일뱅크   02-529-5101   \n",
       "3  서울특별시  GS칼텍스(주)직영 산성주유소             서울 강남구 헌릉로 730   GS칼텍스  02-2226-4963   \n",
       "4  서울특별시   현대오일뱅크(주) 유진주유소       서울 강남구 논현로 152 (도곡동)  현대오일뱅크  02-3462-5215   \n",
       "\n",
       "  셀프여부 고급휘발유   휘발유    경유  실내등유  \n",
       "0    Y     -  1355  1155     -  \n",
       "1    Y  1537  1359  1154     -  \n",
       "2    Y  1547  1363  1159     -  \n",
       "3    Y     -  1373  1185     -  \n",
       "4    N  1562  1378  1174  1070  "
      ]
     },
     "execution_count": 7,
     "metadata": {},
     "output_type": "execute_result"
    }
   ],
   "source": [
    "#일단 하나 찍어보자 \n",
    "df = pd.read_excel('./station_data/지역_위치별(주유소).xls', header=2) #헤더2개날리고 컬럼명 잘 들어갔나~_~\n",
    "df.head()"
   ]
  },
  {
   "cell_type": "code",
   "execution_count": 8,
   "metadata": {},
   "outputs": [],
   "source": [
    "#엑셀하나 열어보면 1.2줄은 날려야하는거, 3줄이 컬럼명, 그 아래들이 데이터\n",
    "station_files = glob('./station_data/지역*.xls')\n",
    "tmp_raw = []\n",
    "\n",
    "for file_name in station_files:\n",
    "    tmp = pd.read_excel(file_name, header=2)\n",
    "    tmp_raw.append(tmp)\n",
    "\n",
    "station_raw = pd.concat(tmp_raw) #파일하나로 합쳐짐concat"
   ]
  },
  {
   "cell_type": "code",
   "execution_count": 9,
   "metadata": {},
   "outputs": [
    {
     "name": "stdout",
     "output_type": "stream",
     "text": [
      "<class 'pandas.core.frame.DataFrame'>\n",
      "Int64Index: 498 entries, 0 to 39\n",
      "Data columns (total 10 columns):\n",
      " #   Column  Non-Null Count  Dtype \n",
      "---  ------  --------------  ----- \n",
      " 0   지역      498 non-null    object\n",
      " 1   상호      498 non-null    object\n",
      " 2   주소      498 non-null    object\n",
      " 3   상표      498 non-null    object\n",
      " 4   전화번호    498 non-null    object\n",
      " 5   셀프여부    498 non-null    object\n",
      " 6   고급휘발유   498 non-null    object\n",
      " 7   휘발유     498 non-null    object\n",
      " 8   경유      498 non-null    object\n",
      " 9   실내등유    498 non-null    object\n",
      "dtypes: object(10)\n",
      "memory usage: 42.8+ KB\n"
     ]
    }
   ],
   "source": [
    "#합쳐진것 확인 498entries\n",
    "station_raw.info()   "
   ]
  },
  {
   "cell_type": "code",
   "execution_count": 10,
   "metadata": {},
   "outputs": [
    {
     "data": {
      "text/html": [
       "<div>\n",
       "<style scoped>\n",
       "    .dataframe tbody tr th:only-of-type {\n",
       "        vertical-align: middle;\n",
       "    }\n",
       "\n",
       "    .dataframe tbody tr th {\n",
       "        vertical-align: top;\n",
       "    }\n",
       "\n",
       "    .dataframe thead th {\n",
       "        text-align: right;\n",
       "    }\n",
       "</style>\n",
       "<table border=\"1\" class=\"dataframe\">\n",
       "  <thead>\n",
       "    <tr style=\"text-align: right;\">\n",
       "      <th></th>\n",
       "      <th>상호</th>\n",
       "      <th>주소</th>\n",
       "      <th>가격</th>\n",
       "      <th>셀프</th>\n",
       "      <th>상표</th>\n",
       "    </tr>\n",
       "  </thead>\n",
       "  <tbody>\n",
       "    <tr>\n",
       "      <th>0</th>\n",
       "      <td>구천면주유소</td>\n",
       "      <td>서울 강동구 구천면로 357 (암사동)</td>\n",
       "      <td>1374</td>\n",
       "      <td>N</td>\n",
       "      <td>현대오일뱅크</td>\n",
       "    </tr>\n",
       "    <tr>\n",
       "      <th>1</th>\n",
       "      <td>지에스칼텍스㈜ 신월주유소</td>\n",
       "      <td>서울 강동구 양재대로 1323 (성내동)</td>\n",
       "      <td>1385</td>\n",
       "      <td>N</td>\n",
       "      <td>GS칼텍스</td>\n",
       "    </tr>\n",
       "    <tr>\n",
       "      <th>2</th>\n",
       "      <td>현대오일뱅크㈜직영 고속셀프주유소</td>\n",
       "      <td>서울 강동구 천호대로 1246</td>\n",
       "      <td>1386</td>\n",
       "      <td>Y</td>\n",
       "      <td>현대오일뱅크</td>\n",
       "    </tr>\n",
       "    <tr>\n",
       "      <th>3</th>\n",
       "      <td>방아다리주유소</td>\n",
       "      <td>서울 강동구 동남로 811 (명일동)</td>\n",
       "      <td>1395</td>\n",
       "      <td>Y</td>\n",
       "      <td>SK에너지</td>\n",
       "    </tr>\n",
       "    <tr>\n",
       "      <th>4</th>\n",
       "      <td>현대오일뱅크㈜직영 명일셀프주유소</td>\n",
       "      <td>서울 강동구 고덕로 168 (명일동)</td>\n",
       "      <td>1395</td>\n",
       "      <td>Y</td>\n",
       "      <td>현대오일뱅크</td>\n",
       "    </tr>\n",
       "  </tbody>\n",
       "</table>\n",
       "</div>"
      ],
      "text/plain": [
       "                  상호                      주소    가격 셀프      상표\n",
       "0             구천면주유소   서울 강동구 구천면로 357 (암사동)  1374  N  현대오일뱅크\n",
       "1      지에스칼텍스㈜ 신월주유소  서울 강동구 양재대로 1323 (성내동)  1385  N   GS칼텍스\n",
       "2  현대오일뱅크㈜직영 고속셀프주유소        서울 강동구 천호대로 1246  1386  Y  현대오일뱅크\n",
       "3            방아다리주유소    서울 강동구 동남로 811 (명일동)  1395  Y   SK에너지\n",
       "4  현대오일뱅크㈜직영 명일셀프주유소    서울 강동구 고덕로 168 (명일동)  1395  Y  현대오일뱅크"
      ]
     },
     "execution_count": 10,
     "metadata": {},
     "output_type": "execute_result"
    }
   ],
   "source": [
    "#185p.  엑셀자료중' 상호 주소 상표 셀프여부 휘발유' 5가지칼럼으로 만든다.\n",
    "stations = pd.DataFrame({\n",
    "    '상호': station_raw['상호'],\n",
    "    '주소': station_raw['주소'],\n",
    "    '가격': station_raw['휘발유'],\n",
    "    '셀프': station_raw['셀프여부'],\n",
    "    '상표': station_raw['상표']\n",
    "})\n",
    "stations.head()"
   ]
  },
  {
   "cell_type": "code",
   "execution_count": 11,
   "metadata": {},
   "outputs": [
    {
     "data": {
      "text/html": [
       "<div>\n",
       "<style scoped>\n",
       "    .dataframe tbody tr th:only-of-type {\n",
       "        vertical-align: middle;\n",
       "    }\n",
       "\n",
       "    .dataframe tbody tr th {\n",
       "        vertical-align: top;\n",
       "    }\n",
       "\n",
       "    .dataframe thead th {\n",
       "        text-align: right;\n",
       "    }\n",
       "</style>\n",
       "<table border=\"1\" class=\"dataframe\">\n",
       "  <thead>\n",
       "    <tr style=\"text-align: right;\">\n",
       "      <th></th>\n",
       "      <th>상호</th>\n",
       "      <th>주소</th>\n",
       "      <th>가격</th>\n",
       "      <th>셀프</th>\n",
       "      <th>상표</th>\n",
       "      <th>구</th>\n",
       "    </tr>\n",
       "  </thead>\n",
       "  <tbody>\n",
       "    <tr>\n",
       "      <th>35</th>\n",
       "      <td>(주)소모에너지엔테크놀러지 쎈트럴주유소</td>\n",
       "      <td>서울 강남구 삼성로 335</td>\n",
       "      <td>1883</td>\n",
       "      <td>N</td>\n",
       "      <td>GS칼텍스</td>\n",
       "      <td>강남구</td>\n",
       "    </tr>\n",
       "    <tr>\n",
       "      <th>36</th>\n",
       "      <td>(주)만정에너지</td>\n",
       "      <td>서울 강남구 봉은사로 433 (삼성동)</td>\n",
       "      <td>1913</td>\n",
       "      <td>N</td>\n",
       "      <td>GS칼텍스</td>\n",
       "      <td>강남구</td>\n",
       "    </tr>\n",
       "    <tr>\n",
       "      <th>37</th>\n",
       "      <td>뉴서울(강남)</td>\n",
       "      <td>서울 강남구 언주로 716 (논현동)</td>\n",
       "      <td>2025</td>\n",
       "      <td>N</td>\n",
       "      <td>SK에너지</td>\n",
       "      <td>강남구</td>\n",
       "    </tr>\n",
       "    <tr>\n",
       "      <th>38</th>\n",
       "      <td>삼성주유소</td>\n",
       "      <td>서울 강남구 삼성로 521 (삼성동)</td>\n",
       "      <td>-</td>\n",
       "      <td>N</td>\n",
       "      <td>SK에너지</td>\n",
       "      <td>강남구</td>\n",
       "    </tr>\n",
       "    <tr>\n",
       "      <th>39</th>\n",
       "      <td>동우주유소</td>\n",
       "      <td>서울특별시 강남구  봉은사로 311 (논현동)</td>\n",
       "      <td>-</td>\n",
       "      <td>N</td>\n",
       "      <td>SK에너지</td>\n",
       "      <td>강남구</td>\n",
       "    </tr>\n",
       "  </tbody>\n",
       "</table>\n",
       "</div>"
      ],
      "text/plain": [
       "                       상호                         주소    가격 셀프     상표    구\n",
       "35  (주)소모에너지엔테크놀러지 쎈트럴주유소             서울 강남구 삼성로 335  1883  N  GS칼텍스  강남구\n",
       "36               (주)만정에너지      서울 강남구 봉은사로 433 (삼성동)  1913  N  GS칼텍스  강남구\n",
       "37                뉴서울(강남)       서울 강남구 언주로 716 (논현동)  2025  N  SK에너지  강남구\n",
       "38                  삼성주유소       서울 강남구 삼성로 521 (삼성동)     -  N  SK에너지  강남구\n",
       "39                  동우주유소  서울특별시 강남구  봉은사로 311 (논현동)     -  N  SK에너지  강남구"
      ]
     },
     "execution_count": 11,
     "metadata": {},
     "output_type": "execute_result"
    }
   ],
   "source": [
    "#'구'컬럼을 추가로 만드는데 주소에서 스플릿을해서 첫번째부분을 적용\n",
    "stations['구'] = [addr.split()[1] for addr in stations['주소']]\n",
    "stations.tail()  #한번 테일로보니까.. (휘발유)가격이 없는곳도 있네..  \n",
    "#엑셀은 100만줄까지만가능.. 판다스는 더 많은 데이터도 가능하다.(그래서 판다스 쓰시오)"
   ]
  },
  {
   "cell_type": "code",
   "execution_count": 12,
   "metadata": {},
   "outputs": [
    {
     "data": {
      "text/plain": [
       "array(['강동구', '동대문구', '동작구', '마포구', '서대문구', '서초구', '성동구', '성북구', '송파구',\n",
       "       '양천구', '영등포구', '강북구', '용산구', '은평구', '종로구', '중구', '중랑구', '강서구',\n",
       "       '관악구', '광진구', '구로구', '금천구', '노원구', '도봉구', '강남구'], dtype=object)"
      ]
     },
     "execution_count": 12,
     "metadata": {},
     "output_type": "execute_result"
    }
   ],
   "source": [
    "#유니크한 값이 몇개있나? 확인하니 25개나옴. 더이상 구에대해서 정리안해도되겠다~_~\n",
    "stations['구'].unique()  "
   ]
  },
  {
   "cell_type": "code",
   "execution_count": 13,
   "metadata": {},
   "outputs": [
    {
     "name": "stdout",
     "output_type": "stream",
     "text": [
      "<class 'pandas.core.frame.DataFrame'>\n",
      "Int64Index: 487 entries, 0 to 37\n",
      "Data columns (total 6 columns):\n",
      " #   Column  Non-Null Count  Dtype \n",
      "---  ------  --------------  ----- \n",
      " 0   상호      487 non-null    object\n",
      " 1   주소      487 non-null    object\n",
      " 2   가격      487 non-null    object\n",
      " 3   셀프      487 non-null    object\n",
      " 4   상표      487 non-null    object\n",
      " 5   구       487 non-null    object\n",
      "dtypes: object(6)\n",
      "memory usage: 26.6+ KB\n"
     ]
    }
   ],
   "source": [
    "#가격 - 이 표시인곳은 빼자\n",
    "stations = stations[stations['가격'] != '-']\n",
    "stations.info()  \n",
    "#498개중 487만 남았다 11개정도 정리한듯 ㅎㅎ"
   ]
  },
  {
   "cell_type": "code",
   "execution_count": 14,
   "metadata": {},
   "outputs": [
    {
     "name": "stdout",
     "output_type": "stream",
     "text": [
      "<class 'pandas.core.frame.DataFrame'>\n",
      "Int64Index: 487 entries, 0 to 37\n",
      "Data columns (total 6 columns):\n",
      " #   Column  Non-Null Count  Dtype \n",
      "---  ------  --------------  ----- \n",
      " 0   상호      487 non-null    object\n",
      " 1   주소      487 non-null    object\n",
      " 2   가격      487 non-null    int64 \n",
      " 3   셀프      487 non-null    object\n",
      " 4   상표      487 non-null    object\n",
      " 5   구       487 non-null    object\n",
      "dtypes: int64(1), object(5)\n",
      "memory usage: 26.6+ KB\n"
     ]
    }
   ],
   "source": [
    "# 가격컬럼의 타입. 스트링에서 인트로 바꾸자\n",
    "stations['가격'] = pd.to_numeric(stations['가격'])\n",
    "stations.info()\n",
    "#  2   가격      487 non-null    int64  인트64부분 확인완"
   ]
  },
  {
   "cell_type": "markdown",
   "metadata": {},
   "source": [
    "## 4-4셀프주유소가 정말 저렴한지 Boxplot으로 확인하기"
   ]
  },
  {
   "cell_type": "code",
   "execution_count": 15,
   "metadata": {},
   "outputs": [],
   "source": [
    "import seaborn as sns           #04.Visual폴더 04_seaborn에 있는거 가져옴\n",
    "import matplotlib as mpl \n",
    "import matplotlib.pyplot as plt \n",
    "%matplotlib inline\n",
    "# 한글폰트 사용\n",
    "mpl.rc('font', family='Malgun Gothic')\n",
    "mpl.rc('axes', unicode_minus=False)"
   ]
  },
  {
   "cell_type": "code",
   "execution_count": 16,
   "metadata": {},
   "outputs": [
    {
     "data": {
      "text/plain": [
       "<matplotlib.axes._subplots.AxesSubplot at 0x23c438683d0>"
      ]
     },
     "execution_count": 16,
     "metadata": {},
     "output_type": "execute_result"
    },
    {
     "data": {
      "image/png": "[encoded data removed]",
      "text/plain": [
       "<Figure size 864x576 with 1 Axes>"
      ]
     },
     "metadata": {
      "needs_background": "light"
     },
     "output_type": "display_data"
    }
   ],
   "source": [
    "stations.boxplot(column='가격', by='셀프', figsize=(12,8))\n",
    "#셀프주유소가 저렴해보이나.. 그렇지않다(가설검정)\n",
    "#                               H0 차이가없다 귀무가설\n",
    "#                               H1 차이가있다 대립가설\n",
    "# T분포로 판단 ;;;;;"
   ]
  },
  {
   "cell_type": "code",
   "execution_count": 17,
   "metadata": {},
   "outputs": [
    {
     "data": {
      "image/png": "[encoded data removed]",
      "text/plain": [
       "<Figure size 864x576 with 1 Axes>"
      ]
     },
     "metadata": {
      "needs_background": "light"
     },
     "output_type": "display_data"
    }
   ],
   "source": [
    "#시본에 있는 박스플롯으로 \n",
    "plt.figure(figsize=(12,8))\n",
    "sns.boxplot(x=\"상표\", y=\"가격\", hue=\"셀프\", data=stations, palette=\"Set3\")\n",
    "plt.show()"
   ]
  },
  {
   "cell_type": "code",
   "execution_count": 18,
   "metadata": {},
   "outputs": [
    {
     "data": {
      "text/plain": [
       "<function matplotlib.pyplot.show(*args, **kw)>"
      ]
     },
     "execution_count": 18,
     "metadata": {},
     "output_type": "execute_result"
    },
    {
     "data": {
      "image/png": "[encoded data removed]",
      "text/plain": [
       "<Figure size 864x576 with 1 Axes>"
      ]
     },
     "metadata": {
      "needs_background": "light"
     },
     "output_type": "display_data"
    }
   ],
   "source": [
    "plt.figure(figsize=(12,8))\n",
    "sns.boxplot(x=\"상표\", y=\"가격\", data=stations, palette=\"Set3\")\n",
    "sns.swarmplot(x=\"상표\", y=\"가격\", data=stations, color=\".6\")\n",
    "plt.show"
   ]
  },
  {
   "cell_type": "markdown",
   "metadata": {},
   "source": [
    "## 4-5서울시 구별 휘발유 가격 확인"
   ]
  },
  {
   "cell_type": "code",
   "execution_count": 19,
   "metadata": {},
   "outputs": [],
   "source": [
    "import json\n",
    "import folium  #pip install folium\n",
    "import warnings\n",
    "warnings.simplefilter(action='ignore', category=FutureWarning)"
   ]
  },
  {
   "cell_type": "code",
   "execution_count": 20,
   "metadata": {},
   "outputs": [
    {
     "data": {
      "text/html": [
       "<div>\n",
       "<style scoped>\n",
       "    .dataframe tbody tr th:only-of-type {\n",
       "        vertical-align: middle;\n",
       "    }\n",
       "\n",
       "    .dataframe tbody tr th {\n",
       "        vertical-align: top;\n",
       "    }\n",
       "\n",
       "    .dataframe thead th {\n",
       "        text-align: right;\n",
       "    }\n",
       "</style>\n",
       "<table border=\"1\" class=\"dataframe\">\n",
       "  <thead>\n",
       "    <tr style=\"text-align: right;\">\n",
       "      <th></th>\n",
       "      <th>상호</th>\n",
       "      <th>주소</th>\n",
       "      <th>가격</th>\n",
       "      <th>셀프</th>\n",
       "      <th>상표</th>\n",
       "      <th>구</th>\n",
       "    </tr>\n",
       "  </thead>\n",
       "  <tbody>\n",
       "    <tr>\n",
       "      <th>9</th>\n",
       "      <td>서남주유소</td>\n",
       "      <td>서울 중구 통일로 30</td>\n",
       "      <td>2183</td>\n",
       "      <td>N</td>\n",
       "      <td>SK에너지</td>\n",
       "      <td>중구</td>\n",
       "    </tr>\n",
       "    <tr>\n",
       "      <th>13</th>\n",
       "      <td>서계주유소</td>\n",
       "      <td>서울 용산구 청파로 367 (서계동)</td>\n",
       "      <td>2089</td>\n",
       "      <td>N</td>\n",
       "      <td>GS칼텍스</td>\n",
       "      <td>용산구</td>\n",
       "    </tr>\n",
       "    <tr>\n",
       "      <th>8</th>\n",
       "      <td>필동주유소</td>\n",
       "      <td>서울 중구  퇴계로 196 (필동2가)</td>\n",
       "      <td>2079</td>\n",
       "      <td>N</td>\n",
       "      <td>GS칼텍스</td>\n",
       "      <td>중구</td>\n",
       "    </tr>\n",
       "    <tr>\n",
       "      <th>7</th>\n",
       "      <td>SK에너지(주) 퇴계로주유소</td>\n",
       "      <td>서울 중구 퇴계로 228 (필동2가)</td>\n",
       "      <td>2069</td>\n",
       "      <td>N</td>\n",
       "      <td>SK에너지</td>\n",
       "      <td>중구</td>\n",
       "    </tr>\n",
       "    <tr>\n",
       "      <th>37</th>\n",
       "      <td>뉴서울(강남)</td>\n",
       "      <td>서울 강남구 언주로 716 (논현동)</td>\n",
       "      <td>2025</td>\n",
       "      <td>N</td>\n",
       "      <td>SK에너지</td>\n",
       "      <td>강남구</td>\n",
       "    </tr>\n",
       "    <tr>\n",
       "      <th>12</th>\n",
       "      <td>한남지점</td>\n",
       "      <td>서울 용산구 한남대로21길 4 (한남동)</td>\n",
       "      <td>1998</td>\n",
       "      <td>N</td>\n",
       "      <td>SK에너지</td>\n",
       "      <td>용산구</td>\n",
       "    </tr>\n",
       "    <tr>\n",
       "      <th>7</th>\n",
       "      <td>(주)대양씨앤씨 사직주유소</td>\n",
       "      <td>서울 종로구 사직로 65 (사직동)</td>\n",
       "      <td>1998</td>\n",
       "      <td>N</td>\n",
       "      <td>GS칼텍스</td>\n",
       "      <td>종로구</td>\n",
       "    </tr>\n",
       "    <tr>\n",
       "      <th>8</th>\n",
       "      <td>(주)중앙에너비스 혜화주유소</td>\n",
       "      <td>서울 종로구 창경궁로35길 1</td>\n",
       "      <td>1998</td>\n",
       "      <td>N</td>\n",
       "      <td>SK에너지</td>\n",
       "      <td>종로구</td>\n",
       "    </tr>\n",
       "    <tr>\n",
       "      <th>11</th>\n",
       "      <td>에너비스</td>\n",
       "      <td>서울 용산구 한남대로 82 (한남동)</td>\n",
       "      <td>1998</td>\n",
       "      <td>N</td>\n",
       "      <td>SK에너지</td>\n",
       "      <td>용산구</td>\n",
       "    </tr>\n",
       "    <tr>\n",
       "      <th>10</th>\n",
       "      <td>동자동주유소</td>\n",
       "      <td>서울 용산구 한강대로104길 6 (동자동)</td>\n",
       "      <td>1990</td>\n",
       "      <td>N</td>\n",
       "      <td>SK에너지</td>\n",
       "      <td>용산구</td>\n",
       "    </tr>\n",
       "  </tbody>\n",
       "</table>\n",
       "</div>"
      ],
      "text/plain": [
       "                 상호                       주소    가격 셀프     상표    구\n",
       "9             서남주유소             서울 중구 통일로 30  2183  N  SK에너지   중구\n",
       "13            서계주유소     서울 용산구 청파로 367 (서계동)  2089  N  GS칼텍스  용산구\n",
       "8             필동주유소    서울 중구  퇴계로 196 (필동2가)  2079  N  GS칼텍스   중구\n",
       "7   SK에너지(주) 퇴계로주유소     서울 중구 퇴계로 228 (필동2가)  2069  N  SK에너지   중구\n",
       "37          뉴서울(강남)     서울 강남구 언주로 716 (논현동)  2025  N  SK에너지  강남구\n",
       "12             한남지점   서울 용산구 한남대로21길 4 (한남동)  1998  N  SK에너지  용산구\n",
       "7    (주)대양씨앤씨 사직주유소      서울 종로구 사직로 65 (사직동)  1998  N  GS칼텍스  종로구\n",
       "8   (주)중앙에너비스 혜화주유소         서울 종로구 창경궁로35길 1  1998  N  SK에너지  종로구\n",
       "11             에너비스     서울 용산구 한남대로 82 (한남동)  1998  N  SK에너지  용산구\n",
       "10           동자동주유소  서울 용산구 한강대로104길 6 (동자동)  1990  N  SK에너지  용산구"
      ]
     },
     "execution_count": 20,
     "metadata": {},
     "output_type": "execute_result"
    }
   ],
   "source": [
    "# 휘발유가격이 비싼 주유소 (상위가격 소팅 ) ascending=False비싼주유소 Top10\n",
    "stations.sort_values(by='가격', ascending=False).head(10)"
   ]
  },
  {
   "cell_type": "code",
   "execution_count": 21,
   "metadata": {},
   "outputs": [
    {
     "data": {
      "text/html": [
       "<div>\n",
       "<style scoped>\n",
       "    .dataframe tbody tr th:only-of-type {\n",
       "        vertical-align: middle;\n",
       "    }\n",
       "\n",
       "    .dataframe tbody tr th {\n",
       "        vertical-align: top;\n",
       "    }\n",
       "\n",
       "    .dataframe thead th {\n",
       "        text-align: right;\n",
       "    }\n",
       "</style>\n",
       "<table border=\"1\" class=\"dataframe\">\n",
       "  <thead>\n",
       "    <tr style=\"text-align: right;\">\n",
       "      <th></th>\n",
       "      <th>상호</th>\n",
       "      <th>주소</th>\n",
       "      <th>가격</th>\n",
       "      <th>셀프</th>\n",
       "      <th>상표</th>\n",
       "      <th>구</th>\n",
       "    </tr>\n",
       "  </thead>\n",
       "  <tbody>\n",
       "    <tr>\n",
       "      <th>0</th>\n",
       "      <td>화곡역주유소</td>\n",
       "      <td>서울특별시 강서구  강서로 154 (화곡동)</td>\n",
       "      <td>1243</td>\n",
       "      <td>Y</td>\n",
       "      <td>알뜰주유소</td>\n",
       "      <td>강서구</td>\n",
       "    </tr>\n",
       "    <tr>\n",
       "      <th>1</th>\n",
       "      <td>뉴신정주유소</td>\n",
       "      <td>서울 강서구 곰달래로 207(화곡동)</td>\n",
       "      <td>1243</td>\n",
       "      <td>N</td>\n",
       "      <td>알뜰주유소</td>\n",
       "      <td>강서구</td>\n",
       "    </tr>\n",
       "    <tr>\n",
       "      <th>0</th>\n",
       "      <td>만남의광장주유소</td>\n",
       "      <td>서울 서초구 양재대로12길 73-71</td>\n",
       "      <td>1244</td>\n",
       "      <td>Y</td>\n",
       "      <td>알뜰(ex)</td>\n",
       "      <td>서초구</td>\n",
       "    </tr>\n",
       "    <tr>\n",
       "      <th>1</th>\n",
       "      <td>삼미북부셀프주유소</td>\n",
       "      <td>서울 도봉구 도봉로 437 (쌍문동)</td>\n",
       "      <td>1249</td>\n",
       "      <td>Y</td>\n",
       "      <td>SK에너지</td>\n",
       "      <td>도봉구</td>\n",
       "    </tr>\n",
       "    <tr>\n",
       "      <th>3</th>\n",
       "      <td>가로공원주유소</td>\n",
       "      <td>서울 양천구 가로공원로 165 (신월동)</td>\n",
       "      <td>1249</td>\n",
       "      <td>N</td>\n",
       "      <td>SK에너지</td>\n",
       "      <td>양천구</td>\n",
       "    </tr>\n",
       "    <tr>\n",
       "      <th>2</th>\n",
       "      <td>현대주유소</td>\n",
       "      <td>서울 양천구 남부순환로 372 (신월동)</td>\n",
       "      <td>1249</td>\n",
       "      <td>Y</td>\n",
       "      <td>S-OIL</td>\n",
       "      <td>양천구</td>\n",
       "    </tr>\n",
       "    <tr>\n",
       "      <th>1</th>\n",
       "      <td>개나리Self주유소</td>\n",
       "      <td>서울 양천구 남부순환로 442 (신월동)</td>\n",
       "      <td>1249</td>\n",
       "      <td>Y</td>\n",
       "      <td>SK에너지</td>\n",
       "      <td>양천구</td>\n",
       "    </tr>\n",
       "    <tr>\n",
       "      <th>0</th>\n",
       "      <td>형산석유(주)원주유소</td>\n",
       "      <td>서울 양천구 남부순환로 408</td>\n",
       "      <td>1249</td>\n",
       "      <td>N</td>\n",
       "      <td>현대오일뱅크</td>\n",
       "      <td>양천구</td>\n",
       "    </tr>\n",
       "    <tr>\n",
       "      <th>0</th>\n",
       "      <td>(주)석산에너지</td>\n",
       "      <td>서울 강북구 삼양로 316 (수유동)</td>\n",
       "      <td>1249</td>\n",
       "      <td>Y</td>\n",
       "      <td>현대오일뱅크</td>\n",
       "      <td>강북구</td>\n",
       "    </tr>\n",
       "    <tr>\n",
       "      <th>0</th>\n",
       "      <td>도봉제일주유소(주)송만에너지</td>\n",
       "      <td>서울 도봉구 도봉로 783 (도봉동)</td>\n",
       "      <td>1249</td>\n",
       "      <td>N</td>\n",
       "      <td>현대오일뱅크</td>\n",
       "      <td>도봉구</td>\n",
       "    </tr>\n",
       "  </tbody>\n",
       "</table>\n",
       "</div>"
      ],
      "text/plain": [
       "                상호                        주소    가격 셀프      상표    구\n",
       "0           화곡역주유소  서울특별시 강서구  강서로 154 (화곡동)  1243  Y   알뜰주유소  강서구\n",
       "1           뉴신정주유소      서울 강서구 곰달래로 207(화곡동)  1243  N   알뜰주유소  강서구\n",
       "0         만남의광장주유소      서울 서초구 양재대로12길 73-71  1244  Y  알뜰(ex)  서초구\n",
       "1        삼미북부셀프주유소      서울 도봉구 도봉로 437 (쌍문동)  1249  Y   SK에너지  도봉구\n",
       "3          가로공원주유소    서울 양천구 가로공원로 165 (신월동)  1249  N   SK에너지  양천구\n",
       "2            현대주유소    서울 양천구 남부순환로 372 (신월동)  1249  Y   S-OIL  양천구\n",
       "1       개나리Self주유소    서울 양천구 남부순환로 442 (신월동)  1249  Y   SK에너지  양천구\n",
       "0      형산석유(주)원주유소          서울 양천구 남부순환로 408  1249  N  현대오일뱅크  양천구\n",
       "0         (주)석산에너지      서울 강북구 삼양로 316 (수유동)  1249  Y  현대오일뱅크  강북구\n",
       "0  도봉제일주유소(주)송만에너지      서울 도봉구 도봉로 783 (도봉동)  1249  N  현대오일뱅크  도봉구"
      ]
     },
     "execution_count": 21,
     "metadata": {},
     "output_type": "execute_result"
    }
   ],
   "source": [
    "# 휘발유가격이 저렴한 주유소 (상위가격 소팅 ) ascending=True 저렴한 주유소 Top10\n",
    "stations.sort_values(by='가격', ascending=True).head(10)"
   ]
  },
  {
   "cell_type": "code",
   "execution_count": 22,
   "metadata": {},
   "outputs": [
    {
     "data": {
      "text/html": [
       "<div>\n",
       "<style scoped>\n",
       "    .dataframe tbody tr th:only-of-type {\n",
       "        vertical-align: middle;\n",
       "    }\n",
       "\n",
       "    .dataframe tbody tr th {\n",
       "        vertical-align: top;\n",
       "    }\n",
       "\n",
       "    .dataframe thead th {\n",
       "        text-align: right;\n",
       "    }\n",
       "</style>\n",
       "<table border=\"1\" class=\"dataframe\">\n",
       "  <thead>\n",
       "    <tr style=\"text-align: right;\">\n",
       "      <th></th>\n",
       "      <th>가격</th>\n",
       "    </tr>\n",
       "    <tr>\n",
       "      <th>구</th>\n",
       "      <th></th>\n",
       "    </tr>\n",
       "  </thead>\n",
       "  <tbody>\n",
       "    <tr>\n",
       "      <th>강남구</th>\n",
       "      <td>1541.052632</td>\n",
       "    </tr>\n",
       "    <tr>\n",
       "      <th>강동구</th>\n",
       "      <td>1442.500000</td>\n",
       "    </tr>\n",
       "    <tr>\n",
       "      <th>강북구</th>\n",
       "      <td>1281.153846</td>\n",
       "    </tr>\n",
       "    <tr>\n",
       "      <th>강서구</th>\n",
       "      <td>1340.090909</td>\n",
       "    </tr>\n",
       "    <tr>\n",
       "      <th>관악구</th>\n",
       "      <td>1384.125000</td>\n",
       "    </tr>\n",
       "  </tbody>\n",
       "</table>\n",
       "</div>"
      ],
      "text/plain": [
       "              가격\n",
       "구               \n",
       "강남구  1541.052632\n",
       "강동구  1442.500000\n",
       "강북구  1281.153846\n",
       "강서구  1340.090909\n",
       "관악구  1384.125000"
      ]
     },
     "execution_count": 22,
     "metadata": {},
     "output_type": "execute_result"
    }
   ],
   "source": [
    "import numpy as np\n",
    "#그룹바이와 같다 gu_data = stations['가격'].groupby(stations['구']).mean()\n",
    "gu_data = pd.pivot_table(stations, index=['구'], values=['가격'], aggfunc=np.mean)\n",
    "gu_data.head()"
   ]
  },
  {
   "cell_type": "code",
   "execution_count": 23,
   "metadata": {},
   "outputs": [
    {
     "data": {
      "text/plain": [
       "구\n",
       "강남구     1541.052632\n",
       "강동구     1442.500000\n",
       "강북구     1281.153846\n",
       "강서구     1340.090909\n",
       "관악구     1384.125000\n",
       "광진구     1341.470588\n",
       "구로구     1363.681818\n",
       "금천구     1304.461538\n",
       "노원구     1371.785714\n",
       "도봉구     1314.777778\n",
       "동대문구    1337.190476\n",
       "동작구     1372.600000\n",
       "마포구     1460.250000\n",
       "서대문구    1334.666667\n",
       "서초구     1439.823529\n",
       "성동구     1428.941176\n",
       "성북구     1290.416667\n",
       "송파구     1371.515152\n",
       "양천구     1335.153846\n",
       "영등포구    1440.933333\n",
       "용산구     1820.214286\n",
       "은평구     1326.437500\n",
       "종로구     1701.333333\n",
       "중구      1841.600000\n",
       "중랑구     1301.875000\n",
       "Name: 가격, dtype: float64"
      ]
     },
     "execution_count": 23,
     "metadata": {},
     "output_type": "execute_result"
    }
   ],
   "source": [
    "gu_data2 = stations['가격'].groupby(stations['구']).mean()\n",
    "gu_data2"
   ]
  },
  {
   "cell_type": "code",
   "execution_count": 24,
   "metadata": {},
   "outputs": [
    {
     "data": {
      "text/html": [
       "<div style=\"width:100%;\"><div style=\"position:relative;width:100%;height:0;padding-bottom:60%;\"><span style=\"color:#565656\">Make this Notebook Trusted to load map: File -> Trust Notebook</span><iframe src=\"about:blank\" style=\"position:absolute;width:100%;height:100%;left:0;top:0;border:none !important;\" data-html=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 onload=\"this.contentDocument.open();this.contentDocument.write(atob(this.getAttribute('data-html')));this.contentDocument.close();\" allowfullscreen webkitallowfullscreen mozallowfullscreen></iframe></div></div>"
      ],
      "text/plain": [
       "<folium.folium.Map at 0x23c441f4730>"
      ]
     },
     "execution_count": 24,
     "metadata": {},
     "output_type": "execute_result"
    }
   ],
   "source": [
    "#폴리움에 있는 부분 지도로 표현\n",
    "geo_path = './skorea_municipalities_geo_simple.json'\n",
    "geo_data = json.load(open(geo_path, encoding='utf8'))\n",
    "\n",
    "map = folium.Map(location=[37.5502, 126.982], zoom_start=10.5, tiles='Stamen Toner')\n",
    "map.choropleth(geo_data = geo_data,\n",
    "                data = gu_data,\n",
    "                columns=[gu_data.index, '가격'],\n",
    "                fill_color='PuRd', \n",
    "                key_on='feature.id')\n",
    "map"
   ]
  },
  {
   "cell_type": "code",
   "execution_count": 25,
   "metadata": {},
   "outputs": [],
   "source": [
    "## 겹치는 인덱스가 있어서 인덱스를 리셋해서 새로 정렬 (승모코드)\n",
    "oil_price_top10 = stations.sort_values(by='가격', ascending=False).head(10)  # 내림차순 비싼것부터~\n",
    "oil_price_top10 = oil_price_top10.reset_index(drop=True)\n",
    "oil_price_bottom10 = stations.sort_values(by='가격').head(10)        # ascending=True 오름차순(생략가능) 저렴이부터~ \n",
    "oil_price_bottom10 = oil_price_bottom10.reset_index(drop=True)"
   ]
  },
  {
   "cell_type": "code",
   "execution_count": 26,
   "metadata": {},
   "outputs": [
    {
     "data": {
      "text/html": [
       "<div>\n",
       "<style scoped>\n",
       "    .dataframe tbody tr th:only-of-type {\n",
       "        vertical-align: middle;\n",
       "    }\n",
       "\n",
       "    .dataframe tbody tr th {\n",
       "        vertical-align: top;\n",
       "    }\n",
       "\n",
       "    .dataframe thead th {\n",
       "        text-align: right;\n",
       "    }\n",
       "</style>\n",
       "<table border=\"1\" class=\"dataframe\">\n",
       "  <thead>\n",
       "    <tr style=\"text-align: right;\">\n",
       "      <th></th>\n",
       "      <th>상호</th>\n",
       "      <th>주소</th>\n",
       "      <th>가격</th>\n",
       "      <th>셀프</th>\n",
       "      <th>상표</th>\n",
       "      <th>구</th>\n",
       "    </tr>\n",
       "  </thead>\n",
       "  <tbody>\n",
       "    <tr>\n",
       "      <th>0</th>\n",
       "      <td>서남주유소</td>\n",
       "      <td>서울 중구 통일로 30</td>\n",
       "      <td>2183</td>\n",
       "      <td>N</td>\n",
       "      <td>SK에너지</td>\n",
       "      <td>중구</td>\n",
       "    </tr>\n",
       "    <tr>\n",
       "      <th>1</th>\n",
       "      <td>서계주유소</td>\n",
       "      <td>서울 용산구 청파로 367 (서계동)</td>\n",
       "      <td>2089</td>\n",
       "      <td>N</td>\n",
       "      <td>GS칼텍스</td>\n",
       "      <td>용산구</td>\n",
       "    </tr>\n",
       "    <tr>\n",
       "      <th>2</th>\n",
       "      <td>필동주유소</td>\n",
       "      <td>서울 중구  퇴계로 196 (필동2가)</td>\n",
       "      <td>2079</td>\n",
       "      <td>N</td>\n",
       "      <td>GS칼텍스</td>\n",
       "      <td>중구</td>\n",
       "    </tr>\n",
       "    <tr>\n",
       "      <th>3</th>\n",
       "      <td>SK에너지(주) 퇴계로주유소</td>\n",
       "      <td>서울 중구 퇴계로 228 (필동2가)</td>\n",
       "      <td>2069</td>\n",
       "      <td>N</td>\n",
       "      <td>SK에너지</td>\n",
       "      <td>중구</td>\n",
       "    </tr>\n",
       "    <tr>\n",
       "      <th>4</th>\n",
       "      <td>뉴서울(강남)</td>\n",
       "      <td>서울 강남구 언주로 716 (논현동)</td>\n",
       "      <td>2025</td>\n",
       "      <td>N</td>\n",
       "      <td>SK에너지</td>\n",
       "      <td>강남구</td>\n",
       "    </tr>\n",
       "    <tr>\n",
       "      <th>5</th>\n",
       "      <td>한남지점</td>\n",
       "      <td>서울 용산구 한남대로21길 4 (한남동)</td>\n",
       "      <td>1998</td>\n",
       "      <td>N</td>\n",
       "      <td>SK에너지</td>\n",
       "      <td>용산구</td>\n",
       "    </tr>\n",
       "    <tr>\n",
       "      <th>6</th>\n",
       "      <td>(주)대양씨앤씨 사직주유소</td>\n",
       "      <td>서울 종로구 사직로 65 (사직동)</td>\n",
       "      <td>1998</td>\n",
       "      <td>N</td>\n",
       "      <td>GS칼텍스</td>\n",
       "      <td>종로구</td>\n",
       "    </tr>\n",
       "    <tr>\n",
       "      <th>7</th>\n",
       "      <td>(주)중앙에너비스 혜화주유소</td>\n",
       "      <td>서울 종로구 창경궁로35길 1</td>\n",
       "      <td>1998</td>\n",
       "      <td>N</td>\n",
       "      <td>SK에너지</td>\n",
       "      <td>종로구</td>\n",
       "    </tr>\n",
       "    <tr>\n",
       "      <th>8</th>\n",
       "      <td>에너비스</td>\n",
       "      <td>서울 용산구 한남대로 82 (한남동)</td>\n",
       "      <td>1998</td>\n",
       "      <td>N</td>\n",
       "      <td>SK에너지</td>\n",
       "      <td>용산구</td>\n",
       "    </tr>\n",
       "    <tr>\n",
       "      <th>9</th>\n",
       "      <td>동자동주유소</td>\n",
       "      <td>서울 용산구 한강대로104길 6 (동자동)</td>\n",
       "      <td>1990</td>\n",
       "      <td>N</td>\n",
       "      <td>SK에너지</td>\n",
       "      <td>용산구</td>\n",
       "    </tr>\n",
       "  </tbody>\n",
       "</table>\n",
       "</div>"
      ],
      "text/plain": [
       "                상호                       주소    가격 셀프     상표    구\n",
       "0            서남주유소             서울 중구 통일로 30  2183  N  SK에너지   중구\n",
       "1            서계주유소     서울 용산구 청파로 367 (서계동)  2089  N  GS칼텍스  용산구\n",
       "2            필동주유소    서울 중구  퇴계로 196 (필동2가)  2079  N  GS칼텍스   중구\n",
       "3  SK에너지(주) 퇴계로주유소     서울 중구 퇴계로 228 (필동2가)  2069  N  SK에너지   중구\n",
       "4          뉴서울(강남)     서울 강남구 언주로 716 (논현동)  2025  N  SK에너지  강남구\n",
       "5             한남지점   서울 용산구 한남대로21길 4 (한남동)  1998  N  SK에너지  용산구\n",
       "6   (주)대양씨앤씨 사직주유소      서울 종로구 사직로 65 (사직동)  1998  N  GS칼텍스  종로구\n",
       "7  (주)중앙에너비스 혜화주유소         서울 종로구 창경궁로35길 1  1998  N  SK에너지  종로구\n",
       "8             에너비스     서울 용산구 한남대로 82 (한남동)  1998  N  SK에너지  용산구\n",
       "9           동자동주유소  서울 용산구 한강대로104길 6 (동자동)  1990  N  SK에너지  용산구"
      ]
     },
     "execution_count": 26,
     "metadata": {},
     "output_type": "execute_result"
    }
   ],
   "source": [
    "# 인덱스 리셋된것 확인 top10\n",
    "oil_price_top10"
   ]
  },
  {
   "cell_type": "code",
   "execution_count": 27,
   "metadata": {},
   "outputs": [
    {
     "data": {
      "text/html": [
       "<div>\n",
       "<style scoped>\n",
       "    .dataframe tbody tr th:only-of-type {\n",
       "        vertical-align: middle;\n",
       "    }\n",
       "\n",
       "    .dataframe tbody tr th {\n",
       "        vertical-align: top;\n",
       "    }\n",
       "\n",
       "    .dataframe thead th {\n",
       "        text-align: right;\n",
       "    }\n",
       "</style>\n",
       "<table border=\"1\" class=\"dataframe\">\n",
       "  <thead>\n",
       "    <tr style=\"text-align: right;\">\n",
       "      <th></th>\n",
       "      <th>상호</th>\n",
       "      <th>주소</th>\n",
       "      <th>가격</th>\n",
       "      <th>셀프</th>\n",
       "      <th>상표</th>\n",
       "      <th>구</th>\n",
       "    </tr>\n",
       "  </thead>\n",
       "  <tbody>\n",
       "    <tr>\n",
       "      <th>0</th>\n",
       "      <td>화곡역주유소</td>\n",
       "      <td>서울특별시 강서구  강서로 154 (화곡동)</td>\n",
       "      <td>1243</td>\n",
       "      <td>Y</td>\n",
       "      <td>알뜰주유소</td>\n",
       "      <td>강서구</td>\n",
       "    </tr>\n",
       "    <tr>\n",
       "      <th>1</th>\n",
       "      <td>뉴신정주유소</td>\n",
       "      <td>서울 강서구 곰달래로 207(화곡동)</td>\n",
       "      <td>1243</td>\n",
       "      <td>N</td>\n",
       "      <td>알뜰주유소</td>\n",
       "      <td>강서구</td>\n",
       "    </tr>\n",
       "    <tr>\n",
       "      <th>2</th>\n",
       "      <td>만남의광장주유소</td>\n",
       "      <td>서울 서초구 양재대로12길 73-71</td>\n",
       "      <td>1244</td>\n",
       "      <td>Y</td>\n",
       "      <td>알뜰(ex)</td>\n",
       "      <td>서초구</td>\n",
       "    </tr>\n",
       "    <tr>\n",
       "      <th>3</th>\n",
       "      <td>삼미북부셀프주유소</td>\n",
       "      <td>서울 도봉구 도봉로 437 (쌍문동)</td>\n",
       "      <td>1249</td>\n",
       "      <td>Y</td>\n",
       "      <td>SK에너지</td>\n",
       "      <td>도봉구</td>\n",
       "    </tr>\n",
       "    <tr>\n",
       "      <th>4</th>\n",
       "      <td>가로공원주유소</td>\n",
       "      <td>서울 양천구 가로공원로 165 (신월동)</td>\n",
       "      <td>1249</td>\n",
       "      <td>N</td>\n",
       "      <td>SK에너지</td>\n",
       "      <td>양천구</td>\n",
       "    </tr>\n",
       "    <tr>\n",
       "      <th>5</th>\n",
       "      <td>현대주유소</td>\n",
       "      <td>서울 양천구 남부순환로 372 (신월동)</td>\n",
       "      <td>1249</td>\n",
       "      <td>Y</td>\n",
       "      <td>S-OIL</td>\n",
       "      <td>양천구</td>\n",
       "    </tr>\n",
       "    <tr>\n",
       "      <th>6</th>\n",
       "      <td>개나리Self주유소</td>\n",
       "      <td>서울 양천구 남부순환로 442 (신월동)</td>\n",
       "      <td>1249</td>\n",
       "      <td>Y</td>\n",
       "      <td>SK에너지</td>\n",
       "      <td>양천구</td>\n",
       "    </tr>\n",
       "    <tr>\n",
       "      <th>7</th>\n",
       "      <td>형산석유(주)원주유소</td>\n",
       "      <td>서울 양천구 남부순환로 408</td>\n",
       "      <td>1249</td>\n",
       "      <td>N</td>\n",
       "      <td>현대오일뱅크</td>\n",
       "      <td>양천구</td>\n",
       "    </tr>\n",
       "    <tr>\n",
       "      <th>8</th>\n",
       "      <td>(주)석산에너지</td>\n",
       "      <td>서울 강북구 삼양로 316 (수유동)</td>\n",
       "      <td>1249</td>\n",
       "      <td>Y</td>\n",
       "      <td>현대오일뱅크</td>\n",
       "      <td>강북구</td>\n",
       "    </tr>\n",
       "    <tr>\n",
       "      <th>9</th>\n",
       "      <td>도봉제일주유소(주)송만에너지</td>\n",
       "      <td>서울 도봉구 도봉로 783 (도봉동)</td>\n",
       "      <td>1249</td>\n",
       "      <td>N</td>\n",
       "      <td>현대오일뱅크</td>\n",
       "      <td>도봉구</td>\n",
       "    </tr>\n",
       "  </tbody>\n",
       "</table>\n",
       "</div>"
      ],
      "text/plain": [
       "                상호                        주소    가격 셀프      상표    구\n",
       "0           화곡역주유소  서울특별시 강서구  강서로 154 (화곡동)  1243  Y   알뜰주유소  강서구\n",
       "1           뉴신정주유소      서울 강서구 곰달래로 207(화곡동)  1243  N   알뜰주유소  강서구\n",
       "2         만남의광장주유소      서울 서초구 양재대로12길 73-71  1244  Y  알뜰(ex)  서초구\n",
       "3        삼미북부셀프주유소      서울 도봉구 도봉로 437 (쌍문동)  1249  Y   SK에너지  도봉구\n",
       "4          가로공원주유소    서울 양천구 가로공원로 165 (신월동)  1249  N   SK에너지  양천구\n",
       "5            현대주유소    서울 양천구 남부순환로 372 (신월동)  1249  Y   S-OIL  양천구\n",
       "6       개나리Self주유소    서울 양천구 남부순환로 442 (신월동)  1249  Y   SK에너지  양천구\n",
       "7      형산석유(주)원주유소          서울 양천구 남부순환로 408  1249  N  현대오일뱅크  양천구\n",
       "8         (주)석산에너지      서울 강북구 삼양로 316 (수유동)  1249  Y  현대오일뱅크  강북구\n",
       "9  도봉제일주유소(주)송만에너지      서울 도봉구 도봉로 783 (도봉동)  1249  N  현대오일뱅크  도봉구"
      ]
     },
     "execution_count": 27,
     "metadata": {},
     "output_type": "execute_result"
    }
   ],
   "source": [
    "# 인덱스 리셋된것 확인bottom10\n",
    "oil_price_bottom10 "
   ]
  },
  {
   "cell_type": "markdown",
   "metadata": {},
   "source": [
    "## 4-6 카카오맵API써서 해보기 195p."
   ]
  },
  {
   "cell_type": "code",
   "execution_count": 28,
   "metadata": {},
   "outputs": [
    {
     "data": {
      "text/plain": [
       "0               서울 중구 통일로 30\n",
       "1       서울 용산구 청파로 367 (서계동)\n",
       "2      서울 중구  퇴계로 196 (필동2가)\n",
       "3       서울 중구 퇴계로 228 (필동2가)\n",
       "4       서울 강남구 언주로 716 (논현동)\n",
       "5     서울 용산구 한남대로21길 4 (한남동)\n",
       "6        서울 종로구 사직로 65 (사직동)\n",
       "7           서울 종로구 창경궁로35길 1\n",
       "8       서울 용산구 한남대로 82 (한남동)\n",
       "9    서울 용산구 한강대로104길 6 (동자동)\n",
       "Name: 주소, dtype: object"
      ]
     },
     "execution_count": 28,
     "metadata": {},
     "output_type": "execute_result"
    }
   ],
   "source": [
    "oil_price_top10['주소']"
   ]
  },
  {
   "cell_type": "code",
   "execution_count": 29,
   "metadata": {},
   "outputs": [
    {
     "data": {
      "text/plain": [
       "'서울 중구 통일로 30'"
      ]
     },
     "execution_count": 29,
     "metadata": {},
     "output_type": "execute_result"
    }
   ],
   "source": [
    "oil_price_top10['주소'][0]"
   ]
  },
  {
   "cell_type": "code",
   "execution_count": 30,
   "metadata": {},
   "outputs": [],
   "source": [
    "from urllib.parse import urlparse\n",
    "import requests"
   ]
  },
  {
   "cell_type": "code",
   "execution_count": 31,
   "metadata": {},
   "outputs": [],
   "source": [
    "key_fd = open('kakaomapkey.txt', mode='r')\n",
    "kmap_key = key_fd.read(100)\n",
    "key_fd.close()"
   ]
  },
  {
   "cell_type": "code",
   "execution_count": 32,
   "metadata": {},
   "outputs": [
    {
     "data": {
      "text/plain": [
       "'서울 중구 통일로 30'"
      ]
     },
     "execution_count": 32,
     "metadata": {},
     "output_type": "execute_result"
    }
   ],
   "source": [
    "oil_price_top10['주소'][0]"
   ]
  },
  {
   "cell_type": "code",
   "execution_count": 33,
   "metadata": {},
   "outputs": [],
   "source": [
    "lat_list =[] ; lng_list = [] \n",
    "for i in range(len(oil_price_top10)):\n",
    "    url = 'https://dapi.kakao.com/v2/local/search/address.json?query=' + oil_price_top10['주소'][i]\n",
    "    result = requests.get(urlparse(url).geturl(),headers={\"Authorization\": \"KakaoAK \"+kmap_key}).json()\n",
    "    lat = float(result['documents'][0]['address']['y'])\n",
    "    lng = float(result['documents'][0]['address']['x'])\n",
    "    lat_list.append(lat)\n",
    "    lng_list.append(lng)\n",
    "\n",
    "oil_price_top10['lat'] = lat_list\n",
    "oil_price_top10['lng'] = lng_list"
   ]
  },
  {
   "cell_type": "code",
   "execution_count": 34,
   "metadata": {},
   "outputs": [],
   "source": [
    "\n",
    "lat_list =[] ; lng_list = [] \n",
    "for i in range(len(oil_price_bottom10)):\n",
    "    url = 'https://dapi.kakao.com/v2/local/search/address.json?query=' + oil_price_bottom10['주소'][i]\n",
    "    result = requests.get(urlparse(url).geturl(),headers={\"Authorization\": \"KakaoAK \"+kmap_key}).json()\n",
    "    lat = float(result['documents'][0]['address']['y'])\n",
    "    lng = float(result['documents'][0]['address']['x'])\n",
    "    lat_list.append(lat)\n",
    "    lng_list.append(lng)\n",
    "\n",
    "oil_price_bottom10['lat'] = lat_list\n",
    "oil_price_bottom10['lng'] = lng_list"
   ]
  },
  {
   "cell_type": "code",
   "execution_count": 35,
   "metadata": {},
   "outputs": [
    {
     "data": {
      "text/html": [
       "<div style=\"width:100%;\"><div style=\"position:relative;width:100%;height:0;padding-bottom:60%;\"><span style=\"color:#565656\">Make this Notebook Trusted to load map: File -> Trust Notebook</span><iframe src=\"about:blank\" style=\"position:absolute;width:100%;height:100%;left:0;top:0;border:none !important;\" data-html=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 onload=\"this.contentDocument.open();this.contentDocument.write(atob(this.getAttribute('data-html')));this.contentDocument.close();\" allowfullscreen webkitallowfullscreen mozallowfullscreen></iframe></div></div>"
      ],
      "text/plain": [
       "<folium.folium.Map at 0x23c4490c5b0>"
      ]
     },
     "execution_count": 35,
     "metadata": {},
     "output_type": "execute_result"
    }
   ],
   "source": [
    "map = folium.Map(location=[37.5202, 126.975], zoom_start=10.5)\n",
    "\n",
    "for n in range(len(oil_price_top10)) :\n",
    "    folium.CircleMarker([oil_price_top10['lat'][n], oil_price_top10['lng'][n]],radius=15, color = '#cd3181', fill_color = '#CD3181').add_to(map)\n",
    "\n",
    "for n in oil_price_bottom10.index:\n",
    "    folium.CircleMarker([oil_price_bottom10['lat'][n], oil_price_bottom10['lng'][n]], radius=15, color= '#3186cc', fill_color = '#3186cc').add_to(map)\n",
    "\n",
    "map"
   ]
  },
  {
   "cell_type": "code",
   "execution_count": null,
   "metadata": {},
   "outputs": [],
   "source": []
  },
  {
   "cell_type": "code",
   "execution_count": null,
   "metadata": {},
   "outputs": [],
   "source": []
  }
 ],
 "metadata": {
  "kernelspec": {
   "display_name": "Python 3",
   "language": "python",
   "name": "python3"
  },
  "language_info": {
   "codemirror_mode": {
    "name": "ipython",
    "version": 3
   },
   "file_extension": ".py",
   "mimetype": "text/x-python",
   "name": "python",
   "nbconvert_exporter": "python",
   "pygments_lexer": "ipython3",
   "version": "3.8.5"
  }
 },
 "nbformat": 4,
 "nbformat_minor": 2
}
