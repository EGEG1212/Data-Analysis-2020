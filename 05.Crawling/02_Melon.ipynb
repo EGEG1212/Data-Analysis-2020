{
 "cells": [
  {
   "cell_type": "markdown",
   "metadata": {},
   "source": [
    "## Melon 주간 Top 100구하기"
   ]
  },
  {
   "cell_type": "code",
   "execution_count": 1,
   "metadata": {},
   "outputs": [],
   "source": [
    "from bs4 import BeautifulSoup\n",
    "import urllib.request\n",
    "import pandas as pd"
   ]
  },
  {
   "cell_type": "code",
   "execution_count": 2,
   "metadata": {},
   "outputs": [],
   "source": [
    "# 하던대로 하면 .. 에러 ... 크롤링해서 매크로(조회수조작)가능할까봐 기계가 접속못하게 막아놓은듯\n",
    "# 크롤링 차단되었을 때 , User-Agent 구글링 ㅋ\n",
    "\n",
    "import requests\n",
    "headers = {'User-Agent':'Mozilla/5.0 (Windows NT 6.3; Win64; x64) AppleWebKit/537.36 (KHTML, like Gecko) Chrome/63.0.3239.132 Safari/537.36'}\n",
    "url ='https://www.melon.com/chart/week/index.htm'\n",
    "html = requests.get(url, headers = headers).text"
   ]
  },
  {
   "cell_type": "code",
   "execution_count": 3,
   "metadata": {},
   "outputs": [],
   "source": [
    "soup =  BeautifulSoup(html, 'html.parser')"
   ]
  },
  {
   "cell_type": "markdown",
   "metadata": {},
   "source": [
    "## 멜론주간 F12에서 주간 시작일~ 끝나는일"
   ]
  },
  {
   "cell_type": "code",
   "execution_count": 4,
   "metadata": {},
   "outputs": [
    {
     "data": {
      "text/plain": [
       "'\\r\\n\\t\\t\\t\\t\\t\\t\\t2020.11.09 ~ 2020.11.15\\r\\n\\t\\t\\t\\t\\t\\t'"
      ]
     },
     "execution_count": 4,
     "metadata": {},
     "output_type": "execute_result"
    }
   ],
   "source": [
    "soup.select_one('.yyyymmdd').get_text()\n",
    "#양끝 지저분한건 strip하자"
   ]
  },
  {
   "cell_type": "code",
   "execution_count": 5,
   "metadata": {},
   "outputs": [
    {
     "data": {
      "text/plain": [
       "'2020.11.09 ~ 2020.11.15'"
      ]
     },
     "execution_count": 5,
     "metadata": {},
     "output_type": "execute_result"
    }
   ],
   "source": [
    "date = soup.select_one('.yyyymmdd').get_text().strip() #양끝 지저분한건 strip하자\n",
    "date  #깔끔^-^"
   ]
  },
  {
   "cell_type": "code",
   "execution_count": 6,
   "metadata": {},
   "outputs": [
    {
     "data": {
      "text/plain": [
       "('2020.11.09', '2020.11.15')"
      ]
     },
     "execution_count": 6,
     "metadata": {},
     "output_type": "execute_result"
    }
   ],
   "source": [
    "start_day = date[:10]\n",
    "end_day = date[13:]\n",
    "start_day, end_day"
   ]
  },
  {
   "cell_type": "markdown",
   "metadata": {},
   "source": [
    "## 곡 리스트 찾기"
   ]
  },
  {
   "cell_type": "code",
   "execution_count": 7,
   "metadata": {},
   "outputs": [
    {
     "data": {
      "text/plain": [
       "100"
      ]
     },
     "execution_count": 7,
     "metadata": {},
     "output_type": "execute_result"
    }
   ],
   "source": [
    "service_list = soup.select_one('.service_list_song')\n",
    "tbody = service_list.find('tbody')\n",
    "trs = tbody.find_all('tr')\n",
    "len(trs)"
   ]
  },
  {
   "cell_type": "code",
   "execution_count": 8,
   "metadata": {},
   "outputs": [
    {
     "data": {
      "text/plain": [
       "1"
      ]
     },
     "execution_count": 8,
     "metadata": {},
     "output_type": "execute_result"
    }
   ],
   "source": [
    "#찾기1_순위rank (전주대비)등락diff 제목title 가수singer 앨범명album 좋아요like-count\n",
    "# 중 순위rank\n",
    "rank = int(trs[0].select_one('.rank').string)\n",
    "rank"
   ]
  },
  {
   "cell_type": "code",
   "execution_count": 9,
   "metadata": {},
   "outputs": [
    {
     "data": {
      "text/plain": [
       "<span class=\"rank_wrap\" title=\"1단계 상승\">\n",
       "<span class=\"bullet_icons rank_up\"><span class=\"none\">단계 상승</span></span>\n",
       "<span class=\"up\">1</span>\n",
       "</span>"
      ]
     },
     "execution_count": 9,
     "metadata": {},
     "output_type": "execute_result"
    }
   ],
   "source": [
    "span = trs[1].select_one('.rank_wrap')\n",
    "span"
   ]
  },
  {
   "cell_type": "code",
   "execution_count": 10,
   "metadata": {},
   "outputs": [
    {
     "name": "stdout",
     "output_type": "stream",
     "text": [
      "0\n",
      "1\n",
      "-1\n",
      "-100\n"
     ]
    }
   ],
   "source": [
    "#찾기2_(전주대비)등락diff\n",
    "for i in [0, 1, 2, 19]:  #샘플 유지,업,다운,신규진입20번째(19)\n",
    "    entry = trs[i].select_one('.rank_wrap')\n",
    "    spans = entry.find_all('span')\n",
    "    diff = -100 #print('신규진입')은 -100으로 두겠다\n",
    "    if len(spans) == 3:  #3가지경우\n",
    "        diff = int(spans[2].string)\n",
    "\n",
    "        if diff != 0:   #0이 아니면 사인을 확인함(올랐는지안올랐는지)\n",
    "            sign = spans[2].attrs['class']\n",
    "            if sign[0] == 'down':\n",
    "                diff *= -1  #하락했을때 -1로 변경\n",
    "    print(diff)"
   ]
  },
  {
   "cell_type": "code",
   "execution_count": 11,
   "metadata": {},
   "outputs": [
    {
     "data": {
      "text/plain": [
       "[<span class=\"bullet_icons rank_static\"><span class=\"none\">순위 동일</span></span>,\n",
       " <span class=\"none\">순위 동일</span>,\n",
       " <span class=\"none\">0</span>]"
      ]
     },
     "execution_count": 11,
     "metadata": {},
     "output_type": "execute_result"
    }
   ],
   "source": [
    "span = trs[0].select_one('.rank_wrap')\n",
    "span.find_all('span')         #3가지"
   ]
  },
  {
   "cell_type": "code",
   "execution_count": 12,
   "metadata": {},
   "outputs": [
    {
     "data": {
      "text/plain": [
       "[<span class=\"bullet_icons rank_up\"><span class=\"none\">단계 상승</span></span>,\n",
       " <span class=\"none\">단계 상승</span>,\n",
       " <span class=\"up\">1</span>]"
      ]
     },
     "execution_count": 12,
     "metadata": {},
     "output_type": "execute_result"
    }
   ],
   "source": [
    "span = trs[1].select_one('.rank_wrap')\n",
    "span.find_all('span')        #3가지"
   ]
  },
  {
   "cell_type": "code",
   "execution_count": 13,
   "metadata": {},
   "outputs": [
    {
     "data": {
      "text/plain": [
       "[<span class=\"bullet_icons rank_new\"><span class=\"none\">순위 진입</span></span>,\n",
       " <span class=\"none\">순위 진입</span>]"
      ]
     },
     "execution_count": 13,
     "metadata": {},
     "output_type": "execute_result"
    }
   ],
   "source": [
    "span = trs[19].select_one('.rank_wrap')\n",
    "span.find_all('span')        #2가지"
   ]
  },
  {
   "cell_type": "code",
   "execution_count": 14,
   "metadata": {},
   "outputs": [
    {
     "data": {
      "text/plain": [
       "[<a href=\"javascript:melon.play.playSong('19041301',32872978);\" title=\"Dynamite 재생\">Dynamite</a>,\n",
       " <a href=\"javascript:melon.link.goArtistDetail('672375');\" title=\"방탄소년단 - 페이지 이동\">방탄소년단</a>,\n",
       " <a href=\"javascript:melon.link.goArtistDetail('672375');\" title=\"방탄소년단 - 페이지 이동\">방탄소년단</a>]"
      ]
     },
     "execution_count": 14,
     "metadata": {},
     "output_type": "execute_result"
    }
   ],
   "source": [
    "#찾기3,4_제목title 가수singer\n",
    "info = trs[0].select_one('.wrap_song_info')\n",
    "a_list = info.find_all('a')\n",
    "a_list          #타이틀 가수 순으로 나옴"
   ]
  },
  {
   "cell_type": "code",
   "execution_count": 15,
   "metadata": {},
   "outputs": [
    {
     "data": {
      "text/plain": [
       "('Dynamite', '방탄소년단')"
      ]
     },
     "execution_count": 15,
     "metadata": {},
     "output_type": "execute_result"
    }
   ],
   "source": [
    "title = a_list[0].string\n",
    "singer = a_list[1].string\n",
    "title, singer"
   ]
  },
  {
   "cell_type": "markdown",
   "metadata": {},
   "source": [
    "## 다른방법 리팩토링+_+\n",
    "위방법으로 찾지말고 ellipsis rank01 02 03으로 다시 찾으신다함"
   ]
  },
  {
   "cell_type": "code",
   "execution_count": 16,
   "metadata": {},
   "outputs": [
    {
     "data": {
      "text/plain": [
       "('Dynamite', '방탄소년단', 'Dynamite (DayTime Version)')"
      ]
     },
     "execution_count": 16,
     "metadata": {},
     "output_type": "execute_result"
    }
   ],
   "source": [
    "#같은결과_다른방법1\n",
    "info = trs[0].select_one('.ellipsis.rank01') #클래스명\n",
    "title = info.find('a').string\n",
    "info = trs[0].select_one('.ellipsis.rank02')\n",
    "singer = info.find('a').string\n",
    "info = trs[0].select_one('.ellipsis.rank03')\n",
    "album = info.find('a').string\n",
    "\n",
    "title, singer, album"
   ]
  },
  {
   "cell_type": "code",
   "execution_count": 17,
   "metadata": {},
   "outputs": [
    {
     "data": {
      "text/plain": [
       "('Dynamite', '방탄소년단', 'Dynamite (DayTime Version)')"
      ]
     },
     "execution_count": 17,
     "metadata": {},
     "output_type": "execute_result"
    }
   ],
   "source": [
    "#같은결과_다른방법2   #제목title 가수singer 앨범명album 찾았다\n",
    "info = trs[0].select('.ellipsis') #3개나옴\n",
    "title = info[0].find('a').string\n",
    "singer = info[1].find('a').string\n",
    "album = info[2].find('a').string\n",
    "title, singer, album"
   ]
  },
  {
   "cell_type": "code",
   "execution_count": 18,
   "metadata": {},
   "outputs": [
    {
     "data": {
      "text/plain": [
       "'\\n총건수\\r\\n\\t\\t\\t\\t\\t\\t\\t\\t\\t\\t\\t\\t0\\r\\n\\t\\t\\t\\t\\t\\t\\t\\t\\t\\t\\t'"
      ]
     },
     "execution_count": 18,
     "metadata": {},
     "output_type": "execute_result"
    }
   ],
   "source": [
    "#찾기6_좋아요like-count  class=cnt에 있다\n",
    "cnt = trs[0].select_one('.cnt')\n",
    "cnt.get_text()    #0가 나왔는데.. 웹에는 숫자가있단말이다!!!\n",
    "#뷰티풀숩으로는 0을 구해낼수없는데\n",
    "#셀레늄으로는 가능함.... 그래서 좋아요 뺍니다~_~;;;;"
   ]
  },
  {
   "cell_type": "markdown",
   "metadata": {},
   "source": [
    "## Melon 주간 Top 100 구한 결과로 \n",
    "## 데이프레임 만들기"
   ]
  },
  {
   "cell_type": "code",
   "execution_count": 19,
   "metadata": {},
   "outputs": [],
   "source": [
    "# trs rank diff title singer album\n",
    "ranks = []; diffs = []; titles = []; singers = []; albums = []\n",
    "service_list = soup.select_one('.service_list_song') #리스트 찾기부분\n",
    "tbody = service_list.find('tbody')\n",
    "trs = tbody.find_all('tr')"
   ]
  },
  {
   "cell_type": "code",
   "execution_count": 20,
   "metadata": {},
   "outputs": [],
   "source": [
    "for tr in trs :\n",
    "    # print(i) 에러났을때. 어디서 에러났나 찾을때 필요\n",
    "    rank = int(tr.select_one('.rank').string)              #복붙1\n",
    "\n",
    "    info = tr.select_one('.ellipsis.rank01')        #클래스명 #복붙\n",
    "    title = info.find('a').string\n",
    "    info = tr.select_one('.ellipsis.rank02')\n",
    "    singer = info.find('a').string\n",
    "    info = tr.select_one('.ellipsis.rank03')\n",
    "    album = info.find('a').string\n",
    "\n",
    "    entry = tr.select_one('.rank_wrap')              #복붙3\n",
    "    spans = entry.find_all('span')\n",
    "    diff = -100                                 #print('신규진입')은 -100으로 두겠다\n",
    "    if len(spans) == 3:                         #3가지경우\n",
    "        diff = int(spans[2].string)\n",
    "        if diff != 0:                       #0이 아니면 사인을 확인함(올랐는지안올랐는지)\n",
    "            sign = spans[2].attrs['class']\n",
    "            if sign[0] == 'down':\n",
    "                diff *= -1                   #하락했을때 -1로 변경\n",
    "    ranks.append(rank)\n",
    "    diffs.append(diff)\n",
    "    titles.append(title)\n",
    "    singers.append(singer)\n",
    "    albums.append(album)"
   ]
  },
  {
   "cell_type": "code",
   "execution_count": 21,
   "metadata": {},
   "outputs": [
    {
     "name": "stdout",
     "output_type": "stream",
     "text": [
      " 기간: 2020.11.09 ~ 2020.11.15\n"
     ]
    },
    {
     "data": {
      "text/html": [
       "<div>\n",
       "<style scoped>\n",
       "    .dataframe tbody tr th:only-of-type {\n",
       "        vertical-align: middle;\n",
       "    }\n",
       "\n",
       "    .dataframe tbody tr th {\n",
       "        vertical-align: top;\n",
       "    }\n",
       "\n",
       "    .dataframe thead th {\n",
       "        text-align: right;\n",
       "    }\n",
       "</style>\n",
       "<table border=\"1\" class=\"dataframe\">\n",
       "  <thead>\n",
       "    <tr style=\"text-align: right;\">\n",
       "      <th></th>\n",
       "      <th>diff</th>\n",
       "      <th>title</th>\n",
       "      <th>singer</th>\n",
       "      <th>album</th>\n",
       "    </tr>\n",
       "    <tr>\n",
       "      <th>rank</th>\n",
       "      <th></th>\n",
       "      <th></th>\n",
       "      <th></th>\n",
       "      <th></th>\n",
       "    </tr>\n",
       "  </thead>\n",
       "  <tbody>\n",
       "    <tr>\n",
       "      <th>1</th>\n",
       "      <td>0</td>\n",
       "      <td>Dynamite</td>\n",
       "      <td>방탄소년단</td>\n",
       "      <td>Dynamite (DayTime Version)</td>\n",
       "    </tr>\n",
       "    <tr>\n",
       "      <th>2</th>\n",
       "      <td>1</td>\n",
       "      <td>힘든 건 사랑이 아니다</td>\n",
       "      <td>임창정</td>\n",
       "      <td>힘든 건 사랑이 아니다</td>\n",
       "    </tr>\n",
       "    <tr>\n",
       "      <th>3</th>\n",
       "      <td>-1</td>\n",
       "      <td>Lovesick Girls</td>\n",
       "      <td>BLACKPINK</td>\n",
       "      <td>THE ALBUM</td>\n",
       "    </tr>\n",
       "    <tr>\n",
       "      <th>4</th>\n",
       "      <td>1</td>\n",
       "      <td>취기를 빌려 (취향저격 그녀 X 산들)</td>\n",
       "      <td>산들</td>\n",
       "      <td>취기를 빌려 (취향저격 그녀 X 산들)</td>\n",
       "    </tr>\n",
       "    <tr>\n",
       "      <th>5</th>\n",
       "      <td>-1</td>\n",
       "      <td>DON'T TOUCH ME</td>\n",
       "      <td>환불원정대</td>\n",
       "      <td>DON'T TOUCH ME</td>\n",
       "    </tr>\n",
       "  </tbody>\n",
       "</table>\n",
       "</div>"
      ],
      "text/plain": [
       "      diff                  title     singer                       album\n",
       "rank                                                                    \n",
       "1        0               Dynamite      방탄소년단  Dynamite (DayTime Version)\n",
       "2        1           힘든 건 사랑이 아니다        임창정                힘든 건 사랑이 아니다\n",
       "3       -1         Lovesick Girls  BLACKPINK                   THE ALBUM\n",
       "4        1  취기를 빌려 (취향저격 그녀 X 산들)         산들       취기를 빌려 (취향저격 그녀 X 산들)\n",
       "5       -1         DON'T TOUCH ME      환불원정대              DON'T TOUCH ME"
      ]
     },
     "execution_count": 21,
     "metadata": {},
     "output_type": "execute_result"
    }
   ],
   "source": [
    "#데이터프레임만들기\n",
    "top100 = pd.DataFrame({\n",
    "    'rank': ranks,\n",
    "    'diff': diffs,\n",
    "    'title': titles,\n",
    "    'singer': singers,\n",
    "    'album': albums \n",
    "})\n",
    "top100 = top100.set_index('rank')\n",
    "print(f' 기간: {start_day} ~ {end_day}')\n",
    "top100.head()"
   ]
  },
  {
   "cell_type": "code",
   "execution_count": 22,
   "metadata": {},
   "outputs": [],
   "source": [
    "top100.to_csv('top100.csv', sep=',', encoding='utf8')  "
   ]
  },
  {
   "cell_type": "code",
   "execution_count": null,
   "metadata": {},
   "outputs": [],
   "source": []
  },
  {
   "cell_type": "code",
   "execution_count": null,
   "metadata": {},
   "outputs": [],
   "source": []
  },
  {
   "cell_type": "code",
   "execution_count": null,
   "metadata": {},
   "outputs": [],
   "source": []
  },
  {
   "cell_type": "code",
   "execution_count": null,
   "metadata": {},
   "outputs": [],
   "source": []
  },
  {
   "cell_type": "code",
   "execution_count": null,
   "metadata": {},
   "outputs": [],
   "source": []
  },
  {
   "cell_type": "code",
   "execution_count": null,
   "metadata": {},
   "outputs": [],
   "source": []
  }
 ],
 "metadata": {
  "kernelspec": {
   "display_name": "Python 3",
   "language": "python",
   "name": "python3"
  },
  "language_info": {
   "codemirror_mode": {
    "name": "ipython",
    "version": 3
   },
   "file_extension": ".py",
   "mimetype": "text/x-python",
   "name": "python",
   "nbconvert_exporter": "python",
   "pygments_lexer": "ipython3",
   "version": "3.8.3"
  }
 },
 "nbformat": 4,
 "nbformat_minor": 2
}
