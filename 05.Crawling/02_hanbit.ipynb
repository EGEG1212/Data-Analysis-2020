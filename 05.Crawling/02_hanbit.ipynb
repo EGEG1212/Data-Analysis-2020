{
 "metadata": {
  "language_info": {
   "codemirror_mode": {
    "name": "ipython",
    "version": 3
   },
   "file_extension": ".py",
   "mimetype": "text/x-python",
   "name": "python",
   "nbconvert_exporter": "python",
   "pygments_lexer": "ipython3",
   "version": "3.8.3-final"
  },
  "orig_nbformat": 2,
  "kernelspec": {
   "name": "python3",
   "display_name": "Python 3"
  }
 },
 "nbformat": 4,
 "nbformat_minor": 2,
 "cells": [
  {
   "cell_type": "code",
   "execution_count": 1,
   "metadata": {},
   "outputs": [],
   "source": [
    "from bs4 import BeautifulSoup\n",
    "import urllib.request\n",
    "import pandas as pd"
   ]
  },
  {
   "cell_type": "code",
   "execution_count": 2,
   "metadata": {},
   "outputs": [],
   "source": [
    "import requests\n",
    "headers = {'User-Agent':'Mozilla/5.0 (Windows NT 6.3; Win64; x64) AppleWebKit/537.36 (KHTML, like Gecko) Chrome/63.0.3239.132 Safari/537.36'}\n",
    "url ='https://www.hanbit.co.kr/academy/books/new_book_list.html'\n",
    "html = requests.get(url, headers = headers).text"
   ]
  },
  {
   "cell_type": "code",
   "execution_count": 3,
   "metadata": {},
   "outputs": [
    {
     "output_type": "execute_result",
     "data": {
      "text/plain": [
       "20"
      ]
     },
     "metadata": {},
     "execution_count": 3
    }
   ],
   "source": [
    "soup =  BeautifulSoup(html, 'html.parser')\n",
    "book_list =soup.select('.info')\n",
    "len(book_list)"
   ]
  },
  {
   "cell_type": "code",
   "execution_count": 4,
   "metadata": {},
   "outputs": [
    {
     "output_type": "execute_result",
     "data": {
      "text/plain": [
       "'포르잔 C++ 에센셜'"
      ]
     },
     "metadata": {},
     "execution_count": 4
    }
   ],
   "source": [
    "title = book_list[0].select_one('.book_tit').string\n",
    "title"
   ]
  },
  {
   "cell_type": "code",
   "execution_count": 5,
   "metadata": {},
   "outputs": [
    {
     "output_type": "execute_result",
     "data": {
      "text/plain": [
       "'Behrouz A. Forouzan , Richard F. Gilberg '"
      ]
     },
     "metadata": {},
     "execution_count": 5
    }
   ],
   "source": [
    "wr = book_list[0].select_one('.book_writer').string\n",
    "wr"
   ]
  },
  {
   "cell_type": "code",
   "execution_count": 17,
   "metadata": {},
   "outputs": [
    {
     "output_type": "execute_result",
     "data": {
      "text/plain": [
       "['Behrouz A. Forouzan ', ' Richard F. Gilberg ']"
      ]
     },
     "metadata": {},
     "execution_count": 17
    }
   ],
   "source": [
    "ww = book_list[0].select_one('.book_writer').string.split(',')  #저자와 역자를 나누어서 하고싶었으나...\n",
    "ww"
   ]
  },
  {
   "cell_type": "code",
   "execution_count": 18,
   "metadata": {},
   "outputs": [
    {
     "output_type": "execute_result",
     "data": {
      "text/plain": [
       "'Behrouz A. Forouzan '"
      ]
     },
     "metadata": {},
     "execution_count": 18
    }
   ],
   "source": [
    "writer = ww[0]\n",
    "writer"
   ]
  },
  {
   "cell_type": "code",
   "execution_count": 19,
   "metadata": {},
   "outputs": [
    {
     "output_type": "execute_result",
     "data": {
      "text/plain": [
       "' Richard F. Gilberg '"
      ]
     },
     "metadata": {},
     "execution_count": 19
    }
   ],
   "source": [
    "translator = ww[1]\n",
    "translator"
   ]
  },
  {
   "cell_type": "code",
   "execution_count": 9,
   "metadata": {},
   "outputs": [],
   "source": [
    "sub_book_list = soup.select('.sub_book_list')"
   ]
  },
  {
   "cell_type": "code",
   "execution_count": 10,
   "metadata": {},
   "outputs": [
    {
     "output_type": "execute_result",
     "data": {
      "text/plain": [
       "'32,000원'"
      ]
     },
     "metadata": {},
     "execution_count": 10
    }
   ],
   "source": [
    "price = sub_book_list[0].select_one('.price').get_text()\n",
    "price"
   ]
  },
  {
   "cell_type": "code",
   "execution_count": 11,
   "metadata": {},
   "outputs": [],
   "source": [
    "titles = []; writers = []; translators = []; prices = []\n",
    "book_list =soup.select('.sub_book_list')"
   ]
  },
  {
   "cell_type": "code",
   "execution_count": 31,
   "metadata": {},
   "outputs": [],
   "source": [
    "for book in book_list:\n",
    "    title = book.select_one('.book_tit').string\n",
    "    writer = book.select_one('.book_writer').string \n",
    "    translator = book.select_one('.book_writer').string\n",
    "    price = book.select_one('.price').get_text()\n",
    "\n",
    "    titles.append(title)\n",
    "    writers.append(writer)\n",
    "    translators.append(translator)\n",
    "    prices.append(price)"
   ]
  },
  {
   "cell_type": "code",
   "execution_count": 33,
   "metadata": {},
   "outputs": [
    {
     "output_type": "stream",
     "name": "stdout",
     "text": [
      "한빛미디어 새로나온 책\n"
     ]
    },
    {
     "output_type": "execute_result",
     "data": {
      "text/plain": [
       "                                                                             writer  \\\n",
       "title                                                                                 \n",
       "포르잔 C++ 에센셜                               Behrouz A. Forouzan , Richard F. Gilberg    \n",
       "IT CookBook, 액세스 2019로 배우는 데이터베이스 기초와 실습                                       김지연    \n",
       "포르잔 C++ 바이블                               Behrouz A. Forouzan , Richard F. Gilberg    \n",
       "딥러닝을 위한 선형대수학                                                       Gilbert Strang    \n",
       "IT CookBook, 오라클로 배우는 데이터베이스 개론과 실습(2판)                            박우창 , 남송휘 , 이현룡    \n",
       "\n",
       "                                                                         translator  \\\n",
       "title                                                                                 \n",
       "포르잔 C++ 에센셜                               Behrouz A. Forouzan , Richard F. Gilberg    \n",
       "IT CookBook, 액세스 2019로 배우는 데이터베이스 기초와 실습                                       김지연    \n",
       "포르잔 C++ 바이블                               Behrouz A. Forouzan , Richard F. Gilberg    \n",
       "딥러닝을 위한 선형대수학                                                       Gilbert Strang    \n",
       "IT CookBook, 오라클로 배우는 데이터베이스 개론과 실습(2판)                            박우창 , 남송휘 , 이현룡    \n",
       "\n",
       "                                            price  \n",
       "title                                              \n",
       "포르잔 C++ 에센셜                               32,000원  \n",
       "IT CookBook, 액세스 2019로 배우는 데이터베이스 기초와 실습  28,000원  \n",
       "포르잔 C++ 바이블                               45,000원  \n",
       "딥러닝을 위한 선형대수학                             38,000원  \n",
       "IT CookBook, 오라클로 배우는 데이터베이스 개론과 실습(2판)   29,000원  "
      ],
      "text/html": "<div>\n<style scoped>\n    .dataframe tbody tr th:only-of-type {\n        vertical-align: middle;\n    }\n\n    .dataframe tbody tr th {\n        vertical-align: top;\n    }\n\n    .dataframe thead th {\n        text-align: right;\n    }\n</style>\n<table border=\"1\" class=\"dataframe\">\n  <thead>\n    <tr style=\"text-align: right;\">\n      <th></th>\n      <th>writer</th>\n      <th>translator</th>\n      <th>price</th>\n    </tr>\n    <tr>\n      <th>title</th>\n      <th></th>\n      <th></th>\n      <th></th>\n    </tr>\n  </thead>\n  <tbody>\n    <tr>\n      <th>포르잔 C++ 에센셜</th>\n      <td>Behrouz A. Forouzan , Richard F. Gilberg</td>\n      <td>Behrouz A. Forouzan , Richard F. Gilberg</td>\n      <td>32,000원</td>\n    </tr>\n    <tr>\n      <th>IT CookBook, 액세스 2019로 배우는 데이터베이스 기초와 실습</th>\n      <td>김지연</td>\n      <td>김지연</td>\n      <td>28,000원</td>\n    </tr>\n    <tr>\n      <th>포르잔 C++ 바이블</th>\n      <td>Behrouz A. Forouzan , Richard F. Gilberg</td>\n      <td>Behrouz A. Forouzan , Richard F. Gilberg</td>\n      <td>45,000원</td>\n    </tr>\n    <tr>\n      <th>딥러닝을 위한 선형대수학</th>\n      <td>Gilbert Strang</td>\n      <td>Gilbert Strang</td>\n      <td>38,000원</td>\n    </tr>\n    <tr>\n      <th>IT CookBook, 오라클로 배우는 데이터베이스 개론과 실습(2판)</th>\n      <td>박우창 , 남송휘 , 이현룡</td>\n      <td>박우창 , 남송휘 , 이현룡</td>\n      <td>29,000원</td>\n    </tr>\n  </tbody>\n</table>\n</div>"
     },
     "metadata": {},
     "execution_count": 33
    }
   ],
   "source": [
    "newBook = pd.DataFrame({\n",
    "    'title': titles,\n",
    "    'writer': writers,\n",
    "    'translator':translators,\n",
    "    'price' : prices\n",
    "})\n",
    "newBook = newBook.set_index('title')\n",
    "print(f'한빛미디어 새로나온 책')\n",
    "newBook.head()"
   ]
  },
  {
   "cell_type": "code",
   "execution_count": 34,
   "metadata": {},
   "outputs": [
    {
     "output_type": "execute_result",
     "data": {
      "text/plain": [
       "60"
      ]
     },
     "metadata": {},
     "execution_count": 34
    }
   ],
   "source": [
    "len(newBook)"
   ]
  },
  {
   "cell_type": "code",
   "execution_count": 14,
   "metadata": {},
   "outputs": [],
   "source": [
    "# https://www.hanbit.co.kr/academy/books/new_book_list.html?page=3\n",
    "\n",
    "base_url = 'https://www.hanbit.co.kr/academy/books/new_book_list.html?page='\n",
    "page_url = '1'\n",
    "web_url = base_url + page_url            #3줄추가\n",
    "with urllib.request.urlopen(web_url) as response:\n",
    "    html = response.read()                      \n",
    "    soup =  BeautifulSoup(html, 'html.parser') "
   ]
  },
  {
   "cell_type": "code",
   "execution_count": 15,
   "metadata": {},
   "outputs": [
    {
     "output_type": "execute_result",
     "data": {
      "text/plain": [
       "[<div class=\"paginate\">\n",
       " <strong>1</strong>\n",
       " <a href=\"/academy/books/new_book_list.html?page=2&amp;cate_cd=&amp;srt=&amp;searchKey=&amp;keyWord=\">2</a>\n",
       " <a href=\"/academy/books/new_book_list.html?page=3&amp;cate_cd=&amp;srt=&amp;searchKey=&amp;keyWord=\">3</a>\n",
       " <a href=\"/academy/books/new_book_list.html?page=4&amp;cate_cd=&amp;srt=&amp;searchKey=&amp;keyWord=\">4</a>\n",
       " <a href=\"/academy/books/new_book_list.html?page=5&amp;cate_cd=&amp;srt=&amp;searchKey=&amp;keyWord=\">5</a>\n",
       " <a href=\"/academy/books/new_book_list.html?page=6&amp;cate_cd=&amp;srt=&amp;searchKey=&amp;keyWord=\">6</a>\n",
       " <a href=\"/academy/books/new_book_list.html?page=7&amp;cate_cd=&amp;srt=&amp;searchKey=&amp;keyWord=\">7</a>\n",
       " <a href=\"/academy/books/new_book_list.html?page=8&amp;cate_cd=&amp;srt=&amp;searchKey=&amp;keyWord=\">8</a>\n",
       " <a href=\"/academy/books/new_book_list.html?page=9&amp;cate_cd=&amp;srt=&amp;searchKey=&amp;keyWord=\">9</a>\n",
       " <a href=\"/academy/books/new_book_list.html?page=10&amp;cate_cd=&amp;srt=&amp;searchKey=&amp;keyWord=\">10</a>\n",
       " <a class=\"next\" href=\"/academy/books/new_book_list.html?page=11&amp;cate_cd=&amp;srt=&amp;searchKey=&amp;keyWord=\"><span>&gt;</span></a>\n",
       " </div>]"
      ]
     },
     "metadata": {},
     "execution_count": 15
    }
   ],
   "source": [
    "lis = soup.select('.paginate')        \n",
    "lis"
   ]
  },
  {
   "cell_type": "code",
   "execution_count": null,
   "metadata": {},
   "outputs": [],
   "source": [
    "#.... 페이지 포기......"
   ]
  }
 ]
}