{
 "metadata": {
  "language_info": {
   "codemirror_mode": {
    "name": "ipython",
    "version": 3
   },
   "file_extension": ".py",
   "mimetype": "text/x-python",
   "name": "python",
   "nbconvert_exporter": "python",
   "pygments_lexer": "ipython3",
   "version": "3.8.3-final"
  },
  "orig_nbformat": 2,
  "kernelspec": {
   "name": "python3",
   "display_name": "Python 3"
  }
 },
 "nbformat": 4,
 "nbformat_minor": 2,
 "cells": [
  {
   "cell_type": "code",
   "execution_count": 1,
   "metadata": {},
   "outputs": [],
   "source": [
    "from bs4 import BeautifulSoup\n",
    "from urllib.parse import urljoin\n",
    "from tqdm import tqdm_notebook\n",
    "import urllib.request\n",
    "import pandas as pd\n",
    "import requests"
   ]
  },
  {
   "cell_type": "code",
   "execution_count": 3,
   "metadata": {},
   "outputs": [],
   "source": [
    "headers = {'User-Agent':'Mozilla/5.0 (Windows NT 6.3; Win64; x64) AppleWebKit/537.36 (KHTML, like Gecko) Chrome/63.0.3239.132 Safari/537.36'}\n",
    "url ='https://www.ssfshop.com/special/49203/view?&utag=ref_tpl:11108$ref_cnr:10772$ref_br:ECBVF$set:1$dpos:1'\n",
    "html = requests.get(url, headers = headers).text\n",
    "soup =  BeautifulSoup(html, 'html.parser')"
   ]
  },
  {
   "cell_type": "code",
   "execution_count": 5,
   "metadata": {},
   "outputs": [
    {
     "output_type": "execute_result",
     "data": {
      "text/plain": [
       "[<h3 id=\"list7\">\n",
       "                     ★Coat★</h3>,\n",
       " <h3 id=\"list4\">\n",
       "                     Outer</h3>,\n",
       " <h3 id=\"list2\">\n",
       "                     Knit</h3>,\n",
       " <h3 id=\"list8\">\n",
       "                     Shirts/Blouse</h3>,\n",
       " <h3 id=\"list5\">\n",
       "                     Skirt/One-piece</h3>,\n",
       " <h3 id=\"list1\">\n",
       "                     Pants</h3>,\n",
       " <h3 id=\"list3\">\n",
       "                     Bag</h3>,\n",
       " <h3 id=\"list6\">\n",
       "                     Acc</h3>]"
      ]
     },
     "metadata": {},
     "execution_count": 5
    }
   ],
   "source": [
    "list_goods = soup.select('.list_goods')\n",
    "h3s = list_goods[0].find_all('h3')\n",
    "h3s"
   ]
  },
  {
   "cell_type": "code",
   "execution_count": 6,
   "metadata": {},
   "outputs": [],
   "source": [
    "items = h3s[0].get_text().split('\\n')"
   ]
  },
  {
   "cell_type": "code",
   "execution_count": 7,
   "metadata": {},
   "outputs": [
    {
     "output_type": "execute_result",
     "data": {
      "text/plain": [
       "'Coat'"
      ]
     },
     "metadata": {},
     "execution_count": 7
    }
   ],
   "source": [
    "item = items[1].strip().replace('★','')\n",
    "item\n"
   ]
  },
  {
   "cell_type": "code",
   "execution_count": 8,
   "metadata": {},
   "outputs": [
    {
     "output_type": "execute_result",
     "data": {
      "text/plain": [
       "'Outer'"
      ]
     },
     "metadata": {},
     "execution_count": 8
    }
   ],
   "source": [
    "h3s[1].get_text().strip().replace('★','')"
   ]
  },
  {
   "cell_type": "code",
   "execution_count": 16,
   "metadata": {},
   "outputs": [
    {
     "output_type": "execute_result",
     "data": {
      "text/plain": [
       "['Cashmere Blended A Silhouette Coat', 'Green']"
      ]
     },
     "metadata": {},
     "execution_count": 16
    }
   ],
   "source": [
    "garment = list_goods[0].select_one('.name').string.split(' - ')\n",
    "garment"
   ]
  },
  {
   "cell_type": "code",
   "execution_count": 40,
   "metadata": {},
   "outputs": [
    {
     "output_type": "execute_result",
     "data": {
      "text/plain": [
       "'Cashmere Blended A Silhouette Coat'"
      ]
     },
     "metadata": {},
     "execution_count": 40
    }
   ],
   "source": [
    "clothes = garment[0]  #의상이름\n",
    "clothes"
   ]
  },
  {
   "cell_type": "code",
   "execution_count": 41,
   "metadata": {},
   "outputs": [
    {
     "output_type": "execute_result",
     "data": {
      "text/plain": [
       "'Green'"
      ]
     },
     "metadata": {},
     "execution_count": 41
    }
   ],
   "source": [
    "color = garment[1] #색상\n",
    "color"
   ]
  },
  {
   "cell_type": "code",
   "execution_count": 19,
   "metadata": {},
   "outputs": [
    {
     "output_type": "execute_result",
     "data": {
      "text/plain": [
       "<span class=\"price\">\n",
       "<span class=\"wa_hidden\">판매가</span>\n",
       "                        2,090,000<span class=\"wa_hidden\">원</span><del>\n",
       "<span class=\"wa_hidden\">원가</span>\n",
       "                                2,200,000<span class=\"wa_hidden\">원</span></del>\n",
       "<em class=\"sale\"><span class=\"wa_hidden\">할인율</span>5%</em>\n",
       "</span>"
      ]
     },
     "metadata": {},
     "execution_count": 19
    }
   ],
   "source": [
    "price_list = list_goods[0].select('.price')\n",
    "price_list[0]"
   ]
  },
  {
   "cell_type": "code",
   "execution_count": 20,
   "metadata": {},
   "outputs": [
    {
     "output_type": "execute_result",
     "data": {
      "text/plain": [
       "['',\n",
       " '판매가\\r',\n",
       " '                        2,090,000원',\n",
       " '원가\\r',\n",
       " '                                2,200,000원',\n",
       " '할인율5%',\n",
       " '']"
      ]
     },
     "metadata": {},
     "execution_count": 20
    }
   ],
   "source": [
    "pl = price_list[0].get_text().split('\\n')\n",
    "pl"
   ]
  },
  {
   "cell_type": "code",
   "execution_count": 21,
   "metadata": {},
   "outputs": [
    {
     "output_type": "execute_result",
     "data": {
      "text/plain": [
       "2090000"
      ]
     },
     "metadata": {},
     "execution_count": 21
    }
   ],
   "source": [
    "sales_price = int(pl[2].strip()[:-1].replace(',', ''))\n",
    "sales_price"
   ]
  },
  {
   "cell_type": "code",
   "execution_count": 22,
   "metadata": {},
   "outputs": [
    {
     "output_type": "execute_result",
     "data": {
      "text/plain": [
       "2200000"
      ]
     },
     "metadata": {},
     "execution_count": 22
    }
   ],
   "source": [
    "price = int(pl[4].strip()[:-1].replace(',', ''))\n",
    "price "
   ]
  },
  {
   "cell_type": "code",
   "execution_count": 23,
   "metadata": {},
   "outputs": [
    {
     "output_type": "execute_result",
     "data": {
      "text/plain": [
       "'5%'"
      ]
     },
     "metadata": {},
     "execution_count": 23
    }
   ],
   "source": [
    "rate = pl[5][3:]\n",
    "rate "
   ]
  },
  {
   "cell_type": "code",
   "execution_count": 39,
   "metadata": {},
   "outputs": [
    {
     "output_type": "execute_result",
     "data": {
      "text/plain": [
       "'51'"
      ]
     },
     "metadata": {},
     "execution_count": 39
    }
   ],
   "source": [
    "heart_list = list_goods[0].select('.heart')\n",
    "heart = heart_list[1].find('em').get_text()\n",
    "heart"
   ]
  },
  {
   "cell_type": "code",
   "execution_count": 43,
   "metadata": {},
   "outputs": [
    {
     "output_type": "execute_result",
     "data": {
      "text/plain": [
       "1"
      ]
     },
     "metadata": {},
     "execution_count": 43
    }
   ],
   "source": [
    "len(list_goods)"
   ]
  },
  {
   "cell_type": "code",
   "execution_count": null,
   "metadata": {},
   "outputs": [],
   "source": [
    "print(item,'_', clothes,'_', color,'_', sales_price,'_', price,'_', rate, '_', heart)"
   ]
  },
  {
   "cell_type": "code",
   "execution_count": 44,
   "metadata": {},
   "outputs": [
    {
     "output_type": "execute_result",
     "data": {
      "text/plain": [
       "(9, 8)"
      ]
     },
     "metadata": {},
     "execution_count": 44
    }
   ],
   "source": [
    "uls = soup.select_one('.list_goods').find_all('ul')\n",
    "h3s = soup.select_one('.list_goods').find_all('h3')\n",
    "len(uls), len(h3s)"
   ]
  },
  {
   "cell_type": "code",
   "execution_count": 60,
   "metadata": {
    "tags": []
   },
   "outputs": [
    {
     "output_type": "execute_result",
     "data": {
      "text/plain": [
       "<li class=\"\" view-godno=\"GM0020090784818\">\n",
       "<a href=\"/LEBEIGE/GM0020090784818/good?dspCtgryNo=&amp;brandShopNo=&amp;brndShopId=&amp;leftBrandNM=&amp;utag=ref_tpl:11108$ref_cnr:10772$ref_br:ECBVF$ref_evt:special*49203$set:7$dpos:1\">\n",
       "<img alt=\"Cashmere Blended A Silhouette Coat - Green\" onerror=\"this.onerror=null;this.src='/v3/images/common/noImg_197.gif'\" src=\"https://img.ssfshop.com/cmd/LB_228x300/src/https://img.ssfshop.com/goods/ECBR/20/09/07/GM0020090784818_0_ORGINL_20200907114847164.jpg\"/>\n",
       "<div class=\"keep\"><span class=\"heart\">\n",
       "<input class=\"dummy\" title=\"찜하기\" type=\"radio\"/>\n",
       "</span></div><span class=\"hover\">\n",
       "<img alt=\"Cashmere Blended A Silhouette Coat - Green,LEBEIGE\" onerror=\"this.onerror=null;this.src='/v3/images/common/noImg_197.gif'\" src=\"https://img.ssfshop.com/cmd/LB_228x300/src/https://img.ssfshop.com/goods/ECBR/20/09/07/GM0020090784818_1_ORGINL_20200907114847164.jpg\"/>\n",
       "</span>\n",
       "<div class=\"info\">\n",
       "<span class=\"brand\">\n",
       "<em>\n",
       "                        20FW</em>\n",
       "                LEBEIGE</span>\n",
       "<span class=\"name\">Cashmere Blended A Silhouette Coat - Green</span>\n",
       "<span class=\"price\">\n",
       "<span class=\"wa_hidden\">판매가</span>\n",
       "                        2,090,000<span class=\"wa_hidden\">원</span><del>\n",
       "<span class=\"wa_hidden\">원가</span>\n",
       "                                2,200,000<span class=\"wa_hidden\">원</span></del>\n",
       "<em class=\"sale\"><span class=\"wa_hidden\">할인율</span>5%</em>\n",
       "</span>\n",
       "<span class=\"score\"><span class=\"heart\"><i>♡</i><em>51</em></span>\n",
       "<span class=\"review\">리뷰<em>5</em></span>\n",
       "</span>\n",
       "</div>\n",
       "</a>\n",
       "</li>"
      ]
     },
     "metadata": {},
     "execution_count": 60
    }
   ],
   "source": [
    "uls[1].find('li')"
   ]
  },
  {
   "cell_type": "code",
   "execution_count": 58,
   "metadata": {},
   "outputs": [
    {
     "output_type": "error",
     "ename": "NameError",
     "evalue": "name 'lis' is not defined",
     "traceback": [
      "\u001b[1;31m---------------------------------------------------------------------------\u001b[0m",
      "\u001b[1;31mNameError\u001b[0m                                 Traceback (most recent call last)",
      "\u001b[1;32m<ipython-input-58-f2f08c048714>\u001b[0m in \u001b[0;36m<module>\u001b[1;34m\u001b[0m\n\u001b[0;32m      3\u001b[0m     \u001b[1;31m#print(category_name)\u001b[0m\u001b[1;33m\u001b[0m\u001b[1;33m\u001b[0m\u001b[1;33m\u001b[0m\u001b[0m\n\u001b[0;32m      4\u001b[0m     \u001b[0mname\u001b[0m \u001b[1;33m=\u001b[0m \u001b[0muls\u001b[0m\u001b[1;33m[\u001b[0m\u001b[0mi\u001b[0m\u001b[1;33m+\u001b[0m\u001b[1;36m1\u001b[0m\u001b[1;33m]\u001b[0m\u001b[1;33m.\u001b[0m\u001b[0mfind_all\u001b[0m\u001b[1;33m(\u001b[0m\u001b[1;34m'li'\u001b[0m\u001b[1;33m)\u001b[0m\u001b[1;33m\u001b[0m\u001b[1;33m\u001b[0m\u001b[0m\n\u001b[1;32m----> 5\u001b[1;33m     \u001b[1;32mfor\u001b[0m \u001b[0mli\u001b[0m \u001b[1;32min\u001b[0m \u001b[0mlis\u001b[0m\u001b[1;33m:\u001b[0m\u001b[1;33m\u001b[0m\u001b[1;33m\u001b[0m\u001b[0m\n\u001b[0m\u001b[0;32m      6\u001b[0m         \u001b[0mgarment\u001b[0m \u001b[1;33m=\u001b[0m \u001b[0mli\u001b[0m\u001b[1;33m.\u001b[0m\u001b[0mselect_one\u001b[0m\u001b[1;33m(\u001b[0m\u001b[1;34m'.name'\u001b[0m\u001b[1;33m)\u001b[0m\u001b[1;33m.\u001b[0m\u001b[0mget_text\u001b[0m\u001b[1;33m(\u001b[0m\u001b[1;33m)\u001b[0m\u001b[1;33m.\u001b[0m\u001b[0mstrip\u001b[0m\u001b[1;33m(\u001b[0m\u001b[1;33m)\u001b[0m\u001b[1;33m.\u001b[0m\u001b[0msplit\u001b[0m\u001b[1;33m(\u001b[0m\u001b[1;34m' - '\u001b[0m\u001b[1;33m)\u001b[0m\u001b[1;33m\u001b[0m\u001b[1;33m\u001b[0m\u001b[0m\n\u001b[0;32m      7\u001b[0m         \u001b[0mclothes\u001b[0m \u001b[1;33m=\u001b[0m \u001b[0mgarment\u001b[0m\u001b[1;33m[\u001b[0m\u001b[1;36m0\u001b[0m\u001b[1;33m]\u001b[0m\u001b[1;33m\u001b[0m\u001b[1;33m\u001b[0m\u001b[0m\n",
      "\u001b[1;31mNameError\u001b[0m: name 'lis' is not defined"
     ]
    }
   ],
   "source": [
    "for i in range(8):\n",
    "    category_name = h3s[i].get_text().strip().replace('★','')\n",
    "    #print(category_name)\n",
    "    name = uls[i+1].find_all('li')\n",
    "    for li in lis:\n",
    "        garment = li.select_one('.name').get_text().strip().split(' - ')\n",
    "        clothes = garment[0] \n",
    "        color = garment[1]"
   ]
  },
  {
   "cell_type": "code",
   "execution_count": null,
   "metadata": {},
   "outputs": [],
   "source": []
  }
 ]
}