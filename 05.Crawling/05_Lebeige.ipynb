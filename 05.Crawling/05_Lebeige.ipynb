{
 "metadata": {
  "language_info": {
   "codemirror_mode": {
    "name": "ipython",
    "version": 3
   },
   "file_extension": ".py",
   "mimetype": "text/x-python",
   "name": "python",
   "nbconvert_exporter": "python",
   "pygments_lexer": "ipython3",
   "version": "3.8.3-final"
  },
  "orig_nbformat": 2,
  "kernelspec": {
   "name": "python3",
   "display_name": "Python 3"
  }
 },
 "nbformat": 4,
 "nbformat_minor": 2,
 "cells": [
  {
   "cell_type": "code",
   "execution_count": 1,
   "metadata": {},
   "outputs": [],
   "source": [
    "from bs4 import BeautifulSoup\n",
    "from urllib.parse import urljoin\n",
    "import urllib.request\n",
    "import pandas as pd\n",
    "import requests"
   ]
  },
  {
   "cell_type": "code",
   "execution_count": 2,
   "metadata": {},
   "outputs": [],
   "source": [
    "headers = {'User-Agent':'Mozilla/5.0 (Windows NT 6.3; Win64; x64) AppleWebKit/537.36 (KHTML, like Gecko) Chrome/63.0.3239.132 Safari/537.36'}\n",
    "url ='https://www.ssfshop.com/special/49203/view?&utag=ref_tpl:11108$ref_cnr:10772$ref_br:ECBVF$set:1$dpos:1'\n",
    "html = requests.get(url, headers = headers).text"
   ]
  },
  {
   "cell_type": "code",
   "execution_count": 3,
   "metadata": {},
   "outputs": [
    {
     "output_type": "execute_result",
     "data": {
      "text/plain": [
       "121"
      ]
     },
     "metadata": {},
     "execution_count": 3
    }
   ],
   "source": [
    "soup =  BeautifulSoup(html, 'html.parser')\n",
    "info =soup.select('.info')\n",
    "len(info)"
   ]
  },
  {
   "cell_type": "code",
   "execution_count": 4,
   "metadata": {},
   "outputs": [
    {
     "output_type": "execute_result",
     "data": {
      "text/plain": [
       "<div class=\"info\">\n",
       "<span class=\"brand\">\n",
       "<em>\n",
       "                        20FW</em>\n",
       "                LEBEIGE</span>\n",
       "<span class=\"name\">Cocoon Silhouette Cashmere Coat - Green</span>\n",
       "<span class=\"price\">\n",
       "<span class=\"wa_hidden\">판매가</span>\n",
       "                        2,850,000<span class=\"wa_hidden\">원</span><del>\n",
       "<span class=\"wa_hidden\">원가</span>\n",
       "                                3,000,000<span class=\"wa_hidden\">원</span></del>\n",
       "<em class=\"sale\"><span class=\"wa_hidden\">할인율</span>5%</em>\n",
       "</span>\n",
       "<span class=\"score\"><span class=\"heart\"><i>♡</i><em>22</em></span>\n",
       "<span class=\"review\">리뷰<em>4</em></span>\n",
       "</span>\n",
       "</div>"
      ]
     },
     "metadata": {},
     "execution_count": 4
    }
   ],
   "source": [
    "info[0]"
   ]
  },
  {
   "cell_type": "code",
   "execution_count": 5,
   "metadata": {},
   "outputs": [
    {
     "output_type": "execute_result",
     "data": {
      "text/plain": [
       "['Cocoon Silhouette Cashmere Coat', 'Green']"
      ]
     },
     "metadata": {},
     "execution_count": 5
    }
   ],
   "source": [
    "garment = info[0].select_one('.name').string.split(' - ')\n",
    "garment"
   ]
  },
  {
   "cell_type": "code",
   "execution_count": 6,
   "metadata": {},
   "outputs": [
    {
     "output_type": "execute_result",
     "data": {
      "text/plain": [
       "'Cocoon Silhouette Cashmere Coat'"
      ]
     },
     "metadata": {},
     "execution_count": 6
    }
   ],
   "source": [
    "clothes = garment[0]  #의상이름\n",
    "clothes"
   ]
  },
  {
   "cell_type": "code",
   "execution_count": 7,
   "metadata": {},
   "outputs": [
    {
     "output_type": "execute_result",
     "data": {
      "text/plain": [
       "'Green'"
      ]
     },
     "metadata": {},
     "execution_count": 7
    }
   ],
   "source": [
    "color = garment[1] #색상\n",
    "color"
   ]
  },
  {
   "cell_type": "code",
   "execution_count": 8,
   "metadata": {},
   "outputs": [
    {
     "output_type": "execute_result",
     "data": {
      "text/plain": [
       "<span class=\"price\">\n",
       "<span class=\"wa_hidden\">판매가</span>\n",
       "                        2,850,000<span class=\"wa_hidden\">원</span><del>\n",
       "<span class=\"wa_hidden\">원가</span>\n",
       "                                3,000,000<span class=\"wa_hidden\">원</span></del>\n",
       "<em class=\"sale\"><span class=\"wa_hidden\">할인율</span>5%</em>\n",
       "</span>"
      ]
     },
     "metadata": {},
     "execution_count": 8
    }
   ],
   "source": [
    "price_list =soup.select('.price')\n",
    "price_list[0]"
   ]
  },
  {
   "cell_type": "code",
   "execution_count": 9,
   "metadata": {},
   "outputs": [
    {
     "output_type": "execute_result",
     "data": {
      "text/plain": [
       "['',\n",
       " '판매가\\r',\n",
       " '                        2,850,000원',\n",
       " '원가\\r',\n",
       " '                                3,000,000원',\n",
       " '할인율5%',\n",
       " '']"
      ]
     },
     "metadata": {},
     "execution_count": 9
    }
   ],
   "source": [
    "pl = price_list[0].get_text().split('\\n')\n",
    "pl"
   ]
  },
  {
   "cell_type": "code",
   "execution_count": 10,
   "metadata": {},
   "outputs": [
    {
     "output_type": "execute_result",
     "data": {
      "text/plain": [
       "2850000"
      ]
     },
     "metadata": {},
     "execution_count": 10
    }
   ],
   "source": [
    "sales_price = int(pl[2].strip()[:-1].replace(',', ''))\n",
    "sales_price             #판매가"
   ]
  },
  {
   "cell_type": "code",
   "execution_count": 11,
   "metadata": {},
   "outputs": [
    {
     "output_type": "execute_result",
     "data": {
      "text/plain": [
       "3000000"
      ]
     },
     "metadata": {},
     "execution_count": 11
    }
   ],
   "source": [
    "price = int(pl[4].strip()[:-1].replace(',', ''))\n",
    "price                   #원가"
   ]
  },
  {
   "cell_type": "code",
   "execution_count": 12,
   "metadata": {},
   "outputs": [
    {
     "output_type": "execute_result",
     "data": {
      "text/plain": [
       "'5%'"
      ]
     },
     "metadata": {},
     "execution_count": 12
    }
   ],
   "source": [
    "rate = pl[5][3:]\n",
    "rate                   #할인율"
   ]
  },
  {
   "cell_type": "code",
   "execution_count": 13,
   "metadata": {},
   "outputs": [
    {
     "output_type": "execute_result",
     "data": {
      "text/plain": [
       "9"
      ]
     },
     "metadata": {},
     "execution_count": 13
    }
   ],
   "source": [
    "items_list =soup.select('h3')\n",
    "len(items_list)"
   ]
  },
  {
   "cell_type": "code",
   "execution_count": 14,
   "metadata": {},
   "outputs": [
    {
     "output_type": "execute_result",
     "data": {
      "text/plain": [
       "[<h3>최근검색어</h3>,\n",
       " <h3 id=\"list7\">\n",
       "                     ★Coat★</h3>,\n",
       " <h3 id=\"list4\">\n",
       "                     Outer</h3>,\n",
       " <h3 id=\"list2\">\n",
       "                     Knit</h3>,\n",
       " <h3 id=\"list8\">\n",
       "                     Shirts/Blouse</h3>,\n",
       " <h3 id=\"list5\">\n",
       "                     Skirt/One-piece</h3>,\n",
       " <h3 id=\"list1\">\n",
       "                     Pants</h3>,\n",
       " <h3 id=\"list3\">\n",
       "                     Bag</h3>,\n",
       " <h3 id=\"list6\">\n",
       "                     Acc</h3>]"
      ]
     },
     "metadata": {},
     "execution_count": 14
    }
   ],
   "source": [
    "items_list"
   ]
  },
  {
   "cell_type": "code",
   "execution_count": 15,
   "metadata": {},
   "outputs": [
    {
     "output_type": "execute_result",
     "data": {
      "text/plain": [
       "['\\r', '                    ★Coat★']"
      ]
     },
     "metadata": {},
     "execution_count": 15
    }
   ],
   "source": [
    "items = items_list[1].get_text().split('\\n')\n",
    "items"
   ]
  },
  {
   "cell_type": "code",
   "execution_count": 16,
   "metadata": {},
   "outputs": [
    {
     "output_type": "execute_result",
     "data": {
      "text/plain": [
       "'Coat'"
      ]
     },
     "metadata": {},
     "execution_count": 16
    }
   ],
   "source": [
    "item = items[1].strip().replace('★','')\n",
    "item\n"
   ]
  },
  {
   "cell_type": "code",
   "execution_count": 17,
   "metadata": {},
   "outputs": [
    {
     "output_type": "execute_result",
     "data": {
      "text/plain": [
       "<h3 id=\"list4\">\n",
       "                    Outer</h3>"
      ]
     },
     "metadata": {},
     "execution_count": 17
    }
   ],
   "source": [
    "items_list[2]"
   ]
  },
  {
   "cell_type": "code",
   "execution_count": 18,
   "metadata": {},
   "outputs": [
    {
     "output_type": "execute_result",
     "data": {
      "text/plain": [
       "'Outer'"
      ]
     },
     "metadata": {},
     "execution_count": 18
    }
   ],
   "source": [
    "items_list[2].get_text().strip()"
   ]
  },
  {
   "cell_type": "code",
   "execution_count": 19,
   "metadata": {},
   "outputs": [
    {
     "output_type": "stream",
     "name": "stdout",
     "text": [
      "Coat / Cocoon Silhouette Cashmere Coat / Green / 2850000 / 3000000 / 5%\n"
     ]
    }
   ],
   "source": [
    "print(item,'/', clothes,'/', color,'/', sales_price,'/', price,'/', rate)"
   ]
  },
  {
   "cell_type": "code",
   "execution_count": null,
   "metadata": {},
   "outputs": [],
   "source": [
    "item_list = []; clothes_list = []; color_list = []; sales_price_list = []; rate_list = []\n",
    "for rest in info:\n",
    "    item = items_list[1].get_text().split('\\n')\n",
    "    garment = info[0].select_one('.name').string.split(' - ')"
   ]
  },
  {
   "cell_type": "code",
   "execution_count": null,
   "metadata": {},
   "outputs": [],
   "source": []
  }
 ]
}