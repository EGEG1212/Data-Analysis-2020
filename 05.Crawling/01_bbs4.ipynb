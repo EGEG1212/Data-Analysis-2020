{
 "cells": [
  {
   "cell_type": "markdown",
   "metadata": {},
   "source": [
    "## Beautiful Soup Crawling (교수님자료ppt)"
   ]
  },
  {
   "cell_type": "code",
   "execution_count": 47,
   "metadata": {},
   "outputs": [],
   "source": [
    "from bs4 import BeautifulSoup"
   ]
  },
  {
   "cell_type": "markdown",
   "metadata": {},
   "source": [
    "## 파일로부터 읽기"
   ]
  },
  {
   "cell_type": "code",
   "execution_count": 48,
   "metadata": {},
   "outputs": [],
   "source": [
    "with open('00_Example.html', encoding='utf8') as html:  #인코딩이 안될때는 , encoding='utf8' 이것추가\n",
    "    soup =  BeautifulSoup(html, 'html.parser')  # 숩이라는 객체를통해 (읽을꺼, 'html.parser')"
   ]
  },
  {
   "cell_type": "code",
   "execution_count": 49,
   "metadata": {},
   "outputs": [
    {
     "name": "stdout",
     "output_type": "stream",
     "text": [
      "<!DOCTYPE html>\n",
      "\n",
      "<html>\n",
      "<head>\n",
      "<meta charset=\"utf-8\"/>\n",
      "<title>Web Crawling Example</title>\n",
      "</head>\n",
      "<body>\n",
      "<div>\n",
      "<p>a</p>\n",
      "<p>b</p>\n",
      "<p>c</p>\n",
      "</div>\n",
      "<div class=\"ex_class sample\">\n",
      "<p>1</p>\n",
      "<p>2</p>\n",
      "<p>3</p>\n",
      "</div>\n",
      "<div id=\"ex_id\">\n",
      "<p>X</p>\n",
      "<p>Y</p>\n",
      "<p>Z</p>\n",
      "</div>\n",
      "<h1>This is a heading.</h1>\n",
      "<p>This is a paragraph.</p>\n",
      "<p>This is another paragraph.</p>\n",
      "<a class=\"a sample\" href=\"www.naver.com\">Naver</a>\n",
      "</body>\n",
      "</html>\n",
      ".ex_class   \n",
      "\n"
     ]
    }
   ],
   "source": [
    "print(soup)"
   ]
  },
  {
   "cell_type": "markdown",
   "metadata": {},
   "source": [
    "## 인터넷에서 가져오기"
   ]
  },
  {
   "cell_type": "code",
   "execution_count": 50,
   "metadata": {},
   "outputs": [],
   "source": [
    "import urllib.request\n",
    "import urllib.parse  #항상 import할것"
   ]
  },
  {
   "cell_type": "code",
   "execution_count": 51,
   "metadata": {},
   "outputs": [],
   "source": [
    "web_url = 'http://200.1.220.217:3000/bbs/list/1'\n",
    "with urllib.request.urlopen(web_url) as response:\n",
    "    html = response.read()                      #html코드 알맹이만 가져온다\n",
    "    soup =  BeautifulSoup(html, 'html.parser')  #객체의 생성자BeautifulSoup"
   ]
  },
  {
   "cell_type": "code",
   "execution_count": 52,
   "metadata": {},
   "outputs": [
    {
     "name": "stdout",
     "output_type": "stream",
     "text": [
      "<!DOCTYPE html>\n",
      "\n",
      "<html lang=\"ko\">\n",
      "<head>\n",
      "<title>My BBS</title>\n",
      "<meta charset=\"utf-8\"/>\n",
      "<meta content=\"width=device-width, initial-scale=1\" name=\"viewport\"/>\n",
      "<link href=\"/bootstrap/css/bootstrap.min.css\" rel=\"stylesheet\"/>\n",
      "<link href=\"/fontawesome/css/all.min.css\" rel=\"stylesheet\"/>\n",
      "<script src=\"/jquery/jquery.min.js\"></script>\n",
      "<script src=\"/popper/popper.min.js\"></script>\n",
      "<script src=\"/bootstrap/js/bootstrap.min.js\"></script>\n",
      "</head>\n",
      "<body>\n",
      "<nav class=\"navbar navbar-expand-lg bg-dark navbar-dark fixed-top\">\n",
      "<a class=\"navbar-brand\" href=\"#\">\n",
      "<img alt=\"호서직업능력개발원\" src=\"/img/hoseo.png\" style=\"height: 40px; margin-left: 50px; margin-right: 80px;\"/>\n",
      "</a>\n",
      "<ul class=\"nav mr-auto\">\n",
      "<li class=\"nav-item nav-light\">\n",
      "<a class=\"nav-link\" href=\"/\"><i class=\"fas fa-home\"></i>홈</a>\n",
      "</li>\n",
      "<li class=\"nav-item\">\n",
      "<a class=\"nav-link\" href=\"/bbs/write\"><i class=\"far fa-edit\"></i>글쓰기</a>\n",
      "</li>\n",
      "<li class=\"nav-item\">\n",
      "<a class=\"nav-link\" href=\"/user/dispatch\"><i class=\"far fa-user\"></i>사용자</a>\n",
      "</li>\n",
      "<li class=\"nav-item\">\n",
      "<a class=\"nav-link\" href=\"/admin/viewChart\"><i class=\"fas fa-chart-bar\"></i></a>\n",
      "</li>\n",
      "<li class=\"nav-item ml-5\">\n",
      "<a class=\"nav-link\" href=\"/logout\"><i class=\"fas fa-sign-out-alt\"></i>로그아웃</a>\n",
      "</li>\n",
      "</ul>\n",
      "<nav class=\"navbar navbar-light mr-4\">\n",
      "<form action=\"/bbs/search\" class=\"form-inline\" method=\"post\">\n",
      "<input aria-label=\"Search\" class=\"form-control mr-sm-2\" name=\"keyword\" placeholder=\"검색\" type=\"search\"/>\n",
      "<button class=\"btn btn-outline-light my-2 my-sm-0\" type=\"submit\"><i class=\"fas fa-search\"></i></button>\n",
      "</form>\n",
      "</nav>\n",
      "<div class=\"navbar-text fixed-right mr-3\">\n",
      "                undefined님 반갑습니다.\n",
      "            </div>\n",
      "</nav>\n",
      "<div class=\"container\" style=\"margin-top: 90px;\">\n",
      "<div class=\"row\">\n",
      "<div class=\"col-12\">\n",
      "<h3>게시판 글 목록</h3>\n",
      "<hr/>\n",
      "</div>\n",
      "<div class=\"col-1\"></div>\n",
      "<div class=\"col-10\">\n",
      "<table class=\"table table-condensed table-hover\">\n",
      "<tr class=\"table-secondary d-flex\">\n",
      "<td class=\"col-1\" style=\"text-align: center;\"><strong>번호</strong></td>\n",
      "<td class=\"col-6\" style=\"text-align: center;\"><strong>제목</strong></td>\n",
      "<td class=\"col-2\" style=\"text-align: center;\"><strong>글쓴이</strong></td>\n",
      "<td class=\"col-2\" style=\"text-align: center;\"><strong>날짜/시간</strong></td>\n",
      "<td class=\"col-1\" style=\"text-align: center;\"><strong>조회수</strong></td>\n",
      "</tr>\n",
      "<tr class=\"d-flex\">\n",
      "<td class=\"col-1\" style=\"text-align: center;\">1013</td>\n",
      "<td class=\"col-6\"><a href=\"/bbs/bid/1013/inc/1\"><strong>리눅스 글쓰기</strong></a></td>\n",
      "<td class=\"col-2\" style=\"text-align: center;\">홍길동</td>\n",
      "<td class=\"col-2\" style=\"text-align: center;\">2020-10-27</td>\n",
      "<td class=\"col-1\" style=\"text-align: center;\">3</td>\n",
      "</tr>\n",
      "<tr class=\"d-flex\">\n",
      "<td class=\"col-1\" style=\"text-align: center;\">1012</td>\n",
      "<td class=\"col-6\"><a href=\"/bbs/bid/1012/inc/1\"><strong>마이크로소프트 엣지에서의 동작<span class=\"text-danger\">[2]</span></strong></a></td>\n",
      "<td class=\"col-2\" style=\"text-align: center;\">김은숙</td>\n",
      "<td class=\"col-2\" style=\"text-align: center;\">2020-10-23</td>\n",
      "<td class=\"col-1\" style=\"text-align: center;\">14</td>\n",
      "</tr>\n",
      "<tr class=\"d-flex\">\n",
      "<td class=\"col-1\" style=\"text-align: center;\">1011</td>\n",
      "<td class=\"col-6\"><a href=\"/bbs/bid/1011/inc/1\"><strong>역적 - 백성을 훔친 도적<span class=\"text-danger\">[1]</span></strong></a></td>\n",
      "<td class=\"col-2\" style=\"text-align: center;\">홍길동</td>\n",
      "<td class=\"col-2\" style=\"text-align: center;\">2020-10-23</td>\n",
      "<td class=\"col-1\" style=\"text-align: center;\">3</td>\n",
      "</tr>\n",
      "<tr class=\"d-flex\">\n",
      "<td class=\"col-1\" style=\"text-align: center;\">1010</td>\n",
      "<td class=\"col-6\"><a href=\"/bbs/bid/1010/inc/1\"><strong>홍길동전</strong></a></td>\n",
      "<td class=\"col-2\" style=\"text-align: center;\">홍길동</td>\n",
      "<td class=\"col-2\" style=\"text-align: center;\">2020-10-23</td>\n",
      "<td class=\"col-1\" style=\"text-align: center;\">3</td>\n",
      "</tr>\n",
      "<tr class=\"d-flex\">\n",
      "<td class=\"col-1\" style=\"text-align: center;\">1009</td>\n",
      "<td class=\"col-6\"><a href=\"/bbs/bid/1009/inc/1\"><strong>대조영<span class=\"text-danger\">[2]</span></strong></a></td>\n",
      "<td class=\"col-2\" style=\"text-align: center;\">대조영</td>\n",
      "<td class=\"col-2\" style=\"text-align: center;\">2020-10-23</td>\n",
      "<td class=\"col-1\" style=\"text-align: center;\">9</td>\n",
      "</tr>\n",
      "<tr class=\"d-flex\">\n",
      "<td class=\"col-1\" style=\"text-align: center;\">1008</td>\n",
      "<td class=\"col-6\"><a href=\"/bbs/bid/1008/inc/1\"><strong>Linux server를 원격 Windows에서 접속하여 글쓰기<span class=\"text-danger\">[3]</span></strong></a></td>\n",
      "<td class=\"col-2\" style=\"text-align: center;\">관리자</td>\n",
      "<td class=\"col-2\" style=\"text-align: center;\">2020-10-23</td>\n",
      "<td class=\"col-1\" style=\"text-align: center;\">7</td>\n",
      "</tr>\n",
      "<tr class=\"d-flex\">\n",
      "<td class=\"col-1\" style=\"text-align: center;\">1007</td>\n",
      "<td class=\"col-6\"><a href=\"/bbs/bid/1007/inc/1\"><strong>ubuntu에서 글쓰기<span class=\"text-danger\">[1]</span></strong></a></td>\n",
      "<td class=\"col-2\" style=\"text-align: center;\">관리자</td>\n",
      "<td class=\"col-2\" style=\"text-align: center;\">2020-10-22</td>\n",
      "<td class=\"col-1\" style=\"text-align: center;\">5</td>\n",
      "</tr>\n",
      "<tr class=\"d-flex\">\n",
      "<td class=\"col-1\" style=\"text-align: center;\">1006</td>\n",
      "<td class=\"col-6\"><a href=\"/bbs/bid/1006/inc/1\"><strong>슬기로운 의사생활<span class=\"text-danger\">[3]</span></strong></a></td>\n",
      "<td class=\"col-2\" style=\"text-align: center;\">이우정</td>\n",
      "<td class=\"col-2\" style=\"text-align: center;\">2020-10-22</td>\n",
      "<td class=\"col-1\" style=\"text-align: center;\">11</td>\n",
      "</tr>\n",
      "<tr class=\"d-flex\">\n",
      "<td class=\"col-1\" style=\"text-align: center;\">1005</td>\n",
      "<td class=\"col-6\"><a href=\"/bbs/bid/1005/inc/1\"><strong>파리의 연인<span class=\"text-danger\">[4]</span></strong></a></td>\n",
      "<td class=\"col-2\" style=\"text-align: center;\">김은숙</td>\n",
      "<td class=\"col-2\" style=\"text-align: center;\">2020-10-22</td>\n",
      "<td class=\"col-1\" style=\"text-align: center;\">8</td>\n",
      "</tr>\n",
      "<tr class=\"d-flex\">\n",
      "<td class=\"col-1\" style=\"text-align: center;\">1004</td>\n",
      "<td class=\"col-6\"><a href=\"/bbs/bid/1004/inc/1\"><strong>시크릿 가든</strong></a></td>\n",
      "<td class=\"col-2\" style=\"text-align: center;\">김은숙</td>\n",
      "<td class=\"col-2\" style=\"text-align: center;\">2020-10-22</td>\n",
      "<td class=\"col-1\" style=\"text-align: center;\">4</td>\n",
      "</tr>\n",
      "</table>\n",
      "<ul class=\"pagination justify-content-center\">\n",
      "<li class=\"page-item\">\n",
      "<a aria-label=\"Previous\" class=\"page-link active\" href=\"#\">\n",
      "<span aria-hidden=\"true\">«</span></a>\n",
      "</li><li aria-current=\"page\" class=\"page-item active\">\n",
      "<span class=\"page-link\">\n",
      "                                1<span class=\"sr-only\">(current)</span>\n",
      "</span>\n",
      "</li><li class=\"page-item\"><a class=\"page-link\" href=\"/bbs/list/2\">2</a></li><li class=\"page-item\">\n",
      "<a aria-label=\"Next\" class=\"page-link\" href=\"#\">\n",
      "<span aria-hidden=\"true\">»</span></a>\n",
      "</li>\n",
      "</ul>\n",
      "</div>\n",
      "<div class=\"col-1\"></div>\n",
      "</div>\n",
      "</div>\n",
      "<nav class=\"navbar navbar-expand-lg navbar-light bg-light justify-content-center fixed-bottom\">\n",
      "<span class=\"navbar-text\">\n",
      "        Copyright © 2020 Hoseo Institute of Big Data\n",
      "    </span>\n",
      "</nav>\n",
      "</body>\n",
      "</html> \n"
     ]
    }
   ],
   "source": [
    "print(soup)     #soup은 html코드 알맹이만 가져온다"
   ]
  },
  {
   "cell_type": "markdown",
   "metadata": {},
   "source": [
    "## Beautiful Soup 사용법\n",
    "### 태그를 이용해서 원하는 정보만 가져오기"
   ]
  },
  {
   "cell_type": "code",
   "execution_count": 53,
   "metadata": {},
   "outputs": [],
   "source": [
    "#이것부터 시작\n",
    "with open('00_Example.html', encoding='utf8') as html: \n",
    "    soup =  BeautifulSoup(html, 'html.parser') "
   ]
  },
  {
   "cell_type": "code",
   "execution_count": 54,
   "metadata": {},
   "outputs": [
    {
     "data": {
      "text/plain": [
       "<div>\n",
       "<p>a</p>\n",
       "<p>b</p>\n",
       "<p>c</p>\n",
       "</div>"
      ]
     },
     "execution_count": 54,
     "metadata": {},
     "output_type": "execute_result"
    }
   ],
   "source": [
    "# find, find_all  #앞으로 사용할것은 이 두가지 (find는 한개찾아줌/ find_all은 여러개찾아줌)객체\n",
    "# 태그를 이용해서 찾기 'div'\n",
    "first_div = soup.find('div') #find하면 <객체>가 나온다\n",
    "first_div"
   ]
  },
  {
   "cell_type": "code",
   "execution_count": 55,
   "metadata": {},
   "outputs": [
    {
     "name": "stdout",
     "output_type": "stream",
     "text": [
      "[<div>\n",
      "<p>a</p>\n",
      "<p>b</p>\n",
      "<p>c</p>\n",
      "</div>, <div class=\"ex_class sample\">\n",
      "<p>1</p>\n",
      "<p>2</p>\n",
      "<p>3</p>\n",
      "</div>, <div id=\"ex_id\">\n",
      "<p>X</p>\n",
      "<p>Y</p>\n",
      "<p>Z</p>\n",
      "</div>]\n"
     ]
    }
   ],
   "source": [
    "all_div = soup.find_all('div') #find_all하면 <객체>의 [리스트]가 나온다 (div 3번쓴것)\n",
    "print(all_div)"
   ]
  },
  {
   "cell_type": "code",
   "execution_count": 56,
   "metadata": {},
   "outputs": [
    {
     "data": {
      "text/plain": [
       "11"
      ]
     },
     "execution_count": 56,
     "metadata": {},
     "output_type": "execute_result"
    }
   ],
   "source": [
    "ps = soup.find_all('p')  #전체문서soup에서 p를 찾아라. 몇개야? 11개\n",
    "len(ps)"
   ]
  },
  {
   "cell_type": "code",
   "execution_count": 57,
   "metadata": {},
   "outputs": [
    {
     "data": {
      "text/plain": [
       "3"
      ]
     },
     "execution_count": 57,
     "metadata": {},
     "output_type": "execute_result"
    }
   ],
   "source": [
    "ps = first_div.find_all('p') #first_div에서 p를 찾아라. 몇개야? 3개\n",
    "len(ps)"
   ]
  },
  {
   "cell_type": "code",
   "execution_count": 58,
   "metadata": {},
   "outputs": [
    {
     "name": "stdout",
     "output_type": "stream",
     "text": [
      "[<p>a</p>, <p>b</p>, <p>c</p>, <p>1</p>, <p>2</p>, <p>3</p>, <p>X</p>, <p>Y</p>, <p>Z</p>, <p>This is a paragraph.</p>, <p>This is another paragraph.</p>]\n"
     ]
    }
   ],
   "source": [
    "all_ps = soup.find_all('p')\n",
    "print(all_ps)  #div밑에있던 p태그 모두 나옴"
   ]
  },
  {
   "cell_type": "code",
   "execution_count": 59,
   "metadata": {},
   "outputs": [
    {
     "name": "stdout",
     "output_type": "stream",
     "text": [
      "[<p>a</p>, <p>b</p>, <p>c</p>]\n"
     ]
    }
   ],
   "source": [
    "#first_div위에서 작업해놓은것에서 p를 찾겠다 (범위를 좁혀나가는것)\n",
    "some_ps = first_div.find_all('p')\n",
    "print(some_ps)"
   ]
  },
  {
   "cell_type": "markdown",
   "metadata": {},
   "source": [
    "### 태그와 속성을 이용해서 원하는 정보만 가져오기\n",
    " 함수의 인자로 원하는 태그를 첫번째 인자로  \n",
    " 그 다음에 속성:값의 형태(dictionary)로 만들어서 넣어주면 됨  \n",
    " - find_all('태그명', {'속성명1' : '값1', ...})  \n",
    " - find('태그명', {'속성명1' : '값1', ...})  \n",
    "\n",
    " ### CSS Selector를 이용해서 가져오기  \n",
    " - select_one('#id')  객체하나\n",
    " - select('.class1.class2') 객체리스트로나옴\n"
   ]
  },
  {
   "cell_type": "code",
   "execution_count": 60,
   "metadata": {},
   "outputs": [
    {
     "data": {
      "text/plain": [
       "<div id=\"ex_id\">\n",
       "<p>X</p>\n",
       "<p>Y</p>\n",
       "<p>Z</p>\n",
       "</div>"
      ]
     },
     "execution_count": 60,
     "metadata": {},
     "output_type": "execute_result"
    }
   ],
   "source": [
    "ex_id = soup.find('div', {'id': 'ex_id'})  #id찾기; 잘 안쓰는방법1\n",
    "ex_id"
   ]
  },
  {
   "cell_type": "code",
   "execution_count": 61,
   "metadata": {},
   "outputs": [
    {
     "data": {
      "text/plain": [
       "<div id=\"ex_id\">\n",
       "<p>X</p>\n",
       "<p>Y</p>\n",
       "<p>Z</p>\n",
       "</div>"
      ]
     },
     "execution_count": 61,
     "metadata": {},
     "output_type": "execute_result"
    }
   ],
   "source": [
    "ex_id = soup.find('div', id='ex_id')   #id찾기; 잘 안쓰는방법2\n",
    "ex_id"
   ]
  },
  {
   "cell_type": "code",
   "execution_count": 62,
   "metadata": {},
   "outputs": [
    {
     "data": {
      "text/plain": [
       "[<div id=\"ex_id\">\n",
       " <p>X</p>\n",
       " <p>Y</p>\n",
       " <p>Z</p>\n",
       " </div>]"
      ]
     },
     "execution_count": 62,
     "metadata": {},
     "output_type": "execute_result"
    }
   ],
   "source": [
    "# CSS Selector를 사용해서 찾기********중요!!!!!!!!!!#id찾기; 이거다!!!!!!!!\n",
    "ex_id = soup.select('#ex_id')\n",
    "ex_id"
   ]
  },
  {
   "cell_type": "code",
   "execution_count": 63,
   "metadata": {},
   "outputs": [
    {
     "data": {
      "text/plain": [
       "[<div id=\"ex_id\">\n",
       " <p>X</p>\n",
       " <p>Y</p>\n",
       " <p>Z</p>\n",
       " </div>]"
      ]
     },
     "execution_count": 63,
     "metadata": {},
     "output_type": "execute_result"
    }
   ],
   "source": [
    "# CSS Selector를 사용해서찾기********중요!!!!!!!!!!클래스찾기; 이거다!!!!!\n",
    "ex_class = soup.select('.ex_class')  #보통 이걸로 찾아간다ㅋㅋㅋclass를 이용해서 웹을 많이 만들기 때문에\n",
    "ex_id"
   ]
  },
  {
   "cell_type": "code",
   "execution_count": 64,
   "metadata": {},
   "outputs": [
    {
     "data": {
      "text/plain": [
       "<div class=\"ex_class sample\">\n",
       "<p>1</p>\n",
       "<p>2</p>\n",
       "<p>3</p>\n",
       "</div>"
      ]
     },
     "execution_count": 64,
     "metadata": {},
     "output_type": "execute_result"
    }
   ],
   "source": [
    "ex_class = soup.find('div', {'class': 'ex_class'})  # 클래스찾기;잘안쓰는방법1\n",
    "ex_class "
   ]
  },
  {
   "cell_type": "code",
   "execution_count": 65,
   "metadata": {},
   "outputs": [
    {
     "data": {
      "text/plain": [
       "<div class=\"ex_class sample\">\n",
       "<p>1</p>\n",
       "<p>2</p>\n",
       "<p>3</p>\n",
       "</div>"
      ]
     },
     "execution_count": 65,
     "metadata": {},
     "output_type": "execute_result"
    }
   ],
   "source": [
    "ex_class = soup.find('div', 'ex_class')  #클래스찾기;잘안쓰는방법2\n",
    "ex_class "
   ]
  },
  {
   "cell_type": "code",
   "execution_count": 66,
   "metadata": {},
   "outputs": [
    {
     "data": {
      "text/plain": [
       "<div class=\"ex_class sample\">\n",
       "<p>1</p>\n",
       "<p>2</p>\n",
       "<p>3</p>\n",
       "</div>"
      ]
     },
     "execution_count": 66,
     "metadata": {},
     "output_type": "execute_result"
    }
   ],
   "source": [
    "ex_class = soup.find(class_ = 'ex_class')  #클래스찾기;잘안쓰는방법3\n",
    "ex_class "
   ]
  },
  {
   "cell_type": "code",
   "execution_count": 67,
   "metadata": {},
   "outputs": [
    {
     "data": {
      "text/plain": [
       "[<div class=\"ex_class sample\">\n",
       " <p>1</p>\n",
       " <p>2</p>\n",
       " <p>3</p>\n",
       " </div>,\n",
       " <a class=\"a sample\" href=\"www.naver.com\">Naver</a>]"
      ]
     },
     "execution_count": 67,
     "metadata": {},
     "output_type": "execute_result"
    }
   ],
   "source": [
    "# sample 찾기\n",
    "\n",
    "soup.select('.sample')  #리스트로 2가지 샘플이 나옴"
   ]
  },
  {
   "cell_type": "code",
   "execution_count": 68,
   "metadata": {},
   "outputs": [
    {
     "data": {
      "text/plain": [
       "[<a class=\"a sample\" href=\"www.naver.com\">Naver</a>]"
      ]
     },
     "execution_count": 68,
     "metadata": {},
     "output_type": "execute_result"
    }
   ],
   "source": [
    "soup.select('.a.sample') #샘플 1개만 찾고싶다면 .a. 추가"
   ]
  },
  {
   "cell_type": "code",
   "execution_count": 69,
   "metadata": {},
   "outputs": [
    {
     "data": {
      "text/plain": [
       "<a class=\"a sample\" href=\"www.naver.com\">Naver</a>"
      ]
     },
     "execution_count": 69,
     "metadata": {},
     "output_type": "execute_result"
    }
   ],
   "source": [
    "soup.select_one('.a.sample')  #리스트가 아니라 객체한개만 가져온다"
   ]
  },
  {
   "cell_type": "markdown",
   "metadata": {},
   "source": [
    "## 결과과져오기"
   ]
  },
  {
   "cell_type": "code",
   "execution_count": 70,
   "metadata": {},
   "outputs": [
    {
     "data": {
      "text/plain": [
       "[<div id=\"ex_id\">\n",
       " <p>X</p>\n",
       " <p>Y</p>\n",
       " <p>Z</p>\n",
       " </div>]"
      ]
     },
     "execution_count": 70,
     "metadata": {},
     "output_type": "execute_result"
    }
   ],
   "source": [
    "ex_id          #리스트다 "
   ]
  },
  {
   "cell_type": "code",
   "execution_count": 71,
   "metadata": {},
   "outputs": [
    {
     "data": {
      "text/plain": [
       "'X'"
      ]
     },
     "execution_count": 71,
     "metadata": {},
     "output_type": "execute_result"
    }
   ],
   "source": [
    "first_p = ex_id[0].find('p')\n",
    "first_p.get_text()"
   ]
  },
  {
   "cell_type": "code",
   "execution_count": 72,
   "metadata": {},
   "outputs": [
    {
     "data": {
      "text/plain": [
       "'X'"
      ]
     },
     "execution_count": 72,
     "metadata": {},
     "output_type": "execute_result"
    }
   ],
   "source": [
    "first_p.string"
   ]
  },
  {
   "cell_type": "code",
   "execution_count": 76,
   "metadata": {},
   "outputs": [
    {
     "data": {
      "text/plain": [
       "<div class=\"ex_class sample\">\n",
       "<p>1</p>\n",
       "<p>2</p>\n",
       "<p>3</p>\n",
       "</div>"
      ]
     },
     "execution_count": 76,
     "metadata": {},
     "output_type": "execute_result"
    }
   ],
   "source": [
    "ex_class = soup.find('div', 'ex_class')\n",
    "ex_class"
   ]
  },
  {
   "cell_type": "code",
   "execution_count": null,
   "metadata": {},
   "outputs": [],
   "source": []
  },
  {
   "cell_type": "code",
   "execution_count": 78,
   "metadata": {},
   "outputs": [
    {
     "name": "stdout",
     "output_type": "stream",
     "text": [
      "1\n",
      "2\n",
      "3\n"
     ]
    }
   ],
   "source": [
    "class_ps = ex_class.find_all('p')  #class_ps는 리스트가 되겠죠? (find_all:  )\n",
    "for one_p in class_ps:\n",
    "    print(one_p.string)"
   ]
  },
  {
   "cell_type": "code",
   "execution_count": 79,
   "metadata": {},
   "outputs": [
    {
     "data": {
      "text/plain": [
       "[<div class=\"ex_class sample\">\n",
       " <p>1</p>\n",
       " <p>2</p>\n",
       " <p>3</p>\n",
       " </div>]"
      ]
     },
     "execution_count": 79,
     "metadata": {},
     "output_type": "execute_result"
    }
   ],
   "source": [
    "ex_class = soup.find_all('div', 'ex_class')\n",
    "ex_class"
   ]
  },
  {
   "cell_type": "code",
   "execution_count": 80,
   "metadata": {},
   "outputs": [
    {
     "name": "stdout",
     "output_type": "stream",
     "text": [
      "1\n",
      "2\n",
      "3\n"
     ]
    }
   ],
   "source": [
    "class_ps = ex_class[0].find_all('p')\n",
    "for one_p in class_ps:\n",
    "    print(one_p.string)"
   ]
  },
  {
   "cell_type": "markdown",
   "metadata": {},
   "source": [
    "## 속성값가져오기 00_Example.html의 \"www.naver.com\" 이런거 "
   ]
  },
  {
   "cell_type": "code",
   "execution_count": 33,
   "metadata": {},
   "outputs": [
    {
     "data": {
      "text/plain": [
       "'Naver'"
      ]
     },
     "execution_count": 33,
     "metadata": {},
     "output_type": "execute_result"
    }
   ],
   "source": [
    "a_tag = soup.find('a')  #a태그가 하나니까 이렇게 찾기도하고 방법1\n",
    "a_tag.get_text()"
   ]
  },
  {
   "cell_type": "code",
   "execution_count": 34,
   "metadata": {},
   "outputs": [
    {
     "data": {
      "text/plain": [
       "'www.naver.com'"
      ]
     },
     "execution_count": 34,
     "metadata": {},
     "output_type": "execute_result"
    }
   ],
   "source": [
    "a_tag.attrs['href'] #attrs 어트리뷰트(속성)의 href검색하니 딱! "
   ]
  },
  {
   "cell_type": "markdown",
   "metadata": {},
   "source": [
    "## BBS 사이트 크롤링하기\n",
    "F12에서 HTML코드 확인하면서 작성"
   ]
  },
  {
   "cell_type": "code",
   "execution_count": 38,
   "metadata": {},
   "outputs": [],
   "source": [
    "web_url = 'http://200.1.220.217:3000/bbs/list/1'\n",
    "with urllib.request.urlopen(web_url) as response:\n",
    "    html = response.read()                      #html코드 알맹이만 가져온다\n",
    "    soup =  BeautifulSoup(html, 'html.parser') "
   ]
  },
  {
   "cell_type": "code",
   "execution_count": 42,
   "metadata": {},
   "outputs": [
    {
     "data": {
      "text/plain": [
       "<tr class=\"d-flex\">\n",
       "<td class=\"col-1\" style=\"text-align: center;\">1013</td>\n",
       "<td class=\"col-6\"><a href=\"/bbs/bid/1013/inc/1\"><strong>리눅스 글쓰기</strong></a></td>\n",
       "<td class=\"col-2\" style=\"text-align: center;\">홍길동</td>\n",
       "<td class=\"col-2\" style=\"text-align: center;\">2020-10-27</td>\n",
       "<td class=\"col-1\" style=\"text-align: center;\">3</td>\n",
       "</tr>"
      ]
     },
     "execution_count": 42,
     "metadata": {},
     "output_type": "execute_result"
    }
   ],
   "source": [
    "table = soup.find('table')\n",
    "rows = table.select('.d-flex')\n",
    "first_row = rows[1]\n",
    "first_row"
   ]
  },
  {
   "cell_type": "code",
   "execution_count": 43,
   "metadata": {},
   "outputs": [
    {
     "data": {
      "text/plain": [
       "[<td class=\"col-1\" style=\"text-align: center;\">1013</td>,\n",
       " <td class=\"col-6\"><a href=\"/bbs/bid/1013/inc/1\"><strong>리눅스 글쓰기</strong></a></td>,\n",
       " <td class=\"col-2\" style=\"text-align: center;\">홍길동</td>,\n",
       " <td class=\"col-2\" style=\"text-align: center;\">2020-10-27</td>,\n",
       " <td class=\"col-1\" style=\"text-align: center;\">3</td>]"
      ]
     },
     "execution_count": 43,
     "metadata": {},
     "output_type": "execute_result"
    }
   ],
   "source": [
    "#위결과를보니.. td만 꺼내어 리스트로만들자.\n",
    "tds = first_row.find_all('td')\n",
    "tds"
   ]
  },
  {
   "cell_type": "code",
   "execution_count": 92,
   "metadata": {},
   "outputs": [
    {
     "name": "stdout",
     "output_type": "stream",
     "text": [
      "1013\n",
      "리눅스 글쓰기\n",
      "홍길동\n",
      "2020-10-27\n",
      "3\n"
     ]
    }
   ],
   "source": [
    "#위결과를보니.. 스트링으로  데이터하나 가져오는것은 이것이다 \n",
    "for td in tds:\n",
    "    print(td.string)"
   ]
  },
  {
   "cell_type": "markdown",
   "metadata": {},
   "source": [
    "## BBS를 데이터 프레임으로 만들기"
   ]
  },
  {
   "cell_type": "code",
   "execution_count": 120,
   "metadata": {},
   "outputs": [],
   "source": [
    "trs = soup.find_all('tr')             # 반복문하기 전, 빈리스트 먼저 만들어주고\n",
    "bids = []; titles = []; names = []\n",
    "times = []; view_counts = []; reply_counts = []  "
   ]
  },
  {
   "cell_type": "code",
   "execution_count": 121,
   "metadata": {},
   "outputs": [],
   "source": [
    "for tr in trs[1:]:\n",
    "    tds = tr.find_all('td')\n",
    "    span = tds[1].find('span')         # HTML <span>[2]</span> 이렇게 생긴부분을 찾는다.\n",
    "    reply_count = span.string[1:-1] if span else '0' #없는것도있고 있는것도 있으니, []없으면 스트링'0'으로 아님 int해야함\n",
    "    index = tds[1].get_text().find('[')  #타이틀 string=대조영[1] 에서 앞에만 가져와야해서 find('[')찾고 아래[:index]슬라이싱을 해줌\n",
    "    title = tds[1].get_text()[:index] if span else tds[1].get_text()  #공백이나 기호가있어서 string하면 오류남. get_text()로 변경\n",
    "    #print(reply_count, title)\n",
    "    bids.append(tds[0].string)\n",
    "    titles.append(title)\n",
    "    names.append(tds[2].string)\n",
    "    times.append(tds[3].string)\n",
    "    view_counts.append(tds[4].string)\n",
    "    reply_counts.append(reply_count)"
   ]
  },
  {
   "cell_type": "code",
   "execution_count": 122,
   "metadata": {},
   "outputs": [
    {
     "data": {
      "text/plain": [
       "['1003', '1002', '1001']"
      ]
     },
     "execution_count": 122,
     "metadata": {},
     "output_type": "execute_result"
    }
   ],
   "source": [
    "bids"
   ]
  },
  {
   "cell_type": "code",
   "execution_count": 123,
   "metadata": {},
   "outputs": [
    {
     "data": {
      "text/plain": [
       "['태양의 후예', '도깨비', '미스터 션샤인']"
      ]
     },
     "execution_count": 123,
     "metadata": {},
     "output_type": "execute_result"
    }
   ],
   "source": [
    "titles"
   ]
  },
  {
   "cell_type": "code",
   "execution_count": 124,
   "metadata": {},
   "outputs": [
    {
     "data": {
      "text/html": [
       "<div>\n",
       "<style scoped>\n",
       "    .dataframe tbody tr th:only-of-type {\n",
       "        vertical-align: middle;\n",
       "    }\n",
       "\n",
       "    .dataframe tbody tr th {\n",
       "        vertical-align: top;\n",
       "    }\n",
       "\n",
       "    .dataframe thead th {\n",
       "        text-align: right;\n",
       "    }\n",
       "</style>\n",
       "<table border=\"1\" class=\"dataframe\">\n",
       "  <thead>\n",
       "    <tr style=\"text-align: right;\">\n",
       "      <th></th>\n",
       "      <th>title</th>\n",
       "      <th>name</th>\n",
       "      <th>time</th>\n",
       "      <th>view_count</th>\n",
       "      <th>reply_count</th>\n",
       "    </tr>\n",
       "    <tr>\n",
       "      <th>bid</th>\n",
       "      <th></th>\n",
       "      <th></th>\n",
       "      <th></th>\n",
       "      <th></th>\n",
       "      <th></th>\n",
       "    </tr>\n",
       "  </thead>\n",
       "  <tbody>\n",
       "    <tr>\n",
       "      <th>1003</th>\n",
       "      <td>태양의 후예</td>\n",
       "      <td>김은숙</td>\n",
       "      <td>2020-10-23</td>\n",
       "      <td>11</td>\n",
       "      <td>2</td>\n",
       "    </tr>\n",
       "    <tr>\n",
       "      <th>1002</th>\n",
       "      <td>도깨비</td>\n",
       "      <td>김은숙</td>\n",
       "      <td>2020-10-22</td>\n",
       "      <td>4</td>\n",
       "      <td>1</td>\n",
       "    </tr>\n",
       "    <tr>\n",
       "      <th>1001</th>\n",
       "      <td>미스터 션샤인</td>\n",
       "      <td>김은숙</td>\n",
       "      <td>2020-10-23</td>\n",
       "      <td>6</td>\n",
       "      <td>1</td>\n",
       "    </tr>\n",
       "  </tbody>\n",
       "</table>\n",
       "</div>"
      ],
      "text/plain": [
       "        title name        time view_count reply_count\n",
       "bid                                                  \n",
       "1003   태양의 후예  김은숙  2020-10-23         11           2\n",
       "1002      도깨비  김은숙  2020-10-22          4           1\n",
       "1001  미스터 션샤인  김은숙  2020-10-23          6           1"
      ]
     },
     "execution_count": 124,
     "metadata": {},
     "output_type": "execute_result"
    }
   ],
   "source": [
    "import pandas as pd \n",
    "bbs = pd.DataFrame({\n",
    "        'bid': bids, \n",
    "        'title': titles,\n",
    "        'name': names,\n",
    "        'time': times,\n",
    "        'view_count': view_counts,\n",
    "        'reply_count': reply_counts\n",
    "    })\n",
    "bbs = bbs.set_index('bid')\n",
    "bbs"
   ]
  },
  {
   "cell_type": "code",
   "execution_count": 111,
   "metadata": {},
   "outputs": [],
   "source": [
    "# 위에 .. 이것이 끝이 아니다ㅏㅏㅏㅏㅏㅏㅏㅏㅏㅏㅏ\n",
    "# 2페이지 찾기\n",
    "base_url = 'http://200.1.220.217:3000/bbs/list/'  #페이지부분 아래로 내려주고 url명칭수정\n",
    "page_url = '1'\n",
    "web_url = base_url + page_url            #3줄추가됨\n",
    "with urllib.request.urlopen(web_url) as response:\n",
    "    html = response.read()                      #html코드 알맹이만 가져온다\n",
    "    soup =  BeautifulSoup(html, 'html.parser') "
   ]
  },
  {
   "cell_type": "code",
   "execution_count": 113,
   "metadata": {},
   "outputs": [
    {
     "data": {
      "text/plain": [
       "[<li class=\"page-item\">\n",
       " <a aria-label=\"Previous\" class=\"page-link active\" href=\"#\">\n",
       " <span aria-hidden=\"true\">«</span></a>\n",
       " </li>,\n",
       " <li aria-current=\"page\" class=\"page-item active\">\n",
       " <span class=\"page-link\">\n",
       "                                 1<span class=\"sr-only\">(current)</span>\n",
       " </span>\n",
       " </li>,\n",
       " <li class=\"page-item\"><a class=\"page-link\" href=\"/bbs/list/2\">2</a></li>,\n",
       " <li class=\"page-item\">\n",
       " <a aria-label=\"Next\" class=\"page-link\" href=\"#\">\n",
       " <span aria-hidden=\"true\">»</span></a>\n",
       " </li>]"
      ]
     },
     "execution_count": 113,
     "metadata": {},
     "output_type": "execute_result"
    }
   ],
   "source": [
    "lis = soup.select('.page-item')         #이렇게 하던지 아니면, soup.find_all('li')\n",
    "lis"
   ]
  },
  {
   "cell_type": "code",
   "execution_count": 115,
   "metadata": {},
   "outputs": [
    {
     "data": {
      "text/plain": [
       "2"
      ]
     },
     "execution_count": 115,
     "metadata": {},
     "output_type": "execute_result"
    }
   ],
   "source": [
    "page = int(lis[-2].string) #끝에서 2번째 -2  숫자로 int바꿔줘야함\n",
    "page   "
   ]
  },
  {
   "cell_type": "code",
   "execution_count": 118,
   "metadata": {},
   "outputs": [],
   "source": [
    "bids = []; titles = []; names = []\n",
    "times = []; view_counts = []; reply_counts= []  \n",
    "#루프돌기전 초기화된 리스트 만들어 놓고.. "
   ]
  },
  {
   "cell_type": "code",
   "execution_count": 125,
   "metadata": {},
   "outputs": [],
   "source": [
    "for i in range(page):  #1부터 page+1까지\n",
    "    page_url = str(i+1) # 요 페이지까지\n",
    "    web_url = base_url + page_url            #3줄추가됨\n",
    "    with urllib.request.urlopen(web_url) as response:\n",
    "        html = response.read()                      #html코드 알맹이만 가져온다\n",
    "        soup =  BeautifulSoup(html, 'html.parser') \n",
    "        trs = soup.find_all('tr')  #이걸찾을꺼고 \n",
    "        #아까 내가 망한 포문을 복붙\n",
    "        for tr in trs[1:]:\n",
    "            tds = tr.find_all('td')\n",
    "            span = tds[1].find('span')\n",
    "            reply_count = span.string[1:-1] if span else '0'\n",
    "            index = tds[1].get_text().find('[')\n",
    "            title = tds[1].get_text()[:index] if span else tds[1].get_text()\n",
    "            #print(reply_count, title)\n",
    "            bids.append(tds[0].string)\n",
    "            titles.append(title)\n",
    "            names.append(tds[2].string)\n",
    "            times.append(tds[3].string)\n",
    "            view_counts.append(tds[4].string)\n",
    "            reply_counts.append(reply_count)"
   ]
  },
  {
   "cell_type": "code",
   "execution_count": 126,
   "metadata": {},
   "outputs": [
    {
     "data": {
      "text/html": [
       "<div>\n",
       "<style scoped>\n",
       "    .dataframe tbody tr th:only-of-type {\n",
       "        vertical-align: middle;\n",
       "    }\n",
       "\n",
       "    .dataframe tbody tr th {\n",
       "        vertical-align: top;\n",
       "    }\n",
       "\n",
       "    .dataframe thead th {\n",
       "        text-align: right;\n",
       "    }\n",
       "</style>\n",
       "<table border=\"1\" class=\"dataframe\">\n",
       "  <thead>\n",
       "    <tr style=\"text-align: right;\">\n",
       "      <th></th>\n",
       "      <th>title</th>\n",
       "      <th>name</th>\n",
       "      <th>time</th>\n",
       "      <th>view_count</th>\n",
       "      <th>reply_count</th>\n",
       "    </tr>\n",
       "    <tr>\n",
       "      <th>bid</th>\n",
       "      <th></th>\n",
       "      <th></th>\n",
       "      <th></th>\n",
       "      <th></th>\n",
       "      <th></th>\n",
       "    </tr>\n",
       "  </thead>\n",
       "  <tbody>\n",
       "    <tr>\n",
       "      <th>1003</th>\n",
       "      <td>태양의 후예</td>\n",
       "      <td>김은숙</td>\n",
       "      <td>2020-10-23</td>\n",
       "      <td>11</td>\n",
       "      <td>2</td>\n",
       "    </tr>\n",
       "    <tr>\n",
       "      <th>1002</th>\n",
       "      <td>도깨비</td>\n",
       "      <td>김은숙</td>\n",
       "      <td>2020-10-22</td>\n",
       "      <td>4</td>\n",
       "      <td>1</td>\n",
       "    </tr>\n",
       "    <tr>\n",
       "      <th>1001</th>\n",
       "      <td>미스터 션샤인</td>\n",
       "      <td>김은숙</td>\n",
       "      <td>2020-10-23</td>\n",
       "      <td>6</td>\n",
       "      <td>1</td>\n",
       "    </tr>\n",
       "    <tr>\n",
       "      <th>1013</th>\n",
       "      <td>리눅스 글쓰기</td>\n",
       "      <td>홍길동</td>\n",
       "      <td>2020-10-27</td>\n",
       "      <td>3</td>\n",
       "      <td>0</td>\n",
       "    </tr>\n",
       "    <tr>\n",
       "      <th>1012</th>\n",
       "      <td>마이크로소프트 엣지에서의 동작</td>\n",
       "      <td>김은숙</td>\n",
       "      <td>2020-10-23</td>\n",
       "      <td>14</td>\n",
       "      <td>2</td>\n",
       "    </tr>\n",
       "    <tr>\n",
       "      <th>1011</th>\n",
       "      <td>역적 - 백성을 훔친 도적</td>\n",
       "      <td>홍길동</td>\n",
       "      <td>2020-10-23</td>\n",
       "      <td>4</td>\n",
       "      <td>1</td>\n",
       "    </tr>\n",
       "    <tr>\n",
       "      <th>1010</th>\n",
       "      <td>홍길동전</td>\n",
       "      <td>홍길동</td>\n",
       "      <td>2020-10-23</td>\n",
       "      <td>3</td>\n",
       "      <td>0</td>\n",
       "    </tr>\n",
       "    <tr>\n",
       "      <th>1009</th>\n",
       "      <td>대조영</td>\n",
       "      <td>대조영</td>\n",
       "      <td>2020-10-23</td>\n",
       "      <td>9</td>\n",
       "      <td>2</td>\n",
       "    </tr>\n",
       "    <tr>\n",
       "      <th>1008</th>\n",
       "      <td>Linux server를 원격 Windows에서 접속하여 글쓰기</td>\n",
       "      <td>관리자</td>\n",
       "      <td>2020-10-23</td>\n",
       "      <td>7</td>\n",
       "      <td>3</td>\n",
       "    </tr>\n",
       "    <tr>\n",
       "      <th>1007</th>\n",
       "      <td>ubuntu에서 글쓰기</td>\n",
       "      <td>관리자</td>\n",
       "      <td>2020-10-22</td>\n",
       "      <td>5</td>\n",
       "      <td>1</td>\n",
       "    </tr>\n",
       "    <tr>\n",
       "      <th>1006</th>\n",
       "      <td>슬기로운 의사생활</td>\n",
       "      <td>이우정</td>\n",
       "      <td>2020-10-22</td>\n",
       "      <td>12</td>\n",
       "      <td>3</td>\n",
       "    </tr>\n",
       "    <tr>\n",
       "      <th>1005</th>\n",
       "      <td>파리의 연인</td>\n",
       "      <td>김은숙</td>\n",
       "      <td>2020-10-22</td>\n",
       "      <td>9</td>\n",
       "      <td>4</td>\n",
       "    </tr>\n",
       "    <tr>\n",
       "      <th>1004</th>\n",
       "      <td>시크릿 가든</td>\n",
       "      <td>김은숙</td>\n",
       "      <td>2020-10-22</td>\n",
       "      <td>4</td>\n",
       "      <td>0</td>\n",
       "    </tr>\n",
       "    <tr>\n",
       "      <th>1003</th>\n",
       "      <td>태양의 후예</td>\n",
       "      <td>김은숙</td>\n",
       "      <td>2020-10-23</td>\n",
       "      <td>11</td>\n",
       "      <td>2</td>\n",
       "    </tr>\n",
       "    <tr>\n",
       "      <th>1002</th>\n",
       "      <td>도깨비</td>\n",
       "      <td>김은숙</td>\n",
       "      <td>2020-10-22</td>\n",
       "      <td>4</td>\n",
       "      <td>1</td>\n",
       "    </tr>\n",
       "    <tr>\n",
       "      <th>1001</th>\n",
       "      <td>미스터 션샤인</td>\n",
       "      <td>김은숙</td>\n",
       "      <td>2020-10-23</td>\n",
       "      <td>6</td>\n",
       "      <td>1</td>\n",
       "    </tr>\n",
       "  </tbody>\n",
       "</table>\n",
       "</div>"
      ],
      "text/plain": [
       "                                    title name        time view_count  \\\n",
       "bid                                                                     \n",
       "1003                               태양의 후예  김은숙  2020-10-23         11   \n",
       "1002                                  도깨비  김은숙  2020-10-22          4   \n",
       "1001                              미스터 션샤인  김은숙  2020-10-23          6   \n",
       "1013                              리눅스 글쓰기  홍길동  2020-10-27          3   \n",
       "1012                     마이크로소프트 엣지에서의 동작  김은숙  2020-10-23         14   \n",
       "1011                       역적 - 백성을 훔친 도적  홍길동  2020-10-23          4   \n",
       "1010                                 홍길동전  홍길동  2020-10-23          3   \n",
       "1009                                  대조영  대조영  2020-10-23          9   \n",
       "1008  Linux server를 원격 Windows에서 접속하여 글쓰기  관리자  2020-10-23          7   \n",
       "1007                         ubuntu에서 글쓰기  관리자  2020-10-22          5   \n",
       "1006                            슬기로운 의사생활  이우정  2020-10-22         12   \n",
       "1005                               파리의 연인  김은숙  2020-10-22          9   \n",
       "1004                               시크릿 가든  김은숙  2020-10-22          4   \n",
       "1003                               태양의 후예  김은숙  2020-10-23         11   \n",
       "1002                                  도깨비  김은숙  2020-10-22          4   \n",
       "1001                              미스터 션샤인  김은숙  2020-10-23          6   \n",
       "\n",
       "     reply_count  \n",
       "bid               \n",
       "1003           2  \n",
       "1002           1  \n",
       "1001           1  \n",
       "1013           0  \n",
       "1012           2  \n",
       "1011           1  \n",
       "1010           0  \n",
       "1009           2  \n",
       "1008           3  \n",
       "1007           1  \n",
       "1006           3  \n",
       "1005           4  \n",
       "1004           0  \n",
       "1003           2  \n",
       "1002           1  \n",
       "1001           1  "
      ]
     },
     "execution_count": 126,
     "metadata": {},
     "output_type": "execute_result"
    }
   ],
   "source": [
    "#bbs데이터프레임 만드는거 복붙 모든페이지 \n",
    "bbs = pd.DataFrame({\n",
    "        'bid': bids, \n",
    "        'title': titles,\n",
    "        'name': names,\n",
    "        'time': times,\n",
    "        'view_count': view_counts,\n",
    "        'reply_count': reply_counts\n",
    "    })\n",
    "bbs = bbs.set_index('bid')\n",
    "bbs"
   ]
  },
  {
   "cell_type": "code",
   "execution_count": null,
   "metadata": {},
   "outputs": [],
   "source": []
  },
  {
   "cell_type": "code",
   "execution_count": null,
   "metadata": {},
   "outputs": [],
   "source": []
  },
  {
   "cell_type": "code",
   "execution_count": null,
   "metadata": {},
   "outputs": [],
   "source": []
  },
  {
   "cell_type": "code",
   "execution_count": null,
   "metadata": {},
   "outputs": [],
   "source": []
  },
  {
   "cell_type": "code",
   "execution_count": null,
   "metadata": {},
   "outputs": [],
   "source": []
  }
 ],
 "metadata": {
  "kernelspec": {
   "display_name": "Python 3",
   "language": "python",
   "name": "python3"
  },
  "language_info": {
   "codemirror_mode": {
    "name": "ipython",
    "version": 3
   },
   "file_extension": ".py",
   "mimetype": "text/x-python",
   "name": "python",
   "nbconvert_exporter": "python",
   "pygments_lexer": "ipython3",
   "version": "3.8.3"
  }
 },
 "nbformat": 4,
 "nbformat_minor": 2
}
