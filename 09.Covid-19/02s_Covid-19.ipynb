{
 "metadata": {
  "language_info": {
   "codemirror_mode": {
    "name": "ipython",
    "version": 3
   },
   "file_extension": ".py",
   "mimetype": "text/x-python",
   "name": "python",
   "nbconvert_exporter": "python",
   "pygments_lexer": "ipython3",
   "version": "3.8.5-final"
  },
  "orig_nbformat": 2,
  "kernelspec": {
   "name": "python3",
   "display_name": "Python 3"
  }
 },
 "nbformat": 4,
 "nbformat_minor": 2,
 "cells": [
  {
   "source": [
    "## Covid-19 현황 분석"
   ],
   "cell_type": "markdown",
   "metadata": {}
  },
  {
   "cell_type": "code",
   "execution_count": 52,
   "metadata": {},
   "outputs": [],
   "source": [
    "import requests\n",
    "import pandas as pd\n",
    "from bs4 import BeautifulSoup"
   ]
  },
  {
   "cell_type": "code",
   "execution_count": 53,
   "metadata": {},
   "outputs": [],
   "source": [
    "key_fd = open('gov_data_api_key.txt', mode='r')\n",
    "govapi_key = key_fd.read(100)\n",
    "key_fd.close()"
   ]
  },
  {
   "cell_type": "code",
   "execution_count": 54,
   "metadata": {},
   "outputs": [],
   "source": [
    "start_date = '20201018'\n",
    "end_date = '20201018'"
   ]
  },
  {
   "cell_type": "code",
   "execution_count": 55,
   "metadata": {},
   "outputs": [],
   "source": [
    "corona_url = 'http://openapi.data.go.kr/openapi/service/rest/Covid19/getCovid19SidoInfStateJson'\n",
    "url = f'{corona_url}?ServiceKey={govapi_key}&pageNo=1&numOfRows=10&startCreateDt={start_date}&endCreateDt={end_date}'"
   ]
  },
  {
   "cell_type": "code",
   "execution_count": 56,
   "metadata": {},
   "outputs": [],
   "source": [
    "result = requests.get(url)\n",
    "soup = BeautifulSoup(result.text, 'xml')"
   ]
  },
  {
   "cell_type": "code",
   "execution_count": 57,
   "metadata": {},
   "outputs": [
    {
     "output_type": "execute_result",
     "data": {
      "text/plain": [
       "[<item><createDt>2020-10-18 09:41:19.679</createDt><deathCnt>0</deathCnt><defCnt>1637</defCnt><gubun>검역</gubun><gubunCn>隔離區</gubunCn><gubunEn>Lazaretto</gubunEn><incDec>13</incDec><isolClearCnt>1434</isolClearCnt><isolIngCnt>203</isolIngCnt><localOccCnt>0</localOccCnt><overFlowCnt>13</overFlowCnt><qurRate>-</qurRate><seq>5099</seq><stdDay>2020년 10월 18일 00시</stdDay><updateDt>null</updateDt></item>,\n",
       " <item><createDt>2020-10-18 09:41:19.679</createDt><deathCnt>0</deathCnt><defCnt>59</defCnt><gubun>제주</gubun><gubunCn>济州</gubunCn><gubunEn>Jeju</gubunEn><incDec>0</incDec><isolClearCnt>59</isolClearCnt><isolIngCnt>0</isolIngCnt><localOccCnt>0</localOccCnt><overFlowCnt>0</overFlowCnt><qurRate>8.80</qurRate><seq>5098</seq><stdDay>2020년 10월 18일 00시</stdDay><updateDt>null</updateDt></item>,\n",
       " <item><createDt>2020-10-18 09:41:19.679</createDt><deathCnt>0</deathCnt><defCnt>299</defCnt><gubun>경남</gubun><gubunCn>庆南</gubunCn><gubunEn>Gyeongsangnam-do</gubunEn><incDec>0</incDec><isolClearCnt>288</isolClearCnt><isolIngCnt>11</isolIngCnt><localOccCnt>0</localOccCnt><overFlowCnt>0</overFlowCnt><qurRate>8.90</qurRate><seq>5097</seq><stdDay>2020년 10월 18일 00시</stdDay><updateDt>null</updateDt></item>,\n",
       " <item><createDt>2020-10-18 09:41:19.679</createDt><deathCnt>56</deathCnt><defCnt>1571</defCnt><gubun>경북</gubun><gubunCn>庆北</gubunCn><gubunEn>Gyeongsangbuk-do</gubunEn><incDec>0</incDec><isolClearCnt>1506</isolClearCnt><isolIngCnt>9</isolIngCnt><localOccCnt>0</localOccCnt><overFlowCnt>0</overFlowCnt><qurRate>59.00</qurRate><seq>5096</seq><stdDay>2020년 10월 18일 00시</stdDay><updateDt>null</updateDt></item>,\n",
       " <item><createDt>2020-10-18 09:41:19.679</createDt><deathCnt>2</deathCnt><defCnt>177</defCnt><gubun>전남</gubun><gubunCn>全南</gubunCn><gubunEn>Jeollanam-do</gubunEn><incDec>0</incDec><isolClearCnt>167</isolClearCnt><isolIngCnt>8</isolIngCnt><localOccCnt>0</localOccCnt><overFlowCnt>0</overFlowCnt><qurRate>9.49</qurRate><seq>5095</seq><stdDay>2020년 10월 18일 00시</stdDay><updateDt>null</updateDt></item>,\n",
       " <item><createDt>2020-10-18 09:41:19.679</createDt><deathCnt>0</deathCnt><defCnt>155</defCnt><gubun>전북</gubun><gubunCn>全北</gubunCn><gubunEn>Jeollabuk-do</gubunEn><incDec>0</incDec><isolClearCnt>128</isolClearCnt><isolIngCnt>27</isolIngCnt><localOccCnt>0</localOccCnt><overFlowCnt>0</overFlowCnt><qurRate>8.53</qurRate><seq>5094</seq><stdDay>2020년 10월 18일 00시</stdDay><updateDt>null</updateDt></item>,\n",
       " <item><createDt>2020-10-18 09:41:19.679</createDt><deathCnt>7</deathCnt><defCnt>503</defCnt><gubun>충남</gubun><gubunCn>忠南</gubunCn><gubunEn>Chungcheongnam-do</gubunEn><incDec>0</incDec><isolClearCnt>472</isolClearCnt><isolIngCnt>24</isolIngCnt><localOccCnt>0</localOccCnt><overFlowCnt>0</overFlowCnt><qurRate>23.70</qurRate><seq>5093</seq><stdDay>2020년 10월 18일 00시</stdDay><updateDt>null</updateDt></item>,\n",
       " <item><createDt>2020-10-18 09:41:19.679</createDt><deathCnt>1</deathCnt><defCnt>180</defCnt><gubun>충북</gubun><gubunCn>忠北</gubunCn><gubunEn>Chungcheongbuk-do</gubunEn><incDec>0</incDec><isolClearCnt>160</isolClearCnt><isolIngCnt>19</isolIngCnt><localOccCnt>0</localOccCnt><overFlowCnt>0</overFlowCnt><qurRate>11.25</qurRate><seq>5092</seq><stdDay>2020년 10월 18일 00시</stdDay><updateDt>null</updateDt></item>,\n",
       " <item><createDt>2020-10-18 09:41:19.678</createDt><deathCnt>3</deathCnt><defCnt>237</defCnt><gubun>강원</gubun><gubunCn>江原</gubunCn><gubunEn>Gangwon-do</gubunEn><incDec>2</incDec><isolClearCnt>220</isolClearCnt><isolIngCnt>14</isolIngCnt><localOccCnt>1</localOccCnt><overFlowCnt>1</overFlowCnt><qurRate>15.38</qurRate><seq>5091</seq><stdDay>2020년 10월 18일 00시</stdDay><updateDt>null</updateDt></item>,\n",
       " <item><createDt>2020-10-18 09:41:19.678</createDt><deathCnt>86</deathCnt><defCnt>4851</defCnt><gubun>경기</gubun><gubunCn>京畿</gubunCn><gubunEn>Gyeonggi-do</gubunEn><incDec>50</incDec><isolClearCnt>4369</isolClearCnt><isolIngCnt>396</isolIngCnt><localOccCnt>48</localOccCnt><overFlowCnt>2</overFlowCnt><qurRate>36.61</qurRate><seq>5090</seq><stdDay>2020년 10월 18일 00시</stdDay><updateDt>null</updateDt></item>,\n",
       " <item><createDt>2020-10-18 09:41:19.678</createDt><deathCnt>0</deathCnt><defCnt>78</defCnt><gubun>세종</gubun><gubunCn>世宗</gubunCn><gubunEn>Sejong</gubunEn><incDec>0</incDec><isolClearCnt>75</isolClearCnt><isolIngCnt>3</isolIngCnt><localOccCnt>0</localOccCnt><overFlowCnt>0</overFlowCnt><qurRate>22.79</qurRate><seq>5089</seq><stdDay>2020년 10월 18일 00시</stdDay><updateDt>null</updateDt></item>,\n",
       " <item><createDt>2020-10-18 09:41:19.678</createDt><deathCnt>2</deathCnt><defCnt>156</defCnt><gubun>울산</gubun><gubunCn>蔚山</gubunCn><gubunEn>Ulsan</gubunEn><incDec>0</incDec><isolClearCnt>148</isolClearCnt><isolIngCnt>6</isolIngCnt><localOccCnt>0</localOccCnt><overFlowCnt>0</overFlowCnt><qurRate>13.60</qurRate><seq>5088</seq><stdDay>2020년 10월 18일 00시</stdDay><updateDt>null</updateDt></item>,\n",
       " <item><createDt>2020-10-18 09:41:19.678</createDt><deathCnt>5</deathCnt><defCnt>416</defCnt><gubun>대전</gubun><gubunCn>大田</gubunCn><gubunEn>Daejeon</gubunEn><incDec>1</incDec><isolClearCnt>359</isolClearCnt><isolIngCnt>52</isolIngCnt><localOccCnt>1</localOccCnt><overFlowCnt>0</overFlowCnt><qurRate>28.22</qurRate><seq>5087</seq><stdDay>2020년 10월 18일 00시</stdDay><updateDt>null</updateDt></item>,\n",
       " <item><createDt>2020-10-18 09:41:19.678</createDt><deathCnt>3</deathCnt><defCnt>500</defCnt><gubun>광주</gubun><gubunCn>光州</gubunCn><gubunEn>Gwangju</gubunEn><incDec>0</incDec><isolClearCnt>493</isolClearCnt><isolIngCnt>4</isolIngCnt><localOccCnt>0</localOccCnt><overFlowCnt>0</overFlowCnt><qurRate>34.32</qurRate><seq>5086</seq><stdDay>2020년 10월 18일 00시</stdDay><updateDt>null</updateDt></item>,\n",
       " <item><createDt>2020-10-18 09:41:19.678</createDt><deathCnt>8</deathCnt><defCnt>994</defCnt><gubun>인천</gubun><gubunCn>仁川</gubunCn><gubunEn>Incheon</gubunEn><incDec>1</incDec><isolClearCnt>916</isolClearCnt><isolIngCnt>70</isolIngCnt><localOccCnt>1</localOccCnt><overFlowCnt>0</overFlowCnt><qurRate>33.63</qurRate><seq>5085</seq><stdDay>2020년 10월 18일 00시</stdDay><updateDt>null</updateDt></item>,\n",
       " <item><createDt>2020-10-18 09:41:19.678</createDt><deathCnt>196</deathCnt><defCnt>7142</defCnt><gubun>대구</gubun><gubunCn>大邱</gubunCn><gubunEn>Daegu</gubunEn><incDec>0</incDec><isolClearCnt>6937</isolClearCnt><isolIngCnt>9</isolIngCnt><localOccCnt>0</localOccCnt><overFlowCnt>0</overFlowCnt><qurRate>293.13</qurRate><seq>5084</seq><stdDay>2020년 10월 18일 00시</stdDay><updateDt>null</updateDt></item>,\n",
       " <item><createDt>2020-10-18 09:41:19.677</createDt><deathCnt>6</deathCnt><defCnt>556</defCnt><gubun>부산</gubun><gubunCn>釜山</gubunCn><gubunEn>Busan</gubunEn><incDec>4</incDec><isolClearCnt>449</isolClearCnt><isolIngCnt>101</isolIngCnt><localOccCnt>2</localOccCnt><overFlowCnt>2</overFlowCnt><qurRate>16.30</qurRate><seq>5083</seq><stdDay>2020년 10월 18일 00시</stdDay><updateDt>null</updateDt></item>,\n",
       " <item><createDt>2020-10-18 09:41:19.677</createDt><deathCnt>69</deathCnt><defCnt>5688</defCnt><gubun>서울</gubun><gubunCn>首尔</gubunCn><gubunEn>Seoul</gubunEn><incDec>20</incDec><isolClearCnt>5132</isolClearCnt><isolIngCnt>487</isolIngCnt><localOccCnt>18</localOccCnt><overFlowCnt>2</overFlowCnt><qurRate>58.44</qurRate><seq>5082</seq><stdDay>2020년 10월 18일 00시</stdDay><updateDt>null</updateDt></item>,\n",
       " <item><createDt>2020-10-18 09:41:19.677</createDt><deathCnt>444</deathCnt><defCnt>25199</defCnt><gubun>합계</gubun><gubunCn>合计</gubunCn><gubunEn>Total</gubunEn><incDec>91</incDec><isolClearCnt>23312</isolClearCnt><isolIngCnt>1443</isolIngCnt><localOccCnt>71</localOccCnt><overFlowCnt>20</overFlowCnt><qurRate>48.60</qurRate><seq>5081</seq><stdDay>2020년 10월 18일 00시</stdDay><updateDt>null</updateDt></item>]"
      ]
     },
     "metadata": {},
     "execution_count": 57
    }
   ],
   "source": [
    "soup.find_all('item')"
   ]
  },
  {
   "cell_type": "code",
   "execution_count": 58,
   "metadata": {},
   "outputs": [],
   "source": [
    "# 하루치 \n",
    "create_date = []; def_list = []; gubun_list = []; incdec_list = []; isolClearCnt_list = []\n",
    "qurRate_list = []; stdDay_list = []; isolingcnt_list=[]; local_list=[]; overflow_list = []\n",
    "\n",
    "items = soup.find_all('item')\n",
    "\n",
    "for i in range(len(items)):\n",
    "    create_date.append(items[i].find('createDt').get_text()) # 등록시간\n",
    "    def_list.append(items[i].find('defCnt').get_text()) # 누적확진자수\n",
    "    gubun_list.append(items[i].find('gubun').get_text()) # 시도, 검역\n",
    "    incdec_list.append(items[i].find('incDec').get_text()) # 전일대비 증감수\n",
    "    isolClearCnt_list.append(items[i].find('isolClearCnt').get_text()) # 격리해제\n",
    "    qurRate_list.append(items[i].find('qurRate').get_text()) #10만명당 발생수\n",
    "    stdDay_list.append(items[i].find('stdDay').get_text()) # 기준일시\n",
    "    isolingcnt_list.append(items[i].find('isolIngCnt').get_text()) # 격리중\n",
    "    local_list.append(items[i].find('localOccCnt').get_text()) # 국내발생\n",
    "    overflow_list.append(items[i].find('overFlowCnt').get_text()) # 해외발생"
   ]
  },
  {
   "cell_type": "code",
   "execution_count": 59,
   "metadata": {},
   "outputs": [
    {
     "output_type": "execute_result",
     "data": {
      "text/plain": [
       "                       등록시간  지역  누적확진자 전일대비 증감   격리해제   격리중 10만명당 발생수 국내발생  \\\n",
       "0   2020-10-18 09:41:19.679  검역   1637      13   1434   203         -    0   \n",
       "1   2020-10-18 09:41:19.679  제주     59       0     59     0      8.80    0   \n",
       "2   2020-10-18 09:41:19.679  경남    299       0    288    11      8.90    0   \n",
       "3   2020-10-18 09:41:19.679  경북   1571       0   1506     9     59.00    0   \n",
       "4   2020-10-18 09:41:19.679  전남    177       0    167     8      9.49    0   \n",
       "5   2020-10-18 09:41:19.679  전북    155       0    128    27      8.53    0   \n",
       "6   2020-10-18 09:41:19.679  충남    503       0    472    24     23.70    0   \n",
       "7   2020-10-18 09:41:19.679  충북    180       0    160    19     11.25    0   \n",
       "8   2020-10-18 09:41:19.678  강원    237       2    220    14     15.38    1   \n",
       "9   2020-10-18 09:41:19.678  경기   4851      50   4369   396     36.61   48   \n",
       "10  2020-10-18 09:41:19.678  세종     78       0     75     3     22.79    0   \n",
       "11  2020-10-18 09:41:19.678  울산    156       0    148     6     13.60    0   \n",
       "12  2020-10-18 09:41:19.678  대전    416       1    359    52     28.22    1   \n",
       "13  2020-10-18 09:41:19.678  광주    500       0    493     4     34.32    0   \n",
       "14  2020-10-18 09:41:19.678  인천    994       1    916    70     33.63    1   \n",
       "15  2020-10-18 09:41:19.678  대구   7142       0   6937     9    293.13    0   \n",
       "16  2020-10-18 09:41:19.677  부산    556       4    449   101     16.30    2   \n",
       "17  2020-10-18 09:41:19.677  서울   5688      20   5132   487     58.44   18   \n",
       "18  2020-10-18 09:41:19.677  합계  25199      91  23312  1443     48.60   71   \n",
       "\n",
       "   해외발생               기준일시  \n",
       "0    13  2020년 10월 18일 00시  \n",
       "1     0  2020년 10월 18일 00시  \n",
       "2     0  2020년 10월 18일 00시  \n",
       "3     0  2020년 10월 18일 00시  \n",
       "4     0  2020년 10월 18일 00시  \n",
       "5     0  2020년 10월 18일 00시  \n",
       "6     0  2020년 10월 18일 00시  \n",
       "7     0  2020년 10월 18일 00시  \n",
       "8     1  2020년 10월 18일 00시  \n",
       "9     2  2020년 10월 18일 00시  \n",
       "10    0  2020년 10월 18일 00시  \n",
       "11    0  2020년 10월 18일 00시  \n",
       "12    0  2020년 10월 18일 00시  \n",
       "13    0  2020년 10월 18일 00시  \n",
       "14    0  2020년 10월 18일 00시  \n",
       "15    0  2020년 10월 18일 00시  \n",
       "16    2  2020년 10월 18일 00시  \n",
       "17    2  2020년 10월 18일 00시  \n",
       "18   20  2020년 10월 18일 00시  "
      ],
      "text/html": "<div>\n<style scoped>\n    .dataframe tbody tr th:only-of-type {\n        vertical-align: middle;\n    }\n\n    .dataframe tbody tr th {\n        vertical-align: top;\n    }\n\n    .dataframe thead th {\n        text-align: right;\n    }\n</style>\n<table border=\"1\" class=\"dataframe\">\n  <thead>\n    <tr style=\"text-align: right;\">\n      <th></th>\n      <th>등록시간</th>\n      <th>지역</th>\n      <th>누적확진자</th>\n      <th>전일대비 증감</th>\n      <th>격리해제</th>\n      <th>격리중</th>\n      <th>10만명당 발생수</th>\n      <th>국내발생</th>\n      <th>해외발생</th>\n      <th>기준일시</th>\n    </tr>\n  </thead>\n  <tbody>\n    <tr>\n      <th>0</th>\n      <td>2020-10-18 09:41:19.679</td>\n      <td>검역</td>\n      <td>1637</td>\n      <td>13</td>\n      <td>1434</td>\n      <td>203</td>\n      <td>-</td>\n      <td>0</td>\n      <td>13</td>\n      <td>2020년 10월 18일 00시</td>\n    </tr>\n    <tr>\n      <th>1</th>\n      <td>2020-10-18 09:41:19.679</td>\n      <td>제주</td>\n      <td>59</td>\n      <td>0</td>\n      <td>59</td>\n      <td>0</td>\n      <td>8.80</td>\n      <td>0</td>\n      <td>0</td>\n      <td>2020년 10월 18일 00시</td>\n    </tr>\n    <tr>\n      <th>2</th>\n      <td>2020-10-18 09:41:19.679</td>\n      <td>경남</td>\n      <td>299</td>\n      <td>0</td>\n      <td>288</td>\n      <td>11</td>\n      <td>8.90</td>\n      <td>0</td>\n      <td>0</td>\n      <td>2020년 10월 18일 00시</td>\n    </tr>\n    <tr>\n      <th>3</th>\n      <td>2020-10-18 09:41:19.679</td>\n      <td>경북</td>\n      <td>1571</td>\n      <td>0</td>\n      <td>1506</td>\n      <td>9</td>\n      <td>59.00</td>\n      <td>0</td>\n      <td>0</td>\n      <td>2020년 10월 18일 00시</td>\n    </tr>\n    <tr>\n      <th>4</th>\n      <td>2020-10-18 09:41:19.679</td>\n      <td>전남</td>\n      <td>177</td>\n      <td>0</td>\n      <td>167</td>\n      <td>8</td>\n      <td>9.49</td>\n      <td>0</td>\n      <td>0</td>\n      <td>2020년 10월 18일 00시</td>\n    </tr>\n    <tr>\n      <th>5</th>\n      <td>2020-10-18 09:41:19.679</td>\n      <td>전북</td>\n      <td>155</td>\n      <td>0</td>\n      <td>128</td>\n      <td>27</td>\n      <td>8.53</td>\n      <td>0</td>\n      <td>0</td>\n      <td>2020년 10월 18일 00시</td>\n    </tr>\n    <tr>\n      <th>6</th>\n      <td>2020-10-18 09:41:19.679</td>\n      <td>충남</td>\n      <td>503</td>\n      <td>0</td>\n      <td>472</td>\n      <td>24</td>\n      <td>23.70</td>\n      <td>0</td>\n      <td>0</td>\n      <td>2020년 10월 18일 00시</td>\n    </tr>\n    <tr>\n      <th>7</th>\n      <td>2020-10-18 09:41:19.679</td>\n      <td>충북</td>\n      <td>180</td>\n      <td>0</td>\n      <td>160</td>\n      <td>19</td>\n      <td>11.25</td>\n      <td>0</td>\n      <td>0</td>\n      <td>2020년 10월 18일 00시</td>\n    </tr>\n    <tr>\n      <th>8</th>\n      <td>2020-10-18 09:41:19.678</td>\n      <td>강원</td>\n      <td>237</td>\n      <td>2</td>\n      <td>220</td>\n      <td>14</td>\n      <td>15.38</td>\n      <td>1</td>\n      <td>1</td>\n      <td>2020년 10월 18일 00시</td>\n    </tr>\n    <tr>\n      <th>9</th>\n      <td>2020-10-18 09:41:19.678</td>\n      <td>경기</td>\n      <td>4851</td>\n      <td>50</td>\n      <td>4369</td>\n      <td>396</td>\n      <td>36.61</td>\n      <td>48</td>\n      <td>2</td>\n      <td>2020년 10월 18일 00시</td>\n    </tr>\n    <tr>\n      <th>10</th>\n      <td>2020-10-18 09:41:19.678</td>\n      <td>세종</td>\n      <td>78</td>\n      <td>0</td>\n      <td>75</td>\n      <td>3</td>\n      <td>22.79</td>\n      <td>0</td>\n      <td>0</td>\n      <td>2020년 10월 18일 00시</td>\n    </tr>\n    <tr>\n      <th>11</th>\n      <td>2020-10-18 09:41:19.678</td>\n      <td>울산</td>\n      <td>156</td>\n      <td>0</td>\n      <td>148</td>\n      <td>6</td>\n      <td>13.60</td>\n      <td>0</td>\n      <td>0</td>\n      <td>2020년 10월 18일 00시</td>\n    </tr>\n    <tr>\n      <th>12</th>\n      <td>2020-10-18 09:41:19.678</td>\n      <td>대전</td>\n      <td>416</td>\n      <td>1</td>\n      <td>359</td>\n      <td>52</td>\n      <td>28.22</td>\n      <td>1</td>\n      <td>0</td>\n      <td>2020년 10월 18일 00시</td>\n    </tr>\n    <tr>\n      <th>13</th>\n      <td>2020-10-18 09:41:19.678</td>\n      <td>광주</td>\n      <td>500</td>\n      <td>0</td>\n      <td>493</td>\n      <td>4</td>\n      <td>34.32</td>\n      <td>0</td>\n      <td>0</td>\n      <td>2020년 10월 18일 00시</td>\n    </tr>\n    <tr>\n      <th>14</th>\n      <td>2020-10-18 09:41:19.678</td>\n      <td>인천</td>\n      <td>994</td>\n      <td>1</td>\n      <td>916</td>\n      <td>70</td>\n      <td>33.63</td>\n      <td>1</td>\n      <td>0</td>\n      <td>2020년 10월 18일 00시</td>\n    </tr>\n    <tr>\n      <th>15</th>\n      <td>2020-10-18 09:41:19.678</td>\n      <td>대구</td>\n      <td>7142</td>\n      <td>0</td>\n      <td>6937</td>\n      <td>9</td>\n      <td>293.13</td>\n      <td>0</td>\n      <td>0</td>\n      <td>2020년 10월 18일 00시</td>\n    </tr>\n    <tr>\n      <th>16</th>\n      <td>2020-10-18 09:41:19.677</td>\n      <td>부산</td>\n      <td>556</td>\n      <td>4</td>\n      <td>449</td>\n      <td>101</td>\n      <td>16.30</td>\n      <td>2</td>\n      <td>2</td>\n      <td>2020년 10월 18일 00시</td>\n    </tr>\n    <tr>\n      <th>17</th>\n      <td>2020-10-18 09:41:19.677</td>\n      <td>서울</td>\n      <td>5688</td>\n      <td>20</td>\n      <td>5132</td>\n      <td>487</td>\n      <td>58.44</td>\n      <td>18</td>\n      <td>2</td>\n      <td>2020년 10월 18일 00시</td>\n    </tr>\n    <tr>\n      <th>18</th>\n      <td>2020-10-18 09:41:19.677</td>\n      <td>합계</td>\n      <td>25199</td>\n      <td>91</td>\n      <td>23312</td>\n      <td>1443</td>\n      <td>48.60</td>\n      <td>71</td>\n      <td>20</td>\n      <td>2020년 10월 18일 00시</td>\n    </tr>\n  </tbody>\n</table>\n</div>"
     },
     "metadata": {},
     "execution_count": 59
    }
   ],
   "source": [
    "df = pd.DataFrame({\n",
    "    '등록시간' : create_date,\n",
    "    '지역' : gubun_list,\n",
    "    '누적확진자' : def_list,\n",
    "    '전일대비 증감' : incdec_list,\n",
    "    '격리해제' : isolClearCnt_list,\n",
    "    '격리중' : isolingcnt_list,\n",
    "    '10만명당 발생수': qurRate_list,\n",
    "    '국내발생' : local_list,\n",
    "    '해외발생' : overflow_list,\n",
    "    '기준일시': stdDay_list\n",
    "})\n",
    "df"
   ]
  },
  {
   "cell_type": "code",
   "execution_count": 60,
   "metadata": {},
   "outputs": [],
   "source": [
    "#3일치\n",
    "import datetime"
   ]
  },
  {
   "cell_type": "code",
   "execution_count": 61,
   "metadata": {},
   "outputs": [],
   "source": [
    "start_date = '20201018'\n",
    "end_date = '20201020'"
   ]
  },
  {
   "cell_type": "code",
   "execution_count": 62,
   "metadata": {},
   "outputs": [
    {
     "output_type": "stream",
     "name": "stdout",
     "text": [
      "2\n"
     ]
    }
   ],
   "source": [
    "start_date = pd.to_datetime(start_date)\n",
    "end_date = pd.to_datetime(end_date)\n",
    "\n",
    "print((end_date-start_date).days)"
   ]
  },
  {
   "cell_type": "code",
   "execution_count": 63,
   "metadata": {},
   "outputs": [
    {
     "output_type": "execute_result",
     "data": {
      "text/plain": [
       "'2020-10-19'"
      ]
     },
     "metadata": {},
     "execution_count": 63
    }
   ],
   "source": [
    "a = (end_date - datetime.timedelta(days=1)).strftime(\"%Y-%m-%d\")\n",
    "a"
   ]
  },
  {
   "cell_type": "code",
   "execution_count": 65,
   "metadata": {},
   "outputs": [
    {
     "output_type": "execute_result",
     "data": {
      "text/plain": [
       "range(0, 3)"
      ]
     },
     "metadata": {},
     "execution_count": 65
    }
   ],
   "source": [
    "range((end_date-start_date).days+1)"
   ]
  },
  {
   "cell_type": "code",
   "execution_count": 66,
   "metadata": {},
   "outputs": [
    {
     "output_type": "execute_result",
     "data": {
      "text/plain": [
       "'20201002'"
      ]
     },
     "metadata": {},
     "execution_count": 66
    }
   ],
   "source": [
    "date = (end_date - datetime.timedelta(days=i)).strftime(\"%Y%m%d\")\n",
    "date"
   ]
  },
  {
   "cell_type": "code",
   "execution_count": 67,
   "metadata": {},
   "outputs": [
    {
     "output_type": "stream",
     "name": "stdout",
     "text": [
      "{'일자': '2020-10-20', '서울': 0, '부산': 0, '대구': 0, '인천': 0, '광주': 0, '대전': 0, '울산': 0, '세종': 0, '강원': 0, '충북': 0, '충남': 0, '전북': 0, '전남': 0, '경북': 0, '경남': 0, '제주': 0, '검역': 0}\n{'일자': '2020-10-19', '서울': 0, '부산': 0, '대구': 0, '인천': 0, '광주': 0, '대전': 0, '울산': 0, '세종': 0, '강원': 0, '충북': 0, '충남': 0, '전북': 0, '전남': 0, '경북': 0, '경남': 0, '제주': 0, '검역': 0}\n{'일자': '2020-10-18', '서울': 0, '부산': 0, '대구': 0, '인천': 0, '광주': 0, '대전': 0, '울산': 0, '세종': 0, '강원': 0, '충북': 0, '충남': 0, '전북': 0, '전남': 0, '경북': 0, '경남': 0, '제주': 0, '검역': 0}\n"
     ]
    }
   ],
   "source": [
    "dict_list = []\n",
    "\n",
    "corona_url = 'http://openapi.data.go.kr/openapi/service/rest/Covid19/getCovid19SidoInfStateJson'\n",
    "url = f'{corona_url}?ServiceKey={govapi_key}&pageNo=1&numOfRows=10&startCreateDt={start_date}&endCreateDt={end_date}'\n",
    "result = requests.get(url)\n",
    "soup = BeautifulSoup(result.text, 'xml')\n",
    "for i in range((end_date-start_date).days+1):\n",
    "    date = (end_date - datetime.timedelta(days=i)).strftime(\"%Y-%m-%d\")\n",
    "    a_dict = {'일자':date, '서울':0, '부산':0, '대구':0, '인천': 0, '광주':0, '대전':0, '울산':0, '세종': 0, '강원':0, '충북':0, '충남':0, '전북': 0, '전남':0, '경북':0, '경남':0, '제주': 0, '검역': 0}\n",
    "    new_date = (end_date - datetime.timedelta(days=i)).strftime(\"%Y%m%d\")\n",
    "    corona_url = 'http://openapi.data.go.kr/openapi/service/rest/Covid19/getCovid19SidoInfStateJson'\n",
    "    url = f'{corona_url}?ServiceKey={govapi_key}&pageNo=1&numOfRows=10&startCreateDt={start_date}&endCreateDt={end_date}'\n",
    "    result = requests.get(url)\n",
    "    soup = BeautifulSoup(result.text, 'xml')\n",
    "    items = soup.find_all('item')\n",
    "    for k in range(len(items)):\n",
    "        area = items[k].find('gubun').get_text()\n",
    "        num = items[k].find('incDec').get_text()\n",
    "        a_dict[area] = num\n",
    "    dict_list.append(a_dict)\n",
    "    print(a_dict)"
   ]
  },
  {
   "cell_type": "code",
   "execution_count": 68,
   "metadata": {},
   "outputs": [
    {
     "output_type": "execute_result",
     "data": {
      "text/plain": [
       "           일자  서울  부산  대구  인천  광주  대전  울산  세종  강원  충북  충남  전북  전남  경북  경남  제주  \\\n",
       "0  2020-10-20   0   0   0   0   0   0   0   0   0   0   0   0   0   0   0   0   \n",
       "1  2020-10-19   0   0   0   0   0   0   0   0   0   0   0   0   0   0   0   0   \n",
       "2  2020-10-18   0   0   0   0   0   0   0   0   0   0   0   0   0   0   0   0   \n",
       "\n",
       "   검역  \n",
       "0   0  \n",
       "1   0  \n",
       "2   0  "
      ],
      "text/html": "<div>\n<style scoped>\n    .dataframe tbody tr th:only-of-type {\n        vertical-align: middle;\n    }\n\n    .dataframe tbody tr th {\n        vertical-align: top;\n    }\n\n    .dataframe thead th {\n        text-align: right;\n    }\n</style>\n<table border=\"1\" class=\"dataframe\">\n  <thead>\n    <tr style=\"text-align: right;\">\n      <th></th>\n      <th>일자</th>\n      <th>서울</th>\n      <th>부산</th>\n      <th>대구</th>\n      <th>인천</th>\n      <th>광주</th>\n      <th>대전</th>\n      <th>울산</th>\n      <th>세종</th>\n      <th>강원</th>\n      <th>충북</th>\n      <th>충남</th>\n      <th>전북</th>\n      <th>전남</th>\n      <th>경북</th>\n      <th>경남</th>\n      <th>제주</th>\n      <th>검역</th>\n    </tr>\n  </thead>\n  <tbody>\n    <tr>\n      <th>0</th>\n      <td>2020-10-20</td>\n      <td>0</td>\n      <td>0</td>\n      <td>0</td>\n      <td>0</td>\n      <td>0</td>\n      <td>0</td>\n      <td>0</td>\n      <td>0</td>\n      <td>0</td>\n      <td>0</td>\n      <td>0</td>\n      <td>0</td>\n      <td>0</td>\n      <td>0</td>\n      <td>0</td>\n      <td>0</td>\n      <td>0</td>\n    </tr>\n    <tr>\n      <th>1</th>\n      <td>2020-10-19</td>\n      <td>0</td>\n      <td>0</td>\n      <td>0</td>\n      <td>0</td>\n      <td>0</td>\n      <td>0</td>\n      <td>0</td>\n      <td>0</td>\n      <td>0</td>\n      <td>0</td>\n      <td>0</td>\n      <td>0</td>\n      <td>0</td>\n      <td>0</td>\n      <td>0</td>\n      <td>0</td>\n      <td>0</td>\n    </tr>\n    <tr>\n      <th>2</th>\n      <td>2020-10-18</td>\n      <td>0</td>\n      <td>0</td>\n      <td>0</td>\n      <td>0</td>\n      <td>0</td>\n      <td>0</td>\n      <td>0</td>\n      <td>0</td>\n      <td>0</td>\n      <td>0</td>\n      <td>0</td>\n      <td>0</td>\n      <td>0</td>\n      <td>0</td>\n      <td>0</td>\n      <td>0</td>\n      <td>0</td>\n    </tr>\n  </tbody>\n</table>\n</div>"
     },
     "metadata": {},
     "execution_count": 68
    }
   ],
   "source": [
    "ex=pd.DataFrame(dict_list)\n",
    "ex"
   ]
  },
  {
   "cell_type": "code",
   "execution_count": 41,
   "metadata": {},
   "outputs": [],
   "source": [
    "#전체 반복문\n",
    "from tqdm.notebook import tqdm"
   ]
  },
  {
   "cell_type": "code",
   "execution_count": 42,
   "metadata": {},
   "outputs": [],
   "source": [
    "start_date = '20200301'\n",
    "end_date = '20201130'"
   ]
  },
  {
   "cell_type": "code",
   "execution_count": 43,
   "metadata": {},
   "outputs": [
    {
     "output_type": "stream",
     "name": "stdout",
     "text": [
      "274\n"
     ]
    }
   ],
   "source": [
    "start_date = pd.to_datetime(start_date)\n",
    "end_date = pd.to_datetime(end_date)\n",
    "\n",
    "print((end_date-start_date).days)"
   ]
  },
  {
   "cell_type": "code",
   "execution_count": 44,
   "metadata": {},
   "outputs": [
    {
     "output_type": "execute_result",
     "data": {
      "text/plain": [
       "Timestamp('2020-03-01 00:00:00')"
      ]
     },
     "metadata": {},
     "execution_count": 44
    }
   ],
   "source": [
    "start_date"
   ]
  },
  {
   "cell_type": "code",
   "execution_count": 45,
   "metadata": {},
   "outputs": [
    {
     "output_type": "display_data",
     "data": {
      "text/plain": "HBox(children=(HTML(value=''), FloatProgress(value=0.0, max=275.0), HTML(value='')))",
      "application/vnd.jupyter.widget-view+json": {
       "version_major": 2,
       "version_minor": 0,
       "model_id": "eea902b6efef4fa090e07c44406c69e8"
      }
     },
     "metadata": {}
    },
    {
     "output_type": "stream",
     "name": "stdout",
     "text": [
      "\n"
     ]
    }
   ],
   "source": [
    "dict_list = []\n",
    "\n",
    "corona_url = 'http://openapi.data.go.kr/openapi/service/rest/Covid19/getCovid19SidoInfStateJson'\n",
    "url = f'{corona_url}?ServiceKey={govapi_key}&pageNo=1&numOfRows=10&startCreateDt={start_date}&endCreateDt={end_date}'\n",
    "result = requests.get(url)\n",
    "soup = BeautifulSoup(result.text, 'xml')\n",
    "for i in tqdm(range((end_date-start_date).days+1)):\n",
    "    date = (end_date - datetime.timedelta(days=i)).strftime(\"%Y-%m-%d\")\n",
    "    a_dict = {'일자':date, '서울':0, '부산':0, '대구':0, '인천': 0, '광주':0, '대전':0, '울산':0, '세종': 0, '강원':0, '충북':0, '충남':0, '전북': 0, '전남':0, '경북':0, '경남':0, '제주': 0, '검역': 0}\n",
    "    new_date = (end_date - datetime.timedelta(days=i)).strftime(\"%Y%m%d\")\n",
    "    corona_url = 'http://openapi.data.go.kr/openapi/service/rest/Covid19/getCovid19SidoInfStateJson'\n",
    "    url = f'{corona_url}?ServiceKey={govapi_key}&pageNo=1&numOfRows=10&startCreateDt={start_date}&endCreateDt={end_date}'\n",
    "    result = requests.get(url)\n",
    "    soup = BeautifulSoup(result.text, 'xml')\n",
    "    items = soup.find_all('item')\n",
    "    for k in range(len(items)):\n",
    "        area = items[k].find('gubun').get_text()\n",
    "        num = items[k].find('incDec').get_text()\n",
    "        a_dict[area] = num\n",
    "    dict_list.append(a_dict)"
   ]
  },
  {
   "cell_type": "code",
   "execution_count": 46,
   "metadata": {},
   "outputs": [
    {
     "output_type": "execute_result",
     "data": {
      "text/plain": [
       "           일자  서울  부산  대구  인천  광주  대전  울산  세종  강원  충북  충남  전북  전남  경북  경남  제주  \\\n",
       "0  2020-11-30   0   0   0   0   0   0   0   0   0   0   0   0   0   0   0   0   \n",
       "1  2020-11-29   0   0   0   0   0   0   0   0   0   0   0   0   0   0   0   0   \n",
       "2  2020-11-28   0   0   0   0   0   0   0   0   0   0   0   0   0   0   0   0   \n",
       "3  2020-11-27   0   0   0   0   0   0   0   0   0   0   0   0   0   0   0   0   \n",
       "4  2020-11-26   0   0   0   0   0   0   0   0   0   0   0   0   0   0   0   0   \n",
       "\n",
       "   검역  \n",
       "0   0  \n",
       "1   0  \n",
       "2   0  \n",
       "3   0  \n",
       "4   0  "
      ],
      "text/html": "<div>\n<style scoped>\n    .dataframe tbody tr th:only-of-type {\n        vertical-align: middle;\n    }\n\n    .dataframe tbody tr th {\n        vertical-align: top;\n    }\n\n    .dataframe thead th {\n        text-align: right;\n    }\n</style>\n<table border=\"1\" class=\"dataframe\">\n  <thead>\n    <tr style=\"text-align: right;\">\n      <th></th>\n      <th>일자</th>\n      <th>서울</th>\n      <th>부산</th>\n      <th>대구</th>\n      <th>인천</th>\n      <th>광주</th>\n      <th>대전</th>\n      <th>울산</th>\n      <th>세종</th>\n      <th>강원</th>\n      <th>충북</th>\n      <th>충남</th>\n      <th>전북</th>\n      <th>전남</th>\n      <th>경북</th>\n      <th>경남</th>\n      <th>제주</th>\n      <th>검역</th>\n    </tr>\n  </thead>\n  <tbody>\n    <tr>\n      <th>0</th>\n      <td>2020-11-30</td>\n      <td>0</td>\n      <td>0</td>\n      <td>0</td>\n      <td>0</td>\n      <td>0</td>\n      <td>0</td>\n      <td>0</td>\n      <td>0</td>\n      <td>0</td>\n      <td>0</td>\n      <td>0</td>\n      <td>0</td>\n      <td>0</td>\n      <td>0</td>\n      <td>0</td>\n      <td>0</td>\n      <td>0</td>\n    </tr>\n    <tr>\n      <th>1</th>\n      <td>2020-11-29</td>\n      <td>0</td>\n      <td>0</td>\n      <td>0</td>\n      <td>0</td>\n      <td>0</td>\n      <td>0</td>\n      <td>0</td>\n      <td>0</td>\n      <td>0</td>\n      <td>0</td>\n      <td>0</td>\n      <td>0</td>\n      <td>0</td>\n      <td>0</td>\n      <td>0</td>\n      <td>0</td>\n      <td>0</td>\n    </tr>\n    <tr>\n      <th>2</th>\n      <td>2020-11-28</td>\n      <td>0</td>\n      <td>0</td>\n      <td>0</td>\n      <td>0</td>\n      <td>0</td>\n      <td>0</td>\n      <td>0</td>\n      <td>0</td>\n      <td>0</td>\n      <td>0</td>\n      <td>0</td>\n      <td>0</td>\n      <td>0</td>\n      <td>0</td>\n      <td>0</td>\n      <td>0</td>\n      <td>0</td>\n    </tr>\n    <tr>\n      <th>3</th>\n      <td>2020-11-27</td>\n      <td>0</td>\n      <td>0</td>\n      <td>0</td>\n      <td>0</td>\n      <td>0</td>\n      <td>0</td>\n      <td>0</td>\n      <td>0</td>\n      <td>0</td>\n      <td>0</td>\n      <td>0</td>\n      <td>0</td>\n      <td>0</td>\n      <td>0</td>\n      <td>0</td>\n      <td>0</td>\n      <td>0</td>\n    </tr>\n    <tr>\n      <th>4</th>\n      <td>2020-11-26</td>\n      <td>0</td>\n      <td>0</td>\n      <td>0</td>\n      <td>0</td>\n      <td>0</td>\n      <td>0</td>\n      <td>0</td>\n      <td>0</td>\n      <td>0</td>\n      <td>0</td>\n      <td>0</td>\n      <td>0</td>\n      <td>0</td>\n      <td>0</td>\n      <td>0</td>\n      <td>0</td>\n      <td>0</td>\n    </tr>\n  </tbody>\n</table>\n</div>"
     },
     "metadata": {},
     "execution_count": 46
    }
   ],
   "source": [
    "corona = pd.DataFrame(dict_list)\n",
    "corona.head()"
   ]
  },
  {
   "cell_type": "code",
   "execution_count": 38,
   "metadata": {},
   "outputs": [],
   "source": [
    "corona.to_csv('./data/전국 시도별 코로나 현황.csv', sep=',', encoding='utf8')"
   ]
  },
  {
   "cell_type": "code",
   "execution_count": null,
   "metadata": {},
   "outputs": [],
   "source": []
  }
 ]
}