{
 "metadata": {
  "language_info": {
   "codemirror_mode": {
    "name": "ipython",
    "version": 3
   },
   "file_extension": ".py",
   "mimetype": "text/x-python",
   "name": "python",
   "nbconvert_exporter": "python",
   "pygments_lexer": "ipython3",
   "version": "3.8.5-final"
  },
  "orig_nbformat": 2,
  "kernelspec": {
   "name": "python3",
   "display_name": "Python 3"
  }
 },
 "nbformat": 4,
 "nbformat_minor": 2,
 "cells": [
  {
   "source": [
    "## Covid-19 현황 분석\n",
    "공공데이터에 201202 오픈API신청했는데 익일안됨.."
   ],
   "cell_type": "markdown",
   "metadata": {}
  },
  {
   "cell_type": "code",
   "execution_count": 4,
   "metadata": {},
   "outputs": [],
   "source": [
    "import requests\n",
    "import pandas as pd\n",
    "from bs4 import BeautifulSoup"
   ]
  },
  {
   "cell_type": "code",
   "execution_count": 5,
   "metadata": {},
   "outputs": [],
   "source": [
    "key_fd = open('gov_data_api_key.txt', mode='r')\n",
    "govapi_key = key_fd.read(100)\n",
    "key_fd.close()"
   ]
  },
  {
   "cell_type": "code",
   "execution_count": 6,
   "metadata": {},
   "outputs": [],
   "source": [
    "start_date = '20201130'\n",
    "end_date = '20201130'"
   ]
  },
  {
   "cell_type": "code",
   "execution_count": 7,
   "metadata": {},
   "outputs": [],
   "source": [
    "corona_url = 'http://openapi.data.go.kr/openapi/service/rest/Covid19/getCovid19SidoInfStateJson'\n",
    "url = f'{corona_url}?ServiceKey={govapi_key}&pageNo=1&numOfRows=10&startCreateDt={start_date}&endCreateDt={end_date}'"
   ]
  },
  {
   "cell_type": "code",
   "execution_count": 8,
   "metadata": {},
   "outputs": [
    {
     "output_type": "execute_result",
     "data": {
      "text/plain": [
       "'00'"
      ]
     },
     "metadata": {},
     "execution_count": 8
    }
   ],
   "source": [
    "result = requests.get(url)\n",
    "soup = BeautifulSoup(result.text, 'xml')\n",
    "soup.find('resultCode').get_text()"
   ]
  },
  {
   "cell_type": "code",
   "execution_count": 9,
   "metadata": {},
   "outputs": [
    {
     "output_type": "execute_result",
     "data": {
      "text/plain": [
       "'NORMAL SERVICE.'"
      ]
     },
     "metadata": {},
     "execution_count": 9
    }
   ],
   "source": [
    "soup.find('resultMsg').string  "
   ]
  },
  {
   "cell_type": "code",
   "execution_count": 10,
   "metadata": {},
   "outputs": [
    {
     "output_type": "execute_result",
     "data": {
      "text/plain": [
       "'<?xml version=\"1.0\" encoding=\"UTF-8\" standalone=\"yes\"?><response><header><resultCode>00</resultCode><resultMsg>NORMAL SERVICE.</resultMsg></header><body><items><item><createDt>2020-11-30 14:29:36.528</createDt><deathCnt>0</deathCnt><defCnt>21301</defCnt><gubun>검역</gubun><gubunCn>隔離區</gubunCn><gubunEn>Lazaretto</gubunEn><incDec>10</incDec><isolClearCnt>1618</isolClearCnt><isolIngCnt>512</isolIngCnt><localOccCnt>0</localOccCnt><overFlowCnt>10</overFlowCnt><qurRate>-</qurRate><seq>6030</seq><stdDay>2020년 11월 30일 00시</stdDay><updateDt>null</updateDt></item><item><createDt>2020-11-30 14:29:36.528</createDt><deathCnt>0</deathCnt><defCnt>2130</defCnt><gubun>검역</gubun><gubunCn>隔離區</gubunCn><gubunEn>Lazaretto</gubunEn><incDec>10</incDec><isolClearCnt>1618</isolClearCnt><isolIngCnt>512</isolIngCnt><localOccCnt>0</localOccCnt><overFlowCnt>10</overFlowCnt><qurRate>-</qurRate><seq>6030</seq><stdDay>2020년 11월 30일 00시</stdDay><updateDt>2020-11-30 15:33:34.427</updateDt></item><item><createDt>2020-11-30 14:29:36.528</createDt><deathCnt>0</deathCnt><defCnt>80</defCnt><gubun>제주</gubun><gubunCn>济州</gubunCn><gubunEn>Jeju</gubunEn><incDec>1</incDec><isolClearCnt>60</isolClearCnt><isolIngCnt>20</isolIngCnt><localOccCnt>0</localOccCnt><overFlowCnt>1</overFlowCnt><qurRate>11.93</qurRate><seq>6029</seq><stdDay>2020년 11월 30일 00시</stdDay><updateDt>null</updateDt></item><item><createDt>2020-11-30 14:29:36.527</createDt><deathCnt>1</deathCnt><defCnt>625</defCnt><gubun>경남</gubun><gubunCn>庆南</gubunCn><gubunEn>Gyeongsangnam-do</gubunEn><incDec>20</incDec><isolClearCnt>388</isolClearCnt><isolIngCnt>236</isolIngCnt><localOccCnt>19</localOccCnt><overFlowCnt>1</overFlowCnt><qurRate>18.59</qurRate><seq>6028</seq><stdDay>2020년 11월 30일 00시</stdDay><updateDt>null</updateDt></item><item><createDt>2020-11-30 14:29:36.527</createDt><deathCnt>57</deathCnt><defCnt>1704</defCnt><gubun>경북</gubun><gubunCn>庆北</gubunCn><gubunEn>Gyeongsangbuk-do</gubunEn><incDec>4</incDec><isolClearCnt>1560</isolClearCnt><isolIngCnt>87</isolIngCnt><localOccCnt>4</localOccCnt><overFlowCnt>0</overFlowCnt><qurRate>64.00</qurRate><seq>6027</seq><stdDay>2020년 11월 30일 00시</stdDay><updateDt>null</updateDt></item><item><createDt>2020-11-30 14:29:36.527</createDt><deathCnt>2</deathCnt><defCnt>424</defCnt><gubun>전남</gubun><gubunCn>全南</gubunCn><gubunEn>Jeollanam-do</gubunEn><incDec>4</incDec><isolClearCnt>214</isolClearCnt><isolIngCnt>208</isolIngCnt><localOccCnt>3</localOccCnt><overFlowCnt>1</overFlowCnt><qurRate>22.74</qurRate><seq>6026</seq><stdDay>2020년 11월 30일 00시</stdDay><updateDt>null</updateDt></item><item><createDt>2020-11-30 14:29:36.527</createDt><deathCnt>2</deathCnt><defCnt>334</defCnt><gubun>전북</gubun><gubunCn>全北</gubunCn><gubunEn>Jeollabuk-do</gubunEn><incDec>16</incDec><isolClearCnt>173</isolClearCnt><isolIngCnt>159</isolIngCnt><localOccCnt>16</localOccCnt><overFlowCnt>0</overFlowCnt><qurRate>18.38</qurRate><seq>6025</seq><stdDay>2020년 11월 30일 00시</stdDay><updateDt>null</updateDt></item><item><createDt>2020-11-30 14:29:36.527</createDt><deathCnt>9</deathCnt><defCnt>899</defCnt><gubun>충남</gubun><gubunCn>忠南</gubunCn><gubunEn>Chungcheongnam-do</gubunEn><incDec>5</incDec><isolClearCnt>667</isolClearCnt><isolIngCnt>223</isolIngCnt><localOccCnt>4</localOccCnt><overFlowCnt>1</overFlowCnt><qurRate>42.36</qurRate><seq>6024</seq><stdDay>2020년 11월 30일 00시</stdDay><updateDt>null</updateDt></item><item><createDt>2020-11-30 14:29:36.527</createDt><deathCnt>3</deathCnt><defCnt>327</defCnt><gubun>충북</gubun><gubunCn>忠北</gubunCn><gubunEn>Chungcheongbuk-do</gubunEn><incDec>22</incDec><isolClearCnt>207</isolClearCnt><isolIngCnt>117</isolIngCnt><localOccCnt>22</localOccCnt><overFlowCnt>0</overFlowCnt><qurRate>20.45</qurRate><seq>6023</seq><stdDay>2020년 11월 30일 00시</stdDay><updateDt>null</updateDt></item><item><createDt>2020-11-30 14:29:36.527</createDt><deathCnt>6</deathCnt><defCnt>652</defCnt><gubun>강원</gubun><gubunCn>江原</gubunCn><gubunEn>Gangwon-do</gubunEn><incDec>8</incDec><isolClearCnt>400</isolClearCnt><isolIngCnt>246</isolIngCnt><localOccCnt>8</localOccCnt><overFlowCnt>0</overFlowCnt><qurRate>42.32</qurRate><seq>6022</seq><stdDay>2020년 11월 30일 00시</stdDay><updateDt>null</updateDt></item><item><createDt>2020-11-30 14:29:36.526</createDt><deathCnt>116</deathCnt><defCnt>7277</defCnt><gubun>경기</gubun><gubunCn>京畿</gubunCn><gubunEn>Gyeonggi-do</gubunEn><incDec>77</incDec><isolClearCnt>5858</isolClearCnt><isolIngCnt>1303</isolIngCnt><localOccCnt>69</localOccCnt><overFlowCnt>8</overFlowCnt><qurRate>54.92</qurRate><seq>6021</seq><stdDay>2020년 11월 30일 00시</stdDay><updateDt>null</updateDt></item><item><createDt>2020-11-30 14:29:36.526</createDt><deathCnt>0</deathCnt><defCnt>100</defCnt><gubun>세종</gubun><gubunCn>世宗</gubunCn><gubunEn>Sejong</gubunEn><incDec>1</incDec><isolClearCnt>84</isolClearCnt><isolIngCnt>16</isolIngCnt><localOccCnt>1</localOccCnt><overFlowCnt>0</overFlowCnt><qurRate>29.21</qurRate><seq>6020</seq><stdDay>2020년 11월 30일 00시</stdDay><updateDt>null</updateDt></item><item><createDt>2020-11-30 14:29:36.526</createDt><deathCnt>2</deathCnt><defCnt>198</defCnt><gubun>울산</gubun><gubunCn>蔚山</gubunCn><gubunEn>Ulsan</gubunEn><incDec>3</incDec><isolClearCnt>166</isolClearCnt><isolIngCnt>30</isolIngCnt><localOccCnt>3</localOccCnt><overFlowCnt>0</overFlowCnt><qurRate>17.26</qurRate><seq>6019</seq><stdDay>2020년 11월 30일 00시</stdDay><updateDt>null</updateDt></item><item><createDt>2020-11-30 14:29:36.526</createDt><deathCnt>6</deathCnt><defCnt>494</defCnt><gubun>대전</gubun><gubunCn>大田</gubunCn><gubunEn>Daejeon</gubunEn><incDec>5</incDec><isolClearCnt>446</isolClearCnt><isolIngCnt>42</isolIngCnt><localOccCnt>5</localOccCnt><overFlowCnt>0</overFlowCnt><qurRate>33.51</qurRate><seq>6018</seq><stdDay>2020년 11월 30일 00시</stdDay><updateDt>null</updateDt></item><item><createDt>2020-11-30 14:29:36.526</createDt><deathCnt>3</deathCnt><defCnt>696</defCnt><gubun>광주</gubun><gubunCn>光州</gubunCn><gubunEn>Gwangju</gubunEn><incDec>13</incDec><isolClearCnt>568</isolClearCnt><isolIngCnt>125</isolIngCnt><localOccCnt>12</localOccCnt><overFlowCnt>1</overFlowCnt><qurRate>47.78</qurRate><seq>6017</seq><stdDay>2020년 11월 30일 00시</stdDay><updateDt>null</updateDt></item><item><createDt>2020-11-30 14:29:36.526</createDt><deathCnt>11</deathCnt><defCnt>1409</defCnt><gubun>인천</gubun><gubunCn>仁川</gubunCn><gubunEn>Incheon</gubunEn><incDec>34</incDec><isolClearCnt>1084</isolClearCnt><isolIngCnt>314</isolIngCnt><localOccCnt>34</localOccCnt><overFlowCnt>0</overFlowCnt><qurRate>47.66</qurRate><seq>6016</seq><stdDay>2020년 11월 30일 00시</stdDay><updateDt>null</updateDt></item><item><createDt>2020-11-30 14:29:36.525</createDt><deathCnt>199</deathCnt><defCnt>7232</defCnt><gubun>대구</gubun><gubunCn>大邱</gubunCn><gubunEn>Daegu</gubunEn><incDec>4</incDec><isolClearCnt>6998</isolClearCnt><isolIngCnt>35</isolIngCnt><localOccCnt>4</localOccCnt><overFlowCnt>0</overFlowCnt><qurRate>296.82</qurRate><seq>6015</seq><stdDay>2020년 11월 30일 00시</stdDay><updateDt>null</updateDt></item><item><createDt>2020-11-30 14:29:36.525</createDt><deathCnt>16</deathCnt><defCnt>809</defCnt><gubun>부산</gubun><gubunCn>釜山</gubunCn><gubunEn>Busan</gubunEn><incDec>52</incDec><isolClearCnt>600</isolClearCnt><isolIngCnt>193</isolIngCnt><localOccCnt>52</localOccCnt><overFlowCnt>0</overFlowCnt><qurRate>23.71</qurRate><seq>6014</seq><stdDay>2020년 11월 30일 00시</stdDay><updateDt>null</updateDt></item><item><createDt>2020-11-30 14:29:36.525</createDt><deathCnt>93</deathCnt><defCnt>8811</defCnt><gubun>서울</gubun><gubunCn>首尔</gubunCn><gubunEn>Seoul</gubunEn><incDec>159</incDec><isolClearCnt>6534</isolClearCnt><isolIngCnt>2184</isolIngCnt><localOccCnt>158</localOccCnt><overFlowCnt>1</overFlowCnt><qurRate>90.52</qurRate><seq>6013</seq><stdDay>2020년 11월 30일 00시</stdDay><updateDt>null</updateDt></item><item><createDt>2020-11-30 14:29:36.525</createDt><deathCnt>526</deathCnt><defCnt>53372</defCnt><gubun>합계</gubun><gubunCn>合计</gubunCn><gubunEn>Total</gubunEn><incDec>438</incDec><isolClearCnt>27625</isolClearCnt><isolIngCnt>6050</isolIngCnt><localOccCnt>414</localOccCnt><overFlowCnt>24</overFlowCnt><qurRate>65.96</qurRate><seq>6012</seq><stdDay>2020년 11월 30일 00시</stdDay><updateDt>null</updateDt></item><item><createDt>2020-11-30 14:29:36.525</createDt><deathCnt>526</deathCnt><defCnt>34201</defCnt><gubun>합계</gubun><gubunCn>合计</gubunCn><gubunEn>Total</gubunEn><incDec>438</incDec><isolClearCnt>27625</isolClearCnt><isolIngCnt>6050</isolIngCnt><localOccCnt>414</localOccCnt><overFlowCnt>24</overFlowCnt><qurRate>65.96</qurRate><seq>6012</seq><stdDay>2020년 11월 30일 00시</stdDay><updateDt>2020-11-30 15:33:54.695</updateDt></item></items><numOfRows>10</numOfRows><pageNo>1</pageNo><totalCount>21</totalCount></body></response>'"
      ]
     },
     "metadata": {},
     "execution_count": 10
    }
   ],
   "source": [
    "result.text"
   ]
  },
  {
   "cell_type": "code",
   "execution_count": null,
   "metadata": {},
   "outputs": [],
   "source": []
  }
 ]
}