{
 "metadata": {
  "language_info": {
   "codemirror_mode": {
    "name": "ipython",
    "version": 3
   },
   "file_extension": ".py",
   "mimetype": "text/x-python",
   "name": "python",
   "nbconvert_exporter": "python",
   "pygments_lexer": "ipython3",
   "version": "3.8.5-final"
  },
  "orig_nbformat": 2,
  "kernelspec": {
   "name": "python3",
   "display_name": "Python 3"
  }
 },
 "nbformat": 4,
 "nbformat_minor": 2,
 "cells": [
  {
   "source": [
    "## 파이썬/ datetime 모듈"
   ],
   "cell_type": "markdown",
   "metadata": {}
  },
  {
   "cell_type": "code",
   "execution_count": 23,
   "metadata": {},
   "outputs": [],
   "source": [
    "from datetime import datetime, timedelta, date, timezone"
   ]
  },
  {
   "cell_type": "code",
   "execution_count": 16,
   "metadata": {},
   "outputs": [
    {
     "output_type": "execute_result",
     "data": {
      "text/plain": [
       "datetime.timedelta(days=5, seconds=63000)"
      ]
     },
     "metadata": {},
     "execution_count": 16
    }
   ],
   "source": [
    "timedelta(days=5, hours=17, minutes=30)\n",
    "# timedelta객체는 내부적으로 일,초, 마이크로 초 단위만 저장. 해당정보만 표시됨"
   ]
  },
  {
   "cell_type": "code",
   "execution_count": 17,
   "metadata": {},
   "outputs": [
    {
     "output_type": "execute_result",
     "data": {
      "text/plain": [
       "datetime.timedelta(days=7)"
      ]
     },
     "metadata": {},
     "execution_count": 17
    }
   ],
   "source": [
    "week = timedelta(weeks=1)  #오.. 7일이란걸 알고있네!?\n",
    "week"
   ]
  },
  {
   "cell_type": "code",
   "execution_count": 18,
   "metadata": {},
   "outputs": [
    {
     "output_type": "execute_result",
     "data": {
      "text/plain": [
       "datetime.date(2020, 12, 13)"
      ]
     },
     "metadata": {},
     "execution_count": 18
    }
   ],
   "source": [
    "next_week = date.today() + week\n",
    "next_week  #일주일뒤는 몇일인지 알랴줌"
   ]
  },
  {
   "cell_type": "code",
   "execution_count": 19,
   "metadata": {},
   "outputs": [
    {
     "output_type": "execute_result",
     "data": {
      "text/plain": [
       "datetime.timedelta(days=14)"
      ]
     },
     "metadata": {},
     "execution_count": 19
    }
   ],
   "source": [
    "two_weeks = week * 2\n",
    "two_weeks"
   ]
  },
  {
   "cell_type": "code",
   "execution_count": 20,
   "metadata": {},
   "outputs": [
    {
     "output_type": "execute_result",
     "data": {
      "text/plain": [
       "True"
      ]
     },
     "metadata": {},
     "execution_count": 20
    }
   ],
   "source": [
    "week < two_weeks"
   ]
  },
  {
   "cell_type": "code",
   "execution_count": 21,
   "metadata": {},
   "outputs": [
    {
     "output_type": "execute_result",
     "data": {
      "text/plain": [
       "True"
      ]
     },
     "metadata": {},
     "execution_count": 21
    }
   ],
   "source": [
    "two_weeks == timedelta(weeks=2)"
   ]
  },
  {
   "cell_type": "code",
   "execution_count": 22,
   "metadata": {},
   "outputs": [
    {
     "output_type": "execute_result",
     "data": {
      "text/plain": [
       "datetime.date(2020, 11, 29)"
      ]
     },
     "metadata": {},
     "execution_count": 22
    }
   ],
   "source": [
    "last_week = next_week - two_weeks\n",
    "last_week"
   ]
  },
  {
   "source": [
    "## timezone\n",
    "datetime 내장모듈의 timezone클래스는 시간대를 표현하기 위해 사용."
   ],
   "cell_type": "markdown",
   "metadata": {}
  },
  {
   "cell_type": "code",
   "execution_count": 24,
   "metadata": {},
   "outputs": [
    {
     "output_type": "execute_result",
     "data": {
      "text/plain": [
       "datetime.timezone(datetime.timedelta(seconds=32400))"
      ]
     },
     "metadata": {},
     "execution_count": 24
    }
   ],
   "source": [
    "#timezone클래스의 생성자는 UTC기준으로 시차를 표현하는 timedelta 객체를 인자로 받아 timezone객체를 생성해 준다.\n",
    "timezone(timedelta(hours=9))  #한국은 UTC기준으로 9시간이 빠르다고한다;  9시간은 32,400초"
   ]
  },
  {
   "cell_type": "code",
   "execution_count": 25,
   "metadata": {},
   "outputs": [
    {
     "output_type": "execute_result",
     "data": {
      "text/plain": [
       "datetime.timezone.utc"
      ]
     },
     "metadata": {},
     "execution_count": 25
    }
   ],
   "source": [
    "timezone(timedelta(0))"
   ]
  },
  {
   "cell_type": "code",
   "execution_count": 26,
   "metadata": {},
   "outputs": [
    {
     "output_type": "execute_result",
     "data": {
      "text/plain": [
       "datetime.timezone.utc"
      ]
     },
     "metadata": {},
     "execution_count": 26
    }
   ],
   "source": [
    "timezone.utc"
   ]
  },
  {
   "source": [
    "## date\n",
    "dateime내장 모듈의 date클래스는 날짜를 표현하는데 사용됨  \n",
    "date클래스의 생성자는 연,월,일 데이터를 인자로 받음"
   ],
   "cell_type": "markdown",
   "metadata": {}
  },
  {
   "cell_type": "code",
   "execution_count": 27,
   "metadata": {},
   "outputs": [],
   "source": [
    "from datetime import date"
   ]
  },
  {
   "cell_type": "code",
   "execution_count": 35,
   "metadata": {},
   "outputs": [
    {
     "output_type": "execute_result",
     "data": {
      "text/plain": [
       "datetime.date(2020, 12, 25)"
      ]
     },
     "metadata": {},
     "execution_count": 35
    }
   ],
   "source": [
    "date(2020, 12, 25)  #07은 안되네... 그냥7은 됨"
   ]
  },
  {
   "cell_type": "code",
   "execution_count": 49,
   "metadata": {},
   "outputs": [
    {
     "output_type": "execute_result",
     "data": {
      "text/plain": [
       "datetime.date(2020, 12, 7)"
      ]
     },
     "metadata": {},
     "execution_count": 49
    }
   ],
   "source": [
    "#오늘날짜\n",
    "today = date.today()\n",
    "today"
   ]
  },
  {
   "cell_type": "code",
   "execution_count": 40,
   "metadata": {},
   "outputs": [
    {
     "output_type": "execute_result",
     "data": {
      "text/plain": [
       "'2020-12-07'"
      ]
     },
     "metadata": {},
     "execution_count": 40
    }
   ],
   "source": [
    "#date클래스의 isoformat()메서드는 date객체를 YYYY-MM-DD형태의 문자열로 변환\n",
    "today.isoformat()"
   ]
  },
  {
   "cell_type": "code",
   "execution_count": 41,
   "metadata": {},
   "outputs": [
    {
     "output_type": "execute_result",
     "data": {
      "text/plain": [
       "datetime.date(2020, 7, 18)"
      ]
     },
     "metadata": {},
     "execution_count": 41
    }
   ],
   "source": [
    "#반대로 date클래스의 fromisoformat()메서드는 YYYY-MM-DD 형태의 문자열을 date객체로 변환\n",
    "date.fromisoformat('2020-07-18')"
   ]
  },
  {
   "cell_type": "code",
   "execution_count": 46,
   "metadata": {},
   "outputs": [
    {
     "output_type": "execute_result",
     "data": {
      "text/plain": [
       "2020"
      ]
     },
     "metadata": {},
     "execution_count": 46
    }
   ],
   "source": [
    "today.year"
   ]
  },
  {
   "cell_type": "code",
   "execution_count": 47,
   "metadata": {},
   "outputs": [
    {
     "output_type": "execute_result",
     "data": {
      "text/plain": [
       "12"
      ]
     },
     "metadata": {},
     "execution_count": 47
    }
   ],
   "source": [
    "today.month"
   ]
  },
  {
   "cell_type": "code",
   "execution_count": 50,
   "metadata": {},
   "outputs": [
    {
     "output_type": "execute_result",
     "data": {
      "text/plain": [
       "7"
      ]
     },
     "metadata": {},
     "execution_count": 50
    }
   ],
   "source": [
    "today.day # 왜안나오는거니??!?ㅋㅋ"
   ]
  },
  {
   "cell_type": "code",
   "execution_count": null,
   "metadata": {},
   "outputs": [],
   "source": []
  },
  {
   "cell_type": "code",
   "execution_count": null,
   "metadata": {},
   "outputs": [],
   "source": []
  },
  {
   "cell_type": "code",
   "execution_count": null,
   "metadata": {},
   "outputs": [],
   "source": []
  },
  {
   "cell_type": "code",
   "execution_count": null,
   "metadata": {},
   "outputs": [],
   "source": []
  },
  {
   "cell_type": "code",
   "execution_count": null,
   "metadata": {},
   "outputs": [],
   "source": []
  },
  {
   "cell_type": "code",
   "execution_count": 7,
   "metadata": {},
   "outputs": [
    {
     "output_type": "stream",
     "name": "stdout",
     "text": [
      "timestamp = 1607177858.255041\n"
     ]
    }
   ],
   "source": [
    "now = datetime.now()\n",
    "timestamp = datetime.timestamp(now)\n",
    "print(\"timestamp =\", timestamp)"
   ]
  },
  {
   "cell_type": "code",
   "execution_count": 8,
   "metadata": {},
   "outputs": [
    {
     "output_type": "stream",
     "name": "stdout",
     "text": [
      "dt_object =  2020-12-05 23:17:38.255041\ntype(dt_object) =  <class 'datetime.datetime'>\n"
     ]
    }
   ],
   "source": [
    "timestamp = 1607177858.255041\n",
    "dt_object = datetime.fromtimestamp(timestamp)\n",
    "print(\"dt_object = \", dt_object)\n",
    "print(\"type(dt_object) = \", type(dt_object))"
   ]
  },
  {
   "source": [
    "strftime() : datetime>날짜,시간 문자열로 만드는 메소드  \n",
    "strptime() : 날짜,시간 문자열> datetime 오브젝트를 생성하는 메소드    \n"
   ],
   "cell_type": "markdown",
   "metadata": {}
  },
  {
   "cell_type": "code",
   "execution_count": 5,
   "metadata": {},
   "outputs": [
    {
     "output_type": "stream",
     "name": "stdout",
     "text": [
      "date_string =  10 January,2020\ndate_object =  2020-01-10 00:00:00\n"
     ]
    }
   ],
   "source": [
    "date_string = \"10 January,2020\"  #날짜,시간 문자열을\n",
    "print(\"date_string = \", date_string)\n",
    "\n",
    "date_object = datetime.strptime(date_string, \"%d %B,%Y\") \n",
    "#datetime 오브젝트를 생성하는 메소드 strptime()\n",
    "print(\"date_object = \", date_object)"
   ]
  },
  {
   "cell_type": "code",
   "execution_count": null,
   "metadata": {},
   "outputs": [],
   "source": []
  }
 ]
}