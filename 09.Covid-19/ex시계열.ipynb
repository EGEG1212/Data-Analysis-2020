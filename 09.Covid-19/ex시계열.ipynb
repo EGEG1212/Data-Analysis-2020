{
 "metadata": {
  "language_info": {
   "codemirror_mode": {
    "name": "ipython",
    "version": 3
   },
   "file_extension": ".py",
   "mimetype": "text/x-python",
   "name": "python",
   "nbconvert_exporter": "python",
   "pygments_lexer": "ipython3",
   "version": "3.8.5-final"
  },
  "orig_nbformat": 2,
  "kernelspec": {
   "name": "python3",
   "display_name": "Python 3"
  }
 },
 "nbformat": 4,
 "nbformat_minor": 2,
 "cells": [
  {
   "cell_type": "code",
   "execution_count": 1,
   "metadata": {},
   "outputs": [],
   "source": [
    "from datetime import datetime"
   ]
  },
  {
   "cell_type": "code",
   "execution_count": 7,
   "metadata": {},
   "outputs": [
    {
     "output_type": "stream",
     "name": "stdout",
     "text": [
      "timestamp = 1607177858.255041\n"
     ]
    }
   ],
   "source": [
    "now = datetime.now()\n",
    "timestamp = datetime.timestamp(now)\n",
    "print(\"timestamp =\", timestamp)"
   ]
  },
  {
   "cell_type": "code",
   "execution_count": 8,
   "metadata": {},
   "outputs": [
    {
     "output_type": "stream",
     "name": "stdout",
     "text": [
      "dt_object =  2020-12-05 23:17:38.255041\ntype(dt_object) =  <class 'datetime.datetime'>\n"
     ]
    }
   ],
   "source": [
    "timestamp = 1607177858.255041\n",
    "dt_object = datetime.fromtimestamp(timestamp)\n",
    "print(\"dt_object = \", dt_object)\n",
    "print(\"type(dt_object) = \", type(dt_object))"
   ]
  },
  {
   "source": [
    "strftime() : datetime>날짜,시간 문자열로 만드는 메소드  \n",
    "strptime() : 날짜,시간 문자열> datetime 오브젝트를 생성하는 메소드    \n"
   ],
   "cell_type": "markdown",
   "metadata": {}
  },
  {
   "cell_type": "code",
   "execution_count": 5,
   "metadata": {},
   "outputs": [
    {
     "output_type": "stream",
     "name": "stdout",
     "text": [
      "date_string =  10 January,2020\ndate_object =  2020-01-10 00:00:00\n"
     ]
    }
   ],
   "source": [
    "date_string = \"10 January,2020\"  #날짜,시간 문자열을\n",
    "print(\"date_string = \", date_string)\n",
    "\n",
    "date_object = datetime.strptime(date_string, \"%d %B,%Y\") \n",
    "#datetime 오브젝트를 생성하는 메소드 strptime()\n",
    "print(\"date_object = \", date_object)"
   ]
  },
  {
   "cell_type": "code",
   "execution_count": null,
   "metadata": {},
   "outputs": [],
   "source": []
  }
 ]
}