{
 "metadata": {
  "language_info": {
   "codemirror_mode": {
    "name": "ipython",
    "version": 3
   },
   "file_extension": ".py",
   "mimetype": "text/x-python",
   "name": "python",
   "nbconvert_exporter": "python",
   "pygments_lexer": "ipython3",
   "version": "3.8.5-final"
  },
  "orig_nbformat": 2,
  "kernelspec": {
   "name": "python3",
   "display_name": "Python 3"
  }
 },
 "nbformat": 4,
 "nbformat_minor": 2,
 "cells": [
  {
   "source": [
    "## 서울시열린데이터; 서울시코로나현황   \n",
    "날짜별 지역별 접촉력 정리하기 / 서울시코로나상황정리(~2020.11.30자료)"
   ],
   "cell_type": "markdown",
   "metadata": {}
  },
  {
   "cell_type": "code",
   "execution_count": 31,
   "metadata": {},
   "outputs": [],
   "source": [
    "import numpy as np \n",
    "import pandas as pd \n",
    "import seaborn as sns \n",
    "import matplotlib as mpl \n",
    "import matplotlib.pyplot as plt \n",
    "%matplotlib inline\n",
    "# 한글폰트 사용\n",
    "mpl.rc('font', family='Malgun Gothic')\n",
    "mpl.rc('axes', unicode_minus=False)"
   ]
  },
  {
   "cell_type": "code",
   "execution_count": 32,
   "metadata": {},
   "outputs": [
    {
     "output_type": "execute_result",
     "data": {
      "text/plain": [
       "     연번     확진일  환자번호  국적  환자정보    지역  여행력         접촉력  조치사항   상태 이동경로  \\\n",
       "0  8966  11.30.   NaN NaN   NaN   강북구  NaN    감염경로 조사중   NaN  NaN  NaN   \n",
       "1  8965  11.30.   NaN NaN   NaN   타시도  NaN   기타 확진자 접촉   NaN  NaN  NaN   \n",
       "2  8964  11.30.   NaN NaN   NaN   타시도  NaN    감염경로 조사중   NaN  NaN  NaN   \n",
       "3  8963  11.30.   NaN NaN   NaN  영등포구  NaN  서초구 사우나 관련   NaN  NaN  NaN   \n",
       "4  8962  11.30.   NaN NaN   NaN  영등포구  NaN    감염경로 조사중   NaN  NaN  NaN   \n",
       "\n",
       "                   등록일                  수정일 노출여부  \n",
       "0  2020-12-01 15:37:10  2020-12-01 15:37:10    Y  \n",
       "1  2020-12-01 15:37:10  2020-12-01 15:37:10    Y  \n",
       "2  2020-12-01 15:37:10  2020-12-01 15:37:10    Y  \n",
       "3  2020-12-01 15:37:10  2020-12-01 15:37:10    Y  \n",
       "4  2020-12-01 15:37:10  2020-12-01 15:37:10    Y  "
      ],
      "text/html": "<div>\n<style scoped>\n    .dataframe tbody tr th:only-of-type {\n        vertical-align: middle;\n    }\n\n    .dataframe tbody tr th {\n        vertical-align: top;\n    }\n\n    .dataframe thead th {\n        text-align: right;\n    }\n</style>\n<table border=\"1\" class=\"dataframe\">\n  <thead>\n    <tr style=\"text-align: right;\">\n      <th></th>\n      <th>연번</th>\n      <th>확진일</th>\n      <th>환자번호</th>\n      <th>국적</th>\n      <th>환자정보</th>\n      <th>지역</th>\n      <th>여행력</th>\n      <th>접촉력</th>\n      <th>조치사항</th>\n      <th>상태</th>\n      <th>이동경로</th>\n      <th>등록일</th>\n      <th>수정일</th>\n      <th>노출여부</th>\n    </tr>\n  </thead>\n  <tbody>\n    <tr>\n      <th>0</th>\n      <td>8966</td>\n      <td>11.30.</td>\n      <td>NaN</td>\n      <td>NaN</td>\n      <td>NaN</td>\n      <td>강북구</td>\n      <td>NaN</td>\n      <td>감염경로 조사중</td>\n      <td>NaN</td>\n      <td>NaN</td>\n      <td>NaN</td>\n      <td>2020-12-01 15:37:10</td>\n      <td>2020-12-01 15:37:10</td>\n      <td>Y</td>\n    </tr>\n    <tr>\n      <th>1</th>\n      <td>8965</td>\n      <td>11.30.</td>\n      <td>NaN</td>\n      <td>NaN</td>\n      <td>NaN</td>\n      <td>타시도</td>\n      <td>NaN</td>\n      <td>기타 확진자 접촉</td>\n      <td>NaN</td>\n      <td>NaN</td>\n      <td>NaN</td>\n      <td>2020-12-01 15:37:10</td>\n      <td>2020-12-01 15:37:10</td>\n      <td>Y</td>\n    </tr>\n    <tr>\n      <th>2</th>\n      <td>8964</td>\n      <td>11.30.</td>\n      <td>NaN</td>\n      <td>NaN</td>\n      <td>NaN</td>\n      <td>타시도</td>\n      <td>NaN</td>\n      <td>감염경로 조사중</td>\n      <td>NaN</td>\n      <td>NaN</td>\n      <td>NaN</td>\n      <td>2020-12-01 15:37:10</td>\n      <td>2020-12-01 15:37:10</td>\n      <td>Y</td>\n    </tr>\n    <tr>\n      <th>3</th>\n      <td>8963</td>\n      <td>11.30.</td>\n      <td>NaN</td>\n      <td>NaN</td>\n      <td>NaN</td>\n      <td>영등포구</td>\n      <td>NaN</td>\n      <td>서초구 사우나 관련</td>\n      <td>NaN</td>\n      <td>NaN</td>\n      <td>NaN</td>\n      <td>2020-12-01 15:37:10</td>\n      <td>2020-12-01 15:37:10</td>\n      <td>Y</td>\n    </tr>\n    <tr>\n      <th>4</th>\n      <td>8962</td>\n      <td>11.30.</td>\n      <td>NaN</td>\n      <td>NaN</td>\n      <td>NaN</td>\n      <td>영등포구</td>\n      <td>NaN</td>\n      <td>감염경로 조사중</td>\n      <td>NaN</td>\n      <td>NaN</td>\n      <td>NaN</td>\n      <td>2020-12-01 15:37:10</td>\n      <td>2020-12-01 15:37:10</td>\n      <td>Y</td>\n    </tr>\n  </tbody>\n</table>\n</div>"
     },
     "metadata": {},
     "execution_count": 32
    }
   ],
   "source": [
    "df = pd.read_csv('./data/서울시 코로나19 확진자 현황.csv', encoding='euc-kr')\n",
    "df.head()"
   ]
  },
  {
   "cell_type": "code",
   "execution_count": 33,
   "metadata": {},
   "outputs": [
    {
     "output_type": "execute_result",
     "data": {
      "text/plain": [
       "8966"
      ]
     },
     "metadata": {},
     "execution_count": 33
    }
   ],
   "source": [
    "len(df['지역'].notnull())  #8966개"
   ]
  },
  {
   "cell_type": "code",
   "execution_count": 34,
   "metadata": {},
   "outputs": [],
   "source": [
    "df.rename({'지역':'시군구'}, inplace=True, axis=1) "
   ]
  },
  {
   "cell_type": "code",
   "execution_count": 35,
   "metadata": {},
   "outputs": [],
   "source": [
    "del df['환자번호'] \n",
    "del df['국적'] \n",
    "del df['환자정보'] \n",
    "del df['조치사항'] \n",
    "del df['이동경로'] "
   ]
  },
  {
   "cell_type": "code",
   "execution_count": 38,
   "metadata": {},
   "outputs": [
    {
     "output_type": "error",
     "ename": "DataError",
     "evalue": "No numeric types to aggregate",
     "traceback": [
      "\u001b[1;31m---------------------------------------------------------------------------\u001b[0m",
      "\u001b[1;31mDataError\u001b[0m                                 Traceback (most recent call last)",
      "\u001b[1;32m<ipython-input-38-be8380289d10>\u001b[0m in \u001b[0;36m<module>\u001b[1;34m\u001b[0m\n\u001b[1;32m----> 1\u001b[1;33m pop = pd.pivot_table(df, \n\u001b[0m\u001b[0;32m      2\u001b[0m                      \u001b[0mcolumns\u001b[0m\u001b[1;33m=\u001b[0m\u001b[1;33m[\u001b[0m\u001b[1;34m'확진일'\u001b[0m\u001b[1;33m]\u001b[0m\u001b[1;33m,\u001b[0m\u001b[1;33m\u001b[0m\u001b[1;33m\u001b[0m\u001b[0m\n\u001b[0;32m      3\u001b[0m                      values=['여행력', '상태'])\n\u001b[0;32m      4\u001b[0m \u001b[0mpop\u001b[0m\u001b[1;33m.\u001b[0m\u001b[0mhead\u001b[0m\u001b[1;33m(\u001b[0m\u001b[1;33m)\u001b[0m\u001b[1;33m\u001b[0m\u001b[1;33m\u001b[0m\u001b[0m\n",
      "\u001b[1;32mC:\\ProgramData\\Anaconda3\\lib\\site-packages\\pandas\\core\\reshape\\pivot.py\u001b[0m in \u001b[0;36mpivot_table\u001b[1;34m(data, values, index, columns, aggfunc, fill_value, margins, dropna, margins_name, observed)\u001b[0m\n\u001b[0;32m    110\u001b[0m \u001b[1;33m\u001b[0m\u001b[0m\n\u001b[0;32m    111\u001b[0m     \u001b[0mgrouped\u001b[0m \u001b[1;33m=\u001b[0m \u001b[0mdata\u001b[0m\u001b[1;33m.\u001b[0m\u001b[0mgroupby\u001b[0m\u001b[1;33m(\u001b[0m\u001b[0mkeys\u001b[0m\u001b[1;33m,\u001b[0m \u001b[0mobserved\u001b[0m\u001b[1;33m=\u001b[0m\u001b[0mobserved\u001b[0m\u001b[1;33m)\u001b[0m\u001b[1;33m\u001b[0m\u001b[1;33m\u001b[0m\u001b[0m\n\u001b[1;32m--> 112\u001b[1;33m     \u001b[0magged\u001b[0m \u001b[1;33m=\u001b[0m \u001b[0mgrouped\u001b[0m\u001b[1;33m.\u001b[0m\u001b[0magg\u001b[0m\u001b[1;33m(\u001b[0m\u001b[0maggfunc\u001b[0m\u001b[1;33m)\u001b[0m\u001b[1;33m\u001b[0m\u001b[1;33m\u001b[0m\u001b[0m\n\u001b[0m\u001b[0;32m    113\u001b[0m     \u001b[1;32mif\u001b[0m \u001b[0mdropna\u001b[0m \u001b[1;32mand\u001b[0m \u001b[0misinstance\u001b[0m\u001b[1;33m(\u001b[0m\u001b[0magged\u001b[0m\u001b[1;33m,\u001b[0m \u001b[0mABCDataFrame\u001b[0m\u001b[1;33m)\u001b[0m \u001b[1;32mand\u001b[0m \u001b[0mlen\u001b[0m\u001b[1;33m(\u001b[0m\u001b[0magged\u001b[0m\u001b[1;33m.\u001b[0m\u001b[0mcolumns\u001b[0m\u001b[1;33m)\u001b[0m\u001b[1;33m:\u001b[0m\u001b[1;33m\u001b[0m\u001b[1;33m\u001b[0m\u001b[0m\n\u001b[0;32m    114\u001b[0m         \u001b[0magged\u001b[0m \u001b[1;33m=\u001b[0m \u001b[0magged\u001b[0m\u001b[1;33m.\u001b[0m\u001b[0mdropna\u001b[0m\u001b[1;33m(\u001b[0m\u001b[0mhow\u001b[0m\u001b[1;33m=\u001b[0m\u001b[1;34m\"all\"\u001b[0m\u001b[1;33m)\u001b[0m\u001b[1;33m\u001b[0m\u001b[1;33m\u001b[0m\u001b[0m\n",
      "\u001b[1;32mC:\\ProgramData\\Anaconda3\\lib\\site-packages\\pandas\\core\\groupby\\generic.py\u001b[0m in \u001b[0;36maggregate\u001b[1;34m(self, func, engine, engine_kwargs, *args, **kwargs)\u001b[0m\n\u001b[0;32m    949\u001b[0m         \u001b[0mfunc\u001b[0m \u001b[1;33m=\u001b[0m \u001b[0mmaybe_mangle_lambdas\u001b[0m\u001b[1;33m(\u001b[0m\u001b[0mfunc\u001b[0m\u001b[1;33m)\u001b[0m\u001b[1;33m\u001b[0m\u001b[1;33m\u001b[0m\u001b[0m\n\u001b[0;32m    950\u001b[0m \u001b[1;33m\u001b[0m\u001b[0m\n\u001b[1;32m--> 951\u001b[1;33m         \u001b[0mresult\u001b[0m\u001b[1;33m,\u001b[0m \u001b[0mhow\u001b[0m \u001b[1;33m=\u001b[0m \u001b[0mself\u001b[0m\u001b[1;33m.\u001b[0m\u001b[0m_aggregate\u001b[0m\u001b[1;33m(\u001b[0m\u001b[0mfunc\u001b[0m\u001b[1;33m,\u001b[0m \u001b[1;33m*\u001b[0m\u001b[0margs\u001b[0m\u001b[1;33m,\u001b[0m \u001b[1;33m**\u001b[0m\u001b[0mkwargs\u001b[0m\u001b[1;33m)\u001b[0m\u001b[1;33m\u001b[0m\u001b[1;33m\u001b[0m\u001b[0m\n\u001b[0m\u001b[0;32m    952\u001b[0m         \u001b[1;32mif\u001b[0m \u001b[0mhow\u001b[0m \u001b[1;32mis\u001b[0m \u001b[1;32mNone\u001b[0m\u001b[1;33m:\u001b[0m\u001b[1;33m\u001b[0m\u001b[1;33m\u001b[0m\u001b[0m\n\u001b[0;32m    953\u001b[0m             \u001b[1;32mreturn\u001b[0m \u001b[0mresult\u001b[0m\u001b[1;33m\u001b[0m\u001b[1;33m\u001b[0m\u001b[0m\n",
      "\u001b[1;32mC:\\ProgramData\\Anaconda3\\lib\\site-packages\\pandas\\core\\base.py\u001b[0m in \u001b[0;36m_aggregate\u001b[1;34m(self, arg, *args, **kwargs)\u001b[0m\n\u001b[0;32m    305\u001b[0m \u001b[1;33m\u001b[0m\u001b[0m\n\u001b[0;32m    306\u001b[0m         \u001b[1;32mif\u001b[0m \u001b[0misinstance\u001b[0m\u001b[1;33m(\u001b[0m\u001b[0marg\u001b[0m\u001b[1;33m,\u001b[0m \u001b[0mstr\u001b[0m\u001b[1;33m)\u001b[0m\u001b[1;33m:\u001b[0m\u001b[1;33m\u001b[0m\u001b[1;33m\u001b[0m\u001b[0m\n\u001b[1;32m--> 307\u001b[1;33m             \u001b[1;32mreturn\u001b[0m \u001b[0mself\u001b[0m\u001b[1;33m.\u001b[0m\u001b[0m_try_aggregate_string_function\u001b[0m\u001b[1;33m(\u001b[0m\u001b[0marg\u001b[0m\u001b[1;33m,\u001b[0m \u001b[1;33m*\u001b[0m\u001b[0margs\u001b[0m\u001b[1;33m,\u001b[0m \u001b[1;33m**\u001b[0m\u001b[0mkwargs\u001b[0m\u001b[1;33m)\u001b[0m\u001b[1;33m,\u001b[0m \u001b[1;32mNone\u001b[0m\u001b[1;33m\u001b[0m\u001b[1;33m\u001b[0m\u001b[0m\n\u001b[0m\u001b[0;32m    308\u001b[0m \u001b[1;33m\u001b[0m\u001b[0m\n\u001b[0;32m    309\u001b[0m         \u001b[1;32mif\u001b[0m \u001b[0misinstance\u001b[0m\u001b[1;33m(\u001b[0m\u001b[0marg\u001b[0m\u001b[1;33m,\u001b[0m \u001b[0mdict\u001b[0m\u001b[1;33m)\u001b[0m\u001b[1;33m:\u001b[0m\u001b[1;33m\u001b[0m\u001b[1;33m\u001b[0m\u001b[0m\n",
      "\u001b[1;32mC:\\ProgramData\\Anaconda3\\lib\\site-packages\\pandas\\core\\base.py\u001b[0m in \u001b[0;36m_try_aggregate_string_function\u001b[1;34m(self, arg, *args, **kwargs)\u001b[0m\n\u001b[0;32m    261\u001b[0m         \u001b[1;32mif\u001b[0m \u001b[0mf\u001b[0m \u001b[1;32mis\u001b[0m \u001b[1;32mnot\u001b[0m \u001b[1;32mNone\u001b[0m\u001b[1;33m:\u001b[0m\u001b[1;33m\u001b[0m\u001b[1;33m\u001b[0m\u001b[0m\n\u001b[0;32m    262\u001b[0m             \u001b[1;32mif\u001b[0m \u001b[0mcallable\u001b[0m\u001b[1;33m(\u001b[0m\u001b[0mf\u001b[0m\u001b[1;33m)\u001b[0m\u001b[1;33m:\u001b[0m\u001b[1;33m\u001b[0m\u001b[1;33m\u001b[0m\u001b[0m\n\u001b[1;32m--> 263\u001b[1;33m                 \u001b[1;32mreturn\u001b[0m \u001b[0mf\u001b[0m\u001b[1;33m(\u001b[0m\u001b[1;33m*\u001b[0m\u001b[0margs\u001b[0m\u001b[1;33m,\u001b[0m \u001b[1;33m**\u001b[0m\u001b[0mkwargs\u001b[0m\u001b[1;33m)\u001b[0m\u001b[1;33m\u001b[0m\u001b[1;33m\u001b[0m\u001b[0m\n\u001b[0m\u001b[0;32m    264\u001b[0m \u001b[1;33m\u001b[0m\u001b[0m\n\u001b[0;32m    265\u001b[0m             \u001b[1;31m# people may try to aggregate on a non-callable attribute\u001b[0m\u001b[1;33m\u001b[0m\u001b[1;33m\u001b[0m\u001b[1;33m\u001b[0m\u001b[0m\n",
      "\u001b[1;32mC:\\ProgramData\\Anaconda3\\lib\\site-packages\\pandas\\core\\groupby\\groupby.py\u001b[0m in \u001b[0;36mmean\u001b[1;34m(self, numeric_only)\u001b[0m\n\u001b[0;32m   1391\u001b[0m         \u001b[0mName\u001b[0m\u001b[1;33m:\u001b[0m \u001b[0mB\u001b[0m\u001b[1;33m,\u001b[0m \u001b[0mdtype\u001b[0m\u001b[1;33m:\u001b[0m \u001b[0mfloat64\u001b[0m\u001b[1;33m\u001b[0m\u001b[1;33m\u001b[0m\u001b[0m\n\u001b[0;32m   1392\u001b[0m         \"\"\"\n\u001b[1;32m-> 1393\u001b[1;33m         return self._cython_agg_general(\n\u001b[0m\u001b[0;32m   1394\u001b[0m             \u001b[1;34m\"mean\"\u001b[0m\u001b[1;33m,\u001b[0m\u001b[1;33m\u001b[0m\u001b[1;33m\u001b[0m\u001b[0m\n\u001b[0;32m   1395\u001b[0m             \u001b[0malt\u001b[0m\u001b[1;33m=\u001b[0m\u001b[1;32mlambda\u001b[0m \u001b[0mx\u001b[0m\u001b[1;33m,\u001b[0m \u001b[0maxis\u001b[0m\u001b[1;33m:\u001b[0m \u001b[0mSeries\u001b[0m\u001b[1;33m(\u001b[0m\u001b[0mx\u001b[0m\u001b[1;33m)\u001b[0m\u001b[1;33m.\u001b[0m\u001b[0mmean\u001b[0m\u001b[1;33m(\u001b[0m\u001b[0mnumeric_only\u001b[0m\u001b[1;33m=\u001b[0m\u001b[0mnumeric_only\u001b[0m\u001b[1;33m)\u001b[0m\u001b[1;33m,\u001b[0m\u001b[1;33m\u001b[0m\u001b[1;33m\u001b[0m\u001b[0m\n",
      "\u001b[1;32mC:\\ProgramData\\Anaconda3\\lib\\site-packages\\pandas\\core\\groupby\\generic.py\u001b[0m in \u001b[0;36m_cython_agg_general\u001b[1;34m(self, how, alt, numeric_only, min_count)\u001b[0m\n\u001b[0;32m   1019\u001b[0m         \u001b[0mself\u001b[0m\u001b[1;33m,\u001b[0m \u001b[0mhow\u001b[0m\u001b[1;33m:\u001b[0m \u001b[0mstr\u001b[0m\u001b[1;33m,\u001b[0m \u001b[0malt\u001b[0m\u001b[1;33m=\u001b[0m\u001b[1;32mNone\u001b[0m\u001b[1;33m,\u001b[0m \u001b[0mnumeric_only\u001b[0m\u001b[1;33m:\u001b[0m \u001b[0mbool\u001b[0m \u001b[1;33m=\u001b[0m \u001b[1;32mTrue\u001b[0m\u001b[1;33m,\u001b[0m \u001b[0mmin_count\u001b[0m\u001b[1;33m:\u001b[0m \u001b[0mint\u001b[0m \u001b[1;33m=\u001b[0m \u001b[1;33m-\u001b[0m\u001b[1;36m1\u001b[0m\u001b[1;33m\u001b[0m\u001b[1;33m\u001b[0m\u001b[0m\n\u001b[0;32m   1020\u001b[0m     ) -> DataFrame:\n\u001b[1;32m-> 1021\u001b[1;33m         agg_blocks, agg_items = self._cython_agg_blocks(\n\u001b[0m\u001b[0;32m   1022\u001b[0m             \u001b[0mhow\u001b[0m\u001b[1;33m,\u001b[0m \u001b[0malt\u001b[0m\u001b[1;33m=\u001b[0m\u001b[0malt\u001b[0m\u001b[1;33m,\u001b[0m \u001b[0mnumeric_only\u001b[0m\u001b[1;33m=\u001b[0m\u001b[0mnumeric_only\u001b[0m\u001b[1;33m,\u001b[0m \u001b[0mmin_count\u001b[0m\u001b[1;33m=\u001b[0m\u001b[0mmin_count\u001b[0m\u001b[1;33m\u001b[0m\u001b[1;33m\u001b[0m\u001b[0m\n\u001b[0;32m   1023\u001b[0m         )\n",
      "\u001b[1;32mC:\\ProgramData\\Anaconda3\\lib\\site-packages\\pandas\\core\\groupby\\generic.py\u001b[0m in \u001b[0;36m_cython_agg_blocks\u001b[1;34m(self, how, alt, numeric_only, min_count)\u001b[0m\n\u001b[0;32m   1128\u001b[0m \u001b[1;33m\u001b[0m\u001b[0m\n\u001b[0;32m   1129\u001b[0m         \u001b[1;32mif\u001b[0m \u001b[1;32mnot\u001b[0m \u001b[1;33m(\u001b[0m\u001b[0magg_blocks\u001b[0m \u001b[1;32mor\u001b[0m \u001b[0msplit_frames\u001b[0m\u001b[1;33m)\u001b[0m\u001b[1;33m:\u001b[0m\u001b[1;33m\u001b[0m\u001b[1;33m\u001b[0m\u001b[0m\n\u001b[1;32m-> 1130\u001b[1;33m             \u001b[1;32mraise\u001b[0m \u001b[0mDataError\u001b[0m\u001b[1;33m(\u001b[0m\u001b[1;34m\"No numeric types to aggregate\"\u001b[0m\u001b[1;33m)\u001b[0m\u001b[1;33m\u001b[0m\u001b[1;33m\u001b[0m\u001b[0m\n\u001b[0m\u001b[0;32m   1131\u001b[0m \u001b[1;33m\u001b[0m\u001b[0m\n\u001b[0;32m   1132\u001b[0m         \u001b[1;32mif\u001b[0m \u001b[0msplit_items\u001b[0m\u001b[1;33m:\u001b[0m\u001b[1;33m\u001b[0m\u001b[1;33m\u001b[0m\u001b[0m\n",
      "\u001b[1;31mDataError\u001b[0m: No numeric types to aggregate"
     ]
    }
   ],
   "source": [
    "pop = pd.pivot_table(df, \n",
    "                     columns=['확진일'],\n",
    "                     values=['여행력', '상태'])\n",
    "pop.head()"
   ]
  },
  {
   "cell_type": "code",
   "execution_count": null,
   "metadata": {},
   "outputs": [],
   "source": []
  },
  {
   "cell_type": "code",
   "execution_count": null,
   "metadata": {},
   "outputs": [],
   "source": []
  },
  {
   "cell_type": "code",
   "execution_count": null,
   "metadata": {},
   "outputs": [],
   "source": []
  },
  {
   "cell_type": "code",
   "execution_count": 8,
   "metadata": {},
   "outputs": [
    {
     "output_type": "execute_result",
     "data": {
      "text/plain": [
       "  광역시도  시군구  20~39세계  20~39세여자  65세이상계    인구수계   인구수남자   인구수여자      소멸비율  \\\n",
       "0   강원  강릉시    46008     20993   40497  203057  101154  101903  1.036768   \n",
       "1   강원  고성군     4006      1699    7005   23621   11933   11688  0.485082   \n",
       "2   강원  동해시    16311      7510   16152   83888   42093   41795  0.929916   \n",
       "3   강원  삼척시    12428      5280   14953   61833   31630   30203  0.706213   \n",
       "4   강원  속초시    15928      7411   14010   76302   37488   38814  1.057959   \n",
       "\n",
       "   소멸위기지역      ID  y   x       여성비   2030여성비  \n",
       "0       0      강릉  3  11  0.184431 -4.370979  \n",
       "1       1  고성(강원)  0  10 -0.518606 -7.588617  \n",
       "2       1      동해  4  11 -0.177618 -3.957452  \n",
       "3       1      삼척  5  11 -1.153915 -7.515288  \n",
       "4       0      속초  1  10  0.868916 -3.471873  "
      ],
      "text/html": "<div>\n<style scoped>\n    .dataframe tbody tr th:only-of-type {\n        vertical-align: middle;\n    }\n\n    .dataframe tbody tr th {\n        vertical-align: top;\n    }\n\n    .dataframe thead th {\n        text-align: right;\n    }\n</style>\n<table border=\"1\" class=\"dataframe\">\n  <thead>\n    <tr style=\"text-align: right;\">\n      <th></th>\n      <th>광역시도</th>\n      <th>시군구</th>\n      <th>20~39세계</th>\n      <th>20~39세여자</th>\n      <th>65세이상계</th>\n      <th>인구수계</th>\n      <th>인구수남자</th>\n      <th>인구수여자</th>\n      <th>소멸비율</th>\n      <th>소멸위기지역</th>\n      <th>ID</th>\n      <th>y</th>\n      <th>x</th>\n      <th>여성비</th>\n      <th>2030여성비</th>\n    </tr>\n  </thead>\n  <tbody>\n    <tr>\n      <th>0</th>\n      <td>강원</td>\n      <td>강릉시</td>\n      <td>46008</td>\n      <td>20993</td>\n      <td>40497</td>\n      <td>203057</td>\n      <td>101154</td>\n      <td>101903</td>\n      <td>1.036768</td>\n      <td>0</td>\n      <td>강릉</td>\n      <td>3</td>\n      <td>11</td>\n      <td>0.184431</td>\n      <td>-4.370979</td>\n    </tr>\n    <tr>\n      <th>1</th>\n      <td>강원</td>\n      <td>고성군</td>\n      <td>4006</td>\n      <td>1699</td>\n      <td>7005</td>\n      <td>23621</td>\n      <td>11933</td>\n      <td>11688</td>\n      <td>0.485082</td>\n      <td>1</td>\n      <td>고성(강원)</td>\n      <td>0</td>\n      <td>10</td>\n      <td>-0.518606</td>\n      <td>-7.588617</td>\n    </tr>\n    <tr>\n      <th>2</th>\n      <td>강원</td>\n      <td>동해시</td>\n      <td>16311</td>\n      <td>7510</td>\n      <td>16152</td>\n      <td>83888</td>\n      <td>42093</td>\n      <td>41795</td>\n      <td>0.929916</td>\n      <td>1</td>\n      <td>동해</td>\n      <td>4</td>\n      <td>11</td>\n      <td>-0.177618</td>\n      <td>-3.957452</td>\n    </tr>\n    <tr>\n      <th>3</th>\n      <td>강원</td>\n      <td>삼척시</td>\n      <td>12428</td>\n      <td>5280</td>\n      <td>14953</td>\n      <td>61833</td>\n      <td>31630</td>\n      <td>30203</td>\n      <td>0.706213</td>\n      <td>1</td>\n      <td>삼척</td>\n      <td>5</td>\n      <td>11</td>\n      <td>-1.153915</td>\n      <td>-7.515288</td>\n    </tr>\n    <tr>\n      <th>4</th>\n      <td>강원</td>\n      <td>속초시</td>\n      <td>15928</td>\n      <td>7411</td>\n      <td>14010</td>\n      <td>76302</td>\n      <td>37488</td>\n      <td>38814</td>\n      <td>1.057959</td>\n      <td>0</td>\n      <td>속초</td>\n      <td>1</td>\n      <td>10</td>\n      <td>0.868916</td>\n      <td>-3.471873</td>\n    </tr>\n  </tbody>\n</table>\n</div>"
     },
     "metadata": {},
     "execution_count": 8
    }
   ],
   "source": [
    "pop = pd.read_csv('../08.Cartogram/results/03.pop.csv', index_col = 0)\n",
    "pop.head()"
   ]
  },
  {
   "cell_type": "code",
   "execution_count": 10,
   "metadata": {},
   "outputs": [
    {
     "output_type": "execute_result",
     "data": {
      "text/plain": [
       "   시군구    인구수계      ID  y   x\n",
       "0  강릉시  203057      강릉  3  11\n",
       "1  고성군   23621  고성(강원)  0  10\n",
       "2  동해시   83888      동해  4  11\n",
       "3  삼척시   61833      삼척  5  11\n",
       "4  속초시   76302      속초  1  10"
      ],
      "text/html": "<div>\n<style scoped>\n    .dataframe tbody tr th:only-of-type {\n        vertical-align: middle;\n    }\n\n    .dataframe tbody tr th {\n        vertical-align: top;\n    }\n\n    .dataframe thead th {\n        text-align: right;\n    }\n</style>\n<table border=\"1\" class=\"dataframe\">\n  <thead>\n    <tr style=\"text-align: right;\">\n      <th></th>\n      <th>시군구</th>\n      <th>인구수계</th>\n      <th>ID</th>\n      <th>y</th>\n      <th>x</th>\n    </tr>\n  </thead>\n  <tbody>\n    <tr>\n      <th>0</th>\n      <td>강릉시</td>\n      <td>203057</td>\n      <td>강릉</td>\n      <td>3</td>\n      <td>11</td>\n    </tr>\n    <tr>\n      <th>1</th>\n      <td>고성군</td>\n      <td>23621</td>\n      <td>고성(강원)</td>\n      <td>0</td>\n      <td>10</td>\n    </tr>\n    <tr>\n      <th>2</th>\n      <td>동해시</td>\n      <td>83888</td>\n      <td>동해</td>\n      <td>4</td>\n      <td>11</td>\n    </tr>\n    <tr>\n      <th>3</th>\n      <td>삼척시</td>\n      <td>61833</td>\n      <td>삼척</td>\n      <td>5</td>\n      <td>11</td>\n    </tr>\n    <tr>\n      <th>4</th>\n      <td>속초시</td>\n      <td>76302</td>\n      <td>속초</td>\n      <td>1</td>\n      <td>10</td>\n    </tr>\n  </tbody>\n</table>\n</div>"
     },
     "metadata": {},
     "execution_count": 10
    }
   ],
   "source": [
    "pop = pop[['시군구', '인구수계','ID', 'y', 'x']]\n",
    "pop.head()"
   ]
  },
  {
   "cell_type": "code",
   "execution_count": 12,
   "metadata": {},
   "outputs": [
    {
     "output_type": "execute_result",
     "data": {
      "text/plain": [
       "     연번     확진일  환자번호   국적  환자정보   시군구 여행력         접촉력  조치사항 상태 이동경로  \\\n",
       "0  8966  11.30.   0.0  0.0   0.0   강북구   0    감염경로 조사중   0.0  0    0   \n",
       "1  8965  11.30.   0.0  0.0   0.0   타시도   0   기타 확진자 접촉   0.0  0    0   \n",
       "2  8964  11.30.   0.0  0.0   0.0   타시도   0    감염경로 조사중   0.0  0    0   \n",
       "3  8963  11.30.   0.0  0.0   0.0  영등포구   0  서초구 사우나 관련   0.0  0    0   \n",
       "4  8962  11.30.   0.0  0.0   0.0  영등포구   0    감염경로 조사중   0.0  0    0   \n",
       "\n",
       "                   등록일                  수정일 노출여부      인구수계      ID    y    x  \n",
       "0  2020-12-01 15:37:10  2020-12-01 15:37:10    Y  294143.0   서울 강북  3.0  5.0  \n",
       "1  2020-12-01 15:37:10  2020-12-01 15:37:10    Y       0.0       0  0.0  0.0  \n",
       "2  2020-12-01 15:37:10  2020-12-01 15:37:10    Y       0.0       0  0.0  0.0  \n",
       "3  2020-12-01 15:37:10  2020-12-01 15:37:10    Y  341509.0  서울 영등포  8.0  4.0  \n",
       "4  2020-12-01 15:37:10  2020-12-01 15:37:10    Y  341509.0  서울 영등포  8.0  4.0  "
      ],
      "text/html": "<div>\n<style scoped>\n    .dataframe tbody tr th:only-of-type {\n        vertical-align: middle;\n    }\n\n    .dataframe tbody tr th {\n        vertical-align: top;\n    }\n\n    .dataframe thead th {\n        text-align: right;\n    }\n</style>\n<table border=\"1\" class=\"dataframe\">\n  <thead>\n    <tr style=\"text-align: right;\">\n      <th></th>\n      <th>연번</th>\n      <th>확진일</th>\n      <th>환자번호</th>\n      <th>국적</th>\n      <th>환자정보</th>\n      <th>시군구</th>\n      <th>여행력</th>\n      <th>접촉력</th>\n      <th>조치사항</th>\n      <th>상태</th>\n      <th>이동경로</th>\n      <th>등록일</th>\n      <th>수정일</th>\n      <th>노출여부</th>\n      <th>인구수계</th>\n      <th>ID</th>\n      <th>y</th>\n      <th>x</th>\n    </tr>\n  </thead>\n  <tbody>\n    <tr>\n      <th>0</th>\n      <td>8966</td>\n      <td>11.30.</td>\n      <td>0.0</td>\n      <td>0.0</td>\n      <td>0.0</td>\n      <td>강북구</td>\n      <td>0</td>\n      <td>감염경로 조사중</td>\n      <td>0.0</td>\n      <td>0</td>\n      <td>0</td>\n      <td>2020-12-01 15:37:10</td>\n      <td>2020-12-01 15:37:10</td>\n      <td>Y</td>\n      <td>294143.0</td>\n      <td>서울 강북</td>\n      <td>3.0</td>\n      <td>5.0</td>\n    </tr>\n    <tr>\n      <th>1</th>\n      <td>8965</td>\n      <td>11.30.</td>\n      <td>0.0</td>\n      <td>0.0</td>\n      <td>0.0</td>\n      <td>타시도</td>\n      <td>0</td>\n      <td>기타 확진자 접촉</td>\n      <td>0.0</td>\n      <td>0</td>\n      <td>0</td>\n      <td>2020-12-01 15:37:10</td>\n      <td>2020-12-01 15:37:10</td>\n      <td>Y</td>\n      <td>0.0</td>\n      <td>0</td>\n      <td>0.0</td>\n      <td>0.0</td>\n    </tr>\n    <tr>\n      <th>2</th>\n      <td>8964</td>\n      <td>11.30.</td>\n      <td>0.0</td>\n      <td>0.0</td>\n      <td>0.0</td>\n      <td>타시도</td>\n      <td>0</td>\n      <td>감염경로 조사중</td>\n      <td>0.0</td>\n      <td>0</td>\n      <td>0</td>\n      <td>2020-12-01 15:37:10</td>\n      <td>2020-12-01 15:37:10</td>\n      <td>Y</td>\n      <td>0.0</td>\n      <td>0</td>\n      <td>0.0</td>\n      <td>0.0</td>\n    </tr>\n    <tr>\n      <th>3</th>\n      <td>8963</td>\n      <td>11.30.</td>\n      <td>0.0</td>\n      <td>0.0</td>\n      <td>0.0</td>\n      <td>영등포구</td>\n      <td>0</td>\n      <td>서초구 사우나 관련</td>\n      <td>0.0</td>\n      <td>0</td>\n      <td>0</td>\n      <td>2020-12-01 15:37:10</td>\n      <td>2020-12-01 15:37:10</td>\n      <td>Y</td>\n      <td>341509.0</td>\n      <td>서울 영등포</td>\n      <td>8.0</td>\n      <td>4.0</td>\n    </tr>\n    <tr>\n      <th>4</th>\n      <td>8962</td>\n      <td>11.30.</td>\n      <td>0.0</td>\n      <td>0.0</td>\n      <td>0.0</td>\n      <td>영등포구</td>\n      <td>0</td>\n      <td>감염경로 조사중</td>\n      <td>0.0</td>\n      <td>0</td>\n      <td>0</td>\n      <td>2020-12-01 15:37:10</td>\n      <td>2020-12-01 15:37:10</td>\n      <td>Y</td>\n      <td>341509.0</td>\n      <td>서울 영등포</td>\n      <td>8.0</td>\n      <td>4.0</td>\n    </tr>\n  </tbody>\n</table>\n</div>"
     },
     "metadata": {},
     "execution_count": 12
    }
   ],
   "source": [
    "seoulcovid = pd.merge(df, pop, how='left', on='시군구')\n",
    "seoulcovid = seoulcovid.fillna(0)\n",
    "seoulcovid.head()"
   ]
  },
  {
   "cell_type": "code",
   "execution_count": null,
   "metadata": {},
   "outputs": [],
   "source": [
    "del seoulcovid['환자번호'] \n",
    "del seoulcovid['국적'] \n",
    "del seoulcovid['환자정보'] \n",
    "del seoulcovid['조치사항'] \n",
    "del seoulcovid['이동경로'] "
   ]
  },
  {
   "cell_type": "code",
   "execution_count": 15,
   "metadata": {},
   "outputs": [
    {
     "output_type": "execute_result",
     "data": {
      "text/plain": [
       "       연번    확진일  시군구     여행력    접촉력  상태                  등록일  \\\n",
       "10115   4  1.30.  마포구  중국 우한시  해외 접촉  퇴원  2020-12-01 15:36:52   \n",
       "10116   3  1.30.  종로구       0  #3 접촉  퇴원  2020-12-01 15:36:52   \n",
       "10117   2  1.30.  중랑구  중국 우한시  해외 접촉  퇴원  2020-12-01 15:36:52   \n",
       "10118   1  1.24.  강서구  중국 우한시  해외 접촉  퇴원  2020-12-01 15:36:52   \n",
       "10119   1  1.24.  강서구  중국 우한시  해외 접촉  퇴원  2020-12-01 15:36:52   \n",
       "\n",
       "                       수정일 노출여부      인구수계     ID     y    x  \n",
       "10115  2020-12-02 09:00:01    Y  348755.0  서울 마포   5.0  5.0  \n",
       "10116  2020-12-02 09:00:01    Y  136649.0  서울 종로   4.0  6.0  \n",
       "10117  2020-12-02 09:00:01    Y  374640.0  서울 중랑   4.0  8.0  \n",
       "10118  2020-12-02 09:00:01    Y  120451.0  부산 강서  18.0  8.0  \n",
       "10119  2020-12-02 09:00:01    Y  559359.0  서울 강서   6.0  4.0  "
      ],
      "text/html": "<div>\n<style scoped>\n    .dataframe tbody tr th:only-of-type {\n        vertical-align: middle;\n    }\n\n    .dataframe tbody tr th {\n        vertical-align: top;\n    }\n\n    .dataframe thead th {\n        text-align: right;\n    }\n</style>\n<table border=\"1\" class=\"dataframe\">\n  <thead>\n    <tr style=\"text-align: right;\">\n      <th></th>\n      <th>연번</th>\n      <th>확진일</th>\n      <th>시군구</th>\n      <th>여행력</th>\n      <th>접촉력</th>\n      <th>상태</th>\n      <th>등록일</th>\n      <th>수정일</th>\n      <th>노출여부</th>\n      <th>인구수계</th>\n      <th>ID</th>\n      <th>y</th>\n      <th>x</th>\n    </tr>\n  </thead>\n  <tbody>\n    <tr>\n      <th>10115</th>\n      <td>4</td>\n      <td>1.30.</td>\n      <td>마포구</td>\n      <td>중국 우한시</td>\n      <td>해외 접촉</td>\n      <td>퇴원</td>\n      <td>2020-12-01 15:36:52</td>\n      <td>2020-12-02 09:00:01</td>\n      <td>Y</td>\n      <td>348755.0</td>\n      <td>서울 마포</td>\n      <td>5.0</td>\n      <td>5.0</td>\n    </tr>\n    <tr>\n      <th>10116</th>\n      <td>3</td>\n      <td>1.30.</td>\n      <td>종로구</td>\n      <td>0</td>\n      <td>#3 접촉</td>\n      <td>퇴원</td>\n      <td>2020-12-01 15:36:52</td>\n      <td>2020-12-02 09:00:01</td>\n      <td>Y</td>\n      <td>136649.0</td>\n      <td>서울 종로</td>\n      <td>4.0</td>\n      <td>6.0</td>\n    </tr>\n    <tr>\n      <th>10117</th>\n      <td>2</td>\n      <td>1.30.</td>\n      <td>중랑구</td>\n      <td>중국 우한시</td>\n      <td>해외 접촉</td>\n      <td>퇴원</td>\n      <td>2020-12-01 15:36:52</td>\n      <td>2020-12-02 09:00:01</td>\n      <td>Y</td>\n      <td>374640.0</td>\n      <td>서울 중랑</td>\n      <td>4.0</td>\n      <td>8.0</td>\n    </tr>\n    <tr>\n      <th>10118</th>\n      <td>1</td>\n      <td>1.24.</td>\n      <td>강서구</td>\n      <td>중국 우한시</td>\n      <td>해외 접촉</td>\n      <td>퇴원</td>\n      <td>2020-12-01 15:36:52</td>\n      <td>2020-12-02 09:00:01</td>\n      <td>Y</td>\n      <td>120451.0</td>\n      <td>부산 강서</td>\n      <td>18.0</td>\n      <td>8.0</td>\n    </tr>\n    <tr>\n      <th>10119</th>\n      <td>1</td>\n      <td>1.24.</td>\n      <td>강서구</td>\n      <td>중국 우한시</td>\n      <td>해외 접촉</td>\n      <td>퇴원</td>\n      <td>2020-12-01 15:36:52</td>\n      <td>2020-12-02 09:00:01</td>\n      <td>Y</td>\n      <td>559359.0</td>\n      <td>서울 강서</td>\n      <td>6.0</td>\n      <td>4.0</td>\n    </tr>\n  </tbody>\n</table>\n</div>"
     },
     "metadata": {},
     "execution_count": 15
    }
   ],
   "source": [
    "seoulcovid.tail()"
   ]
  },
  {
   "cell_type": "code",
   "execution_count": null,
   "metadata": {},
   "outputs": [],
   "source": []
  }
 ]
}