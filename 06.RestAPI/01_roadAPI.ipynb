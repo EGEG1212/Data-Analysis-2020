{
 "cells": [
  {
   "cell_type": "markdown",
   "metadata": {},
   "source": [
    "# 행정안전부 도로명주소 API\n",
    "### 건물명으로부터 도로명주소 구하기"
   ]
  },
  {
   "cell_type": "code",
   "execution_count": 3,
   "metadata": {},
   "outputs": [],
   "source": [
    "import requests\n",
    "from urllib.parse import urlparse, quote   #quote 추가하면 '강서구청' 한글안깨짐\n",
    "import pandas as pd"
   ]
  },
  {
   "cell_type": "code",
   "execution_count": 4,
   "metadata": {},
   "outputs": [],
   "source": [
    "key_fd = open('roadapikey.txt', mode='r')\n",
    "roadapi_key = key_fd.read(100)\n",
    "key_fd.close()"
   ]
  },
  {
   "cell_type": "code",
   "execution_count": 5,
   "metadata": {},
   "outputs": [
    {
     "data": {
      "text/plain": [
       "ParseResult(scheme='https', netloc='www.juso.go.kr', path='/addrlink/addrLinkApi.do', params='', query='confmKey=U01TX0FVVEgyMDIwMTExOTEwMjMzNTExMDQzNzg=&currentPage=1&countPerPage=10&keyword=강서구청&resultType=json', fragment='')"
      ]
     },
     "execution_count": 5,
     "metadata": {},
     "output_type": "execute_result"
    }
   ],
   "source": [
    "# 행안부 개발자센터 참고 https://www.juso.go.kr/addrlink/devAddrLinkRequestGuide.do?menu=roadApi\n",
    "# ?물음표 다음에 나오는 쿼리에 한글'강서구청'이 들어가면 크롬은 돌아가는데, 익스플로어는 안돌아가기도한다. 그래서 quote(인용하다)사용\n",
    "road_url = 'https://www.juso.go.kr/addrlink/addrLinkApi.do'   #행안부에정보있음\n",
    "url = f'{road_url}?confmKey={roadapi_key}&currentPage=1&countPerPage=10&keyword=강서구청&resultType=json' #행안부 도큐보고 \n",
    "urlparse(url) # .geturl()빼니까 여섯가지 정보알려줌  # '강서구청'한글이 깨지지않게"
   ]
  },
  {
   "cell_type": "code",
   "execution_count": 6,
   "metadata": {},
   "outputs": [
    {
     "data": {
      "text/plain": [
       "'%EA%B0%95%EC%84%9C%EA%B5%AC%EC%B2%AD'"
      ]
     },
     "execution_count": 6,
     "metadata": {},
     "output_type": "execute_result"
    }
   ],
   "source": [
    "quote('강서구청')   #위에서 quote  추가했기때문에 인코딩됩니다."
   ]
  },
  {
   "cell_type": "code",
   "execution_count": 7,
   "metadata": {},
   "outputs": [
    {
     "data": {
      "text/plain": [
       "'https://www.juso.go.kr/addrlink/addrLinkApi.do?confmKey=U01TX0FVVEgyMDIwMTExOTEwMjMzNTExMDQzNzg=&currentPage=1&countPerPage=10&keyword=%EA%B0%95%EC%84%9C%EA%B5%AC%EC%B2%AD&resultType=json'"
      ]
     },
     "execution_count": 7,
     "metadata": {},
     "output_type": "execute_result"
    }
   ],
   "source": [
    "url = f'{road_url}?confmKey={roadapi_key}&currentPage=1&countPerPage=10&keyword={quote(\"강서구청\")}&resultType=json'  #f'겹치니까  \"강서구청\"으로 변경\n",
    "url"
   ]
  },
  {
   "cell_type": "code",
   "execution_count": 9,
   "metadata": {},
   "outputs": [
    {
     "data": {
      "text/plain": [
       "{'results': {'common': {'errorMessage': '정상',\n",
       "   'countPerPage': '10',\n",
       "   'totalCount': '6',\n",
       "   'errorCode': '0',\n",
       "   'currentPage': '1'},\n",
       "  'juso': [{'detBdNmList': '',\n",
       "    'engAddr': '302, Hwagok-ro, Gangseo-gu, Seoul',\n",
       "    'rn': '화곡로',\n",
       "    'emdNm': '화곡동',\n",
       "    'zipNo': '07658',\n",
       "    'roadAddrPart2': ' (화곡동)',\n",
       "    'emdNo': '02',\n",
       "    'sggNm': '강서구',\n",
       "    'jibunAddr': '서울특별시 강서구 화곡동 980-16 강서구청',\n",
       "    'siNm': '서울특별시',\n",
       "    'roadAddrPart1': '서울특별시 강서구 화곡로 302',\n",
       "    'bdNm': '강서구청',\n",
       "    'admCd': '1150010300',\n",
       "    'udrtYn': '0',\n",
       "    'lnbrMnnm': '980',\n",
       "    'roadAddr': '서울특별시 강서구 화곡로 302 (화곡동)',\n",
       "    'lnbrSlno': '16',\n",
       "    'buldMnnm': '302',\n",
       "    'bdKdcd': '0',\n",
       "    'liNm': '',\n",
       "    'rnMgtSn': '115003005069',\n",
       "    'mtYn': '0',\n",
       "    'bdMgtSn': '1150010300109800016015086',\n",
       "    'buldSlno': '0'},\n",
       "   {'detBdNmList': '어린이집',\n",
       "    'engAddr': '72, Hwagok-ro 44na-gil, Gangseo-gu, Seoul',\n",
       "    'rn': '화곡로44나길',\n",
       "    'emdNm': '화곡동',\n",
       "    'zipNo': '07663',\n",
       "    'roadAddrPart2': ' (화곡동)',\n",
       "    'emdNo': '01',\n",
       "    'sggNm': '강서구',\n",
       "    'jibunAddr': '서울특별시 강서구 화곡동 980-29 강서구청',\n",
       "    'siNm': '서울특별시',\n",
       "    'roadAddrPart1': '서울특별시 강서구 화곡로44나길 72',\n",
       "    'bdNm': '강서구청',\n",
       "    'admCd': '1150010300',\n",
       "    'udrtYn': '0',\n",
       "    'lnbrMnnm': '980',\n",
       "    'roadAddr': '서울특별시 강서구 화곡로44나길 72 (화곡동)',\n",
       "    'lnbrSlno': '29',\n",
       "    'buldMnnm': '72',\n",
       "    'bdKdcd': '0',\n",
       "    'liNm': '',\n",
       "    'rnMgtSn': '115004145529',\n",
       "    'mtYn': '0',\n",
       "    'bdMgtSn': '1150010300109800029029351',\n",
       "    'buldSlno': '0'},\n",
       "   {'detBdNmList': '',\n",
       "    'engAddr': '477, Nakdongbuk-ro, Gangseo-gu, Busan',\n",
       "    'rn': '낙동북로',\n",
       "    'emdNm': '대저1동',\n",
       "    'zipNo': '46702',\n",
       "    'roadAddrPart2': ' (대저1동)',\n",
       "    'emdNo': '01',\n",
       "    'sggNm': '강서구',\n",
       "    'jibunAddr': '부산광역시 강서구 대저1동 2300 강서구청',\n",
       "    'siNm': '부산광역시',\n",
       "    'roadAddrPart1': '부산광역시 강서구 낙동북로 477',\n",
       "    'bdNm': '강서구청',\n",
       "    'admCd': '2644010100',\n",
       "    'udrtYn': '0',\n",
       "    'lnbrMnnm': '2300',\n",
       "    'roadAddr': '부산광역시 강서구 낙동북로 477 (대저1동)',\n",
       "    'lnbrSlno': '0',\n",
       "    'buldMnnm': '477',\n",
       "    'bdKdcd': '0',\n",
       "    'liNm': '',\n",
       "    'rnMgtSn': '264403006026',\n",
       "    'mtYn': '0',\n",
       "    'bdMgtSn': '2644010100123000000030979',\n",
       "    'buldSlno': '0'},\n",
       "   {'detBdNmList': '',\n",
       "    'engAddr': '208, Nambusunhwan-ro, Gangseo-gu, Seoul',\n",
       "    'rn': '남부순환로',\n",
       "    'emdNm': '외발산동',\n",
       "    'zipNo': '07506',\n",
       "    'roadAddrPart2': ' (외발산동)',\n",
       "    'emdNo': '02',\n",
       "    'sggNm': '강서구',\n",
       "    'jibunAddr': '서울특별시 강서구 외발산동 268-7 강서구청청소차고',\n",
       "    'siNm': '서울특별시',\n",
       "    'roadAddrPart1': '서울특별시 강서구 남부순환로 208',\n",
       "    'bdNm': '강서구청청소차고',\n",
       "    'admCd': '1150010700',\n",
       "    'udrtYn': '0',\n",
       "    'lnbrMnnm': '268',\n",
       "    'roadAddr': '서울특별시 강서구 남부순환로 208 (외발산동)',\n",
       "    'lnbrSlno': '7',\n",
       "    'buldMnnm': '208',\n",
       "    'bdKdcd': '0',\n",
       "    'liNm': '',\n",
       "    'rnMgtSn': '115002000003',\n",
       "    'mtYn': '0',\n",
       "    'bdMgtSn': '1150010700102680007008925',\n",
       "    'buldSlno': '0'},\n",
       "   {'detBdNmList': '',\n",
       "    'engAddr': '38, Yangcheon-ro 59-gil, Gangseo-gu, Seoul',\n",
       "    'rn': '양천로59길',\n",
       "    'emdNm': '가양동',\n",
       "    'zipNo': '07532',\n",
       "    'roadAddrPart2': ' (가양동)',\n",
       "    'emdNo': '01',\n",
       "    'sggNm': '강서구',\n",
       "    'jibunAddr': '서울특별시 강서구 가양동 1488-9 강서구청가양동별관',\n",
       "    'siNm': '서울특별시',\n",
       "    'roadAddrPart1': '서울특별시 강서구 양천로59길 38',\n",
       "    'bdNm': '강서구청가양동별관',\n",
       "    'admCd': '1150010400',\n",
       "    'udrtYn': '0',\n",
       "    'lnbrMnnm': '1488',\n",
       "    'roadAddr': '서울특별시 강서구 양천로59길 38 (가양동)',\n",
       "    'lnbrSlno': '9',\n",
       "    'buldMnnm': '38',\n",
       "    'bdKdcd': '0',\n",
       "    'liNm': '',\n",
       "    'rnMgtSn': '115004145414',\n",
       "    'mtYn': '0',\n",
       "    'bdMgtSn': '1150010400114880009009516',\n",
       "    'buldSlno': '0'},\n",
       "   {'detBdNmList': '',\n",
       "    'engAddr': '485, Nakdongbuk-ro, Gangseo-gu, Busan',\n",
       "    'rn': '낙동북로',\n",
       "    'emdNm': '대저1동',\n",
       "    'zipNo': '46702',\n",
       "    'roadAddrPart2': ' (대저1동)',\n",
       "    'emdNo': '01',\n",
       "    'sggNm': '강서구',\n",
       "    'jibunAddr': '부산광역시 강서구 대저1동 2300-3 강서구청역',\n",
       "    'siNm': '부산광역시',\n",
       "    'roadAddrPart1': '부산광역시 강서구 낙동북로 485',\n",
       "    'bdNm': '강서구청역',\n",
       "    'admCd': '2644010100',\n",
       "    'udrtYn': '0',\n",
       "    'lnbrMnnm': '2300',\n",
       "    'roadAddr': '부산광역시 강서구 낙동북로 485 (대저1동)',\n",
       "    'lnbrSlno': '3',\n",
       "    'buldMnnm': '485',\n",
       "    'bdKdcd': '0',\n",
       "    'liNm': '',\n",
       "    'rnMgtSn': '264403006026',\n",
       "    'mtYn': '0',\n",
       "    'bdMgtSn': '2644010100123000003000001',\n",
       "    'buldSlno': '0'}]}}"
      ]
     },
     "execution_count": 9,
     "metadata": {},
     "output_type": "execute_result"
    }
   ],
   "source": [
    "results = requests.get(url).json()       # **보고따라해야만하는것  geT(urlparse(url).geturl())부분을 url로 수정했다\n",
    "results   # {딕셔너리타입} 'juso'부분의 'roadAddr'필요"
   ]
  },
  {
   "cell_type": "code",
   "execution_count": 10,
   "metadata": {},
   "outputs": [
    {
     "data": {
      "text/plain": [
       "6"
      ]
     },
     "execution_count": 10,
     "metadata": {},
     "output_type": "execute_result"
    }
   ],
   "source": [
    "addr_list = results['results']['juso']\n",
    "len(addr_list)      #6개에 해당되는 빌딩이름bdNm, 도로명주소roadAddr를 가져오자"
   ]
  },
  {
   "cell_type": "code",
   "execution_count": 11,
   "metadata": {},
   "outputs": [
    {
     "name": "stdout",
     "output_type": "stream",
     "text": [
      "강서구청 서울특별시 강서구 화곡로 302 (화곡동)\n",
      "강서구청 서울특별시 강서구 화곡로44나길 72 (화곡동)\n",
      "강서구청 부산광역시 강서구 낙동북로 477 (대저1동)\n",
      "강서구청청소차고 서울특별시 강서구 남부순환로 208 (외발산동)\n",
      "강서구청가양동별관 서울특별시 강서구 양천로59길 38 (가양동)\n",
      "강서구청역 부산광역시 강서구 낙동북로 485 (대저1동)\n"
     ]
    }
   ],
   "source": [
    "for addr in addr_list:\n",
    "    print(addr['bdNm'], addr['roadAddr'])\n",
    "#좌표(위도경도)를 알려면 정확한 도로명주소가 필요하다"
   ]
  },
  {
   "cell_type": "markdown",
   "metadata": {},
   "source": [
    "### 좌표(위도경도)를 알려면 정확한 도로명주소가 필요하다\n",
    "# 양천구청 부천시청 영등포구청 김포시청  5군데 한번에 알아보기;\n"
   ]
  },
  {
   "cell_type": "code",
   "execution_count": 12,
   "metadata": {},
   "outputs": [
    {
     "name": "stdout",
     "output_type": "stream",
     "text": [
      "서울특별시 강서구 화곡로 302 (화곡동)\n",
      "서울특별시 양천구 목동동로 105 (신정동)\n",
      "경기도 부천시 길주로 210-2 (중동)\n",
      "서울특별시 영등포구 당산로 123 (당산동3가)\n",
      "경기도 김포시 사우중로 1 (사우동)\n"
     ]
    }
   ],
   "source": [
    "bldg_list = ['강서구청', '양천구청', '부천시청', '영등포구청', '김포시청']\n",
    "road_addr_list = []  #도로명주소리스트를 만들꺼니까\n",
    "for bldg in bldg_list:\n",
    "    url = f'{road_url}?confmKey={roadapi_key}&currentPage=1&countPerPage=10&keyword={quote(bldg)}&resultType=json' #quote(bldg)로변경 (위에서 선언했어서)\n",
    "    urlparse(url).geturl()\n",
    "    results = requests.get(url).json()   #get(url)로변경\n",
    "    addr_list = results['results']['juso']\n",
    "    road_addr = addr_list[0]['roadAddr']\n",
    "    road_addr_list.append(road_addr)\n",
    "    print(road_addr)"
   ]
  },
  {
   "cell_type": "code",
   "execution_count": 13,
   "metadata": {},
   "outputs": [
    {
     "data": {
      "text/html": [
       "<div>\n",
       "<style scoped>\n",
       "    .dataframe tbody tr th:only-of-type {\n",
       "        vertical-align: middle;\n",
       "    }\n",
       "\n",
       "    .dataframe tbody tr th {\n",
       "        vertical-align: top;\n",
       "    }\n",
       "\n",
       "    .dataframe thead th {\n",
       "        text-align: right;\n",
       "    }\n",
       "</style>\n",
       "<table border=\"1\" class=\"dataframe\">\n",
       "  <thead>\n",
       "    <tr style=\"text-align: right;\">\n",
       "      <th></th>\n",
       "      <th>bldg</th>\n",
       "      <th>road_addr</th>\n",
       "    </tr>\n",
       "  </thead>\n",
       "  <tbody>\n",
       "    <tr>\n",
       "      <th>0</th>\n",
       "      <td>강서구청</td>\n",
       "      <td>서울특별시 강서구 화곡로 302 (화곡동)</td>\n",
       "    </tr>\n",
       "    <tr>\n",
       "      <th>1</th>\n",
       "      <td>양천구청</td>\n",
       "      <td>서울특별시 양천구 목동동로 105 (신정동)</td>\n",
       "    </tr>\n",
       "    <tr>\n",
       "      <th>2</th>\n",
       "      <td>부천시청</td>\n",
       "      <td>경기도 부천시 길주로 210-2 (중동)</td>\n",
       "    </tr>\n",
       "    <tr>\n",
       "      <th>3</th>\n",
       "      <td>영등포구청</td>\n",
       "      <td>서울특별시 영등포구 당산로 123 (당산동3가)</td>\n",
       "    </tr>\n",
       "    <tr>\n",
       "      <th>4</th>\n",
       "      <td>김포시청</td>\n",
       "      <td>경기도 김포시 사우중로 1 (사우동)</td>\n",
       "    </tr>\n",
       "  </tbody>\n",
       "</table>\n",
       "</div>"
      ],
      "text/plain": [
       "    bldg                   road_addr\n",
       "0   강서구청     서울특별시 강서구 화곡로 302 (화곡동)\n",
       "1   양천구청    서울특별시 양천구 목동동로 105 (신정동)\n",
       "2   부천시청      경기도 부천시 길주로 210-2 (중동)\n",
       "3  영등포구청  서울특별시 영등포구 당산로 123 (당산동3가)\n",
       "4   김포시청        경기도 김포시 사우중로 1 (사우동)"
      ]
     },
     "execution_count": 13,
     "metadata": {},
     "output_type": "execute_result"
    }
   ],
   "source": [
    "df = pd.DataFrame({\n",
    "        'bldg': bldg_list,\n",
    "        'road_addr': road_addr_list\n",
    "})\n",
    "df"
   ]
  },
  {
   "cell_type": "code",
   "execution_count": 14,
   "metadata": {},
   "outputs": [],
   "source": [
    "df.to_csv('address.csv', sep=',', encoding='utf8', index=False)"
   ]
  },
  {
   "cell_type": "code",
   "execution_count": null,
   "metadata": {},
   "outputs": [],
   "source": [
    "# 로드 API는 끝"
   ]
  }
 ],
 "metadata": {
  "kernelspec": {
   "display_name": "Python 3",
   "language": "python",
   "name": "python3"
  },
  "language_info": {
   "codemirror_mode": {
    "name": "ipython",
    "version": 3
   },
   "file_extension": ".py",
   "mimetype": "text/x-python",
   "name": "python",
   "nbconvert_exporter": "python",
   "pygments_lexer": "ipython3",
   "version": "3.8.3"
  }
 },
 "nbformat": 4,
 "nbformat_minor": 2
}
